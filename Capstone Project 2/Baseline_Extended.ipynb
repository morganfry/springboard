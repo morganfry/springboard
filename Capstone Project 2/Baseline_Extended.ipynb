{
 "cells": [
  {
   "cell_type": "code",
   "execution_count": 1,
   "metadata": {},
   "outputs": [],
   "source": [
    "import numpy as np\n",
    "import pandas as pd\n",
    "import matplotlib.pyplot as plt  \n",
    "%matplotlib inline\n",
    "import pickle\n",
    "\n",
    "#import keras\n",
    "#from keras.layers import Activation, Dense, Conv1D, Conv2D, MaxPooling1D, Flatten, Reshape, Dropout\n",
    "#from keras.models import Sequential\n",
    "\n",
    "import tensorflow as tf\n",
    "from tensorflow import keras\n",
    "from tensorflow.keras import layers, models\n",
    "import tensorflow_io as tfio\n",
    "\n",
    "from sklearn.utils import shuffle\n",
    "from sklearn.preprocessing import MultiLabelBinarizer, LabelEncoder, StandardScaler\n",
    "from sklearn.linear_model import LogisticRegression\n",
    "from sklearn.metrics import classification_report"
   ]
  },
  {
   "cell_type": "code",
   "execution_count": 2,
   "metadata": {},
   "outputs": [],
   "source": [
    "gpus = tf.config.experimental.list_physical_devices('GPU')\n",
    "if gpus:\n",
    "    try:\n",
    "        for gpu in gpus:\n",
    "            tf.config.experimental.set_memory_growth(gpu, True)\n",
    "\n",
    "    except RuntimeError as e:\n",
    "        print(e)\n",
    "else:\n",
    "    print('no gpu')\n"
   ]
  },
  {
   "cell_type": "code",
   "execution_count": 3,
   "metadata": {},
   "outputs": [],
   "source": [
    "features = pd.read_csv('data/features.csv', index_col=0, header=[0, 1, 2])\n",
    "fma_single = pickle.load(open(\"saved/fma_single.p\", \"rb\"))"
   ]
  },
  {
   "cell_type": "code",
   "execution_count": 4,
   "metadata": {},
   "outputs": [],
   "source": [
    "fma_multi=pickle.load(open(\"saved/fma_multi.p\",\"rb\"))"
   ]
  },
  {
   "cell_type": "code",
   "execution_count": 5,
   "metadata": {
    "scrolled": true
   },
   "outputs": [
    {
     "data": {
      "text/html": [
       "<div>\n",
       "<style scoped>\n",
       "    .dataframe tbody tr th:only-of-type {\n",
       "        vertical-align: middle;\n",
       "    }\n",
       "\n",
       "    .dataframe tbody tr th {\n",
       "        vertical-align: top;\n",
       "    }\n",
       "\n",
       "    .dataframe thead th {\n",
       "        text-align: right;\n",
       "    }\n",
       "</style>\n",
       "<table border=\"1\" class=\"dataframe\">\n",
       "  <thead>\n",
       "    <tr style=\"text-align: right;\">\n",
       "      <th></th>\n",
       "      <th>split</th>\n",
       "      <th>subset</th>\n",
       "      <th>filepath</th>\n",
       "      <th>genres_all</th>\n",
       "      <th>genre_top</th>\n",
       "    </tr>\n",
       "    <tr>\n",
       "      <th>track_id</th>\n",
       "      <th></th>\n",
       "      <th></th>\n",
       "      <th></th>\n",
       "      <th></th>\n",
       "      <th></th>\n",
       "    </tr>\n",
       "  </thead>\n",
       "  <tbody>\n",
       "    <tr>\n",
       "      <th>2</th>\n",
       "      <td>training</td>\n",
       "      <td>small</td>\n",
       "      <td>data/fma_large/000/000002.mp3</td>\n",
       "      <td>[21]</td>\n",
       "      <td>Hip-Hop</td>\n",
       "    </tr>\n",
       "    <tr>\n",
       "      <th>3</th>\n",
       "      <td>training</td>\n",
       "      <td>medium</td>\n",
       "      <td>data/fma_large/000/000003.mp3</td>\n",
       "      <td>[21]</td>\n",
       "      <td>Hip-Hop</td>\n",
       "    </tr>\n",
       "    <tr>\n",
       "      <th>5</th>\n",
       "      <td>training</td>\n",
       "      <td>small</td>\n",
       "      <td>data/fma_large/000/000005.mp3</td>\n",
       "      <td>[21]</td>\n",
       "      <td>Hip-Hop</td>\n",
       "    </tr>\n",
       "    <tr>\n",
       "      <th>10</th>\n",
       "      <td>training</td>\n",
       "      <td>small</td>\n",
       "      <td>data/fma_large/000/000010.mp3</td>\n",
       "      <td>[10]</td>\n",
       "      <td>Pop</td>\n",
       "    </tr>\n",
       "    <tr>\n",
       "      <th>20</th>\n",
       "      <td>training</td>\n",
       "      <td>large</td>\n",
       "      <td>data/fma_large/000/000020.mp3</td>\n",
       "      <td>[17, 10, 76, 103]</td>\n",
       "      <td>NaN</td>\n",
       "    </tr>\n",
       "    <tr>\n",
       "      <th>...</th>\n",
       "      <td>...</td>\n",
       "      <td>...</td>\n",
       "      <td>...</td>\n",
       "      <td>...</td>\n",
       "      <td>...</td>\n",
       "    </tr>\n",
       "    <tr>\n",
       "      <th>155316</th>\n",
       "      <td>training</td>\n",
       "      <td>large</td>\n",
       "      <td>data/fma_large/155/155316.mp3</td>\n",
       "      <td>[25, 12]</td>\n",
       "      <td>Rock</td>\n",
       "    </tr>\n",
       "    <tr>\n",
       "      <th>155317</th>\n",
       "      <td>training</td>\n",
       "      <td>large</td>\n",
       "      <td>data/fma_large/155/155317.mp3</td>\n",
       "      <td>[25, 12]</td>\n",
       "      <td>Rock</td>\n",
       "    </tr>\n",
       "    <tr>\n",
       "      <th>155318</th>\n",
       "      <td>training</td>\n",
       "      <td>large</td>\n",
       "      <td>data/fma_large/155/155318.mp3</td>\n",
       "      <td>[25, 12]</td>\n",
       "      <td>Rock</td>\n",
       "    </tr>\n",
       "    <tr>\n",
       "      <th>155319</th>\n",
       "      <td>training</td>\n",
       "      <td>large</td>\n",
       "      <td>data/fma_large/155/155319.mp3</td>\n",
       "      <td>[25, 12]</td>\n",
       "      <td>Rock</td>\n",
       "    </tr>\n",
       "    <tr>\n",
       "      <th>155320</th>\n",
       "      <td>validation</td>\n",
       "      <td>large</td>\n",
       "      <td>data/fma_large/155/155320.mp3</td>\n",
       "      <td>[169, 10, 12, 9]</td>\n",
       "      <td>NaN</td>\n",
       "    </tr>\n",
       "  </tbody>\n",
       "</table>\n",
       "<p>106412 rows × 5 columns</p>\n",
       "</div>"
      ],
      "text/plain": [
       "               split  subset                       filepath  \\\n",
       "track_id                                                      \n",
       "2           training   small  data/fma_large/000/000002.mp3   \n",
       "3           training  medium  data/fma_large/000/000003.mp3   \n",
       "5           training   small  data/fma_large/000/000005.mp3   \n",
       "10          training   small  data/fma_large/000/000010.mp3   \n",
       "20          training   large  data/fma_large/000/000020.mp3   \n",
       "...              ...     ...                            ...   \n",
       "155316      training   large  data/fma_large/155/155316.mp3   \n",
       "155317      training   large  data/fma_large/155/155317.mp3   \n",
       "155318      training   large  data/fma_large/155/155318.mp3   \n",
       "155319      training   large  data/fma_large/155/155319.mp3   \n",
       "155320    validation   large  data/fma_large/155/155320.mp3   \n",
       "\n",
       "                 genres_all genre_top  \n",
       "track_id                               \n",
       "2                      [21]   Hip-Hop  \n",
       "3                      [21]   Hip-Hop  \n",
       "5                      [21]   Hip-Hop  \n",
       "10                     [10]       Pop  \n",
       "20        [17, 10, 76, 103]       NaN  \n",
       "...                     ...       ...  \n",
       "155316             [25, 12]      Rock  \n",
       "155317             [25, 12]      Rock  \n",
       "155318             [25, 12]      Rock  \n",
       "155319             [25, 12]      Rock  \n",
       "155320     [169, 10, 12, 9]       NaN  \n",
       "\n",
       "[106412 rows x 5 columns]"
      ]
     },
     "execution_count": 5,
     "metadata": {},
     "output_type": "execute_result"
    }
   ],
   "source": [
    "fma_multi"
   ]
  },
  {
   "cell_type": "markdown",
   "metadata": {},
   "source": [
    "For the baseline model we are going to use the 'small' set of 8000 tracks in 8 classes, and train the model on the mfccs of the tracks which we extracted earlier."
   ]
  },
  {
   "cell_type": "code",
   "execution_count": 6,
   "metadata": {},
   "outputs": [],
   "source": [
    "#load mfccs\n",
    "mfcc_df=pickle.load(open(\"saved/mfcc_small.p\",\"rb\"))"
   ]
  },
  {
   "cell_type": "code",
   "execution_count": 7,
   "metadata": {},
   "outputs": [
    {
     "data": {
      "text/plain": [
       "(7997, 23232)"
      ]
     },
     "execution_count": 7,
     "metadata": {},
     "output_type": "execute_result"
    }
   ],
   "source": [
    "mfcc_df.shape"
   ]
  },
  {
   "cell_type": "code",
   "execution_count": 8,
   "metadata": {
    "scrolled": true
   },
   "outputs": [
    {
     "data": {
      "text/html": [
       "<div>\n",
       "<style scoped>\n",
       "    .dataframe tbody tr th:only-of-type {\n",
       "        vertical-align: middle;\n",
       "    }\n",
       "\n",
       "    .dataframe tbody tr th {\n",
       "        vertical-align: top;\n",
       "    }\n",
       "\n",
       "    .dataframe thead th {\n",
       "        text-align: right;\n",
       "    }\n",
       "</style>\n",
       "<table border=\"1\" class=\"dataframe\">\n",
       "  <thead>\n",
       "    <tr style=\"text-align: right;\">\n",
       "      <th></th>\n",
       "      <th>0</th>\n",
       "      <th>1</th>\n",
       "      <th>2</th>\n",
       "      <th>3</th>\n",
       "      <th>4</th>\n",
       "      <th>5</th>\n",
       "      <th>6</th>\n",
       "      <th>7</th>\n",
       "      <th>8</th>\n",
       "      <th>9</th>\n",
       "      <th>...</th>\n",
       "      <th>23222</th>\n",
       "      <th>23223</th>\n",
       "      <th>23224</th>\n",
       "      <th>23225</th>\n",
       "      <th>23226</th>\n",
       "      <th>23227</th>\n",
       "      <th>23228</th>\n",
       "      <th>23229</th>\n",
       "      <th>23230</th>\n",
       "      <th>23231</th>\n",
       "    </tr>\n",
       "  </thead>\n",
       "  <tbody>\n",
       "    <tr>\n",
       "      <th>2</th>\n",
       "      <td>-299.542053</td>\n",
       "      <td>-202.513412</td>\n",
       "      <td>-159.976059</td>\n",
       "      <td>-115.456413</td>\n",
       "      <td>-80.415161</td>\n",
       "      <td>-67.523239</td>\n",
       "      <td>-57.689404</td>\n",
       "      <td>-65.464790</td>\n",
       "      <td>-84.703659</td>\n",
       "      <td>-96.179939</td>\n",
       "      <td>...</td>\n",
       "      <td>-5.861199</td>\n",
       "      <td>-4.460218</td>\n",
       "      <td>-6.887738</td>\n",
       "      <td>-7.665272</td>\n",
       "      <td>6.717929</td>\n",
       "      <td>12.769140</td>\n",
       "      <td>11.439809</td>\n",
       "      <td>9.167293</td>\n",
       "      <td>7.916427</td>\n",
       "      <td>5.665779</td>\n",
       "    </tr>\n",
       "    <tr>\n",
       "      <th>5</th>\n",
       "      <td>-324.059723</td>\n",
       "      <td>-227.421249</td>\n",
       "      <td>-186.883606</td>\n",
       "      <td>-158.489868</td>\n",
       "      <td>-94.902466</td>\n",
       "      <td>-95.517578</td>\n",
       "      <td>-106.146324</td>\n",
       "      <td>-70.498611</td>\n",
       "      <td>-45.091522</td>\n",
       "      <td>-41.156029</td>\n",
       "      <td>...</td>\n",
       "      <td>-6.403229</td>\n",
       "      <td>-4.675876</td>\n",
       "      <td>5.932048</td>\n",
       "      <td>19.163589</td>\n",
       "      <td>24.138350</td>\n",
       "      <td>12.146925</td>\n",
       "      <td>1.931949</td>\n",
       "      <td>-0.370714</td>\n",
       "      <td>1.137535</td>\n",
       "      <td>-0.625799</td>\n",
       "    </tr>\n",
       "    <tr>\n",
       "      <th>10</th>\n",
       "      <td>-71.376122</td>\n",
       "      <td>-32.296730</td>\n",
       "      <td>-29.356266</td>\n",
       "      <td>-38.037708</td>\n",
       "      <td>-44.881695</td>\n",
       "      <td>-45.910717</td>\n",
       "      <td>-31.081173</td>\n",
       "      <td>8.275231</td>\n",
       "      <td>28.077381</td>\n",
       "      <td>6.006516</td>\n",
       "      <td>...</td>\n",
       "      <td>9.814901</td>\n",
       "      <td>0.409050</td>\n",
       "      <td>-6.546686</td>\n",
       "      <td>-4.728213</td>\n",
       "      <td>-2.329597</td>\n",
       "      <td>4.121199</td>\n",
       "      <td>8.337200</td>\n",
       "      <td>8.429386</td>\n",
       "      <td>10.133602</td>\n",
       "      <td>11.033691</td>\n",
       "    </tr>\n",
       "    <tr>\n",
       "      <th>140</th>\n",
       "      <td>-561.324280</td>\n",
       "      <td>-523.545837</td>\n",
       "      <td>-449.814423</td>\n",
       "      <td>-342.445557</td>\n",
       "      <td>-306.727356</td>\n",
       "      <td>-308.809631</td>\n",
       "      <td>-307.733276</td>\n",
       "      <td>-317.345245</td>\n",
       "      <td>-362.774811</td>\n",
       "      <td>-419.306946</td>\n",
       "      <td>...</td>\n",
       "      <td>1.818927</td>\n",
       "      <td>3.912658</td>\n",
       "      <td>4.593844</td>\n",
       "      <td>2.139801</td>\n",
       "      <td>-4.394735</td>\n",
       "      <td>-5.267244</td>\n",
       "      <td>-6.697974</td>\n",
       "      <td>-5.783470</td>\n",
       "      <td>-5.886441</td>\n",
       "      <td>-3.706590</td>\n",
       "    </tr>\n",
       "    <tr>\n",
       "      <th>141</th>\n",
       "      <td>-464.980743</td>\n",
       "      <td>-371.434326</td>\n",
       "      <td>-330.917175</td>\n",
       "      <td>-342.813904</td>\n",
       "      <td>-362.013550</td>\n",
       "      <td>-368.364441</td>\n",
       "      <td>-361.755188</td>\n",
       "      <td>-358.438049</td>\n",
       "      <td>-365.668640</td>\n",
       "      <td>-375.685730</td>\n",
       "      <td>...</td>\n",
       "      <td>0.601643</td>\n",
       "      <td>-0.995060</td>\n",
       "      <td>0.146230</td>\n",
       "      <td>3.676285</td>\n",
       "      <td>-1.177926</td>\n",
       "      <td>-2.822582</td>\n",
       "      <td>4.884428</td>\n",
       "      <td>3.736303</td>\n",
       "      <td>2.701882</td>\n",
       "      <td>-2.805002</td>\n",
       "    </tr>\n",
       "  </tbody>\n",
       "</table>\n",
       "<p>5 rows × 23232 columns</p>\n",
       "</div>"
      ],
      "text/plain": [
       "          0           1           2           3           4           5      \\\n",
       "2   -299.542053 -202.513412 -159.976059 -115.456413  -80.415161  -67.523239   \n",
       "5   -324.059723 -227.421249 -186.883606 -158.489868  -94.902466  -95.517578   \n",
       "10   -71.376122  -32.296730  -29.356266  -38.037708  -44.881695  -45.910717   \n",
       "140 -561.324280 -523.545837 -449.814423 -342.445557 -306.727356 -308.809631   \n",
       "141 -464.980743 -371.434326 -330.917175 -342.813904 -362.013550 -368.364441   \n",
       "\n",
       "          6           7           8           9      ...     23222     23223  \\\n",
       "2    -57.689404  -65.464790  -84.703659  -96.179939  ... -5.861199 -4.460218   \n",
       "5   -106.146324  -70.498611  -45.091522  -41.156029  ... -6.403229 -4.675876   \n",
       "10   -31.081173    8.275231   28.077381    6.006516  ...  9.814901  0.409050   \n",
       "140 -307.733276 -317.345245 -362.774811 -419.306946  ...  1.818927  3.912658   \n",
       "141 -361.755188 -358.438049 -365.668640 -375.685730  ...  0.601643 -0.995060   \n",
       "\n",
       "        23224      23225      23226      23227      23228     23229  \\\n",
       "2   -6.887738  -7.665272   6.717929  12.769140  11.439809  9.167293   \n",
       "5    5.932048  19.163589  24.138350  12.146925   1.931949 -0.370714   \n",
       "10  -6.546686  -4.728213  -2.329597   4.121199   8.337200  8.429386   \n",
       "140  4.593844   2.139801  -4.394735  -5.267244  -6.697974 -5.783470   \n",
       "141  0.146230   3.676285  -1.177926  -2.822582   4.884428  3.736303   \n",
       "\n",
       "         23230      23231  \n",
       "2     7.916427   5.665779  \n",
       "5     1.137535  -0.625799  \n",
       "10   10.133602  11.033691  \n",
       "140  -5.886441  -3.706590  \n",
       "141   2.701882  -2.805002  \n",
       "\n",
       "[5 rows x 23232 columns]"
      ]
     },
     "execution_count": 8,
     "metadata": {},
     "output_type": "execute_result"
    }
   ],
   "source": [
    "mfcc_df.head()"
   ]
  },
  {
   "cell_type": "code",
   "execution_count": 9,
   "metadata": {},
   "outputs": [],
   "source": [
    "#use the 8000 track balanced subset for baseline modeling\n",
    "subset = fma_single.index[fma_single['subset'] == 'small']\n",
    "tracks_sub=fma_multi.loc[subset]\n",
    "mfcc_sub=mfcc_df.loc[subset]\n"
   ]
  },
  {
   "cell_type": "code",
   "execution_count": 10,
   "metadata": {},
   "outputs": [],
   "source": [
    "#fill nan\n",
    "mfcc_sub.fillna(value=0,inplace=True)"
   ]
  },
  {
   "cell_type": "code",
   "execution_count": 11,
   "metadata": {},
   "outputs": [
    {
     "name": "stdout",
     "output_type": "stream",
     "text": [
      "7997 7997\n"
     ]
    }
   ],
   "source": [
    "print(len(mfcc_sub),len(tracks_sub))"
   ]
  },
  {
   "cell_type": "code",
   "execution_count": 12,
   "metadata": {},
   "outputs": [],
   "source": [
    "#use the built in train/test/validation split in case we want to compare to other models over this dataset\n",
    "train = tracks_sub.index[tracks_sub['split'] == 'training']\n",
    "val = tracks_sub.index[tracks_sub['split'] == 'validation']\n",
    "test = tracks_sub.index[tracks_sub['split'] == 'test']"
   ]
  },
  {
   "cell_type": "code",
   "execution_count": 13,
   "metadata": {},
   "outputs": [
    {
     "name": "stdout",
     "output_type": "stream",
     "text": [
      "6397 800 800\n"
     ]
    }
   ],
   "source": [
    "print(len(train),len(val),len(test))"
   ]
  },
  {
   "cell_type": "code",
   "execution_count": 14,
   "metadata": {},
   "outputs": [],
   "source": [
    "#preprocessing single label\n",
    "\n",
    "#enc=MultiLabelBinarizer()\n",
    "enc=LabelEncoder()\n",
    "labels=tracks_sub['genre_top']\n",
    "#labels=y_df\n",
    "\n",
    "# Split in training, validation and testing sets.\n",
    "\n",
    "#single label\n",
    "y_train = enc.fit_transform(labels[train])\n",
    "y_val = enc.transform(labels[val])\n",
    "y_test = enc.transform(labels[test])\n",
    "#y_train = track_sub['label']\n",
    "\n",
    "X_train = mfcc_sub.loc[train].values\n",
    "X_val = mfcc_sub.loc[val].values\n",
    "X_test = mfcc_sub.loc[test].values\n",
    "    \n",
    "X_train, y_train = shuffle(X_train, y_train, random_state=42)\n",
    "\n",
    "# Standardize features\n",
    "scaler =StandardScaler(copy=False)\n",
    "X_train=scaler.fit_transform(X_train)\n",
    "X_val=scaler.transform(X_val)\n",
    "X_test=scaler.transform(X_test)"
   ]
  },
  {
   "cell_type": "code",
   "execution_count": 37,
   "metadata": {},
   "outputs": [
    {
     "name": "stdout",
     "output_type": "stream",
     "text": [
      "Model: \"sequential\"\n",
      "_________________________________________________________________\n",
      "Layer (type)                 Output Shape              Param #   \n",
      "=================================================================\n",
      "dense (Dense)                (None, 512)               11895296  \n",
      "_________________________________________________________________\n",
      "dense_1 (Dense)              (None, 256)               131328    \n",
      "_________________________________________________________________\n",
      "dense_2 (Dense)              (None, 128)               32896     \n",
      "_________________________________________________________________\n",
      "dense_3 (Dense)              (None, 64)                8256      \n",
      "_________________________________________________________________\n",
      "dense_4 (Dense)              (None, 8)                 520       \n",
      "=================================================================\n",
      "Total params: 12,068,296\n",
      "Trainable params: 12,068,296\n",
      "Non-trainable params: 0\n",
      "_________________________________________________________________\n"
     ]
    }
   ],
   "source": [
    "keras.backend.clear_session()\n",
    "\n",
    "model = models.Sequential()\n",
    "model.add(layers.Dense(512, activation='relu', input_shape=(X_train.shape[1],)))\n",
    "model.add(layers.Dense(256, activation='relu'))\n",
    "model.add(layers.Dense(128, activation='relu'))\n",
    "model.add(layers.Dense(64, activation='relu'))\n",
    "model.add(layers.Dense(8, activation='softmax'))\n",
    "\n",
    "model.compile(optimizer='adam',\n",
    "              loss='sparse_categorical_crossentropy',\n",
    "              metrics=['accuracy'])\n",
    "model.summary()"
   ]
  },
  {
   "cell_type": "code",
   "execution_count": 38,
   "metadata": {},
   "outputs": [
    {
     "name": "stdout",
     "output_type": "stream",
     "text": [
      "Epoch 1/20\n",
      "50/50 [==============================] - 1s 23ms/step - loss: 2.3477 - accuracy: 0.2967 - val_loss: 2.0413 - val_accuracy: 0.3100\n",
      "Epoch 2/20\n",
      "50/50 [==============================] - 1s 15ms/step - loss: 1.5084 - accuracy: 0.4766 - val_loss: 1.9801 - val_accuracy: 0.3400\n",
      "Epoch 3/20\n",
      "50/50 [==============================] - 1s 14ms/step - loss: 1.1477 - accuracy: 0.6161 - val_loss: 2.0968 - val_accuracy: 0.3212\n",
      "Epoch 4/20\n",
      "50/50 [==============================] - 1s 15ms/step - loss: 0.7941 - accuracy: 0.7521 - val_loss: 2.1827 - val_accuracy: 0.3363\n",
      "Epoch 5/20\n",
      "50/50 [==============================] - 1s 11ms/step - loss: 0.4984 - accuracy: 0.8504 - val_loss: 2.5340 - val_accuracy: 0.3175\n",
      "Epoch 6/20\n",
      "50/50 [==============================] - 1s 13ms/step - loss: 0.3043 - accuracy: 0.9170 - val_loss: 2.7801 - val_accuracy: 0.3175\n",
      "Epoch 7/20\n",
      "50/50 [==============================] - 1s 15ms/step - loss: 0.2418 - accuracy: 0.9331 - val_loss: 3.1737 - val_accuracy: 0.3450\n",
      "Epoch 8/20\n",
      "50/50 [==============================] - 1s 15ms/step - loss: 0.1576 - accuracy: 0.9562 - val_loss: 3.4701 - val_accuracy: 0.3137\n",
      "Epoch 9/20\n",
      "50/50 [==============================] - 1s 19ms/step - loss: 0.1889 - accuracy: 0.9420 - val_loss: 4.0115 - val_accuracy: 0.3088\n",
      "Epoch 10/20\n",
      "50/50 [==============================] - 1s 14ms/step - loss: 0.2469 - accuracy: 0.9242 - val_loss: 3.6190 - val_accuracy: 0.3262\n",
      "Epoch 11/20\n",
      "50/50 [==============================] - 1s 14ms/step - loss: 0.2261 - accuracy: 0.9314 - val_loss: 4.0928 - val_accuracy: 0.2763\n",
      "Epoch 12/20\n",
      "50/50 [==============================] - 1s 13ms/step - loss: 0.2133 - accuracy: 0.9339 - val_loss: 4.3918 - val_accuracy: 0.2975\n",
      "Epoch 13/20\n",
      "50/50 [==============================] - 1s 14ms/step - loss: 0.1877 - accuracy: 0.9422 - val_loss: 4.3261 - val_accuracy: 0.3088\n",
      "Epoch 14/20\n",
      "50/50 [==============================] - 1s 14ms/step - loss: 0.1175 - accuracy: 0.9633 - val_loss: 4.8338 - val_accuracy: 0.3150\n",
      "Epoch 15/20\n",
      "50/50 [==============================] - 1s 14ms/step - loss: 0.1062 - accuracy: 0.9650 - val_loss: 4.5933 - val_accuracy: 0.3162\n",
      "Epoch 16/20\n",
      "50/50 [==============================] - 1s 11ms/step - loss: 0.1670 - accuracy: 0.9476 - val_loss: 4.5269 - val_accuracy: 0.3388\n",
      "Epoch 17/20\n",
      "50/50 [==============================] - 1s 12ms/step - loss: 0.1360 - accuracy: 0.9612 - val_loss: 4.8374 - val_accuracy: 0.2825\n",
      "Epoch 18/20\n",
      "50/50 [==============================] - 1s 15ms/step - loss: 0.0751 - accuracy: 0.9801 - val_loss: 4.5021 - val_accuracy: 0.3388\n",
      "Epoch 19/20\n",
      "50/50 [==============================] - 1s 15ms/step - loss: 0.0359 - accuracy: 0.9925 - val_loss: 4.6283 - val_accuracy: 0.3363\n",
      "Epoch 20/20\n",
      "50/50 [==============================] - 1s 15ms/step - loss: 0.0247 - accuracy: 0.9937 - val_loss: 5.3808 - val_accuracy: 0.3125\n"
     ]
    }
   ],
   "source": [
    "with tf.device('/GPU:0'):\n",
    "    history=model.fit(X_train,\n",
    "              y_train,\n",
    "              epochs=20,\n",
    "              batch_size=128,\n",
    "              validation_data=(X_val, y_val))"
   ]
  },
  {
   "cell_type": "code",
   "execution_count": 39,
   "metadata": {
    "scrolled": false
   },
   "outputs": [
    {
     "data": {
      "image/png": "[encoded data removed]",
      "text/plain": [
       "<Figure size 1080x504 with 2 Axes>"
      ]
     },
     "metadata": {
      "needs_background": "light"
     },
     "output_type": "display_data"
    }
   ],
   "source": [
    "plt.figure(figsize=(15,7))\n",
    "\n",
    "plt.subplot(1,2,1)\n",
    "plt.plot(history.history['accuracy'], label='train')\n",
    "#plt.plot(history.history['val_accuracy'], label='validation')\n",
    "plt.title('Accuracy')\n",
    "plt.xlabel('Epochs')\n",
    "plt.ylabel('Accuracy')\n",
    "plt.legend()\n",
    "\n",
    "plt.subplot(1,2,2)\n",
    "plt.plot(history.history['loss'], label='train')\n",
    "#plt.plot(history.history['val_loss'], label='validation')\n",
    "plt.title('Loss')\n",
    "plt.xlabel('Epochs')\n",
    "plt.ylabel('Loss')\n",
    "plt.legend()\n",
    "\n",
    "plt.tight_layout()\n",
    "plt.show()"
   ]
  },
  {
   "cell_type": "code",
   "execution_count": 34,
   "metadata": {},
   "outputs": [
    {
     "data": {
      "text/plain": [
       "(6397, 23232)"
      ]
     },
     "execution_count": 34,
     "metadata": {},
     "output_type": "execute_result"
    }
   ],
   "source": [
    "X_train.shape"
   ]
  },
  {
   "cell_type": "code",
   "execution_count": 22,
   "metadata": {},
   "outputs": [
    {
     "name": "stdout",
     "output_type": "stream",
     "text": [
      "Model: \"sequential\"\n",
      "_________________________________________________________________\n",
      "Layer (type)                 Output Shape              Param #   \n",
      "=================================================================\n",
      "reshape (Reshape)            (None, 88, 88, 3)         0         \n",
      "_________________________________________________________________\n",
      "conv2d (Conv2D)              (None, 86, 86, 64)        1792      \n",
      "_________________________________________________________________\n",
      "max_pooling2d (MaxPooling2D) (None, 43, 43, 64)        0         \n",
      "_________________________________________________________________\n",
      "conv2d_1 (Conv2D)            (None, 41, 41, 128)       73856     \n",
      "_________________________________________________________________\n",
      "max_pooling2d_1 (MaxPooling2 (None, 20, 20, 128)       0         \n",
      "_________________________________________________________________\n",
      "conv2d_2 (Conv2D)            (None, 19, 19, 128)       65664     \n",
      "_________________________________________________________________\n",
      "max_pooling2d_2 (MaxPooling2 (None, 9, 9, 128)         0         \n",
      "_________________________________________________________________\n",
      "dropout (Dropout)            (None, 9, 9, 128)         0         \n",
      "_________________________________________________________________\n",
      "conv2d_3 (Conv2D)            (None, 8, 8, 128)         65664     \n",
      "_________________________________________________________________\n",
      "max_pooling2d_3 (MaxPooling2 (None, 4, 4, 128)         0         \n",
      "_________________________________________________________________\n",
      "dropout_1 (Dropout)          (None, 4, 4, 128)         0         \n",
      "_________________________________________________________________\n",
      "flatten (Flatten)            (None, 2048)              0         \n",
      "_________________________________________________________________\n",
      "dense (Dense)                (None, 64)                131136    \n",
      "_________________________________________________________________\n",
      "dense_1 (Dense)              (None, 8)                 520       \n",
      "=================================================================\n",
      "Total params: 338,632\n",
      "Trainable params: 338,632\n",
      "Non-trainable params: 0\n",
      "_________________________________________________________________\n"
     ]
    }
   ],
   "source": [
    "keras.backend.clear_session()\n",
    "\n",
    "model = models.Sequential()\n",
    "\n",
    "model.add(layers.Reshape((88,88,3),input_shape=(X_train.shape[1],)))\n",
    "model.add(layers.Conv2D(64, (3,3), activation='relu'))\n",
    "model.add(layers.MaxPooling2D(2,2))\n",
    "model.add(layers.Conv2D(128, (3,3), activation='relu'))\n",
    "model.add(layers.MaxPooling2D(2,2))\n",
    "model.add(layers.Conv2D(128, (2,2), activation='relu'))\n",
    "model.add(layers.MaxPooling2D(2,2))\n",
    "model.add(layers.Dropout(.2))\n",
    "model.add(layers.Conv2D(128, (2,2), activation='relu'))\n",
    "model.add(layers.MaxPooling2D(2,2))\n",
    "\n",
    "model.add(layers.Dropout(.2))\n",
    "model.add(layers.Flatten())\n",
    "model.add(layers.Dense(64, activation='relu'))\n",
    "#model.add(tf.keras.backend.squeeze())\n",
    "model.add(layers.Dense(8, activation='softmax'))\n",
    "\n",
    "loss=tf.keras.losses.SparseCategoricalCrossentropy()\n",
    "model.compile(optimizer='adam',\n",
    "              loss=loss,\n",
    "              metrics=['accuracy'])\n",
    "model.summary()"
   ]
  },
  {
   "cell_type": "code",
   "execution_count": 25,
   "metadata": {},
   "outputs": [
    {
     "name": "stdout",
     "output_type": "stream",
     "text": [
      "Epoch 1/40\n",
      "100/100 [==============================] - 3s 30ms/step - loss: 0.8329 - accuracy: 0.7041 - val_loss: 1.9079 - val_accuracy: 0.4200\n",
      "Epoch 2/40\n",
      "100/100 [==============================] - 3s 30ms/step - loss: 0.7879 - accuracy: 0.7178 - val_loss: 2.0365 - val_accuracy: 0.3925\n",
      "Epoch 3/40\n",
      "100/100 [==============================] - 3s 30ms/step - loss: 0.7362 - accuracy: 0.7375 - val_loss: 2.1331 - val_accuracy: 0.3638\n",
      "Epoch 4/40\n",
      "100/100 [==============================] - 3s 30ms/step - loss: 0.6777 - accuracy: 0.7647 - val_loss: 2.0981 - val_accuracy: 0.4025\n",
      "Epoch 5/40\n",
      "100/100 [==============================] - 3s 30ms/step - loss: 0.6440 - accuracy: 0.7747 - val_loss: 2.2773 - val_accuracy: 0.3812\n",
      "Epoch 6/40\n",
      "100/100 [==============================] - 3s 30ms/step - loss: 0.6083 - accuracy: 0.7783 - val_loss: 2.2362 - val_accuracy: 0.3750\n",
      "Epoch 7/40\n",
      "100/100 [==============================] - 3s 29ms/step - loss: 0.5594 - accuracy: 0.7976 - val_loss: 2.4631 - val_accuracy: 0.3837\n",
      "Epoch 8/40\n",
      "100/100 [==============================] - 3s 31ms/step - loss: 0.5402 - accuracy: 0.8073 - val_loss: 2.3071 - val_accuracy: 0.3825\n",
      "Epoch 9/40\n",
      "100/100 [==============================] - 3s 31ms/step - loss: 0.5207 - accuracy: 0.8159 - val_loss: 2.4497 - val_accuracy: 0.3663\n",
      "Epoch 10/40\n",
      "100/100 [==============================] - 3s 30ms/step - loss: 0.4829 - accuracy: 0.8271 - val_loss: 2.5901 - val_accuracy: 0.3862\n",
      "Epoch 11/40\n",
      "100/100 [==============================] - 3s 31ms/step - loss: 0.4524 - accuracy: 0.8335 - val_loss: 2.5432 - val_accuracy: 0.4000\n",
      "Epoch 12/40\n",
      "100/100 [==============================] - 3s 31ms/step - loss: 0.4247 - accuracy: 0.8476 - val_loss: 2.7089 - val_accuracy: 0.3900\n",
      "Epoch 13/40\n",
      "100/100 [==============================] - 3s 32ms/step - loss: 0.3973 - accuracy: 0.8613 - val_loss: 2.6968 - val_accuracy: 0.3950\n",
      "Epoch 14/40\n",
      "100/100 [==============================] - 3s 30ms/step - loss: 0.3984 - accuracy: 0.8579 - val_loss: 2.7976 - val_accuracy: 0.3875\n",
      "Epoch 15/40\n",
      "100/100 [==============================] - 3s 30ms/step - loss: 0.3719 - accuracy: 0.8685 - val_loss: 2.9128 - val_accuracy: 0.3875\n",
      "Epoch 16/40\n",
      "100/100 [==============================] - 3s 30ms/step - loss: 0.3543 - accuracy: 0.8693 - val_loss: 3.0078 - val_accuracy: 0.3950\n",
      "Epoch 17/40\n",
      "100/100 [==============================] - 3s 30ms/step - loss: 0.3480 - accuracy: 0.8763 - val_loss: 2.9601 - val_accuracy: 0.3975\n",
      "Epoch 18/40\n",
      "100/100 [==============================] - 3s 30ms/step - loss: 0.3133 - accuracy: 0.8882 - val_loss: 3.0992 - val_accuracy: 0.4075\n",
      "Epoch 19/40\n",
      "100/100 [==============================] - 3s 31ms/step - loss: 0.3215 - accuracy: 0.8832 - val_loss: 3.1521 - val_accuracy: 0.3750\n",
      "Epoch 20/40\n",
      "100/100 [==============================] - 3s 31ms/step - loss: 0.3180 - accuracy: 0.8885 - val_loss: 2.9762 - val_accuracy: 0.3938\n",
      "Epoch 21/40\n",
      "100/100 [==============================] - 3s 29ms/step - loss: 0.2877 - accuracy: 0.8979 - val_loss: 3.2394 - val_accuracy: 0.3925\n",
      "Epoch 22/40\n",
      "100/100 [==============================] - 3s 30ms/step - loss: 0.2794 - accuracy: 0.9003 - val_loss: 3.1337 - val_accuracy: 0.3812\n",
      "Epoch 23/40\n",
      "100/100 [==============================] - 3s 30ms/step - loss: 0.2910 - accuracy: 0.9031 - val_loss: 3.1515 - val_accuracy: 0.3988\n",
      "Epoch 24/40\n",
      "100/100 [==============================] - 3s 31ms/step - loss: 0.2456 - accuracy: 0.9129 - val_loss: 3.3544 - val_accuracy: 0.3850\n",
      "Epoch 25/40\n",
      "100/100 [==============================] - 3s 29ms/step - loss: 0.2647 - accuracy: 0.9059 - val_loss: 3.2894 - val_accuracy: 0.3837\n",
      "Epoch 26/40\n",
      "100/100 [==============================] - 3s 29ms/step - loss: 0.2361 - accuracy: 0.9206 - val_loss: 3.4657 - val_accuracy: 0.3587\n",
      "Epoch 27/40\n",
      "100/100 [==============================] - 3s 30ms/step - loss: 0.2566 - accuracy: 0.9112 - val_loss: 3.2165 - val_accuracy: 0.4112\n",
      "Epoch 28/40\n",
      "100/100 [==============================] - 3s 30ms/step - loss: 0.2288 - accuracy: 0.9209 - val_loss: 3.5402 - val_accuracy: 0.3787\n",
      "Epoch 29/40\n",
      "100/100 [==============================] - 3s 29ms/step - loss: 0.2281 - accuracy: 0.9192 - val_loss: 3.4533 - val_accuracy: 0.4062\n",
      "Epoch 30/40\n",
      "100/100 [==============================] - 3s 30ms/step - loss: 0.2430 - accuracy: 0.9181 - val_loss: 3.4369 - val_accuracy: 0.4100\n",
      "Epoch 31/40\n",
      "100/100 [==============================] - 3s 29ms/step - loss: 0.2113 - accuracy: 0.9272 - val_loss: 3.5937 - val_accuracy: 0.3900\n",
      "Epoch 32/40\n",
      "100/100 [==============================] - 3s 29ms/step - loss: 0.2062 - accuracy: 0.9268 - val_loss: 3.6655 - val_accuracy: 0.4025\n",
      "Epoch 33/40\n",
      "100/100 [==============================] - 3s 29ms/step - loss: 0.2143 - accuracy: 0.9247 - val_loss: 3.7868 - val_accuracy: 0.3825\n",
      "Epoch 34/40\n",
      "100/100 [==============================] - 3s 29ms/step - loss: 0.2245 - accuracy: 0.9203 - val_loss: 3.7513 - val_accuracy: 0.3913\n",
      "Epoch 35/40\n",
      "100/100 [==============================] - 3s 29ms/step - loss: 0.1942 - accuracy: 0.9354 - val_loss: 3.6910 - val_accuracy: 0.3887\n",
      "Epoch 36/40\n",
      "100/100 [==============================] - 3s 29ms/step - loss: 0.1682 - accuracy: 0.9401 - val_loss: 3.6444 - val_accuracy: 0.3913\n",
      "Epoch 37/40\n",
      "100/100 [==============================] - 3s 30ms/step - loss: 0.1675 - accuracy: 0.9464 - val_loss: 3.7832 - val_accuracy: 0.4087\n",
      "Epoch 38/40\n",
      "100/100 [==============================] - 3s 29ms/step - loss: 0.2135 - accuracy: 0.9309 - val_loss: 3.6842 - val_accuracy: 0.3938\n",
      "Epoch 39/40\n",
      "100/100 [==============================] - 3s 29ms/step - loss: 0.1678 - accuracy: 0.9436 - val_loss: 3.9895 - val_accuracy: 0.3950\n",
      "Epoch 40/40\n",
      "100/100 [==============================] - 3s 29ms/step - loss: 0.1992 - accuracy: 0.9259 - val_loss: 4.0391 - val_accuracy: 0.4050\n"
     ]
    }
   ],
   "source": [
    "with tf.device('/GPU:0'):\n",
    "    history=model.fit(X_train,\n",
    "              y_train,\n",
    "              epochs=40,\n",
    "              batch_size=64,\n",
    "              validation_data=(X_val, y_val))"
   ]
  },
  {
   "cell_type": "code",
   "execution_count": 26,
   "metadata": {
    "scrolled": true
   },
   "outputs": [
    {
     "data": {
      "image/png": "[encoded data removed]",
      "text/plain": [
       "<Figure size 1080x504 with 2 Axes>"
      ]
     },
     "metadata": {
      "needs_background": "light"
     },
     "output_type": "display_data"
    }
   ],
   "source": [
    "plt.figure(figsize=(15,7))\n",
    "\n",
    "plt.subplot(1,2,1)\n",
    "plt.plot(history.history['accuracy'], label='train')\n",
    "plt.plot(history.history['val_accuracy'], label='validation')\n",
    "plt.title('Accuracy')\n",
    "plt.xlabel('Epochs')\n",
    "plt.ylabel('Accuracy')\n",
    "plt.legend()\n",
    "\n",
    "plt.subplot(1,2,2)\n",
    "plt.plot(history.history['loss'], label='train')\n",
    "plt.plot(history.history['val_loss'], label='validation')\n",
    "plt.title('Loss')\n",
    "plt.xlabel('Epochs')\n",
    "plt.ylabel('Loss')\n",
    "plt.legend()\n",
    "\n",
    "plt.tight_layout()\n",
    "plt.show()"
   ]
  },
  {
   "cell_type": "code",
   "execution_count": 28,
   "metadata": {},
   "outputs": [
    {
     "name": "stdout",
     "output_type": "stream",
     "text": [
      "25/25 [==============================] - 0s 7ms/step - loss: 4.6643 - accuracy: 0.3400\n"
     ]
    }
   ],
   "source": [
    "results = model.evaluate(X_test,y_test, return_dict=True)"
   ]
  },
  {
   "cell_type": "code",
   "execution_count": 29,
   "metadata": {},
   "outputs": [
    {
     "name": "stdout",
     "output_type": "stream",
     "text": [
      "Classification Report (test set)\n",
      "              precision    recall  f1-score   support\n",
      "\n",
      "           0       0.31      0.45      0.37       100\n",
      "           1       0.25      0.25      0.25       100\n",
      "           2       0.21      0.23      0.22       100\n",
      "           3       0.52      0.54      0.53       100\n",
      "           4       0.32      0.25      0.28       100\n",
      "           5       0.35      0.38      0.36       100\n",
      "           6       0.30      0.19      0.23       100\n",
      "           7       0.48      0.43      0.46       100\n",
      "\n",
      "    accuracy                           0.34       800\n",
      "   macro avg       0.34      0.34      0.34       800\n",
      "weighted avg       0.34      0.34      0.34       800\n",
      "\n"
     ]
    }
   ],
   "source": [
    "#make clear this is test set\n",
    "y_pred=np.argmax(model.predict(X_test), axis=1)\n",
    "print('Classification Report (test set)')\n",
    "print(classification_report(y_test,y_pred))"
   ]
  },
  {
   "cell_type": "markdown",
   "metadata": {},
   "source": [
    "Over the set of:  \n",
    "* 8 classes\n",
    "* 1000 samples each class\n",
    "\n",
    "A baseline model of a fully connected neural net achieves better accuracy over the test set than a Logistic Regression."
   ]
  },
  {
   "cell_type": "markdown",
   "metadata": {},
   "source": [
    "| Model | Accuracy(all classes) | Train Time |\n",
    "| --- | --- | --- |\n",
    "| Logistic Regression | .22 | 2m 36s |\n",
    "| Neural Net | .30 | 8.34s |\n"
   ]
  },
  {
   "cell_type": "markdown",
   "metadata": {},
   "source": [
    "I will extend this model using more complicated neural net architectures as follows:\n",
    "* Convolutiona Neural Net (CNN)\n",
    "* Long Short Term Memory (LSTM)\n",
    "* Combination architecture with both CNN and LSTM layers"
   ]
  },
  {
   "cell_type": "markdown",
   "metadata": {},
   "source": [
    " "
   ]
  }
 ],
 "metadata": {
  "kernelspec": {
   "display_name": "Python 3",
   "language": "python",
   "name": "python3"
  },
  "language_info": {
   "codemirror_mode": {
    "name": "ipython",
    "version": 3
   },
   "file_extension": ".py",
   "mimetype": "text/x-python",
   "name": "python",
   "nbconvert_exporter": "python",
   "pygments_lexer": "ipython3",
   "version": "3.7.7"
  }
 },
 "nbformat": 4,
 "nbformat_minor": 4
}
