{
 "cells": [
  {
   "cell_type": "code",
   "execution_count": 1,
   "metadata": {},
   "outputs": [],
   "source": [
    "import numpy as np\n",
    "import pandas as pd\n",
    "import matplotlib.pyplot as plt  \n",
    "%matplotlib inline\n",
    "#import librosa\n",
    "#import utils\n",
    "#import ast\n",
    "import pickle\n",
    "#import fma_utils\n",
    "#import kapre\n",
    "#from kapre.time_frequency import Spectrogram, Melspectrogram\n",
    "from sklearn.utils import shuffle\n",
    "from sklearn.preprocessing import MultiLabelBinarizer, LabelEncoder, StandardScaler\n",
    "from sklearn.metrics import classification_report\n",
    "\n",
    "import tensorflow as tf\n",
    "from tensorflow import keras\n",
    "from tensorflow.keras import layers, models\n",
    "import tensorflow_io as tfio\n",
    "\n",
    "\n",
    "#import os\n",
    "#import shutil\n",
    "#from IPython.display import display, Audio\n"
   ]
  },
  {
   "cell_type": "code",
   "execution_count": 2,
   "metadata": {},
   "outputs": [],
   "source": [
    "gpus = tf.config.experimental.list_physical_devices('GPU')\n",
    "if gpus:\n",
    "    try:\n",
    "        for gpu in gpus:\n",
    "            tf.config.experimental.set_memory_growth(gpu, True)\n",
    "\n",
    "    except RuntimeError as e:\n",
    "        print(e)"
   ]
  },
  {
   "cell_type": "code",
   "execution_count": 3,
   "metadata": {},
   "outputs": [],
   "source": [
    "AUTOTUNE = tf.data.experimental.AUTOTUNE\n",
    "AUDIO_DIR = 'data/fma_small'\n",
    "SR = 16000\n",
    "BATCH_SIZE = 8\n",
    "#INP_SHAPE = (1190700, 2)\n",
    "INP_SHAPE = (160000, 2)\n",
    "MFCC_SHAPE = (BATCH_SIZE, 160000, 128)\n",
    "START = 441000 \n",
    "END = 882000"
   ]
  },
  {
   "cell_type": "code",
   "execution_count": 4,
   "metadata": {},
   "outputs": [],
   "source": [
    "#load \n",
    "fma_multi = pickle.load(open(\"saved/fma_multi.p\", \"rb\"))"
   ]
  },
  {
   "cell_type": "code",
   "execution_count": 5,
   "metadata": {},
   "outputs": [
    {
     "data": {
      "text/html": [
       "<div>\n",
       "<style scoped>\n",
       "    .dataframe tbody tr th:only-of-type {\n",
       "        vertical-align: middle;\n",
       "    }\n",
       "\n",
       "    .dataframe tbody tr th {\n",
       "        vertical-align: top;\n",
       "    }\n",
       "\n",
       "    .dataframe thead th {\n",
       "        text-align: right;\n",
       "    }\n",
       "</style>\n",
       "<table border=\"1\" class=\"dataframe\">\n",
       "  <thead>\n",
       "    <tr style=\"text-align: right;\">\n",
       "      <th></th>\n",
       "      <th>split</th>\n",
       "      <th>subset</th>\n",
       "      <th>filepath</th>\n",
       "      <th>genres_all</th>\n",
       "      <th>genre_top</th>\n",
       "    </tr>\n",
       "    <tr>\n",
       "      <th>track_id</th>\n",
       "      <th></th>\n",
       "      <th></th>\n",
       "      <th></th>\n",
       "      <th></th>\n",
       "      <th></th>\n",
       "    </tr>\n",
       "  </thead>\n",
       "  <tbody>\n",
       "    <tr>\n",
       "      <th>2</th>\n",
       "      <td>training</td>\n",
       "      <td>small</td>\n",
       "      <td>data/fma_large/000/000002.mp3</td>\n",
       "      <td>[21]</td>\n",
       "      <td>Hip-Hop</td>\n",
       "    </tr>\n",
       "    <tr>\n",
       "      <th>3</th>\n",
       "      <td>training</td>\n",
       "      <td>medium</td>\n",
       "      <td>data/fma_large/000/000003.mp3</td>\n",
       "      <td>[21]</td>\n",
       "      <td>Hip-Hop</td>\n",
       "    </tr>\n",
       "    <tr>\n",
       "      <th>5</th>\n",
       "      <td>training</td>\n",
       "      <td>small</td>\n",
       "      <td>data/fma_large/000/000005.mp3</td>\n",
       "      <td>[21]</td>\n",
       "      <td>Hip-Hop</td>\n",
       "    </tr>\n",
       "    <tr>\n",
       "      <th>10</th>\n",
       "      <td>training</td>\n",
       "      <td>small</td>\n",
       "      <td>data/fma_large/000/000010.mp3</td>\n",
       "      <td>[10]</td>\n",
       "      <td>Pop</td>\n",
       "    </tr>\n",
       "    <tr>\n",
       "      <th>20</th>\n",
       "      <td>training</td>\n",
       "      <td>large</td>\n",
       "      <td>data/fma_large/000/000020.mp3</td>\n",
       "      <td>[17, 10, 76, 103]</td>\n",
       "      <td>NaN</td>\n",
       "    </tr>\n",
       "  </tbody>\n",
       "</table>\n",
       "</div>"
      ],
      "text/plain": [
       "             split  subset                       filepath         genres_all  \\\n",
       "track_id                                                                       \n",
       "2         training   small  data/fma_large/000/000002.mp3               [21]   \n",
       "3         training  medium  data/fma_large/000/000003.mp3               [21]   \n",
       "5         training   small  data/fma_large/000/000005.mp3               [21]   \n",
       "10        training   small  data/fma_large/000/000010.mp3               [10]   \n",
       "20        training   large  data/fma_large/000/000020.mp3  [17, 10, 76, 103]   \n",
       "\n",
       "         genre_top  \n",
       "track_id            \n",
       "2          Hip-Hop  \n",
       "3          Hip-Hop  \n",
       "5          Hip-Hop  \n",
       "10             Pop  \n",
       "20             NaN  "
      ]
     },
     "execution_count": 5,
     "metadata": {},
     "output_type": "execute_result"
    }
   ],
   "source": [
    "fma_multi.head()"
   ]
  },
  {
   "cell_type": "code",
   "execution_count": 6,
   "metadata": {},
   "outputs": [],
   "source": [
    "#use the 8000 track balanced subset for baseline modeling\n",
    "subset = fma_multi.index[fma_multi['subset'] == 'small']"
   ]
  },
  {
   "cell_type": "code",
   "execution_count": 7,
   "metadata": {},
   "outputs": [],
   "source": [
    "fma_small = fma_multi.loc[subset]"
   ]
  },
  {
   "cell_type": "code",
   "execution_count": 8,
   "metadata": {},
   "outputs": [],
   "source": [
    "fma_small['filepath'] = fma_small['filepath'].str.replace('large','small')"
   ]
  },
  {
   "cell_type": "code",
   "execution_count": 9,
   "metadata": {},
   "outputs": [
    {
     "data": {
      "text/html": [
       "<div>\n",
       "<style scoped>\n",
       "    .dataframe tbody tr th:only-of-type {\n",
       "        vertical-align: middle;\n",
       "    }\n",
       "\n",
       "    .dataframe tbody tr th {\n",
       "        vertical-align: top;\n",
       "    }\n",
       "\n",
       "    .dataframe thead th {\n",
       "        text-align: right;\n",
       "    }\n",
       "</style>\n",
       "<table border=\"1\" class=\"dataframe\">\n",
       "  <thead>\n",
       "    <tr style=\"text-align: right;\">\n",
       "      <th></th>\n",
       "      <th>split</th>\n",
       "      <th>subset</th>\n",
       "      <th>filepath</th>\n",
       "      <th>genres_all</th>\n",
       "      <th>genre_top</th>\n",
       "    </tr>\n",
       "    <tr>\n",
       "      <th>track_id</th>\n",
       "      <th></th>\n",
       "      <th></th>\n",
       "      <th></th>\n",
       "      <th></th>\n",
       "      <th></th>\n",
       "    </tr>\n",
       "  </thead>\n",
       "  <tbody>\n",
       "    <tr>\n",
       "      <th>2</th>\n",
       "      <td>training</td>\n",
       "      <td>small</td>\n",
       "      <td>data/fma_small/000/000002.mp3</td>\n",
       "      <td>[21]</td>\n",
       "      <td>Hip-Hop</td>\n",
       "    </tr>\n",
       "    <tr>\n",
       "      <th>5</th>\n",
       "      <td>training</td>\n",
       "      <td>small</td>\n",
       "      <td>data/fma_small/000/000005.mp3</td>\n",
       "      <td>[21]</td>\n",
       "      <td>Hip-Hop</td>\n",
       "    </tr>\n",
       "    <tr>\n",
       "      <th>10</th>\n",
       "      <td>training</td>\n",
       "      <td>small</td>\n",
       "      <td>data/fma_small/000/000010.mp3</td>\n",
       "      <td>[10]</td>\n",
       "      <td>Pop</td>\n",
       "    </tr>\n",
       "    <tr>\n",
       "      <th>140</th>\n",
       "      <td>training</td>\n",
       "      <td>small</td>\n",
       "      <td>data/fma_small/000/000140.mp3</td>\n",
       "      <td>[17]</td>\n",
       "      <td>Folk</td>\n",
       "    </tr>\n",
       "    <tr>\n",
       "      <th>141</th>\n",
       "      <td>training</td>\n",
       "      <td>small</td>\n",
       "      <td>data/fma_small/000/000141.mp3</td>\n",
       "      <td>[17]</td>\n",
       "      <td>Folk</td>\n",
       "    </tr>\n",
       "    <tr>\n",
       "      <th>...</th>\n",
       "      <td>...</td>\n",
       "      <td>...</td>\n",
       "      <td>...</td>\n",
       "      <td>...</td>\n",
       "      <td>...</td>\n",
       "    </tr>\n",
       "    <tr>\n",
       "      <th>154308</th>\n",
       "      <td>test</td>\n",
       "      <td>small</td>\n",
       "      <td>data/fma_small/154/154308.mp3</td>\n",
       "      <td>[811, 539, 21]</td>\n",
       "      <td>Hip-Hop</td>\n",
       "    </tr>\n",
       "    <tr>\n",
       "      <th>154309</th>\n",
       "      <td>test</td>\n",
       "      <td>small</td>\n",
       "      <td>data/fma_small/154/154309.mp3</td>\n",
       "      <td>[811, 539, 21]</td>\n",
       "      <td>Hip-Hop</td>\n",
       "    </tr>\n",
       "    <tr>\n",
       "      <th>154413</th>\n",
       "      <td>training</td>\n",
       "      <td>small</td>\n",
       "      <td>data/fma_small/154/154413.mp3</td>\n",
       "      <td>[10, 76]</td>\n",
       "      <td>Pop</td>\n",
       "    </tr>\n",
       "    <tr>\n",
       "      <th>154414</th>\n",
       "      <td>training</td>\n",
       "      <td>small</td>\n",
       "      <td>data/fma_small/154/154414.mp3</td>\n",
       "      <td>[10, 76]</td>\n",
       "      <td>Pop</td>\n",
       "    </tr>\n",
       "    <tr>\n",
       "      <th>155066</th>\n",
       "      <td>training</td>\n",
       "      <td>small</td>\n",
       "      <td>data/fma_small/155/155066.mp3</td>\n",
       "      <td>[811, 21]</td>\n",
       "      <td>Hip-Hop</td>\n",
       "    </tr>\n",
       "  </tbody>\n",
       "</table>\n",
       "<p>7997 rows × 5 columns</p>\n",
       "</div>"
      ],
      "text/plain": [
       "             split subset                       filepath      genres_all  \\\n",
       "track_id                                                                   \n",
       "2         training  small  data/fma_small/000/000002.mp3            [21]   \n",
       "5         training  small  data/fma_small/000/000005.mp3            [21]   \n",
       "10        training  small  data/fma_small/000/000010.mp3            [10]   \n",
       "140       training  small  data/fma_small/000/000140.mp3            [17]   \n",
       "141       training  small  data/fma_small/000/000141.mp3            [17]   \n",
       "...            ...    ...                            ...             ...   \n",
       "154308        test  small  data/fma_small/154/154308.mp3  [811, 539, 21]   \n",
       "154309        test  small  data/fma_small/154/154309.mp3  [811, 539, 21]   \n",
       "154413    training  small  data/fma_small/154/154413.mp3        [10, 76]   \n",
       "154414    training  small  data/fma_small/154/154414.mp3        [10, 76]   \n",
       "155066    training  small  data/fma_small/155/155066.mp3       [811, 21]   \n",
       "\n",
       "         genre_top  \n",
       "track_id            \n",
       "2          Hip-Hop  \n",
       "5          Hip-Hop  \n",
       "10             Pop  \n",
       "140           Folk  \n",
       "141           Folk  \n",
       "...            ...  \n",
       "154308     Hip-Hop  \n",
       "154309     Hip-Hop  \n",
       "154413         Pop  \n",
       "154414         Pop  \n",
       "155066     Hip-Hop  \n",
       "\n",
       "[7997 rows x 5 columns]"
      ]
     },
     "execution_count": 9,
     "metadata": {},
     "output_type": "execute_result"
    }
   ],
   "source": [
    "fma_small"
   ]
  },
  {
   "cell_type": "code",
   "execution_count": 10,
   "metadata": {},
   "outputs": [],
   "source": [
    "drop3=pickle.load(open(\"saved/drop3.p\",\"rb\"))"
   ]
  },
  {
   "cell_type": "code",
   "execution_count": 11,
   "metadata": {},
   "outputs": [],
   "source": [
    "fma_small.drop(drop3, inplace=True)"
   ]
  },
  {
   "cell_type": "code",
   "execution_count": 12,
   "metadata": {},
   "outputs": [],
   "source": [
    "#use the built in train/test/validation split in case we want to compare to other models over this dataset\n",
    "train = fma_small.index[fma_small['split'] == 'training']\n",
    "val = fma_small.index[fma_small['split'] == 'validation']\n",
    "test = fma_small.index[fma_small['split'] == 'test']"
   ]
  },
  {
   "cell_type": "code",
   "execution_count": 13,
   "metadata": {
    "scrolled": true
   },
   "outputs": [
    {
     "name": "stdout",
     "output_type": "stream",
     "text": [
      "training set size:  6310\n",
      "validation set size:  793\n",
      "test set size:  794\n"
     ]
    }
   ],
   "source": [
    "print('training set size: ', len(train))\n",
    "print('validation set size: ', len(val))\n",
    "print('test set size: ', len(test))"
   ]
  },
  {
   "cell_type": "code",
   "execution_count": 14,
   "metadata": {},
   "outputs": [],
   "source": [
    "enc = LabelEncoder()\n",
    "\n",
    "X_train = fma_small['filepath'].loc[train]\n",
    "X_val = fma_small['filepath'].loc[val]\n",
    "X_test = fma_small['filepath'].loc[test]\n",
    "y_train = enc.fit_transform(fma_small['genre_top'].loc[train])\n",
    "y_val = enc.transform(fma_small['genre_top'].loc[val])\n",
    "y_test = enc.transform(fma_small['genre_top'].loc[test])"
   ]
  },
  {
   "cell_type": "code",
   "execution_count": 15,
   "metadata": {},
   "outputs": [],
   "source": [
    "def parse_audio_mfcc(filename,  label):\n",
    "    \"\"\"returns audio trimmed to [START:END] sample indexes and scaled to -1 to 1\n",
    "    \"\"\"    \n",
    "    audio = tfio.audio.AudioIOTensor(filename, dtype=tf.float32)\n",
    "   \n",
    "    audio = audio[START:END] #crop to uniform size\n",
    "    audio = tfio.audio.resample(audio, 44100, 16000)\n",
    "    spectrogram = tfio.experimental.audio.spectrogram(audio, nfft=512, window=512, stride=256)\n",
    "    mel_spectrogram = tfio.experimental.audio.melscale(spectrogram, rate=SR, mels=128, fmin=0, fmax=8000)\n",
    "    dbscale_mel_spectrogram = tfio.experimental.audio.dbscale(mel_spectrogram, top_db=80)\n",
    "    mfcc=tf.signal.mfccs_from_log_mel_spectrograms(dbscale_mel_spectrogram)\n",
    "    mfcc=tf.squeeze(mfcc)\n",
    "    return mfcc, label"
   ]
  },
  {
   "cell_type": "code",
   "execution_count": 16,
   "metadata": {},
   "outputs": [],
   "source": [
    "def parse_audio(filename,  label):\n",
    "    \"\"\"returns audio trimmed to [START:END] sample indexes and scaled to -1 to 1\n",
    "    \"\"\"    \n",
    "    audio = tfio.audio.AudioIOTensor(filename, dtype=tf.float32)   \n",
    "      \n",
    "    audio = audio[START:END] #crop to uniform size\n",
    "    \n",
    "    #resample to reduse data size, we don't need 44.1kHz fidelity, 16k will be plenty\n",
    "    audio = tfio.audio.resample(audio, 44100, SR)\n",
    "    return audio, label"
   ]
  },
  {
   "cell_type": "code",
   "execution_count": 17,
   "metadata": {},
   "outputs": [],
   "source": [
    "train_ds=tf.data.Dataset.from_tensor_slices((X_train,y_train))\n",
    "val_ds=tf.data.Dataset.from_tensor_slices((X_val,y_val))\n",
    "test_ds=tf.data.Dataset.from_tensor_slices((X_test,y_test))"
   ]
  },
  {
   "cell_type": "code",
   "execution_count": 18,
   "metadata": {},
   "outputs": [],
   "source": [
    "#data pipeline\n",
    "def get_data(dataset):\n",
    "    dataset = dataset.shuffle(buffer_size=len(train), seed=42)\n",
    "    dataset = dataset.map(parse_audio, num_parallel_calls=AUTOTUNE)\n",
    "    dataset = dataset.batch(BATCH_SIZE)\n",
    "    dataset = dataset.prefetch(buffer_size=AUTOTUNE)\n",
    "    return dataset"
   ]
  },
  {
   "cell_type": "code",
   "execution_count": 19,
   "metadata": {},
   "outputs": [],
   "source": [
    "#data pipeline\n",
    "def get_mfcc_data(dataset):\n",
    "    dataset = dataset.shuffle(buffer_size=len(train), seed=42)\n",
    "    dataset = dataset.map(parse_audio_mfcc, num_parallel_calls=AUTOTUNE)\n",
    "    dataset = dataset.batch(BATCH_SIZE)\n",
    "    dataset = dataset.prefetch(buffer_size=AUTOTUNE)\n",
    "    return dataset"
   ]
  },
  {
   "cell_type": "code",
   "execution_count": 20,
   "metadata": {},
   "outputs": [],
   "source": [
    "train_ds = get_data(train_ds)\n",
    "val_ds = get_data(val_ds)\n",
    "test_ds = get_data(test_ds)"
   ]
  },
  {
   "cell_type": "code",
   "execution_count": 21,
   "metadata": {
    "scrolled": false
   },
   "outputs": [
    {
     "name": "stdout",
     "output_type": "stream",
     "text": [
      "Model: \"sequential\"\n",
      "_________________________________________________________________\n",
      "Layer (type)                 Output Shape              Param #   \n",
      "=================================================================\n",
      "normalization (Normalization (None, 160000, 2)         5         \n",
      "_________________________________________________________________\n",
      "conv1d (Conv1D)              (None, 159998, 32)        224       \n",
      "_________________________________________________________________\n",
      "max_pooling1d (MaxPooling1D) (None, 79999, 32)         0         \n",
      "_________________________________________________________________\n",
      "conv1d_1 (Conv1D)            (None, 79998, 64)         4160      \n",
      "_________________________________________________________________\n",
      "max_pooling1d_1 (MaxPooling1 (None, 19999, 64)         0         \n",
      "_________________________________________________________________\n",
      "conv1d_2 (Conv1D)            (None, 19997, 32)         6176      \n",
      "_________________________________________________________________\n",
      "max_pooling1d_2 (MaxPooling1 (None, 6665, 32)          0         \n",
      "_________________________________________________________________\n",
      "dropout (Dropout)            (None, 6665, 32)          0         \n",
      "_________________________________________________________________\n",
      "flatten (Flatten)            (None, 213280)            0         \n",
      "_________________________________________________________________\n",
      "dense (Dense)                (None, 32)                6824992   \n",
      "_________________________________________________________________\n",
      "dense_1 (Dense)              (None, 8)                 264       \n",
      "=================================================================\n",
      "Total params: 6,835,821\n",
      "Trainable params: 6,835,816\n",
      "Non-trainable params: 5\n",
      "_________________________________________________________________\n"
     ]
    }
   ],
   "source": [
    "#define model\n",
    "#basic CNN architecture from TF documentation\n",
    "keras.backend.clear_session()\n",
    "model = models.Sequential()\n",
    "\n",
    "model.add(tf.keras.layers.experimental.preprocessing.Normalization(\n",
    "    axis=-1, dtype=None, input_shape=INP_SHAPE))\n",
    "\n",
    "model.add(layers.Conv1D(32, 3, activation='relu'))\n",
    "\n",
    "model.add(layers.MaxPooling1D(2))\n",
    "model.add(layers.Conv1D(64, 2, activation='relu'))\n",
    "model.add(layers.MaxPooling1D(4))\n",
    "model.add(layers.Conv1D(32, 3, activation='relu'))\n",
    "model.add(layers.MaxPooling1D(3))\n",
    "model.add(layers.Dropout(.25))\n",
    "model.add(layers.Flatten())\n",
    "model.add(layers.Dense(32, activation='relu'))\n",
    "model.add(layers.Dense(8, activation='softmax'))\n",
    "\n",
    "model.compile(optimizer='adam',\n",
    "              loss=tf.keras.losses.SparseCategoricalCrossentropy(),\n",
    "              metrics=['accuracy'])\n",
    "model.summary()"
   ]
  },
  {
   "cell_type": "code",
   "execution_count": 22,
   "metadata": {
    "scrolled": true
   },
   "outputs": [
    {
     "name": "stdout",
     "output_type": "stream",
     "text": [
      "Epoch 1/10\n",
      "789/789 [==============================] - 109s 138ms/step - loss: 2.0842 - accuracy: 0.1334 - val_loss: 2.0800 - val_accuracy: 0.1198\n",
      "Epoch 2/10\n",
      "789/789 [==============================] - 112s 142ms/step - loss: 2.0790 - accuracy: 0.1276 - val_loss: 2.0758 - val_accuracy: 0.1274\n",
      "Epoch 3/10\n",
      "789/789 [==============================] - 113s 143ms/step - loss: 2.0804 - accuracy: 0.1217 - val_loss: 2.0795 - val_accuracy: 0.1261\n",
      "Epoch 4/10\n",
      "789/789 [==============================] - 113s 143ms/step - loss: 2.0799 - accuracy: 0.1174 - val_loss: 2.0795 - val_accuracy: 0.1261\n",
      "Epoch 5/10\n",
      "789/789 [==============================] - 116s 147ms/step - loss: 2.0799 - accuracy: 0.1198 - val_loss: 2.0794 - val_accuracy: 0.1261\n",
      "Epoch 6/10\n",
      "789/789 [==============================] - 116s 147ms/step - loss: 2.0823 - accuracy: 0.1204 - val_loss: 2.0795 - val_accuracy: 0.1261\n",
      "Epoch 7/10\n",
      "789/789 [==============================] - 116s 147ms/step - loss: 2.0799 - accuracy: 0.1197 - val_loss: 2.0795 - val_accuracy: 0.1261\n",
      "Epoch 8/10\n",
      "789/789 [==============================] - 116s 147ms/step - loss: 2.0799 - accuracy: 0.1184 - val_loss: 2.0795 - val_accuracy: 0.1261\n",
      "Epoch 9/10\n",
      "789/789 [==============================] - 114s 144ms/step - loss: 2.0799 - accuracy: 0.1176 - val_loss: 2.0795 - val_accuracy: 0.1261\n",
      "Epoch 10/10\n",
      "789/789 [==============================] - 114s 144ms/step - loss: 2.0798 - accuracy: 0.1208 - val_loss: 2.0795 - val_accuracy: 0.1248\n"
     ]
    }
   ],
   "source": [
    "history = model.fit(train_ds, \n",
    "                    epochs=10,                    \n",
    "                    validation_data=val_ds)"
   ]
  },
  {
   "cell_type": "code",
   "execution_count": 23,
   "metadata": {},
   "outputs": [
    {
     "data": {
      "image/png": "[encoded data removed]",
      "text/plain": [
       "<Figure size 1080x504 with 2 Axes>"
      ]
     },
     "metadata": {
      "needs_background": "light"
     },
     "output_type": "display_data"
    }
   ],
   "source": [
    "plt.figure(figsize=(15,7))\n",
    "\n",
    "plt.subplot(1,2,1)\n",
    "plt.plot(history.history['accuracy'], label='train')\n",
    "#plt.plot(history.history['val_accuracy'], label='validation')\n",
    "plt.title('Accuracy')\n",
    "plt.xlabel('Epochs')\n",
    "plt.ylabel('Accuracy')\n",
    "plt.legend()\n",
    "\n",
    "plt.subplot(1,2,2)\n",
    "plt.plot(history.history['loss'], label='train')\n",
    "#plt.plot(history.history['val_loss'], label='validation')\n",
    "plt.title('Loss')\n",
    "plt.xlabel('Epochs')\n",
    "plt.ylabel('Loss')\n",
    "plt.legend()\n",
    "\n",
    "plt.tight_layout()\n",
    "plt.show()"
   ]
  },
  {
   "cell_type": "code",
   "execution_count": null,
   "metadata": {
    "scrolled": true
   },
   "outputs": [
    {
     "name": "stdout",
     "output_type": "stream",
     "text": [
      "WARNING:tensorflow:From <ipython-input-24-5459ee1f4fe5>:2: Sequential.predict_classes (from tensorflow.python.keras.engine.sequential) is deprecated and will be removed after 2021-01-01.\n",
      "Instructions for updating:\n",
      "Please use instead:* `np.argmax(model.predict(x), axis=-1)`,   if your model does multi-class classification   (e.g. if it uses a `softmax` last-layer activation).* `(model.predict(x) > 0.5).astype(\"int32\")`,   if your model does binary classification   (e.g. if it uses a `sigmoid` last-layer activation).\n",
      "WARNING:tensorflow:Model was constructed with shape (None, 160000, 2) for input Tensor(\"normalization_input:0\", shape=(None, 160000, 2), dtype=float32), but it was called on an input with incompatible shape (None, 1).\n"
     ]
    }
   ],
   "source": [
    "#make clear this is test set\n",
    "y_pred=model.predict_classes(X_test)\n",
    "print('Classification Report (test set)')\n",
    "print(classification_report(y_test,y_pred))"
   ]
  },
  {
   "cell_type": "code",
   "execution_count": null,
   "metadata": {},
   "outputs": [],
   "source": [
    "y_pred=np.argmax(model.predict(X_test) > 0.5).astype(\"int32\"))\n",
    "print('Classification Report (test set)')\n",
    "print(classification_report(y_test,y_pred))"
   ]
  },
  {
   "cell_type": "code",
   "execution_count": null,
   "metadata": {},
   "outputs": [],
   "source": []
  }
 ],
 "metadata": {
  "kernelspec": {
   "display_name": "Python 3",
   "language": "python",
   "name": "python3"
  },
  "language_info": {
   "codemirror_mode": {
    "name": "ipython",
    "version": 3
   },
   "file_extension": ".py",
   "mimetype": "text/x-python",
   "name": "python",
   "nbconvert_exporter": "python",
   "pygments_lexer": "ipython3",
   "version": "3.7.7"
  }
 },
 "nbformat": 4,
 "nbformat_minor": 4
}
