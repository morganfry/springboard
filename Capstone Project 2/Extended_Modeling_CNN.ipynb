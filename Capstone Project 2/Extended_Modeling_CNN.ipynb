{
 "cells": [
  {
   "cell_type": "code",
   "execution_count": 1,
   "metadata": {},
   "outputs": [],
   "source": [
    "import numpy as np\n",
    "import pandas as pd\n",
    "import matplotlib.pyplot as plt  \n",
    "%matplotlib inline\n",
    "#import librosa\n",
    "#import utils\n",
    "#import ast\n",
    "import pickle\n",
    "#import fma_utils\n",
    "#import kapre\n",
    "#from kapre.time_frequency import Spectrogram, Melspectrogram\n",
    "from sklearn.utils import shuffle\n",
    "from sklearn.preprocessing import MultiLabelBinarizer, LabelEncoder, StandardScaler\n",
    "from sklearn.metrics import classification_report\n",
    "\n",
    "import tensorflow as tf\n",
    "from tensorflow import keras\n",
    "from tensorflow.keras import layers, models\n",
    "import tensorflow_io as tfio\n",
    "\n",
    "\n",
    "#import os\n",
    "#import shutil\n",
    "#from IPython.display import display, Audio\n"
   ]
  },
  {
   "cell_type": "code",
   "execution_count": 2,
   "metadata": {},
   "outputs": [],
   "source": [
    "#tf.debugging.set_log_device_placement(True)"
   ]
  },
  {
   "cell_type": "code",
   "execution_count": 3,
   "metadata": {},
   "outputs": [],
   "source": [
    "#tf.config.experimental.list_physical_devices('GPU')"
   ]
  },
  {
   "cell_type": "code",
   "execution_count": 4,
   "metadata": {},
   "outputs": [],
   "source": [
    "gpus = tf.config.experimental.list_physical_devices('GPU')\n",
    "if gpus:\n",
    "    try:\n",
    "        for gpu in gpus:\n",
    "            tf.config.experimental.set_memory_growth(gpu, True)\n",
    "\n",
    "    except RuntimeError as e:\n",
    "        print(e)\n",
    "else:\n",
    "    print('no gpu')\n"
   ]
  },
  {
   "cell_type": "code",
   "execution_count": 5,
   "metadata": {},
   "outputs": [],
   "source": [
    "AUTOTUNE = tf.data.experimental.AUTOTUNE\n",
    "AUDIO_DIR = 'data/fma_small'\n",
    "SR = 16000\n",
    "BATCH_SIZE = 16\n",
    "#INP_SHAPE = (1190700, 2)\n",
    "#INP_SHAPE = (BATCH_SIZE, 160000, 2)\n",
    "#MFCC_SHAPE = (BATCH_SIZE, 160000, 36)\n",
    "START =  441000\n",
    "END = 661500"
   ]
  },
  {
   "cell_type": "code",
   "execution_count": 6,
   "metadata": {},
   "outputs": [],
   "source": [
    "#load \n",
    "fma_multi = pickle.load(open(\"saved/fma_multi.p\", \"rb\"))"
   ]
  },
  {
   "cell_type": "code",
   "execution_count": 7,
   "metadata": {},
   "outputs": [
    {
     "data": {
      "text/html": [
       "<div>\n",
       "<style scoped>\n",
       "    .dataframe tbody tr th:only-of-type {\n",
       "        vertical-align: middle;\n",
       "    }\n",
       "\n",
       "    .dataframe tbody tr th {\n",
       "        vertical-align: top;\n",
       "    }\n",
       "\n",
       "    .dataframe thead th {\n",
       "        text-align: right;\n",
       "    }\n",
       "</style>\n",
       "<table border=\"1\" class=\"dataframe\">\n",
       "  <thead>\n",
       "    <tr style=\"text-align: right;\">\n",
       "      <th></th>\n",
       "      <th>split</th>\n",
       "      <th>subset</th>\n",
       "      <th>filepath</th>\n",
       "      <th>genres_all</th>\n",
       "      <th>genre_top</th>\n",
       "    </tr>\n",
       "    <tr>\n",
       "      <th>track_id</th>\n",
       "      <th></th>\n",
       "      <th></th>\n",
       "      <th></th>\n",
       "      <th></th>\n",
       "      <th></th>\n",
       "    </tr>\n",
       "  </thead>\n",
       "  <tbody>\n",
       "    <tr>\n",
       "      <th>2</th>\n",
       "      <td>training</td>\n",
       "      <td>small</td>\n",
       "      <td>data/fma_large/000/000002.mp3</td>\n",
       "      <td>[21]</td>\n",
       "      <td>Hip-Hop</td>\n",
       "    </tr>\n",
       "    <tr>\n",
       "      <th>3</th>\n",
       "      <td>training</td>\n",
       "      <td>medium</td>\n",
       "      <td>data/fma_large/000/000003.mp3</td>\n",
       "      <td>[21]</td>\n",
       "      <td>Hip-Hop</td>\n",
       "    </tr>\n",
       "    <tr>\n",
       "      <th>5</th>\n",
       "      <td>training</td>\n",
       "      <td>small</td>\n",
       "      <td>data/fma_large/000/000005.mp3</td>\n",
       "      <td>[21]</td>\n",
       "      <td>Hip-Hop</td>\n",
       "    </tr>\n",
       "    <tr>\n",
       "      <th>10</th>\n",
       "      <td>training</td>\n",
       "      <td>small</td>\n",
       "      <td>data/fma_large/000/000010.mp3</td>\n",
       "      <td>[10]</td>\n",
       "      <td>Pop</td>\n",
       "    </tr>\n",
       "    <tr>\n",
       "      <th>20</th>\n",
       "      <td>training</td>\n",
       "      <td>large</td>\n",
       "      <td>data/fma_large/000/000020.mp3</td>\n",
       "      <td>[17, 10, 76, 103]</td>\n",
       "      <td>NaN</td>\n",
       "    </tr>\n",
       "  </tbody>\n",
       "</table>\n",
       "</div>"
      ],
      "text/plain": [
       "             split  subset                       filepath         genres_all  \\\n",
       "track_id                                                                       \n",
       "2         training   small  data/fma_large/000/000002.mp3               [21]   \n",
       "3         training  medium  data/fma_large/000/000003.mp3               [21]   \n",
       "5         training   small  data/fma_large/000/000005.mp3               [21]   \n",
       "10        training   small  data/fma_large/000/000010.mp3               [10]   \n",
       "20        training   large  data/fma_large/000/000020.mp3  [17, 10, 76, 103]   \n",
       "\n",
       "         genre_top  \n",
       "track_id            \n",
       "2          Hip-Hop  \n",
       "3          Hip-Hop  \n",
       "5          Hip-Hop  \n",
       "10             Pop  \n",
       "20             NaN  "
      ]
     },
     "execution_count": 7,
     "metadata": {},
     "output_type": "execute_result"
    }
   ],
   "source": [
    "fma_multi.head()"
   ]
  },
  {
   "cell_type": "code",
   "execution_count": 8,
   "metadata": {},
   "outputs": [],
   "source": [
    "#use the 8000 track balanced subset for baseline modeling\n",
    "subset = fma_multi.index[fma_multi['subset'] == 'small']"
   ]
  },
  {
   "cell_type": "code",
   "execution_count": 9,
   "metadata": {},
   "outputs": [],
   "source": [
    "fma_small = fma_multi.loc[subset]"
   ]
  },
  {
   "cell_type": "code",
   "execution_count": 10,
   "metadata": {},
   "outputs": [],
   "source": [
    "fma_small['filepath'] = fma_small['filepath'].str.replace('large','small')"
   ]
  },
  {
   "cell_type": "code",
   "execution_count": 11,
   "metadata": {},
   "outputs": [
    {
     "data": {
      "text/html": [
       "<div>\n",
       "<style scoped>\n",
       "    .dataframe tbody tr th:only-of-type {\n",
       "        vertical-align: middle;\n",
       "    }\n",
       "\n",
       "    .dataframe tbody tr th {\n",
       "        vertical-align: top;\n",
       "    }\n",
       "\n",
       "    .dataframe thead th {\n",
       "        text-align: right;\n",
       "    }\n",
       "</style>\n",
       "<table border=\"1\" class=\"dataframe\">\n",
       "  <thead>\n",
       "    <tr style=\"text-align: right;\">\n",
       "      <th></th>\n",
       "      <th>split</th>\n",
       "      <th>subset</th>\n",
       "      <th>filepath</th>\n",
       "      <th>genres_all</th>\n",
       "      <th>genre_top</th>\n",
       "    </tr>\n",
       "    <tr>\n",
       "      <th>track_id</th>\n",
       "      <th></th>\n",
       "      <th></th>\n",
       "      <th></th>\n",
       "      <th></th>\n",
       "      <th></th>\n",
       "    </tr>\n",
       "  </thead>\n",
       "  <tbody>\n",
       "    <tr>\n",
       "      <th>2</th>\n",
       "      <td>training</td>\n",
       "      <td>small</td>\n",
       "      <td>data/fma_small/000/000002.mp3</td>\n",
       "      <td>[21]</td>\n",
       "      <td>Hip-Hop</td>\n",
       "    </tr>\n",
       "    <tr>\n",
       "      <th>5</th>\n",
       "      <td>training</td>\n",
       "      <td>small</td>\n",
       "      <td>data/fma_small/000/000005.mp3</td>\n",
       "      <td>[21]</td>\n",
       "      <td>Hip-Hop</td>\n",
       "    </tr>\n",
       "    <tr>\n",
       "      <th>10</th>\n",
       "      <td>training</td>\n",
       "      <td>small</td>\n",
       "      <td>data/fma_small/000/000010.mp3</td>\n",
       "      <td>[10]</td>\n",
       "      <td>Pop</td>\n",
       "    </tr>\n",
       "    <tr>\n",
       "      <th>140</th>\n",
       "      <td>training</td>\n",
       "      <td>small</td>\n",
       "      <td>data/fma_small/000/000140.mp3</td>\n",
       "      <td>[17]</td>\n",
       "      <td>Folk</td>\n",
       "    </tr>\n",
       "    <tr>\n",
       "      <th>141</th>\n",
       "      <td>training</td>\n",
       "      <td>small</td>\n",
       "      <td>data/fma_small/000/000141.mp3</td>\n",
       "      <td>[17]</td>\n",
       "      <td>Folk</td>\n",
       "    </tr>\n",
       "    <tr>\n",
       "      <th>...</th>\n",
       "      <td>...</td>\n",
       "      <td>...</td>\n",
       "      <td>...</td>\n",
       "      <td>...</td>\n",
       "      <td>...</td>\n",
       "    </tr>\n",
       "    <tr>\n",
       "      <th>154308</th>\n",
       "      <td>test</td>\n",
       "      <td>small</td>\n",
       "      <td>data/fma_small/154/154308.mp3</td>\n",
       "      <td>[811, 539, 21]</td>\n",
       "      <td>Hip-Hop</td>\n",
       "    </tr>\n",
       "    <tr>\n",
       "      <th>154309</th>\n",
       "      <td>test</td>\n",
       "      <td>small</td>\n",
       "      <td>data/fma_small/154/154309.mp3</td>\n",
       "      <td>[811, 539, 21]</td>\n",
       "      <td>Hip-Hop</td>\n",
       "    </tr>\n",
       "    <tr>\n",
       "      <th>154413</th>\n",
       "      <td>training</td>\n",
       "      <td>small</td>\n",
       "      <td>data/fma_small/154/154413.mp3</td>\n",
       "      <td>[10, 76]</td>\n",
       "      <td>Pop</td>\n",
       "    </tr>\n",
       "    <tr>\n",
       "      <th>154414</th>\n",
       "      <td>training</td>\n",
       "      <td>small</td>\n",
       "      <td>data/fma_small/154/154414.mp3</td>\n",
       "      <td>[10, 76]</td>\n",
       "      <td>Pop</td>\n",
       "    </tr>\n",
       "    <tr>\n",
       "      <th>155066</th>\n",
       "      <td>training</td>\n",
       "      <td>small</td>\n",
       "      <td>data/fma_small/155/155066.mp3</td>\n",
       "      <td>[811, 21]</td>\n",
       "      <td>Hip-Hop</td>\n",
       "    </tr>\n",
       "  </tbody>\n",
       "</table>\n",
       "<p>7997 rows × 5 columns</p>\n",
       "</div>"
      ],
      "text/plain": [
       "             split subset                       filepath      genres_all  \\\n",
       "track_id                                                                   \n",
       "2         training  small  data/fma_small/000/000002.mp3            [21]   \n",
       "5         training  small  data/fma_small/000/000005.mp3            [21]   \n",
       "10        training  small  data/fma_small/000/000010.mp3            [10]   \n",
       "140       training  small  data/fma_small/000/000140.mp3            [17]   \n",
       "141       training  small  data/fma_small/000/000141.mp3            [17]   \n",
       "...            ...    ...                            ...             ...   \n",
       "154308        test  small  data/fma_small/154/154308.mp3  [811, 539, 21]   \n",
       "154309        test  small  data/fma_small/154/154309.mp3  [811, 539, 21]   \n",
       "154413    training  small  data/fma_small/154/154413.mp3        [10, 76]   \n",
       "154414    training  small  data/fma_small/154/154414.mp3        [10, 76]   \n",
       "155066    training  small  data/fma_small/155/155066.mp3       [811, 21]   \n",
       "\n",
       "         genre_top  \n",
       "track_id            \n",
       "2          Hip-Hop  \n",
       "5          Hip-Hop  \n",
       "10             Pop  \n",
       "140           Folk  \n",
       "141           Folk  \n",
       "...            ...  \n",
       "154308     Hip-Hop  \n",
       "154309     Hip-Hop  \n",
       "154413         Pop  \n",
       "154414         Pop  \n",
       "155066     Hip-Hop  \n",
       "\n",
       "[7997 rows x 5 columns]"
      ]
     },
     "execution_count": 11,
     "metadata": {},
     "output_type": "execute_result"
    }
   ],
   "source": [
    "fma_small"
   ]
  },
  {
   "cell_type": "code",
   "execution_count": 12,
   "metadata": {},
   "outputs": [],
   "source": [
    "drop3=pickle.load(open(\"saved/drop3.p\",\"rb\"))"
   ]
  },
  {
   "cell_type": "code",
   "execution_count": 13,
   "metadata": {},
   "outputs": [],
   "source": [
    "fma_small.drop(drop3, inplace=True)"
   ]
  },
  {
   "cell_type": "code",
   "execution_count": 14,
   "metadata": {},
   "outputs": [],
   "source": [
    "#use the built in train/test/validation split in case we want to compare to other models over this dataset\n",
    "train = fma_small.index[fma_small['split'] == 'training']\n",
    "val = fma_small.index[fma_small['split'] == 'validation']\n",
    "test = fma_small.index[fma_small['split'] == 'test']"
   ]
  },
  {
   "cell_type": "code",
   "execution_count": 15,
   "metadata": {
    "scrolled": true
   },
   "outputs": [
    {
     "name": "stdout",
     "output_type": "stream",
     "text": [
      "training set size:  6310\n",
      "validation set size:  793\n",
      "test set size:  794\n"
     ]
    }
   ],
   "source": [
    "print('training set size: ', len(train))\n",
    "print('validation set size: ', len(val))\n",
    "print('test set size: ', len(test))"
   ]
  },
  {
   "cell_type": "code",
   "execution_count": 16,
   "metadata": {},
   "outputs": [],
   "source": [
    "#single label\n",
    "enc = LabelEncoder()\n",
    "mlb = MultiLabelBinarizer()\n",
    "\n",
    "X_train = fma_small['filepath'].loc[train]\n",
    "X_val = fma_small['filepath'].loc[val]\n",
    "X_test = fma_small['filepath'].loc[test]\n",
    "y_train = enc.fit_transform(fma_small['genre_top'].loc[train])\n",
    "y_val = enc.transform(fma_small['genre_top'].loc[val])\n",
    "y_test = enc.transform(fma_small['genre_top'].loc[test])"
   ]
  },
  {
   "cell_type": "code",
   "execution_count": null,
   "metadata": {},
   "outputs": [],
   "source": [
    "#multi label\n",
    "#enc = LabelEncoder()\n",
    "enc = MultiLabelBinarizer()\n",
    "\n",
    "X_train = fma_small['filepath'].loc[train]\n",
    "X_val = fma_small['filepath'].loc[val]\n",
    "X_test = fma_small['filepath'].loc[test]\n",
    "y_train = enc.fit_transform(fma_small['genres_all'].loc[train])\n",
    "y_val = enc.transform(fma_small['genres_all'].loc[val])\n",
    "y_test = enc.transform(fma_small['genres_all'].loc[test])"
   ]
  },
  {
   "cell_type": "markdown",
   "metadata": {},
   "source": [
    "For the MFCC parser, we need to choose what frequency spectrum is important to us. We know a few things:\n",
    "* Humans can only hear below 20kHz or less. With a cutoff of 3kHz, the sound will be less pleasing but we won't loose any information we need.\n",
    "* The lower range of human hearing is between 20Hz and 40Hz. But mp3 files almost always cut off higher than 40Hz. The lowest open string on a bass is 41Hz so using 40 as a cutoff will not drop any musical information.\n",
    "* The fundamentals of all the notes played in most music is between 50Hz and 1000Hz (e.g. an operatic soprano's high C is 1046Hz).  \n",
    "  \n",
    "Given these points, we will do the following:\n",
    "* Take a mel spectrogram of 73 mels between 41Hz and 2624Hz. These should then represent every note in that 6 octave range.\n",
    "* Transform it to a db (log 10) scale.\n",
    "* Take the MFCCs from \n",
    "Also, fidelity is not very important in this case, we are not audiophiles listening, a grosser sampling rate than would be pleasant will carry more than enough information for classification, so we will downsample from 44100 samples/second to 16000 in order to save space."
   ]
  },
  {
   "cell_type": "code",
   "execution_count": 17,
   "metadata": {},
   "outputs": [],
   "source": [
    "@tf.function\n",
    "def parse_audio_mfcc(filename, label):\n",
    "    \"\"\"returns audio trimmed to [START:END] sample indexes and scaled to -1 to 1\n",
    "    \"\"\"    \n",
    "    audio = tfio.audio.AudioIOTensor(filename, dtype=tf.float32)\n",
    "   \n",
    "    audio = audio[START:END] #crop to uniform size\n",
    "    audio = tf.math.reduce_mean(audio, axis=1) #stereo to mono\n",
    "\n",
    "    spectrogram = tfio.experimental.audio.spectrogram(audio, nfft=512, window=512, stride=256)\n",
    "    mel_spectrogram = tfio.experimental.audio.melscale(spectrogram, rate=44100, mels=108, fmin=40, fmax=8000)\n",
    "    dbscale_mel_spectrogram = tfio.experimental.audio.dbscale(mel_spectrogram, top_db=80)\n",
    "    mfcc = tf.signal.mfccs_from_log_mel_spectrograms(dbscale_mel_spectrogram)[1:,12:51]\n",
    "    mfcc = tf.squeeze(mfcc)\n",
    "    return mfcc, label"
   ]
  },
  {
   "cell_type": "code",
   "execution_count": 22,
   "metadata": {},
   "outputs": [],
   "source": [
    "@tf.function\n",
    "def parse_audio_spec(filename, label):\n",
    "    \"\"\"returns audio trimmed to [START:END] sample indexes and scaled to -1 to 1\n",
    "    \"\"\"    \n",
    "    audio = tfio.audio.AudioIOTensor(filename, dtype=tf.float32)\n",
    "   \n",
    "    audio = audio[START:END] #crop to uniform size\n",
    "    audio = tf.math.reduce_mean(audio, axis=1) #stereo to mono\n",
    "\n",
    "    spectrogram = tfio.experimental.audio.spectrogram(audio, nfft=256, window=512, stride=256)[1:,:]\n",
    "    spectrogram = tf.squeeze(spectrogram)\n",
    "    return spectrogram, label"
   ]
  },
  {
   "cell_type": "code",
   "execution_count": 19,
   "metadata": {},
   "outputs": [],
   "source": [
    "def parse_audio(filename,  label):\n",
    "    \"\"\"returns audio trimmed to [START:END] sample indexes and scaled to -1 to 1\n",
    "    \"\"\"    \n",
    "    audio = tfio.audio.AudioIOTensor(filename, dtype=tf.float32)   \n",
    "      \n",
    "    audio = audio[START:END] #crop to uniform size\n",
    "    \n",
    "    #resample to reduse data size, we don't need 44.1kHz fidelity, 16k will be plenty\n",
    "    audio = tfio.audio.resample(audio, 44100, SR)\n",
    "    return audio, label"
   ]
  },
  {
   "cell_type": "code",
   "execution_count": 20,
   "metadata": {},
   "outputs": [
    {
     "data": {
      "text/plain": [
       "TensorShape([861, 39])"
      ]
     },
     "execution_count": 20,
     "metadata": {},
     "output_type": "execute_result"
    }
   ],
   "source": [
    "t_mfcc,l = parse_audio_mfcc('data/fma_small/154/154413.mp3',1)\n",
    "t_mfcc.shape"
   ]
  },
  {
   "cell_type": "code",
   "execution_count": 23,
   "metadata": {},
   "outputs": [
    {
     "data": {
      "text/plain": [
       "TensorShape([861, 129])"
      ]
     },
     "execution_count": 23,
     "metadata": {},
     "output_type": "execute_result"
    }
   ],
   "source": [
    "t_spec,l = parse_audio_spec('data/fma_small/154/154413.mp3',1)\n",
    "t_spec.shape"
   ]
  },
  {
   "cell_type": "code",
   "execution_count": 25,
   "metadata": {},
   "outputs": [],
   "source": [
    "train_ds=tf.data.Dataset.from_tensor_slices((X_train,y_train))\n",
    "val_ds=tf.data.Dataset.from_tensor_slices((X_val,y_val))\n",
    "test_ds=tf.data.Dataset.from_tensor_slices((X_test,y_test))"
   ]
  },
  {
   "cell_type": "code",
   "execution_count": 26,
   "metadata": {},
   "outputs": [],
   "source": [
    "#data pipeline\n",
    "def get_data(dataset):\n",
    "    dataset = dataset.shuffle(buffer_size=len(train), seed=42)\n",
    "    dataset = dataset.map(parse_audio_mfcc, num_parallel_calls=AUTOTUNE)\n",
    "    dataset = dataset.batch(BATCH_SIZE)\n",
    "    dataset = dataset.prefetch(buffer_size=AUTOTUNE)\n",
    "    return dataset"
   ]
  },
  {
   "cell_type": "code",
   "execution_count": 27,
   "metadata": {},
   "outputs": [],
   "source": [
    "#data pipeline\n",
    "def get_data_mfcc(dataset):\n",
    "    dataset = dataset.shuffle(buffer_size=len(train), seed=42)\n",
    "    dataset = dataset.map(parse_audio_mfcc, num_parallel_calls=AUTOTUNE)\n",
    "    dataset = dataset.batch(BATCH_SIZE)\n",
    "    dataset = dataset.prefetch(buffer_size=AUTOTUNE)\n",
    "    return dataset"
   ]
  },
  {
   "cell_type": "code",
   "execution_count": 28,
   "metadata": {},
   "outputs": [],
   "source": [
    "#data pipeline\n",
    "def get_data_spec(dataset):\n",
    "    dataset = dataset.shuffle(buffer_size=len(train), seed=42)\n",
    "    dataset = dataset.map(parse_audio_spec, num_parallel_calls=AUTOTUNE)\n",
    "    dataset = dataset.batch(BATCH_SIZE)\n",
    "    dataset = dataset.prefetch(buffer_size=AUTOTUNE)\n",
    "    return dataset"
   ]
  },
  {
   "cell_type": "code",
   "execution_count": 23,
   "metadata": {},
   "outputs": [],
   "source": [
    "#mfcc\n",
    "train_ds = get_data_mfcc(train_ds)\n",
    "val_ds = get_data_mfcc(val_ds)\n",
    "test_ds = get_data_mfcc(test_ds)\n",
    "INP_SHAPE = t_mfcc.shape"
   ]
  },
  {
   "cell_type": "code",
   "execution_count": 24,
   "metadata": {},
   "outputs": [
    {
     "name": "stdout",
     "output_type": "stream",
     "text": [
      "Model: \"sequential\"\n",
      "_________________________________________________________________\n",
      "Layer (type)                 Output Shape              Param #   \n",
      "=================================================================\n",
      "reshape (Reshape)            (None, 862, 43, 3)        0         \n",
      "_________________________________________________________________\n",
      "batch_normalization (BatchNo (None, 862, 43, 3)        12        \n",
      "_________________________________________________________________\n",
      "conv2d (Conv2D)              (None, 860, 41, 64)       1792      \n",
      "_________________________________________________________________\n",
      "max_pooling2d (MaxPooling2D) (None, 430, 20, 64)       0         \n",
      "_________________________________________________________________\n",
      "conv2d_1 (Conv2D)            (None, 428, 18, 128)      73856     \n",
      "_________________________________________________________________\n",
      "max_pooling2d_1 (MaxPooling2 (None, 213, 8, 128)       0         \n",
      "_________________________________________________________________\n",
      "conv2d_2 (Conv2D)            (None, 211, 6, 128)       147584    \n",
      "_________________________________________________________________\n",
      "max_pooling2d_2 (MaxPooling2 (None, 105, 3, 128)       0         \n",
      "_________________________________________________________________\n",
      "conv2d_3 (Conv2D)            (None, 104, 2, 128)       65664     \n",
      "_________________________________________________________________\n",
      "max_pooling2d_3 (MaxPooling2 (None, 52, 1, 128)        0         \n",
      "_________________________________________________________________\n",
      "flatten (Flatten)            (None, 6656)              0         \n",
      "_________________________________________________________________\n",
      "dense (Dense)                (None, 32)                213024    \n",
      "_________________________________________________________________\n",
      "dense_1 (Dense)              (None, 8)                 264       \n",
      "=================================================================\n",
      "Total params: 502,196\n",
      "Trainable params: 502,190\n",
      "Non-trainable params: 6\n",
      "_________________________________________________________________\n"
     ]
    }
   ],
   "source": [
    "#Classify on MFCC\n",
    "#basic CNN architecture from TF documentation\n",
    "\n",
    "keras.backend.clear_session()\n",
    "model = models.Sequential()\n",
    "#model.add(tf.keras.layers.experimental.preprocessing.Normalization(\n",
    "  #  axis=-1, dtype=None, input_shape=INP_SHAPE))\n",
    "\n",
    "model.add(layers.Reshape((123,21,13), input_shape=INP_SHAPE))\n",
    "\n",
    "model.add(layers.BatchNormalization(axis=-1))\n",
    "\n",
    "model.add(layers.Conv2D(64, 3, activation='relu'))\n",
    "model.add(layers.MaxPooling2D(2,2))\n",
    "model.add(layers.Conv2D(128, 3, activation='relu'))\n",
    "model.add(layers.MaxPooling2D(4,2))\n",
    "model.add(layers.Conv2D(128, 3, activation='relu'))\n",
    "model.add(layers.MaxPooling2D(2,2))\n",
    "model.add(layers.Conv2D(128, 2, activation='relu'))\n",
    "model.add(layers.MaxPooling2D(2,2))\n",
    "model.add(layers.Flatten())\n",
    "#model.add(layers.Reshape(0,))\n",
    "\n",
    "model.add(layers.Dense(32, activation='relu'))\n",
    "#model.add(tf.keras.backend.squeeze())\n",
    "model.add(layers.Dense(8, activation='softmax'))\n",
    "\n",
    "loss=tf.keras.losses.SparseCategoricalCrossentropy()\n",
    "optimizer = keras.optimizers.SGD(learning_rate=0.05,momentum=0.01, nesterov=True)\n",
    "model.compile(optimizer=optimizer,\n",
    "              loss=loss,\n",
    "              metrics=['accuracy'])\n",
    "model.summary()"
   ]
  },
  {
   "cell_type": "code",
   "execution_count": 25,
   "metadata": {
    "scrolled": true
   },
   "outputs": [
    {
     "name": "stdout",
     "output_type": "stream",
     "text": [
      "Epoch 1/40\n",
      "395/395 [==============================] - 48s 122ms/step - loss: 2.0578 - accuracy: 0.1681 - val_loss: 2.0455 - val_accuracy: 0.1740\n",
      "Epoch 2/40\n",
      "395/395 [==============================] - 49s 124ms/step - loss: 2.0342 - accuracy: 0.1990 - val_loss: 2.0299 - val_accuracy: 0.2005\n",
      "Epoch 3/40\n",
      "395/395 [==============================] - 49s 125ms/step - loss: 2.0264 - accuracy: 0.1990 - val_loss: 2.0141 - val_accuracy: 0.2219\n",
      "Epoch 4/40\n",
      "395/395 [==============================] - 53s 134ms/step - loss: 2.0154 - accuracy: 0.2182 - val_loss: 2.1198 - val_accuracy: 0.1816\n",
      "Epoch 5/40\n",
      "395/395 [==============================] - 49s 124ms/step - loss: 2.0022 - accuracy: 0.2252 - val_loss: 2.0036 - val_accuracy: 0.2257\n",
      "Epoch 6/40\n",
      "395/395 [==============================] - 47s 120ms/step - loss: 1.9946 - accuracy: 0.2266 - val_loss: 2.0178 - val_accuracy: 0.2169\n",
      "Epoch 7/40\n",
      "395/395 [==============================] - 47s 120ms/step - loss: 1.9893 - accuracy: 0.2317 - val_loss: 2.0205 - val_accuracy: 0.2055\n",
      "Epoch 8/40\n",
      "395/395 [==============================] - 48s 120ms/step - loss: 1.9926 - accuracy: 0.2434 - val_loss: 2.0327 - val_accuracy: 0.2119\n",
      "Epoch 9/40\n",
      "395/395 [==============================] - 49s 123ms/step - loss: 1.9824 - accuracy: 0.2447 - val_loss: 2.0237 - val_accuracy: 0.2144\n",
      "Epoch 10/40\n",
      "395/395 [==============================] - 52s 132ms/step - loss: 1.9719 - accuracy: 0.2534 - val_loss: 2.2058 - val_accuracy: 0.1740\n",
      "Epoch 11/40\n",
      "395/395 [==============================] - 55s 139ms/step - loss: 1.9726 - accuracy: 0.2585 - val_loss: 1.9908 - val_accuracy: 0.2409\n",
      "Epoch 12/40\n",
      "395/395 [==============================] - 50s 128ms/step - loss: 1.9783 - accuracy: 0.2553 - val_loss: 1.9515 - val_accuracy: 0.2484\n",
      "Epoch 13/40\n",
      "395/395 [==============================] - 53s 134ms/step - loss: 1.9641 - accuracy: 0.2572 - val_loss: 1.9970 - val_accuracy: 0.2446\n",
      "Epoch 14/40\n",
      "395/395 [==============================] - 54s 136ms/step - loss: 1.9549 - accuracy: 0.2724 - val_loss: 2.0098 - val_accuracy: 0.2232\n",
      "Epoch 15/40\n",
      "395/395 [==============================] - 51s 130ms/step - loss: 1.9484 - accuracy: 0.2772 - val_loss: 2.0221 - val_accuracy: 0.2219\n",
      "Epoch 16/40\n",
      "395/395 [==============================] - 52s 131ms/step - loss: 1.9589 - accuracy: 0.2784 - val_loss: 2.0270 - val_accuracy: 0.2547\n",
      "Epoch 17/40\n",
      "395/395 [==============================] - 53s 135ms/step - loss: 1.9422 - accuracy: 0.2832 - val_loss: 2.0491 - val_accuracy: 0.2093\n",
      "Epoch 18/40\n",
      "395/395 [==============================] - 50s 126ms/step - loss: 1.9316 - accuracy: 0.2924 - val_loss: 2.0023 - val_accuracy: 0.2547\n",
      "Epoch 19/40\n",
      "395/395 [==============================] - 50s 126ms/step - loss: 1.9439 - accuracy: 0.2880 - val_loss: 1.9869 - val_accuracy: 0.2522\n",
      "Epoch 20/40\n",
      "395/395 [==============================] - 48s 122ms/step - loss: 1.9223 - accuracy: 0.3086 - val_loss: 2.0568 - val_accuracy: 0.2169\n",
      "Epoch 21/40\n",
      "395/395 [==============================] - 48s 121ms/step - loss: 1.9049 - accuracy: 0.3163 - val_loss: 2.0362 - val_accuracy: 0.2245\n",
      "Epoch 22/40\n",
      "395/395 [==============================] - 47s 120ms/step - loss: 1.9056 - accuracy: 0.3182 - val_loss: 2.0343 - val_accuracy: 0.2333\n",
      "Epoch 23/40\n",
      "395/395 [==============================] - 48s 122ms/step - loss: 1.9112 - accuracy: 0.3103 - val_loss: 2.0183 - val_accuracy: 0.2346\n",
      "Epoch 24/40\n",
      "395/395 [==============================] - 50s 126ms/step - loss: 1.9004 - accuracy: 0.3233 - val_loss: 2.0057 - val_accuracy: 0.2610\n",
      "Epoch 25/40\n",
      "395/395 [==============================] - 47s 120ms/step - loss: 1.8930 - accuracy: 0.3281 - val_loss: 2.0060 - val_accuracy: 0.2333\n",
      "Epoch 26/40\n",
      "395/395 [==============================] - 51s 128ms/step - loss: 1.8818 - accuracy: 0.3396 - val_loss: 2.0362 - val_accuracy: 0.2371\n",
      "Epoch 27/40\n",
      "395/395 [==============================] - 50s 126ms/step - loss: 1.8802 - accuracy: 0.3458 - val_loss: 2.0533 - val_accuracy: 0.2005\n",
      "Epoch 28/40\n",
      "395/395 [==============================] - 48s 121ms/step - loss: 1.8829 - accuracy: 0.3391 - val_loss: 2.0255 - val_accuracy: 0.2346\n",
      "Epoch 29/40\n",
      "395/395 [==============================] - 48s 123ms/step - loss: 1.8615 - accuracy: 0.3521 - val_loss: 2.0258 - val_accuracy: 0.2320\n",
      "Epoch 30/40\n",
      "395/395 [==============================] - 48s 122ms/step - loss: 1.8619 - accuracy: 0.3485 - val_loss: 2.1755 - val_accuracy: 0.2522\n",
      "Epoch 31/40\n",
      "395/395 [==============================] - 49s 125ms/step - loss: 1.8476 - accuracy: 0.3648 - val_loss: 2.0355 - val_accuracy: 0.2358\n",
      "Epoch 32/40\n",
      "395/395 [==============================] - 48s 121ms/step - loss: 1.8410 - accuracy: 0.3693 - val_loss: 2.0375 - val_accuracy: 0.2371\n",
      "Epoch 33/40\n",
      "395/395 [==============================] - 48s 121ms/step - loss: 1.8317 - accuracy: 0.3786 - val_loss: 2.0376 - val_accuracy: 0.2182\n",
      "Epoch 34/40\n",
      "395/395 [==============================] - 48s 122ms/step - loss: 1.8508 - accuracy: 0.3726 - val_loss: 2.0978 - val_accuracy: 0.2156\n",
      "Epoch 35/40\n",
      "395/395 [==============================] - 50s 127ms/step - loss: 1.8345 - accuracy: 0.3818 - val_loss: 2.0569 - val_accuracy: 0.2409\n",
      "Epoch 36/40\n",
      "395/395 [==============================] - 48s 121ms/step - loss: 1.8394 - accuracy: 0.3838 - val_loss: 2.0585 - val_accuracy: 0.2371\n",
      "Epoch 37/40\n",
      "395/395 [==============================] - 49s 124ms/step - loss: 1.8090 - accuracy: 0.3957 - val_loss: 2.0635 - val_accuracy: 0.2409\n",
      "Epoch 38/40\n",
      "395/395 [==============================] - 49s 123ms/step - loss: 1.8215 - accuracy: 0.3952 - val_loss: 2.0579 - val_accuracy: 0.2257\n",
      "Epoch 39/40\n",
      "395/395 [==============================] - 50s 127ms/step - loss: 1.8029 - accuracy: 0.3998 - val_loss: 2.0368 - val_accuracy: 0.2396\n",
      "Epoch 40/40\n",
      "395/395 [==============================] - 50s 125ms/step - loss: 1.7999 - accuracy: 0.4119 - val_loss: 2.0398 - val_accuracy: 0.2270\n"
     ]
    }
   ],
   "source": [
    "with tf.device('/GPU:0'):\n",
    "    history = model.fit(train_ds, \n",
    "                        epochs=40,                    \n",
    "                        validation_data=val_ds)"
   ]
  },
  {
   "cell_type": "code",
   "execution_count": 26,
   "metadata": {},
   "outputs": [
    {
     "data": {
      "image/png": "[encoded data removed]",
      "text/plain": [
       "<Figure size 1008x432 with 2 Axes>"
      ]
     },
     "metadata": {
      "needs_background": "light"
     },
     "output_type": "display_data"
    }
   ],
   "source": [
    "plt.figure(figsize=(14,6))\n",
    "\n",
    "plt.subplot(1,2,1)\n",
    "plt.plot(history.history['accuracy'], label='training set')\n",
    "plt.plot(history.history['val_accuracy'], label='validation set')\n",
    "#plt.plot(history.history['val_accuracy'], label='validation')\n",
    "plt.title('Accuracy')\n",
    "plt.xlabel('Epochs')\n",
    "plt.ylabel('Accuracy')\n",
    "plt.legend()\n",
    "\n",
    "plt.subplot(1,2,2)\n",
    "plt.plot(history.history['loss'], label='training set')\n",
    "plt.plot(history.history['val_loss'], label='validation set')\n",
    "plt.title('Loss')\n",
    "plt.xlabel('Epochs')\n",
    "plt.ylabel('Loss')\n",
    "plt.legend()\n",
    "\n",
    "plt.tight_layout()\n",
    "plt.show()"
   ]
  },
  {
   "cell_type": "code",
   "execution_count": 27,
   "metadata": {},
   "outputs": [
    {
     "name": "stdout",
     "output_type": "stream",
     "text": [
      "50/50 [==============================] - 5s 105ms/step - loss: 2.0445 - accuracy: 0.2469\n"
     ]
    }
   ],
   "source": [
    "results = model.evaluate(test_ds, return_dict=True)"
   ]
  },
  {
   "cell_type": "code",
   "execution_count": null,
   "metadata": {},
   "outputs": [],
   "source": [
    "y_pred = np.argmax(model.predict(X_test) > 0.5, axis=1)"
   ]
  },
  {
   "cell_type": "code",
   "execution_count": null,
   "metadata": {},
   "outputs": [
    {
     "name": "stdout",
     "output_type": "stream",
     "text": [
      "WARNING:tensorflow:Model was constructed with shape (None, 862, 129) for input Tensor(\"reshape_input:0\", shape=(None, 862, 129), dtype=float32), but it was called on an input with incompatible shape (None, 1).\n"
     ]
    }
   ],
   "source": [
    "print('Classification Report (test set)')\n",
    "print(classification_report(y_test,y_pred))"
   ]
  },
  {
   "cell_type": "code",
   "execution_count": null,
   "metadata": {},
   "outputs": [],
   "source": []
  },
  {
   "cell_type": "code",
   "execution_count": null,
   "metadata": {},
   "outputs": [],
   "source": []
  },
  {
   "cell_type": "code",
   "execution_count": null,
   "metadata": {},
   "outputs": [],
   "source": []
  },
  {
   "cell_type": "code",
   "execution_count": 29,
   "metadata": {},
   "outputs": [],
   "source": [
    "#spec\n",
    "train_ds = get_data_spec(train_ds)\n",
    "val_ds = get_data_spec(val_ds)\n",
    "test_ds = get_data_spec(test_ds)\n",
    "INP_SHAPE = t_spec.shape"
   ]
  },
  {
   "cell_type": "code",
   "execution_count": 30,
   "metadata": {},
   "outputs": [
    {
     "name": "stdout",
     "output_type": "stream",
     "text": [
      "Model: \"sequential\"\n",
      "_________________________________________________________________\n",
      "Layer (type)                 Output Shape              Param #   \n",
      "=================================================================\n",
      "reshape (Reshape)            (None, 861, 43, 3)        0         \n",
      "_________________________________________________________________\n",
      "batch_normalization (BatchNo (None, 861, 43, 3)        12        \n",
      "_________________________________________________________________\n",
      "conv2d (Conv2D)              (None, 859, 41, 64)       1792      \n",
      "_________________________________________________________________\n",
      "max_pooling2d (MaxPooling2D) (None, 429, 20, 64)       0         \n",
      "_________________________________________________________________\n",
      "conv2d_1 (Conv2D)            (None, 427, 18, 128)      73856     \n",
      "_________________________________________________________________\n",
      "max_pooling2d_1 (MaxPooling2 (None, 212, 8, 128)       0         \n",
      "_________________________________________________________________\n",
      "conv2d_2 (Conv2D)            (None, 210, 6, 128)       147584    \n",
      "_________________________________________________________________\n",
      "max_pooling2d_2 (MaxPooling2 (None, 105, 3, 128)       0         \n",
      "_________________________________________________________________\n",
      "conv2d_3 (Conv2D)            (None, 104, 2, 128)       65664     \n",
      "_________________________________________________________________\n",
      "max_pooling2d_3 (MaxPooling2 (None, 52, 1, 128)        0         \n",
      "_________________________________________________________________\n",
      "flatten (Flatten)            (None, 6656)              0         \n",
      "_________________________________________________________________\n",
      "dense (Dense)                (None, 32)                213024    \n",
      "_________________________________________________________________\n",
      "dense_1 (Dense)              (None, 8)                 264       \n",
      "=================================================================\n",
      "Total params: 502,196\n",
      "Trainable params: 502,190\n",
      "Non-trainable params: 6\n",
      "_________________________________________________________________\n"
     ]
    }
   ],
   "source": [
    "#Classify on spectrogram\n",
    "#basic CNN architecture from TF documentation\n",
    "\n",
    "keras.backend.clear_session()\n",
    "model = models.Sequential()\n",
    "#model.add(tf.keras.layers.experimental.preprocessing.Normalization(\n",
    "  #  axis=-1, dtype=None, input_shape=INP_SHAPE))\n",
    "\n",
    "\n",
    "model.add(layers.Reshape((861,43,3), input_shape=INP_SHAPE)) #spec shape\n",
    "model.add(layers.BatchNormalization(axis=-1))\n",
    "\n",
    "model.add(layers.Conv2D(64, 3, activation='relu'))\n",
    "model.add(layers.MaxPooling2D(2,2))\n",
    "model.add(layers.Conv2D(128, 3, activation='relu'))\n",
    "model.add(layers.MaxPooling2D(4,2))\n",
    "model.add(layers.Conv2D(128, 3, activation='relu'))\n",
    "model.add(layers.MaxPooling2D(2,2))\n",
    "model.add(layers.Conv2D(128, 2, activation='relu'))\n",
    "model.add(layers.MaxPooling2D(2,2))\n",
    "model.add(layers.Flatten())\n",
    "#model.add(layers.Reshape(0,))\n",
    "\n",
    "model.add(layers.Dense(32, activation='relu'))\n",
    "#model.add(tf.keras.backend.squeeze())\n",
    "model.add(layers.Dense(8, activation='softmax'))\n",
    "\n",
    "loss=tf.keras.losses.SparseCategoricalCrossentropy()\n",
    "optimizer = keras.optimizers.SGD(learning_rate=0.05,momentum=0.01, nesterov=True)\n",
    "model.compile(optimizer=optimizer,\n",
    "              loss=loss,\n",
    "              metrics=['accuracy'])\n",
    "model.summary()"
   ]
  },
  {
   "cell_type": "code",
   "execution_count": 31,
   "metadata": {
    "scrolled": false
   },
   "outputs": [
    {
     "name": "stdout",
     "output_type": "stream",
     "text": [
      "Epoch 1/20\n",
      "395/395 [==============================] - 48s 122ms/step - loss: 2.0711 - accuracy: 0.1433 - val_loss: 2.0587 - val_accuracy: 0.1362\n",
      "Epoch 2/20\n",
      "395/395 [==============================] - 48s 122ms/step - loss: 2.0368 - accuracy: 0.1808 - val_loss: 2.0122 - val_accuracy: 0.2333\n",
      "Epoch 3/20\n",
      "395/395 [==============================] - 46s 116ms/step - loss: 2.0231 - accuracy: 0.2079 - val_loss: 2.0166 - val_accuracy: 0.1917\n",
      "Epoch 4/20\n",
      "395/395 [==============================] - 47s 119ms/step - loss: 2.0160 - accuracy: 0.2160 - val_loss: 2.0682 - val_accuracy: 0.1639\n",
      "Epoch 5/20\n",
      "395/395 [==============================] - 47s 118ms/step - loss: 2.0085 - accuracy: 0.2246 - val_loss: 1.9979 - val_accuracy: 0.2320\n",
      "Epoch 6/20\n",
      "395/395 [==============================] - 47s 120ms/step - loss: 2.0025 - accuracy: 0.2281 - val_loss: 2.0070 - val_accuracy: 0.2232\n",
      "Epoch 7/20\n",
      "395/395 [==============================] - 49s 125ms/step - loss: 2.0029 - accuracy: 0.2307 - val_loss: 1.9961 - val_accuracy: 0.2055\n",
      "Epoch 8/20\n",
      "395/395 [==============================] - 47s 120ms/step - loss: 1.9983 - accuracy: 0.2450 - val_loss: 2.0761 - val_accuracy: 0.1892\n",
      "Epoch 9/20\n",
      "395/395 [==============================] - 47s 119ms/step - loss: 1.9971 - accuracy: 0.2398 - val_loss: 2.0782 - val_accuracy: 0.2295\n",
      "Epoch 10/20\n",
      "395/395 [==============================] - 47s 119ms/step - loss: 1.9884 - accuracy: 0.2480 - val_loss: 2.0088 - val_accuracy: 0.2131\n",
      "Epoch 11/20\n",
      "395/395 [==============================] - 48s 121ms/step - loss: 1.9810 - accuracy: 0.2520 - val_loss: 2.0201 - val_accuracy: 0.2030\n",
      "Epoch 12/20\n",
      "395/395 [==============================] - 48s 121ms/step - loss: 1.9682 - accuracy: 0.2639 - val_loss: 1.9935 - val_accuracy: 0.2270\n",
      "Epoch 13/20\n",
      "395/395 [==============================] - 49s 125ms/step - loss: 1.9717 - accuracy: 0.2537 - val_loss: 1.9969 - val_accuracy: 0.2320\n",
      "Epoch 14/20\n",
      "395/395 [==============================] - 47s 118ms/step - loss: 1.9690 - accuracy: 0.2613 - val_loss: 2.0542 - val_accuracy: 0.1841\n",
      "Epoch 15/20\n",
      "395/395 [==============================] - 47s 118ms/step - loss: 1.9511 - accuracy: 0.2786 - val_loss: 2.1276 - val_accuracy: 0.1929\n",
      "Epoch 16/20\n",
      "395/395 [==============================] - 48s 121ms/step - loss: 1.9456 - accuracy: 0.2819 - val_loss: 2.0470 - val_accuracy: 0.2295\n",
      "Epoch 17/20\n",
      "395/395 [==============================] - 49s 124ms/step - loss: 1.9533 - accuracy: 0.2748 - val_loss: 1.9786 - val_accuracy: 0.2383\n",
      "Epoch 18/20\n",
      "395/395 [==============================] - 49s 124ms/step - loss: 1.9359 - accuracy: 0.2840 - val_loss: 2.0696 - val_accuracy: 0.2270\n",
      "Epoch 19/20\n",
      "395/395 [==============================] - 47s 120ms/step - loss: 1.9435 - accuracy: 0.2843 - val_loss: 1.9809 - val_accuracy: 0.2497\n",
      "Epoch 20/20\n",
      "395/395 [==============================] - 47s 120ms/step - loss: 1.9245 - accuracy: 0.2964 - val_loss: 2.0870 - val_accuracy: 0.2043\n"
     ]
    }
   ],
   "source": [
    "with tf.device('/GPU:0'):\n",
    "    history = model.fit(train_ds, \n",
    "                        epochs=20,                    \n",
    "                        validation_data=val_ds)"
   ]
  },
  {
   "cell_type": "code",
   "execution_count": 34,
   "metadata": {},
   "outputs": [
    {
     "data": {
      "image/png": "[encoded data removed]",
      "text/plain": [
       "<Figure size 1008x432 with 2 Axes>"
      ]
     },
     "metadata": {
      "needs_background": "light"
     },
     "output_type": "display_data"
    }
   ],
   "source": [
    "plt.figure(figsize=(14,6))\n",
    "\n",
    "plt.subplot(1,2,1)\n",
    "plt.plot(history.history['accuracy'], label='training set')\n",
    "plt.plot(history.history['val_accuracy'], label='validation set')\n",
    "#plt.plot(history.history['val_accuracy'], label='validation')\n",
    "plt.title('Accuracy')\n",
    "plt.xlabel('Epochs')\n",
    "plt.ylabel('Accuracy')\n",
    "plt.legend()\n",
    "\n",
    "plt.subplot(1,2,2)\n",
    "plt.plot(history.history['loss'], label='training set')\n",
    "plt.plot(history.history['val_loss'], label='validation set')\n",
    "plt.title('Loss')\n",
    "plt.xlabel('Epochs')\n",
    "plt.ylabel('Loss')\n",
    "plt.legend()\n",
    "\n",
    "plt.tight_layout()\n",
    "plt.show()"
   ]
  },
  {
   "cell_type": "code",
   "execution_count": 35,
   "metadata": {},
   "outputs": [
    {
     "name": "stdout",
     "output_type": "stream",
     "text": [
      "50/50 [==============================] - 4s 90ms/step - loss: 2.1105 - accuracy: 0.2267\n"
     ]
    }
   ],
   "source": [
    "results = model.evaluate(test_ds, return_dict=True)"
   ]
  },
  {
   "cell_type": "code",
   "execution_count": null,
   "metadata": {},
   "outputs": [
    {
     "name": "stdout",
     "output_type": "stream",
     "text": [
      "WARNING:tensorflow:Model was constructed with shape (None, 861, 129) for input Tensor(\"reshape_input:0\", shape=(None, 861, 129), dtype=float32), but it was called on an input with incompatible shape (None, 1).\n"
     ]
    }
   ],
   "source": [
    "y_pred = np.argmax(model.predict(X_test) > 0.5, axis=1)"
   ]
  },
  {
   "cell_type": "code",
   "execution_count": null,
   "metadata": {},
   "outputs": [],
   "source": [
    "y_pred"
   ]
  },
  {
   "cell_type": "code",
   "execution_count": null,
   "metadata": {},
   "outputs": [
    {
     "name": "stdout",
     "output_type": "stream",
     "text": [
      "WARNING:tensorflow:Model was constructed with shape (None, 862, 129) for input Tensor(\"reshape_input:0\", shape=(None, 862, 129), dtype=float32), but it was called on an input with incompatible shape (None, 1).\n"
     ]
    }
   ],
   "source": [
    "print('Classification Report (test set)')\n",
    "print(classification_report(y_test,y_pred))"
   ]
  },
  {
   "cell_type": "code",
   "execution_count": null,
   "metadata": {},
   "outputs": [],
   "source": []
  }
 ],
 "metadata": {
  "kernelspec": {
   "display_name": "Python 3",
   "language": "python",
   "name": "python3"
  },
  "language_info": {
   "codemirror_mode": {
    "name": "ipython",
    "version": 3
   },
   "file_extension": ".py",
   "mimetype": "text/x-python",
   "name": "python",
   "nbconvert_exporter": "python",
   "pygments_lexer": "ipython3",
   "version": "3.7.7"
  }
 },
 "nbformat": 4,
 "nbformat_minor": 4
}
