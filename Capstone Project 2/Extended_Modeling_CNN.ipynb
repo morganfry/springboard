{
 "cells": [
  {
   "cell_type": "code",
   "execution_count": 1,
   "metadata": {},
   "outputs": [],
   "source": [
    "import numpy as np\n",
    "import pandas as pd\n",
    "import matplotlib.pyplot as plt  \n",
    "%matplotlib inline\n",
    "#import librosa\n",
    "#import utils\n",
    "#import ast\n",
    "import pickle\n",
    "#import fma_utils\n",
    "#import kapre\n",
    "#from kapre.time_frequency import Spectrogram, Melspectrogram\n",
    "from sklearn.utils import shuffle\n",
    "from sklearn.preprocessing import MultiLabelBinarizer, LabelEncoder, StandardScaler\n",
    "from sklearn.metrics import classification_report\n",
    "\n",
    "import tensorflow as tf\n",
    "from tensorflow import keras\n",
    "from tensorflow.keras import layers, models\n",
    "import tensorflow_io as tfio\n",
    "\n",
    "\n",
    "#import os\n",
    "#import shutil\n",
    "#from IPython.display import display, Audio\n"
   ]
  },
  {
   "cell_type": "code",
   "execution_count": 2,
   "metadata": {},
   "outputs": [
    {
     "data": {
      "text/plain": [
       "[]"
      ]
     },
     "execution_count": 2,
     "metadata": {},
     "output_type": "execute_result"
    }
   ],
   "source": [
    "tf.config.experimental.list_physical_devices('GPU')"
   ]
  },
  {
   "cell_type": "code",
   "execution_count": 2,
   "metadata": {},
   "outputs": [],
   "source": [
    "gpus = tf.config.experimental.list_physical_devices('GPU')\n",
    "if gpus:\n",
    "    try:\n",
    "        for gpu in gpus:\n",
    "            tf.config.experimental.set_memory_growth(gpu, True)\n",
    "\n",
    "    except RuntimeError as e:\n",
    "        print(e)"
   ]
  },
  {
   "cell_type": "code",
   "execution_count": 3,
   "metadata": {},
   "outputs": [],
   "source": [
    "AUTOTUNE = tf.data.experimental.AUTOTUNE\n",
    "AUDIO_DIR = 'data/fma_small'\n",
    "SR = 16000\n",
    "BATCH_SIZE = 8\n",
    "#INP_SHAPE = (1190700, 2)\n",
    "#INP_SHAPE = (BATCH_SIZE, 160000, 2)\n",
    "#MFCC_SHAPE = (BATCH_SIZE, 160000, 36)\n",
    "START = 441000 \n",
    "END = 882000"
   ]
  },
  {
   "cell_type": "code",
   "execution_count": 4,
   "metadata": {},
   "outputs": [],
   "source": [
    "#load \n",
    "fma_multi = pickle.load(open(\"saved/fma_multi.p\", \"rb\"))"
   ]
  },
  {
   "cell_type": "code",
   "execution_count": 5,
   "metadata": {},
   "outputs": [
    {
     "data": {
      "text/html": [
       "<div>\n",
       "<style scoped>\n",
       "    .dataframe tbody tr th:only-of-type {\n",
       "        vertical-align: middle;\n",
       "    }\n",
       "\n",
       "    .dataframe tbody tr th {\n",
       "        vertical-align: top;\n",
       "    }\n",
       "\n",
       "    .dataframe thead th {\n",
       "        text-align: right;\n",
       "    }\n",
       "</style>\n",
       "<table border=\"1\" class=\"dataframe\">\n",
       "  <thead>\n",
       "    <tr style=\"text-align: right;\">\n",
       "      <th></th>\n",
       "      <th>split</th>\n",
       "      <th>subset</th>\n",
       "      <th>filepath</th>\n",
       "      <th>genres_all</th>\n",
       "      <th>genre_top</th>\n",
       "    </tr>\n",
       "    <tr>\n",
       "      <th>track_id</th>\n",
       "      <th></th>\n",
       "      <th></th>\n",
       "      <th></th>\n",
       "      <th></th>\n",
       "      <th></th>\n",
       "    </tr>\n",
       "  </thead>\n",
       "  <tbody>\n",
       "    <tr>\n",
       "      <th>2</th>\n",
       "      <td>training</td>\n",
       "      <td>small</td>\n",
       "      <td>data/fma_large/000/000002.mp3</td>\n",
       "      <td>[21]</td>\n",
       "      <td>Hip-Hop</td>\n",
       "    </tr>\n",
       "    <tr>\n",
       "      <th>3</th>\n",
       "      <td>training</td>\n",
       "      <td>medium</td>\n",
       "      <td>data/fma_large/000/000003.mp3</td>\n",
       "      <td>[21]</td>\n",
       "      <td>Hip-Hop</td>\n",
       "    </tr>\n",
       "    <tr>\n",
       "      <th>5</th>\n",
       "      <td>training</td>\n",
       "      <td>small</td>\n",
       "      <td>data/fma_large/000/000005.mp3</td>\n",
       "      <td>[21]</td>\n",
       "      <td>Hip-Hop</td>\n",
       "    </tr>\n",
       "    <tr>\n",
       "      <th>10</th>\n",
       "      <td>training</td>\n",
       "      <td>small</td>\n",
       "      <td>data/fma_large/000/000010.mp3</td>\n",
       "      <td>[10]</td>\n",
       "      <td>Pop</td>\n",
       "    </tr>\n",
       "    <tr>\n",
       "      <th>20</th>\n",
       "      <td>training</td>\n",
       "      <td>large</td>\n",
       "      <td>data/fma_large/000/000020.mp3</td>\n",
       "      <td>[17, 10, 76, 103]</td>\n",
       "      <td>NaN</td>\n",
       "    </tr>\n",
       "  </tbody>\n",
       "</table>\n",
       "</div>"
      ],
      "text/plain": [
       "             split  subset                       filepath         genres_all  \\\n",
       "track_id                                                                       \n",
       "2         training   small  data/fma_large/000/000002.mp3               [21]   \n",
       "3         training  medium  data/fma_large/000/000003.mp3               [21]   \n",
       "5         training   small  data/fma_large/000/000005.mp3               [21]   \n",
       "10        training   small  data/fma_large/000/000010.mp3               [10]   \n",
       "20        training   large  data/fma_large/000/000020.mp3  [17, 10, 76, 103]   \n",
       "\n",
       "         genre_top  \n",
       "track_id            \n",
       "2          Hip-Hop  \n",
       "3          Hip-Hop  \n",
       "5          Hip-Hop  \n",
       "10             Pop  \n",
       "20             NaN  "
      ]
     },
     "execution_count": 5,
     "metadata": {},
     "output_type": "execute_result"
    }
   ],
   "source": [
    "fma_multi.head()"
   ]
  },
  {
   "cell_type": "code",
   "execution_count": 6,
   "metadata": {},
   "outputs": [],
   "source": [
    "#use the 8000 track balanced subset for baseline modeling\n",
    "subset = fma_multi.index[fma_multi['subset'] == 'small']"
   ]
  },
  {
   "cell_type": "code",
   "execution_count": 7,
   "metadata": {},
   "outputs": [],
   "source": [
    "fma_small = fma_multi.loc[subset]"
   ]
  },
  {
   "cell_type": "code",
   "execution_count": 8,
   "metadata": {},
   "outputs": [],
   "source": [
    "fma_small['filepath'] = fma_small['filepath'].str.replace('large','small')"
   ]
  },
  {
   "cell_type": "code",
   "execution_count": 9,
   "metadata": {},
   "outputs": [
    {
     "data": {
      "text/html": [
       "<div>\n",
       "<style scoped>\n",
       "    .dataframe tbody tr th:only-of-type {\n",
       "        vertical-align: middle;\n",
       "    }\n",
       "\n",
       "    .dataframe tbody tr th {\n",
       "        vertical-align: top;\n",
       "    }\n",
       "\n",
       "    .dataframe thead th {\n",
       "        text-align: right;\n",
       "    }\n",
       "</style>\n",
       "<table border=\"1\" class=\"dataframe\">\n",
       "  <thead>\n",
       "    <tr style=\"text-align: right;\">\n",
       "      <th></th>\n",
       "      <th>split</th>\n",
       "      <th>subset</th>\n",
       "      <th>filepath</th>\n",
       "      <th>genres_all</th>\n",
       "      <th>genre_top</th>\n",
       "    </tr>\n",
       "    <tr>\n",
       "      <th>track_id</th>\n",
       "      <th></th>\n",
       "      <th></th>\n",
       "      <th></th>\n",
       "      <th></th>\n",
       "      <th></th>\n",
       "    </tr>\n",
       "  </thead>\n",
       "  <tbody>\n",
       "    <tr>\n",
       "      <th>2</th>\n",
       "      <td>training</td>\n",
       "      <td>small</td>\n",
       "      <td>data/fma_small/000/000002.mp3</td>\n",
       "      <td>[21]</td>\n",
       "      <td>Hip-Hop</td>\n",
       "    </tr>\n",
       "    <tr>\n",
       "      <th>5</th>\n",
       "      <td>training</td>\n",
       "      <td>small</td>\n",
       "      <td>data/fma_small/000/000005.mp3</td>\n",
       "      <td>[21]</td>\n",
       "      <td>Hip-Hop</td>\n",
       "    </tr>\n",
       "    <tr>\n",
       "      <th>10</th>\n",
       "      <td>training</td>\n",
       "      <td>small</td>\n",
       "      <td>data/fma_small/000/000010.mp3</td>\n",
       "      <td>[10]</td>\n",
       "      <td>Pop</td>\n",
       "    </tr>\n",
       "    <tr>\n",
       "      <th>140</th>\n",
       "      <td>training</td>\n",
       "      <td>small</td>\n",
       "      <td>data/fma_small/000/000140.mp3</td>\n",
       "      <td>[17]</td>\n",
       "      <td>Folk</td>\n",
       "    </tr>\n",
       "    <tr>\n",
       "      <th>141</th>\n",
       "      <td>training</td>\n",
       "      <td>small</td>\n",
       "      <td>data/fma_small/000/000141.mp3</td>\n",
       "      <td>[17]</td>\n",
       "      <td>Folk</td>\n",
       "    </tr>\n",
       "    <tr>\n",
       "      <th>...</th>\n",
       "      <td>...</td>\n",
       "      <td>...</td>\n",
       "      <td>...</td>\n",
       "      <td>...</td>\n",
       "      <td>...</td>\n",
       "    </tr>\n",
       "    <tr>\n",
       "      <th>154308</th>\n",
       "      <td>test</td>\n",
       "      <td>small</td>\n",
       "      <td>data/fma_small/154/154308.mp3</td>\n",
       "      <td>[811, 539, 21]</td>\n",
       "      <td>Hip-Hop</td>\n",
       "    </tr>\n",
       "    <tr>\n",
       "      <th>154309</th>\n",
       "      <td>test</td>\n",
       "      <td>small</td>\n",
       "      <td>data/fma_small/154/154309.mp3</td>\n",
       "      <td>[811, 539, 21]</td>\n",
       "      <td>Hip-Hop</td>\n",
       "    </tr>\n",
       "    <tr>\n",
       "      <th>154413</th>\n",
       "      <td>training</td>\n",
       "      <td>small</td>\n",
       "      <td>data/fma_small/154/154413.mp3</td>\n",
       "      <td>[10, 76]</td>\n",
       "      <td>Pop</td>\n",
       "    </tr>\n",
       "    <tr>\n",
       "      <th>154414</th>\n",
       "      <td>training</td>\n",
       "      <td>small</td>\n",
       "      <td>data/fma_small/154/154414.mp3</td>\n",
       "      <td>[10, 76]</td>\n",
       "      <td>Pop</td>\n",
       "    </tr>\n",
       "    <tr>\n",
       "      <th>155066</th>\n",
       "      <td>training</td>\n",
       "      <td>small</td>\n",
       "      <td>data/fma_small/155/155066.mp3</td>\n",
       "      <td>[811, 21]</td>\n",
       "      <td>Hip-Hop</td>\n",
       "    </tr>\n",
       "  </tbody>\n",
       "</table>\n",
       "<p>7997 rows × 5 columns</p>\n",
       "</div>"
      ],
      "text/plain": [
       "             split subset                       filepath      genres_all  \\\n",
       "track_id                                                                   \n",
       "2         training  small  data/fma_small/000/000002.mp3            [21]   \n",
       "5         training  small  data/fma_small/000/000005.mp3            [21]   \n",
       "10        training  small  data/fma_small/000/000010.mp3            [10]   \n",
       "140       training  small  data/fma_small/000/000140.mp3            [17]   \n",
       "141       training  small  data/fma_small/000/000141.mp3            [17]   \n",
       "...            ...    ...                            ...             ...   \n",
       "154308        test  small  data/fma_small/154/154308.mp3  [811, 539, 21]   \n",
       "154309        test  small  data/fma_small/154/154309.mp3  [811, 539, 21]   \n",
       "154413    training  small  data/fma_small/154/154413.mp3        [10, 76]   \n",
       "154414    training  small  data/fma_small/154/154414.mp3        [10, 76]   \n",
       "155066    training  small  data/fma_small/155/155066.mp3       [811, 21]   \n",
       "\n",
       "         genre_top  \n",
       "track_id            \n",
       "2          Hip-Hop  \n",
       "5          Hip-Hop  \n",
       "10             Pop  \n",
       "140           Folk  \n",
       "141           Folk  \n",
       "...            ...  \n",
       "154308     Hip-Hop  \n",
       "154309     Hip-Hop  \n",
       "154413         Pop  \n",
       "154414         Pop  \n",
       "155066     Hip-Hop  \n",
       "\n",
       "[7997 rows x 5 columns]"
      ]
     },
     "execution_count": 9,
     "metadata": {},
     "output_type": "execute_result"
    }
   ],
   "source": [
    "fma_small"
   ]
  },
  {
   "cell_type": "code",
   "execution_count": 10,
   "metadata": {},
   "outputs": [],
   "source": [
    "drop3=pickle.load(open(\"saved/drop3.p\",\"rb\"))"
   ]
  },
  {
   "cell_type": "code",
   "execution_count": 11,
   "metadata": {},
   "outputs": [],
   "source": [
    "fma_small.drop(drop3, inplace=True)"
   ]
  },
  {
   "cell_type": "code",
   "execution_count": 12,
   "metadata": {},
   "outputs": [],
   "source": [
    "#use the built in train/test/validation split in case we want to compare to other models over this dataset\n",
    "train = fma_small.index[fma_small['split'] == 'training']\n",
    "val = fma_small.index[fma_small['split'] == 'validation']\n",
    "test = fma_small.index[fma_small['split'] == 'test']"
   ]
  },
  {
   "cell_type": "code",
   "execution_count": 13,
   "metadata": {
    "scrolled": true
   },
   "outputs": [
    {
     "name": "stdout",
     "output_type": "stream",
     "text": [
      "training set size:  6310\n",
      "validation set size:  793\n",
      "test set size:  794\n"
     ]
    }
   ],
   "source": [
    "print('training set size: ', len(train))\n",
    "print('validation set size: ', len(val))\n",
    "print('test set size: ', len(test))"
   ]
  },
  {
   "cell_type": "code",
   "execution_count": 27,
   "metadata": {},
   "outputs": [],
   "source": [
    "#single label\n",
    "enc = LabelEncoder()\n",
    "mlb = MultiLabelBinarizer()\n",
    "\n",
    "X_train = fma_small['filepath'].loc[train]\n",
    "X_val = fma_small['filepath'].loc[val]\n",
    "X_test = fma_small['filepath'].loc[test]\n",
    "y_train = enc.fit_transform(fma_small['genre_top'].loc[train])\n",
    "y_val = enc.transform(fma_small['genre_top'].loc[val])\n",
    "y_test = enc.transform(fma_small['genre_top'].loc[test])"
   ]
  },
  {
   "cell_type": "code",
   "execution_count": 14,
   "metadata": {},
   "outputs": [],
   "source": [
    "#multi label\n",
    "#enc = LabelEncoder()\n",
    "enc = MultiLabelBinarizer()\n",
    "\n",
    "X_train = fma_small['filepath'].loc[train]\n",
    "X_val = fma_small['filepath'].loc[val]\n",
    "X_test = fma_small['filepath'].loc[test]\n",
    "y_train = enc.fit_transform(fma_small['genres_all'].loc[train])\n",
    "y_val = enc.transform(fma_small['genres_all'].loc[val])\n",
    "y_test = enc.transform(fma_small['genres_all'].loc[test])"
   ]
  },
  {
   "cell_type": "code",
   "execution_count": 58,
   "metadata": {},
   "outputs": [
    {
     "data": {
      "text/plain": [
       "(6310,)"
      ]
     },
     "execution_count": 58,
     "metadata": {},
     "output_type": "execute_result"
    }
   ],
   "source": [
    "y_train.shape"
   ]
  },
  {
   "cell_type": "markdown",
   "metadata": {},
   "source": [
    "For the MFCC parser, we need to choose what frequency spectrum is important to us. We know a few things:\n",
    "* Humans can only hear below 20kHz or less. With a cutoff of 3kHz, the sound will be less pleasing but we won't loose any information we need.\n",
    "* The lower range of human hearing is between 20Hz and 40Hz. But mp3 files almost always cut off higher than 40Hz. The lowest open string on a bass is 41Hz so using 40 as a cutoff will not drop any musical information.\n",
    "* The fundamentals of all the notes played in most music is between 50Hz and 1000Hz (e.g. an operatic soprano's high C is 1046Hz).  \n",
    "  \n",
    "Given these points, we will do the following:\n",
    "* Take a mel spectrogram of 73 mels between 41Hz and 2624Hz. These should then represent every note in that 6 octave range.\n",
    "* Transform it to a db (log 10) scale.\n",
    "* Take the MFCCs from \n",
    "Also, fidelity is not very important in this case, we are not audiophiles listening, a grosser sampling rate than would be pleasant will carry more than enough information for classification, so we will downsample from 44100 samples/second to 16000 in order to save space."
   ]
  },
  {
   "cell_type": "code",
   "execution_count": 15,
   "metadata": {},
   "outputs": [],
   "source": [
    "def parse_audio_mfcc(filename,  label):\n",
    "    \"\"\"returns audio trimmed to [START:END] sample indexes and scaled to -1 to 1\n",
    "    \"\"\"    \n",
    "    audio = tfio.audio.AudioIOTensor(filename, dtype=tf.float32)\n",
    "   \n",
    "    audio = audio[START:END] #crop to uniform size\n",
    "    audio = tfio.audio.resample(audio, 44100, 16000)\n",
    "    spectrogram = tfio.experimental.audio.spectrogram(audio, nfft=512, window=512, stride=256)\n",
    "    mel_spectrogram = tfio.experimental.audio.melscale(spectrogram, rate=SR, mels=73, fmin=41, fmax=2624)\n",
    "    dbscale_mel_spectrogram = tfio.experimental.audio.dbscale(mel_spectrogram, top_db=80)\n",
    "    mfcc=tf.signal.mfccs_from_log_mel_spectrograms(dbscale_mel_spectrogram)[...,13:42]\n",
    "    mfcc=tf.squeeze(mfcc)\n",
    "    return mfcc, label"
   ]
  },
  {
   "cell_type": "code",
   "execution_count": 16,
   "metadata": {},
   "outputs": [],
   "source": [
    "def parse_audio(filename,  label):\n",
    "    \"\"\"returns audio trimmed to [START:END] sample indexes and scaled to -1 to 1\n",
    "    \"\"\"    \n",
    "    audio = tfio.audio.AudioIOTensor(filename, dtype=tf.float32)   \n",
    "      \n",
    "    audio = audio[START:END] #crop to uniform size\n",
    "    \n",
    "    #resample to reduse data size, we don't need 44.1kHz fidelity, 16k will be plenty\n",
    "    audio = tfio.audio.resample(audio, 44100, SR)\n",
    "    return audio, label"
   ]
  },
  {
   "cell_type": "code",
   "execution_count": 17,
   "metadata": {},
   "outputs": [],
   "source": [
    "audio = parse_audio_mfcc('gs://mf_fma/fma_small/000/000002.mp3',1)"
   ]
  },
  {
   "cell_type": "code",
   "execution_count": 18,
   "metadata": {},
   "outputs": [
    {
     "data": {
      "text/plain": [
       "(<tf.Tensor: shape=(160000, 29), dtype=float32, numpy=\n",
       " array([[-4.8492532e-04, -3.7769225e-04,  3.7884791e-04, ...,\n",
       "          5.5564360e-05, -3.2655103e-04, -3.3591181e-04],\n",
       "        [-4.8492532e-04, -3.7769225e-04,  3.7884791e-04, ...,\n",
       "          5.5564360e-05, -3.2655103e-04, -3.3591181e-04],\n",
       "        [-4.8492532e-04, -3.7769225e-04,  3.7884791e-04, ...,\n",
       "          5.5564360e-05, -3.2655103e-04, -3.3591181e-04],\n",
       "        ...,\n",
       "        [ 1.0786103e+00,  1.2878751e+00,  5.7671261e-01, ...,\n",
       "         -3.3744714e+00, -2.1827109e+00,  1.1684251e+00],\n",
       "        [ 1.0786204e+00,  1.2878679e+00,  5.7669741e-01, ...,\n",
       "         -3.3744335e+00, -2.1827240e+00,  1.1684276e+00],\n",
       "        [ 1.0786254e+00,  1.2878036e+00,  5.7666206e-01, ...,\n",
       "         -3.3744564e+00, -2.1826990e+00,  1.1684150e+00]], dtype=float32)>,\n",
       " 1)"
      ]
     },
     "execution_count": 18,
     "metadata": {},
     "output_type": "execute_result"
    }
   ],
   "source": [
    "audio"
   ]
  },
  {
   "cell_type": "code",
   "execution_count": null,
   "metadata": {},
   "outputs": [],
   "source": [
    "audio = tfio.audio.AudioIOTensor('data/fma_small/154/154308.mp3', dtype=tf.float32)  \n",
    "      \n",
    "audio = audio[START:END]"
   ]
  },
  {
   "cell_type": "code",
   "execution_count": null,
   "metadata": {},
   "outputs": [],
   "source": [
    "audio = tfio.audio.resample(audio, 44100, 16000)\n",
    "audio"
   ]
  },
  {
   "cell_type": "code",
   "execution_count": null,
   "metadata": {},
   "outputs": [],
   "source": [
    "spectrogram = tfio.experimental.audio.spectrogram(audio, nfft=512, window=512, stride=256)\n",
    "spectrogram"
   ]
  },
  {
   "cell_type": "code",
   "execution_count": null,
   "metadata": {},
   "outputs": [],
   "source": [
    "mel_spectrogram = tfio.experimental.audio.melscale(spectrogram, rate=SR, mels=73, fmin=41, fmax=2624)\n",
    "mel_spectrogram"
   ]
  },
  {
   "cell_type": "code",
   "execution_count": null,
   "metadata": {},
   "outputs": [],
   "source": [
    "dbscale_mel_spectrogram = tfio.experimental.audio.dbscale(mel_spectrogram, top_db=80)\n",
    "dbscale_mel_spectrogram"
   ]
  },
  {
   "cell_type": "code",
   "execution_count": 71,
   "metadata": {},
   "outputs": [],
   "source": [
    "train_ds=tf.data.Dataset.from_tensor_slices((X_train,y_train))\n",
    "val_ds=tf.data.Dataset.from_tensor_slices((X_val,y_val))\n",
    "test_ds=tf.data.Dataset.from_tensor_slices((X_test,y_test))"
   ]
  },
  {
   "cell_type": "code",
   "execution_count": 72,
   "metadata": {},
   "outputs": [],
   "source": [
    "#data pipeline\n",
    "def get_data(dataset):\n",
    "    dataset = dataset.shuffle(buffer_size=len(train), seed=42)\n",
    "    dataset = dataset.map(parse_audio_mfcc, num_parallel_calls=AUTOTUNE)\n",
    "    dataset = dataset.batch(BATCH_SIZE)\n",
    "    dataset = dataset.prefetch(buffer_size=AUTOTUNE)\n",
    "    return dataset"
   ]
  },
  {
   "cell_type": "code",
   "execution_count": 73,
   "metadata": {},
   "outputs": [],
   "source": [
    "#data pipeline\n",
    "def get_data_mfcc(dataset):\n",
    "    dataset = dataset.shuffle(buffer_size=len(train), seed=42)\n",
    "    dataset = dataset.map(parse_audio_mfcc, num_parallel_calls=AUTOTUNE)\n",
    "    dataset = dataset.batch(BATCH_SIZE)\n",
    "    dataset = dataset.prefetch(buffer_size=AUTOTUNE)\n",
    "    return dataset"
   ]
  },
  {
   "cell_type": "code",
   "execution_count": null,
   "metadata": {},
   "outputs": [],
   "source": [
    "#raw audio\n",
    "train_ds = get_data(train_ds)\n",
    "val_ds = get_data(val_ds)\n",
    "test_ds = get_data(test_ds)\n",
    "INP_SHAPE = (BATCH_SIZE, 160000, 2)"
   ]
  },
  {
   "cell_type": "code",
   "execution_count": 74,
   "metadata": {},
   "outputs": [],
   "source": [
    "#mfcc\n",
    "train_ds = get_data_mfcc(train_ds)\n",
    "val_ds = get_data_mfcc(val_ds)\n",
    "test_ds = get_data_mfcc(test_ds)\n",
    "INP_SHAPE = (160000, 29)"
   ]
  },
  {
   "cell_type": "code",
   "execution_count": 76,
   "metadata": {
    "scrolled": false
   },
   "outputs": [
    {
     "name": "stdout",
     "output_type": "stream",
     "text": [
      "Model: \"sequential\"\n",
      "_________________________________________________________________\n",
      "Layer (type)                 Output Shape              Param #   \n",
      "=================================================================\n",
      "normalization (Normalization (None, 160000, 29)        59        \n",
      "_________________________________________________________________\n",
      "reshape (Reshape)            (None, 29, 1600, 100)     0         \n",
      "_________________________________________________________________\n",
      "conv2d (Conv2D)              (None, 28, 1599, 32)      12832     \n",
      "_________________________________________________________________\n",
      "max_pooling2d (MaxPooling2D) (None, 14, 799, 32)       0         \n",
      "_________________________________________________________________\n",
      "conv2d_1 (Conv2D)            (None, 13, 798, 64)       8256      \n",
      "_________________________________________________________________\n",
      "max_pooling2d_1 (MaxPooling2 (None, 6, 399, 64)        0         \n",
      "_________________________________________________________________\n",
      "conv2d_2 (Conv2D)            (None, 6, 399, 32)        2080      \n",
      "_________________________________________________________________\n",
      "dropout (Dropout)            (None, 6, 399, 32)        0         \n",
      "_________________________________________________________________\n",
      "flatten (Flatten)            (None, 76608)             0         \n",
      "_________________________________________________________________\n",
      "dense (Dense)                (None, 32)                2451488   \n",
      "_________________________________________________________________\n",
      "dense_1 (Dense)              (None, 8)                 264       \n",
      "=================================================================\n",
      "Total params: 2,474,979\n",
      "Trainable params: 2,474,920\n",
      "Non-trainable params: 59\n",
      "_________________________________________________________________\n"
     ]
    }
   ],
   "source": [
    "#define model\n",
    "#basic CNN architecture from TF documentation\n",
    "keras.backend.clear_session()\n",
    "model = models.Sequential()\n",
    "\n",
    "model.add(tf.keras.layers.experimental.preprocessing.Normalization(\n",
    "    axis=-1, dtype=None, input_shape=INP_SHAPE))\n",
    "\n",
    "model.add(layers.Reshape((29,1600,100)))\n",
    "model.add(layers.Conv2D(32, 2, activation='relu'))\n",
    "\n",
    "model.add(layers.MaxPooling2D(2,2))\n",
    "model.add(layers.Conv2D(64, 2, activation='relu'))\n",
    "model.add(layers.MaxPooling2D(2,2))\n",
    "model.add(layers.Conv2D(32, 1, activation='relu'))\n",
    "#model.add(layers.MaxPooling1D(3))\n",
    "#model.add(lauers.Dropout(.25))\n",
    "#model.add(layers.Dense(512, activation='relu'))\n",
    "#model.add(layers.Dense(256, activation='relu'))\n",
    "#model.add(layers.Dense(64, activation='relu'))\n",
    "model.add(layers.Dropout(.5))\n",
    "model.add(layers.Flatten())\n",
    "#model.add(layers.Reshape(0,))\n",
    "\n",
    "model.add(layers.Dense(32, activation='relu'))\n",
    "#model.add(tf.keras.backend.squeeze())\n",
    "\n",
    "model.add(layers.Dense(8))\n",
    "\n",
    "loss=tf.keras.losses.SparseCategoricalCrossentropy()\n",
    "model.compile(optimizer='adam',\n",
    "              loss=loss,\n",
    "              metrics=['accuracy'])\n",
    "model.summary()"
   ]
  },
  {
   "cell_type": "code",
   "execution_count": 77,
   "metadata": {
    "scrolled": false
   },
   "outputs": [
    {
     "name": "stdout",
     "output_type": "stream",
     "text": [
      "Epoch 1/3\n",
      "  3/789 [..............................] - ETA: 5:20:10 - loss: 12.2793 - accuracy: 0.2083"
     ]
    },
    {
     "ename": "KeyboardInterrupt",
     "evalue": "",
     "output_type": "error",
     "traceback": [
      "\u001b[0;31m---------------------------------------------------------------------------\u001b[0m",
      "\u001b[0;31mKeyboardInterrupt\u001b[0m                         Traceback (most recent call last)",
      "\u001b[0;32m<ipython-input-77-fd22c9c92d82>\u001b[0m in \u001b[0;36m<module>\u001b[0;34m\u001b[0m\n\u001b[1;32m      1\u001b[0m history = model.fit(train_ds, \n\u001b[1;32m      2\u001b[0m                     \u001b[0mepochs\u001b[0m\u001b[0;34m=\u001b[0m\u001b[0;36m3\u001b[0m\u001b[0;34m,\u001b[0m\u001b[0;34m\u001b[0m\u001b[0;34m\u001b[0m\u001b[0m\n\u001b[0;32m----> 3\u001b[0;31m                     validation_data=val_ds)\n\u001b[0m",
      "\u001b[0;32m~/anaconda3/envs/springboard/lib/python3.7/site-packages/tensorflow/python/keras/engine/training.py\u001b[0m in \u001b[0;36m_method_wrapper\u001b[0;34m(self, *args, **kwargs)\u001b[0m\n\u001b[1;32m     64\u001b[0m   \u001b[0;32mdef\u001b[0m \u001b[0m_method_wrapper\u001b[0m\u001b[0;34m(\u001b[0m\u001b[0mself\u001b[0m\u001b[0;34m,\u001b[0m \u001b[0;34m*\u001b[0m\u001b[0margs\u001b[0m\u001b[0;34m,\u001b[0m \u001b[0;34m**\u001b[0m\u001b[0mkwargs\u001b[0m\u001b[0;34m)\u001b[0m\u001b[0;34m:\u001b[0m\u001b[0;34m\u001b[0m\u001b[0;34m\u001b[0m\u001b[0m\n\u001b[1;32m     65\u001b[0m     \u001b[0;32mif\u001b[0m \u001b[0;32mnot\u001b[0m \u001b[0mself\u001b[0m\u001b[0;34m.\u001b[0m\u001b[0m_in_multi_worker_mode\u001b[0m\u001b[0;34m(\u001b[0m\u001b[0;34m)\u001b[0m\u001b[0;34m:\u001b[0m  \u001b[0;31m# pylint: disable=protected-access\u001b[0m\u001b[0;34m\u001b[0m\u001b[0;34m\u001b[0m\u001b[0m\n\u001b[0;32m---> 66\u001b[0;31m       \u001b[0;32mreturn\u001b[0m \u001b[0mmethod\u001b[0m\u001b[0;34m(\u001b[0m\u001b[0mself\u001b[0m\u001b[0;34m,\u001b[0m \u001b[0;34m*\u001b[0m\u001b[0margs\u001b[0m\u001b[0;34m,\u001b[0m \u001b[0;34m**\u001b[0m\u001b[0mkwargs\u001b[0m\u001b[0;34m)\u001b[0m\u001b[0;34m\u001b[0m\u001b[0;34m\u001b[0m\u001b[0m\n\u001b[0m\u001b[1;32m     67\u001b[0m \u001b[0;34m\u001b[0m\u001b[0m\n\u001b[1;32m     68\u001b[0m     \u001b[0;31m# Running inside `run_distribute_coordinator` already.\u001b[0m\u001b[0;34m\u001b[0m\u001b[0;34m\u001b[0m\u001b[0;34m\u001b[0m\u001b[0m\n",
      "\u001b[0;32m~/anaconda3/envs/springboard/lib/python3.7/site-packages/tensorflow/python/keras/engine/training.py\u001b[0m in \u001b[0;36mfit\u001b[0;34m(self, x, y, batch_size, epochs, verbose, callbacks, validation_split, validation_data, shuffle, class_weight, sample_weight, initial_epoch, steps_per_epoch, validation_steps, validation_batch_size, validation_freq, max_queue_size, workers, use_multiprocessing)\u001b[0m\n\u001b[1;32m    846\u001b[0m                 batch_size=batch_size):\n\u001b[1;32m    847\u001b[0m               \u001b[0mcallbacks\u001b[0m\u001b[0;34m.\u001b[0m\u001b[0mon_train_batch_begin\u001b[0m\u001b[0;34m(\u001b[0m\u001b[0mstep\u001b[0m\u001b[0;34m)\u001b[0m\u001b[0;34m\u001b[0m\u001b[0;34m\u001b[0m\u001b[0m\n\u001b[0;32m--> 848\u001b[0;31m               \u001b[0mtmp_logs\u001b[0m \u001b[0;34m=\u001b[0m \u001b[0mtrain_function\u001b[0m\u001b[0;34m(\u001b[0m\u001b[0miterator\u001b[0m\u001b[0;34m)\u001b[0m\u001b[0;34m\u001b[0m\u001b[0;34m\u001b[0m\u001b[0m\n\u001b[0m\u001b[1;32m    849\u001b[0m               \u001b[0;31m# Catch OutOfRangeError for Datasets of unknown size.\u001b[0m\u001b[0;34m\u001b[0m\u001b[0;34m\u001b[0m\u001b[0;34m\u001b[0m\u001b[0m\n\u001b[1;32m    850\u001b[0m               \u001b[0;31m# This blocks until the batch has finished executing.\u001b[0m\u001b[0;34m\u001b[0m\u001b[0;34m\u001b[0m\u001b[0;34m\u001b[0m\u001b[0m\n",
      "\u001b[0;32m~/anaconda3/envs/springboard/lib/python3.7/site-packages/tensorflow/python/eager/def_function.py\u001b[0m in \u001b[0;36m__call__\u001b[0;34m(self, *args, **kwds)\u001b[0m\n\u001b[1;32m    578\u001b[0m         \u001b[0mxla_context\u001b[0m\u001b[0;34m.\u001b[0m\u001b[0mExit\u001b[0m\u001b[0;34m(\u001b[0m\u001b[0;34m)\u001b[0m\u001b[0;34m\u001b[0m\u001b[0;34m\u001b[0m\u001b[0m\n\u001b[1;32m    579\u001b[0m     \u001b[0;32melse\u001b[0m\u001b[0;34m:\u001b[0m\u001b[0;34m\u001b[0m\u001b[0;34m\u001b[0m\u001b[0m\n\u001b[0;32m--> 580\u001b[0;31m       \u001b[0mresult\u001b[0m \u001b[0;34m=\u001b[0m \u001b[0mself\u001b[0m\u001b[0;34m.\u001b[0m\u001b[0m_call\u001b[0m\u001b[0;34m(\u001b[0m\u001b[0;34m*\u001b[0m\u001b[0margs\u001b[0m\u001b[0;34m,\u001b[0m \u001b[0;34m**\u001b[0m\u001b[0mkwds\u001b[0m\u001b[0;34m)\u001b[0m\u001b[0;34m\u001b[0m\u001b[0;34m\u001b[0m\u001b[0m\n\u001b[0m\u001b[1;32m    581\u001b[0m \u001b[0;34m\u001b[0m\u001b[0m\n\u001b[1;32m    582\u001b[0m     \u001b[0;32mif\u001b[0m \u001b[0mtracing_count\u001b[0m \u001b[0;34m==\u001b[0m \u001b[0mself\u001b[0m\u001b[0;34m.\u001b[0m\u001b[0m_get_tracing_count\u001b[0m\u001b[0;34m(\u001b[0m\u001b[0;34m)\u001b[0m\u001b[0;34m:\u001b[0m\u001b[0;34m\u001b[0m\u001b[0;34m\u001b[0m\u001b[0m\n",
      "\u001b[0;32m~/anaconda3/envs/springboard/lib/python3.7/site-packages/tensorflow/python/eager/def_function.py\u001b[0m in \u001b[0;36m_call\u001b[0;34m(self, *args, **kwds)\u001b[0m\n\u001b[1;32m    609\u001b[0m       \u001b[0;31m# In this case we have created variables on the first call, so we run the\u001b[0m\u001b[0;34m\u001b[0m\u001b[0;34m\u001b[0m\u001b[0;34m\u001b[0m\u001b[0m\n\u001b[1;32m    610\u001b[0m       \u001b[0;31m# defunned version which is guaranteed to never create variables.\u001b[0m\u001b[0;34m\u001b[0m\u001b[0;34m\u001b[0m\u001b[0;34m\u001b[0m\u001b[0m\n\u001b[0;32m--> 611\u001b[0;31m       \u001b[0;32mreturn\u001b[0m \u001b[0mself\u001b[0m\u001b[0;34m.\u001b[0m\u001b[0m_stateless_fn\u001b[0m\u001b[0;34m(\u001b[0m\u001b[0;34m*\u001b[0m\u001b[0margs\u001b[0m\u001b[0;34m,\u001b[0m \u001b[0;34m**\u001b[0m\u001b[0mkwds\u001b[0m\u001b[0;34m)\u001b[0m  \u001b[0;31m# pylint: disable=not-callable\u001b[0m\u001b[0;34m\u001b[0m\u001b[0;34m\u001b[0m\u001b[0m\n\u001b[0m\u001b[1;32m    612\u001b[0m     \u001b[0;32melif\u001b[0m \u001b[0mself\u001b[0m\u001b[0;34m.\u001b[0m\u001b[0m_stateful_fn\u001b[0m \u001b[0;32mis\u001b[0m \u001b[0;32mnot\u001b[0m \u001b[0;32mNone\u001b[0m\u001b[0;34m:\u001b[0m\u001b[0;34m\u001b[0m\u001b[0;34m\u001b[0m\u001b[0m\n\u001b[1;32m    613\u001b[0m       \u001b[0;31m# Release the lock early so that multiple threads can perform the call\u001b[0m\u001b[0;34m\u001b[0m\u001b[0;34m\u001b[0m\u001b[0;34m\u001b[0m\u001b[0m\n",
      "\u001b[0;32m~/anaconda3/envs/springboard/lib/python3.7/site-packages/tensorflow/python/eager/function.py\u001b[0m in \u001b[0;36m__call__\u001b[0;34m(self, *args, **kwargs)\u001b[0m\n\u001b[1;32m   2418\u001b[0m     \u001b[0;32mwith\u001b[0m \u001b[0mself\u001b[0m\u001b[0;34m.\u001b[0m\u001b[0m_lock\u001b[0m\u001b[0;34m:\u001b[0m\u001b[0;34m\u001b[0m\u001b[0;34m\u001b[0m\u001b[0m\n\u001b[1;32m   2419\u001b[0m       \u001b[0mgraph_function\u001b[0m\u001b[0;34m,\u001b[0m \u001b[0margs\u001b[0m\u001b[0;34m,\u001b[0m \u001b[0mkwargs\u001b[0m \u001b[0;34m=\u001b[0m \u001b[0mself\u001b[0m\u001b[0;34m.\u001b[0m\u001b[0m_maybe_define_function\u001b[0m\u001b[0;34m(\u001b[0m\u001b[0margs\u001b[0m\u001b[0;34m,\u001b[0m \u001b[0mkwargs\u001b[0m\u001b[0;34m)\u001b[0m\u001b[0;34m\u001b[0m\u001b[0;34m\u001b[0m\u001b[0m\n\u001b[0;32m-> 2420\u001b[0;31m     \u001b[0;32mreturn\u001b[0m \u001b[0mgraph_function\u001b[0m\u001b[0;34m.\u001b[0m\u001b[0m_filtered_call\u001b[0m\u001b[0;34m(\u001b[0m\u001b[0margs\u001b[0m\u001b[0;34m,\u001b[0m \u001b[0mkwargs\u001b[0m\u001b[0;34m)\u001b[0m  \u001b[0;31m# pylint: disable=protected-access\u001b[0m\u001b[0;34m\u001b[0m\u001b[0;34m\u001b[0m\u001b[0m\n\u001b[0m\u001b[1;32m   2421\u001b[0m \u001b[0;34m\u001b[0m\u001b[0m\n\u001b[1;32m   2422\u001b[0m   \u001b[0;34m@\u001b[0m\u001b[0mproperty\u001b[0m\u001b[0;34m\u001b[0m\u001b[0;34m\u001b[0m\u001b[0m\n",
      "\u001b[0;32m~/anaconda3/envs/springboard/lib/python3.7/site-packages/tensorflow/python/eager/function.py\u001b[0m in \u001b[0;36m_filtered_call\u001b[0;34m(self, args, kwargs)\u001b[0m\n\u001b[1;32m   1663\u001b[0m          if isinstance(t, (ops.Tensor,\n\u001b[1;32m   1664\u001b[0m                            resource_variable_ops.BaseResourceVariable))),\n\u001b[0;32m-> 1665\u001b[0;31m         self.captured_inputs)\n\u001b[0m\u001b[1;32m   1666\u001b[0m \u001b[0;34m\u001b[0m\u001b[0m\n\u001b[1;32m   1667\u001b[0m   \u001b[0;32mdef\u001b[0m \u001b[0m_call_flat\u001b[0m\u001b[0;34m(\u001b[0m\u001b[0mself\u001b[0m\u001b[0;34m,\u001b[0m \u001b[0margs\u001b[0m\u001b[0;34m,\u001b[0m \u001b[0mcaptured_inputs\u001b[0m\u001b[0;34m,\u001b[0m \u001b[0mcancellation_manager\u001b[0m\u001b[0;34m=\u001b[0m\u001b[0;32mNone\u001b[0m\u001b[0;34m)\u001b[0m\u001b[0;34m:\u001b[0m\u001b[0;34m\u001b[0m\u001b[0;34m\u001b[0m\u001b[0m\n",
      "\u001b[0;32m~/anaconda3/envs/springboard/lib/python3.7/site-packages/tensorflow/python/eager/function.py\u001b[0m in \u001b[0;36m_call_flat\u001b[0;34m(self, args, captured_inputs, cancellation_manager)\u001b[0m\n\u001b[1;32m   1744\u001b[0m       \u001b[0;31m# No tape is watching; skip to running the function.\u001b[0m\u001b[0;34m\u001b[0m\u001b[0;34m\u001b[0m\u001b[0;34m\u001b[0m\u001b[0m\n\u001b[1;32m   1745\u001b[0m       return self._build_call_outputs(self._inference_function.call(\n\u001b[0;32m-> 1746\u001b[0;31m           ctx, args, cancellation_manager=cancellation_manager))\n\u001b[0m\u001b[1;32m   1747\u001b[0m     forward_backward = self._select_forward_and_backward_functions(\n\u001b[1;32m   1748\u001b[0m         \u001b[0margs\u001b[0m\u001b[0;34m,\u001b[0m\u001b[0;34m\u001b[0m\u001b[0;34m\u001b[0m\u001b[0m\n",
      "\u001b[0;32m~/anaconda3/envs/springboard/lib/python3.7/site-packages/tensorflow/python/eager/function.py\u001b[0m in \u001b[0;36mcall\u001b[0;34m(self, ctx, args, cancellation_manager)\u001b[0m\n\u001b[1;32m    596\u001b[0m               \u001b[0minputs\u001b[0m\u001b[0;34m=\u001b[0m\u001b[0margs\u001b[0m\u001b[0;34m,\u001b[0m\u001b[0;34m\u001b[0m\u001b[0;34m\u001b[0m\u001b[0m\n\u001b[1;32m    597\u001b[0m               \u001b[0mattrs\u001b[0m\u001b[0;34m=\u001b[0m\u001b[0mattrs\u001b[0m\u001b[0;34m,\u001b[0m\u001b[0;34m\u001b[0m\u001b[0;34m\u001b[0m\u001b[0m\n\u001b[0;32m--> 598\u001b[0;31m               ctx=ctx)\n\u001b[0m\u001b[1;32m    599\u001b[0m         \u001b[0;32melse\u001b[0m\u001b[0;34m:\u001b[0m\u001b[0;34m\u001b[0m\u001b[0;34m\u001b[0m\u001b[0m\n\u001b[1;32m    600\u001b[0m           outputs = execute.execute_with_cancellation(\n",
      "\u001b[0;32m~/anaconda3/envs/springboard/lib/python3.7/site-packages/tensorflow/python/eager/execute.py\u001b[0m in \u001b[0;36mquick_execute\u001b[0;34m(op_name, num_outputs, inputs, attrs, ctx, name)\u001b[0m\n\u001b[1;32m     58\u001b[0m     \u001b[0mctx\u001b[0m\u001b[0;34m.\u001b[0m\u001b[0mensure_initialized\u001b[0m\u001b[0;34m(\u001b[0m\u001b[0;34m)\u001b[0m\u001b[0;34m\u001b[0m\u001b[0;34m\u001b[0m\u001b[0m\n\u001b[1;32m     59\u001b[0m     tensors = pywrap_tfe.TFE_Py_Execute(ctx._handle, device_name, op_name,\n\u001b[0;32m---> 60\u001b[0;31m                                         inputs, attrs, num_outputs)\n\u001b[0m\u001b[1;32m     61\u001b[0m   \u001b[0;32mexcept\u001b[0m \u001b[0mcore\u001b[0m\u001b[0;34m.\u001b[0m\u001b[0m_NotOkStatusException\u001b[0m \u001b[0;32mas\u001b[0m \u001b[0me\u001b[0m\u001b[0;34m:\u001b[0m\u001b[0;34m\u001b[0m\u001b[0;34m\u001b[0m\u001b[0m\n\u001b[1;32m     62\u001b[0m     \u001b[0;32mif\u001b[0m \u001b[0mname\u001b[0m \u001b[0;32mis\u001b[0m \u001b[0;32mnot\u001b[0m \u001b[0;32mNone\u001b[0m\u001b[0;34m:\u001b[0m\u001b[0;34m\u001b[0m\u001b[0;34m\u001b[0m\u001b[0m\n",
      "\u001b[0;31mKeyboardInterrupt\u001b[0m: "
     ]
    }
   ],
   "source": [
    "history = model.fit(train_ds, \n",
    "                    epochs=3,                    \n",
    "                    validation_data=val_ds)"
   ]
  },
  {
   "cell_type": "code",
   "execution_count": null,
   "metadata": {},
   "outputs": [],
   "source": [
    "plt.figure(figsize=(15,7))\n",
    "\n",
    "plt.subplot(1,2,1)\n",
    "plt.plot(history.history['accuracy'], label='train')\n",
    "#plt.plot(history.history['val_accuracy'], label='validation')\n",
    "plt.title('Accuracy')\n",
    "plt.xlabel('Epochs')\n",
    "plt.ylabel('Accuracy')\n",
    "plt.legend()\n",
    "\n",
    "plt.subplot(1,2,2)\n",
    "plt.plot(history.history['loss'], label='train')\n",
    "#plt.plot(history.history['val_loss'], label='validation')\n",
    "plt.title('Loss')\n",
    "plt.xlabel('Epochs')\n",
    "plt.ylabel('Loss')\n",
    "plt.legend()\n",
    "\n",
    "plt.tight_layout()\n",
    "plt.show()"
   ]
  },
  {
   "cell_type": "code",
   "execution_count": null,
   "metadata": {
    "scrolled": true
   },
   "outputs": [],
   "source": [
    "#make clear this is test set\n",
    "y_pred=model.predict_classes(X_test)\n",
    "print('Classification Report (test set)')\n",
    "print(classification_report(y_test,y_pred))"
   ]
  },
  {
   "cell_type": "code",
   "execution_count": null,
   "metadata": {},
   "outputs": [],
   "source": [
    "y_pred=np.argmax(model.predict(X_test) > 0.5).astype(\"int32\"))\n",
    "print('Classification Report (test set)')\n",
    "print(classification_report(y_test,y_pred))"
   ]
  },
  {
   "cell_type": "code",
   "execution_count": null,
   "metadata": {},
   "outputs": [],
   "source": []
  }
 ],
 "metadata": {
  "kernelspec": {
   "display_name": "Python 3",
   "language": "python",
   "name": "python3"
  },
  "language_info": {
   "codemirror_mode": {
    "name": "ipython",
    "version": 3
   },
   "file_extension": ".py",
   "mimetype": "text/x-python",
   "name": "python",
   "nbconvert_exporter": "python",
   "pygments_lexer": "ipython3",
   "version": "3.7.7"
  }
 },
 "nbformat": 4,
 "nbformat_minor": 4
}
