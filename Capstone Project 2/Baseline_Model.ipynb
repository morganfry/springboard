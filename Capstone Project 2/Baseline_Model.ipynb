{
 "cells": [
  {
   "cell_type": "code",
   "execution_count": 19,
   "metadata": {},
   "outputs": [],
   "source": [
    "import numpy as np\n",
    "import pandas as pd\n",
    "import matplotlib.pyplot as plt  \n",
    "%matplotlib inline\n",
    "import librosa\n",
    "import utils\n",
    "import ast\n",
    "\n",
    "import pickle\n",
    "\n",
    "import keras\n",
    "from keras.layers import Activation, Dense, Conv1D, Conv2D, MaxPooling1D, Flatten, Reshape\n",
    "from kapre.time_frequency import Melspectrogram\n",
    "from keras.models import Sequential\n",
    "from keras_preprocessing.image import ImageDataGenerator\n",
    "\n",
    "from sklearn.utils import shuffle\n",
    "from sklearn.preprocessing import MultiLabelBinarizer, LabelEncoder, StandardScaler"
   ]
  },
  {
   "cell_type": "code",
   "execution_count": 2,
   "metadata": {},
   "outputs": [],
   "source": [
    "features = pd.read_csv('data/features.csv', index_col=0, header=[0, 1, 2])\n",
    "fma_single = pickle.load(open(\"saved/fma_single.p\", \"rb\"))"
   ]
  },
  {
   "cell_type": "code",
   "execution_count": 3,
   "metadata": {},
   "outputs": [],
   "source": [
    "fma_multi=pickle.load(open(\"saved/fma_multi.p\",\"rb\"))"
   ]
  },
  {
   "cell_type": "code",
   "execution_count": 4,
   "metadata": {
    "scrolled": true
   },
   "outputs": [
    {
     "data": {
      "text/html": [
       "<div>\n",
       "<style scoped>\n",
       "    .dataframe tbody tr th:only-of-type {\n",
       "        vertical-align: middle;\n",
       "    }\n",
       "\n",
       "    .dataframe tbody tr th {\n",
       "        vertical-align: top;\n",
       "    }\n",
       "\n",
       "    .dataframe thead th {\n",
       "        text-align: right;\n",
       "    }\n",
       "</style>\n",
       "<table border=\"1\" class=\"dataframe\">\n",
       "  <thead>\n",
       "    <tr style=\"text-align: right;\">\n",
       "      <th></th>\n",
       "      <th>split</th>\n",
       "      <th>subset</th>\n",
       "      <th>filepath</th>\n",
       "      <th>genres_all</th>\n",
       "      <th>genre_top</th>\n",
       "    </tr>\n",
       "    <tr>\n",
       "      <th>track_id</th>\n",
       "      <th></th>\n",
       "      <th></th>\n",
       "      <th></th>\n",
       "      <th></th>\n",
       "      <th></th>\n",
       "    </tr>\n",
       "  </thead>\n",
       "  <tbody>\n",
       "    <tr>\n",
       "      <th>2</th>\n",
       "      <td>training</td>\n",
       "      <td>small</td>\n",
       "      <td>data/fma_large/000/000002.mp3</td>\n",
       "      <td>[21]</td>\n",
       "      <td>Hip-Hop</td>\n",
       "    </tr>\n",
       "    <tr>\n",
       "      <th>3</th>\n",
       "      <td>training</td>\n",
       "      <td>medium</td>\n",
       "      <td>data/fma_large/000/000003.mp3</td>\n",
       "      <td>[21]</td>\n",
       "      <td>Hip-Hop</td>\n",
       "    </tr>\n",
       "    <tr>\n",
       "      <th>5</th>\n",
       "      <td>training</td>\n",
       "      <td>small</td>\n",
       "      <td>data/fma_large/000/000005.mp3</td>\n",
       "      <td>[21]</td>\n",
       "      <td>Hip-Hop</td>\n",
       "    </tr>\n",
       "    <tr>\n",
       "      <th>10</th>\n",
       "      <td>training</td>\n",
       "      <td>small</td>\n",
       "      <td>data/fma_large/000/000010.mp3</td>\n",
       "      <td>[10]</td>\n",
       "      <td>Pop</td>\n",
       "    </tr>\n",
       "    <tr>\n",
       "      <th>20</th>\n",
       "      <td>training</td>\n",
       "      <td>large</td>\n",
       "      <td>data/fma_large/000/000020.mp3</td>\n",
       "      <td>[17, 10, 76, 103]</td>\n",
       "      <td>NaN</td>\n",
       "    </tr>\n",
       "  </tbody>\n",
       "</table>\n",
       "</div>"
      ],
      "text/plain": [
       "             split  subset                       filepath         genres_all  \\\n",
       "track_id                                                                       \n",
       "2         training   small  data/fma_large/000/000002.mp3               [21]   \n",
       "3         training  medium  data/fma_large/000/000003.mp3               [21]   \n",
       "5         training   small  data/fma_large/000/000005.mp3               [21]   \n",
       "10        training   small  data/fma_large/000/000010.mp3               [10]   \n",
       "20        training   large  data/fma_large/000/000020.mp3  [17, 10, 76, 103]   \n",
       "\n",
       "         genre_top  \n",
       "track_id            \n",
       "2          Hip-Hop  \n",
       "3          Hip-Hop  \n",
       "5          Hip-Hop  \n",
       "10             Pop  \n",
       "20             NaN  "
      ]
     },
     "execution_count": 4,
     "metadata": {},
     "output_type": "execute_result"
    }
   ],
   "source": [
    "fma_multi.head()"
   ]
  },
  {
   "cell_type": "markdown",
   "metadata": {},
   "source": [
    "For the baseline model we are going to use the 'small' set of 8000 tracks in 8 classes, and train the model on the mfccs of the tracks which we extracted earlier."
   ]
  },
  {
   "cell_type": "code",
   "execution_count": 5,
   "metadata": {},
   "outputs": [],
   "source": [
    "#load mfccs\n",
    "mfcc_df=pickle.load(open(\"saved/mfcc_small.p\",\"rb\"))"
   ]
  },
  {
   "cell_type": "code",
   "execution_count": 6,
   "metadata": {},
   "outputs": [
    {
     "data": {
      "text/plain": [
       "(7997, 23232)"
      ]
     },
     "execution_count": 6,
     "metadata": {},
     "output_type": "execute_result"
    }
   ],
   "source": [
    "mfcc_df.shape"
   ]
  },
  {
   "cell_type": "code",
   "execution_count": 7,
   "metadata": {},
   "outputs": [
    {
     "data": {
      "text/html": [
       "<div>\n",
       "<style scoped>\n",
       "    .dataframe tbody tr th:only-of-type {\n",
       "        vertical-align: middle;\n",
       "    }\n",
       "\n",
       "    .dataframe tbody tr th {\n",
       "        vertical-align: top;\n",
       "    }\n",
       "\n",
       "    .dataframe thead th {\n",
       "        text-align: right;\n",
       "    }\n",
       "</style>\n",
       "<table border=\"1\" class=\"dataframe\">\n",
       "  <thead>\n",
       "    <tr style=\"text-align: right;\">\n",
       "      <th></th>\n",
       "      <th>0</th>\n",
       "      <th>1</th>\n",
       "      <th>2</th>\n",
       "      <th>3</th>\n",
       "      <th>4</th>\n",
       "      <th>5</th>\n",
       "      <th>6</th>\n",
       "      <th>7</th>\n",
       "      <th>8</th>\n",
       "      <th>9</th>\n",
       "      <th>...</th>\n",
       "      <th>23222</th>\n",
       "      <th>23223</th>\n",
       "      <th>23224</th>\n",
       "      <th>23225</th>\n",
       "      <th>23226</th>\n",
       "      <th>23227</th>\n",
       "      <th>23228</th>\n",
       "      <th>23229</th>\n",
       "      <th>23230</th>\n",
       "      <th>23231</th>\n",
       "    </tr>\n",
       "  </thead>\n",
       "  <tbody>\n",
       "    <tr>\n",
       "      <th>2</th>\n",
       "      <td>-299.542053</td>\n",
       "      <td>-202.513412</td>\n",
       "      <td>-159.976059</td>\n",
       "      <td>-115.456413</td>\n",
       "      <td>-80.415161</td>\n",
       "      <td>-67.523239</td>\n",
       "      <td>-57.689404</td>\n",
       "      <td>-65.464790</td>\n",
       "      <td>-84.703659</td>\n",
       "      <td>-96.179939</td>\n",
       "      <td>...</td>\n",
       "      <td>-5.861199</td>\n",
       "      <td>-4.460218</td>\n",
       "      <td>-6.887738</td>\n",
       "      <td>-7.665272</td>\n",
       "      <td>6.717929</td>\n",
       "      <td>12.769140</td>\n",
       "      <td>11.439809</td>\n",
       "      <td>9.167293</td>\n",
       "      <td>7.916427</td>\n",
       "      <td>5.665779</td>\n",
       "    </tr>\n",
       "    <tr>\n",
       "      <th>5</th>\n",
       "      <td>-324.059723</td>\n",
       "      <td>-227.421249</td>\n",
       "      <td>-186.883606</td>\n",
       "      <td>-158.489868</td>\n",
       "      <td>-94.902466</td>\n",
       "      <td>-95.517578</td>\n",
       "      <td>-106.146324</td>\n",
       "      <td>-70.498611</td>\n",
       "      <td>-45.091522</td>\n",
       "      <td>-41.156029</td>\n",
       "      <td>...</td>\n",
       "      <td>-6.403229</td>\n",
       "      <td>-4.675876</td>\n",
       "      <td>5.932048</td>\n",
       "      <td>19.163589</td>\n",
       "      <td>24.138350</td>\n",
       "      <td>12.146925</td>\n",
       "      <td>1.931949</td>\n",
       "      <td>-0.370714</td>\n",
       "      <td>1.137535</td>\n",
       "      <td>-0.625799</td>\n",
       "    </tr>\n",
       "    <tr>\n",
       "      <th>10</th>\n",
       "      <td>-71.376122</td>\n",
       "      <td>-32.296730</td>\n",
       "      <td>-29.356266</td>\n",
       "      <td>-38.037708</td>\n",
       "      <td>-44.881695</td>\n",
       "      <td>-45.910717</td>\n",
       "      <td>-31.081173</td>\n",
       "      <td>8.275231</td>\n",
       "      <td>28.077381</td>\n",
       "      <td>6.006516</td>\n",
       "      <td>...</td>\n",
       "      <td>9.814901</td>\n",
       "      <td>0.409050</td>\n",
       "      <td>-6.546686</td>\n",
       "      <td>-4.728213</td>\n",
       "      <td>-2.329597</td>\n",
       "      <td>4.121199</td>\n",
       "      <td>8.337200</td>\n",
       "      <td>8.429386</td>\n",
       "      <td>10.133602</td>\n",
       "      <td>11.033691</td>\n",
       "    </tr>\n",
       "    <tr>\n",
       "      <th>140</th>\n",
       "      <td>-561.324280</td>\n",
       "      <td>-523.545837</td>\n",
       "      <td>-449.814423</td>\n",
       "      <td>-342.445557</td>\n",
       "      <td>-306.727356</td>\n",
       "      <td>-308.809631</td>\n",
       "      <td>-307.733276</td>\n",
       "      <td>-317.345245</td>\n",
       "      <td>-362.774811</td>\n",
       "      <td>-419.306946</td>\n",
       "      <td>...</td>\n",
       "      <td>1.818927</td>\n",
       "      <td>3.912658</td>\n",
       "      <td>4.593844</td>\n",
       "      <td>2.139801</td>\n",
       "      <td>-4.394735</td>\n",
       "      <td>-5.267244</td>\n",
       "      <td>-6.697974</td>\n",
       "      <td>-5.783470</td>\n",
       "      <td>-5.886441</td>\n",
       "      <td>-3.706590</td>\n",
       "    </tr>\n",
       "    <tr>\n",
       "      <th>141</th>\n",
       "      <td>-464.980743</td>\n",
       "      <td>-371.434326</td>\n",
       "      <td>-330.917175</td>\n",
       "      <td>-342.813904</td>\n",
       "      <td>-362.013550</td>\n",
       "      <td>-368.364441</td>\n",
       "      <td>-361.755188</td>\n",
       "      <td>-358.438049</td>\n",
       "      <td>-365.668640</td>\n",
       "      <td>-375.685730</td>\n",
       "      <td>...</td>\n",
       "      <td>0.601643</td>\n",
       "      <td>-0.995060</td>\n",
       "      <td>0.146230</td>\n",
       "      <td>3.676285</td>\n",
       "      <td>-1.177926</td>\n",
       "      <td>-2.822582</td>\n",
       "      <td>4.884428</td>\n",
       "      <td>3.736303</td>\n",
       "      <td>2.701882</td>\n",
       "      <td>-2.805002</td>\n",
       "    </tr>\n",
       "  </tbody>\n",
       "</table>\n",
       "<p>5 rows × 23232 columns</p>\n",
       "</div>"
      ],
      "text/plain": [
       "          0           1           2           3           4           5      \\\n",
       "2   -299.542053 -202.513412 -159.976059 -115.456413  -80.415161  -67.523239   \n",
       "5   -324.059723 -227.421249 -186.883606 -158.489868  -94.902466  -95.517578   \n",
       "10   -71.376122  -32.296730  -29.356266  -38.037708  -44.881695  -45.910717   \n",
       "140 -561.324280 -523.545837 -449.814423 -342.445557 -306.727356 -308.809631   \n",
       "141 -464.980743 -371.434326 -330.917175 -342.813904 -362.013550 -368.364441   \n",
       "\n",
       "          6           7           8           9      ...     23222     23223  \\\n",
       "2    -57.689404  -65.464790  -84.703659  -96.179939  ... -5.861199 -4.460218   \n",
       "5   -106.146324  -70.498611  -45.091522  -41.156029  ... -6.403229 -4.675876   \n",
       "10   -31.081173    8.275231   28.077381    6.006516  ...  9.814901  0.409050   \n",
       "140 -307.733276 -317.345245 -362.774811 -419.306946  ...  1.818927  3.912658   \n",
       "141 -361.755188 -358.438049 -365.668640 -375.685730  ...  0.601643 -0.995060   \n",
       "\n",
       "        23224      23225      23226      23227      23228     23229  \\\n",
       "2   -6.887738  -7.665272   6.717929  12.769140  11.439809  9.167293   \n",
       "5    5.932048  19.163589  24.138350  12.146925   1.931949 -0.370714   \n",
       "10  -6.546686  -4.728213  -2.329597   4.121199   8.337200  8.429386   \n",
       "140  4.593844   2.139801  -4.394735  -5.267244  -6.697974 -5.783470   \n",
       "141  0.146230   3.676285  -1.177926  -2.822582   4.884428  3.736303   \n",
       "\n",
       "         23230      23231  \n",
       "2     7.916427   5.665779  \n",
       "5     1.137535  -0.625799  \n",
       "10   10.133602  11.033691  \n",
       "140  -5.886441  -3.706590  \n",
       "141   2.701882  -2.805002  \n",
       "\n",
       "[5 rows x 23232 columns]"
      ]
     },
     "execution_count": 7,
     "metadata": {},
     "output_type": "execute_result"
    }
   ],
   "source": [
    "mfcc_df.head()"
   ]
  },
  {
   "cell_type": "code",
   "execution_count": 8,
   "metadata": {},
   "outputs": [],
   "source": [
    "#use the 8000 track balanced subset for baseline modeling\n",
    "subset = fma_single.index[fma_single['subset'] == 'small']\n",
    "tracks_sub=fma_multi.loc[subset]\n",
    "mfcc_sub=mfcc_df.loc[subset]\n"
   ]
  },
  {
   "cell_type": "code",
   "execution_count": 9,
   "metadata": {},
   "outputs": [],
   "source": [
    "#fill nan\n",
    "mfcc_sub.fillna(value=0,inplace=True)"
   ]
  },
  {
   "cell_type": "code",
   "execution_count": 10,
   "metadata": {},
   "outputs": [
    {
     "name": "stdout",
     "output_type": "stream",
     "text": [
      "7997 7997\n"
     ]
    }
   ],
   "source": [
    "print(len(mfcc_sub),len(tracks_sub))"
   ]
  },
  {
   "cell_type": "code",
   "execution_count": 11,
   "metadata": {},
   "outputs": [],
   "source": [
    "#use the built in train/test/vavlidation split in case we want to compare to other models over this dataset\n",
    "train = tracks_sub.index[tracks_sub['split'] == 'training']\n",
    "val = tracks_sub.index[tracks_sub['split'] == 'validation']\n",
    "test = tracks_sub.index[tracks_sub['split'] == 'test']"
   ]
  },
  {
   "cell_type": "code",
   "execution_count": 12,
   "metadata": {},
   "outputs": [
    {
     "name": "stdout",
     "output_type": "stream",
     "text": [
      "6397 800 800\n"
     ]
    }
   ],
   "source": [
    "print(len(train),len(val),len(test))"
   ]
  },
  {
   "cell_type": "code",
   "execution_count": 13,
   "metadata": {},
   "outputs": [],
   "source": [
    "#preprocessing single label\n",
    "\n",
    "#enc=MultiLabelBinarizer()\n",
    "enc=LabelEncoder()\n",
    "labels=tracks_sub['genre_top']\n",
    "#labels=y_df\n",
    "\n",
    "# Split in training, validation and testing sets.\n",
    "\n",
    "#single label\n",
    "y_train = enc.fit_transform(labels[train])\n",
    "y_val = enc.transform(labels[val])\n",
    "y_test = enc.transform(labels[test])\n",
    "#y_train = track_sub['label']\n",
    "\n",
    "X_train = mfcc_sub.loc[train].values\n",
    "X_val = mfcc_sub.loc[val].values\n",
    "X_test = mfcc_sub.loc[test].values\n",
    "    \n",
    "X_train, y_train = shuffle(X_train, y_train, random_state=42)\n",
    "\n",
    "# Standardize features\n",
    "scaler =StandardScaler(copy=False)\n",
    "X_train=scaler.fit_transform(X_train)\n",
    "X_val=scaler.transform(X_val)\n",
    "X_test=scaler.transform(X_test)"
   ]
  },
  {
   "cell_type": "code",
   "execution_count": 14,
   "metadata": {},
   "outputs": [
    {
     "name": "stdout",
     "output_type": "stream",
     "text": [
      "Model: \"sequential_1\"\n",
      "_________________________________________________________________\n",
      "Layer (type)                 Output Shape              Param #   \n",
      "=================================================================\n",
      "dense_1 (Dense)              (None, 512)               11895296  \n",
      "_________________________________________________________________\n",
      "dense_2 (Dense)              (None, 256)               131328    \n",
      "_________________________________________________________________\n",
      "dense_3 (Dense)              (None, 128)               32896     \n",
      "_________________________________________________________________\n",
      "dense_4 (Dense)              (None, 64)                8256      \n",
      "_________________________________________________________________\n",
      "dense_5 (Dense)              (None, 8)                 520       \n",
      "=================================================================\n",
      "Total params: 12,068,296\n",
      "Trainable params: 12,068,296\n",
      "Non-trainable params: 0\n",
      "_________________________________________________________________\n"
     ]
    }
   ],
   "source": [
    "keras.backend.clear_session()\n",
    "\n",
    "model = keras.models.Sequential()\n",
    "model.add(Dense(512, activation='relu', input_shape=(X_train.shape[1],)))\n",
    "model.add(Dense(256, activation='relu'))\n",
    "model.add(Dense(128, activation='relu'))\n",
    "model.add(Dense(64, activation='relu'))\n",
    "model.add(Dense(8, activation='softmax'))\n",
    "\n",
    "model.compile(optimizer='adam',\n",
    "              loss='sparse_categorical_crossentropy',\n",
    "              metrics=['accuracy'])\n",
    "model.summary()"
   ]
  },
  {
   "cell_type": "code",
   "execution_count": 15,
   "metadata": {},
   "outputs": [
    {
     "name": "stdout",
     "output_type": "stream",
     "text": [
      "Train on 6397 samples, validate on 800 samples\n",
      "Epoch 1/20\n",
      "6397/6397 [==============================] - 2s 350us/step - loss: 3.0683 - accuracy: 0.2683 - val_loss: 2.2378 - val_accuracy: 0.2875\n",
      "Epoch 2/20\n",
      "6397/6397 [==============================] - 2s 331us/step - loss: 1.7449 - accuracy: 0.4103 - val_loss: 2.0187 - val_accuracy: 0.3125\n",
      "Epoch 3/20\n",
      "6397/6397 [==============================] - 2s 332us/step - loss: 1.3378 - accuracy: 0.5514 - val_loss: 2.0702 - val_accuracy: 0.3113\n",
      "Epoch 4/20\n",
      "6397/6397 [==============================] - 2s 334us/step - loss: 1.0050 - accuracy: 0.6842 - val_loss: 1.9519 - val_accuracy: 0.3537\n",
      "Epoch 5/20\n",
      "6397/6397 [==============================] - 2s 331us/step - loss: 0.7106 - accuracy: 0.7963 - val_loss: 2.1068 - val_accuracy: 0.3475\n",
      "Epoch 6/20\n",
      "6397/6397 [==============================] - 2s 333us/step - loss: 0.5090 - accuracy: 0.8745 - val_loss: 2.3751 - val_accuracy: 0.2587\n",
      "Epoch 7/20\n",
      "6397/6397 [==============================] - 2s 335us/step - loss: 0.3422 - accuracy: 0.9300 - val_loss: 2.3040 - val_accuracy: 0.3475\n",
      "Epoch 8/20\n",
      "6397/6397 [==============================] - 2s 336us/step - loss: 0.2279 - accuracy: 0.9615 - val_loss: 2.4429 - val_accuracy: 0.3363\n",
      "Epoch 9/20\n",
      "6397/6397 [==============================] - 2s 335us/step - loss: 0.1430 - accuracy: 0.9822 - val_loss: 2.5533 - val_accuracy: 0.3262\n",
      "Epoch 10/20\n",
      "6397/6397 [==============================] - 2s 336us/step - loss: 0.0824 - accuracy: 0.9944 - val_loss: 2.6068 - val_accuracy: 0.3487\n",
      "Epoch 11/20\n",
      "6397/6397 [==============================] - 2s 338us/step - loss: 0.0538 - accuracy: 0.9970 - val_loss: 2.6907 - val_accuracy: 0.3250\n",
      "Epoch 12/20\n",
      "6397/6397 [==============================] - 2s 338us/step - loss: 0.0364 - accuracy: 0.9983 - val_loss: 2.7610 - val_accuracy: 0.3275\n",
      "Epoch 13/20\n",
      "6397/6397 [==============================] - 2s 341us/step - loss: 0.0562 - accuracy: 0.9895 - val_loss: 2.9380 - val_accuracy: 0.3350\n",
      "Epoch 14/20\n",
      "6397/6397 [==============================] - 2s 340us/step - loss: 0.0551 - accuracy: 0.9900 - val_loss: 2.9131 - val_accuracy: 0.3375\n",
      "Epoch 15/20\n",
      "6397/6397 [==============================] - 2s 337us/step - loss: 0.0429 - accuracy: 0.9934 - val_loss: 2.9168 - val_accuracy: 0.3375\n",
      "Epoch 16/20\n",
      "6397/6397 [==============================] - 2s 337us/step - loss: 0.0359 - accuracy: 0.9942 - val_loss: 3.0090 - val_accuracy: 0.3388\n",
      "Epoch 17/20\n",
      "6397/6397 [==============================] - 2s 338us/step - loss: 0.0294 - accuracy: 0.9961 - val_loss: 3.1962 - val_accuracy: 0.3300\n",
      "Epoch 18/20\n",
      "6397/6397 [==============================] - 2s 336us/step - loss: 0.0190 - accuracy: 0.9984 - val_loss: 3.1381 - val_accuracy: 0.3288\n",
      "Epoch 19/20\n",
      "6397/6397 [==============================] - 2s 340us/step - loss: 0.0131 - accuracy: 0.9992 - val_loss: 3.2539 - val_accuracy: 0.3500\n",
      "Epoch 20/20\n",
      "6397/6397 [==============================] - 2s 352us/step - loss: 0.0112 - accuracy: 0.9995 - val_loss: 3.2867 - val_accuracy: 0.3325\n",
      "800/800 [==============================] - 0s 389us/step\n"
     ]
    }
   ],
   "source": [
    "history=model.fit(X_train,\n",
    "          y_train,\n",
    "          epochs=20,\n",
    "          batch_size=512,\n",
    "          validation_data=(X_val, y_val))\n",
    "results = model.evaluate(X_test, y_test)"
   ]
  },
  {
   "cell_type": "code",
   "execution_count": 16,
   "metadata": {
    "scrolled": true
   },
   "outputs": [
    {
     "data": {
      "image/png": "[encoded data removed]",
      "text/plain": [
       "<Figure size 1080x504 with 2 Axes>"
      ]
     },
     "metadata": {
      "needs_background": "light"
     },
     "output_type": "display_data"
    }
   ],
   "source": [
    "plt.figure(figsize=(15,7))\n",
    "\n",
    "plt.subplot(1,2,1)\n",
    "plt.plot(history.history['accuracy'], label='train')\n",
    "#plt.plot(history.history['val_accuracy'], label='validation')\n",
    "plt.title('Accuracy')\n",
    "plt.xlabel('Epochs')\n",
    "plt.ylabel('Accuracy')\n",
    "plt.legend()\n",
    "\n",
    "plt.subplot(1,2,2)\n",
    "plt.plot(history.history['loss'], label='train')\n",
    "#plt.plot(history.history['val_loss'], label='validation')\n",
    "plt.title('Loss')\n",
    "plt.xlabel('Epochs')\n",
    "plt.ylabel('Loss')\n",
    "plt.legend()\n",
    "\n",
    "plt.tight_layout()\n",
    "plt.show()"
   ]
  },
  {
   "cell_type": "code",
   "execution_count": 17,
   "metadata": {},
   "outputs": [
    {
     "name": "stdout",
     "output_type": "stream",
     "text": [
      "loss:  3.837606315612793\n",
      "accuracy:  0.26374998688697815\n"
     ]
    }
   ],
   "source": [
    "print('loss: ',results[0])\n",
    "print('accuracy: ',results[1])"
   ]
  },
  {
   "cell_type": "code",
   "execution_count": 20,
   "metadata": {},
   "outputs": [],
   "source": [
    "#preprocessing multilabel\n",
    "\n",
    "enc=MultiLabelBinarizer()\n",
    "#enc=LabelEncoder()\n",
    "labels=tracks_sub['genres_all'].map(ast.literal_eval)\n",
    "#labels=y_df\n",
    "\n",
    "# Split in training, validation and testing sets.\n",
    "\n",
    "#single label\n",
    "y_train = enc.fit_transform(labels[train])\n",
    "y_val = enc.transform(labels[val])\n",
    "y_test = enc.transform(labels[test])\n",
    "#y_train = track_sub['label']\n",
    "\n",
    "X_train = mfcc_sub.loc[train].values\n",
    "X_val = mfcc_sub.loc[val].values\n",
    "X_test = mfcc_sub.loc[test].values\n",
    "    \n",
    "X_train, y_train = shuffle(X_train, y_train, random_state=42)\n",
    "\n",
    "# Standardize features\n",
    "scaler =StandardScaler(copy=False)\n",
    "X_train=scaler.fit_transform(X_train)\n",
    "X_val=scaler.transform(X_val)\n",
    "X_test=scaler.transform(X_test)"
   ]
  },
  {
   "cell_type": "code",
   "execution_count": 26,
   "metadata": {},
   "outputs": [
    {
     "name": "stdout",
     "output_type": "stream",
     "text": [
      "Model: \"sequential_1\"\n",
      "_________________________________________________________________\n",
      "Layer (type)                 Output Shape              Param #   \n",
      "=================================================================\n",
      "dense_1 (Dense)              (None, 1024)              23790592  \n",
      "_________________________________________________________________\n",
      "dense_2 (Dense)              (None, 512)               524800    \n",
      "_________________________________________________________________\n",
      "dense_3 (Dense)              (None, 256)               131328    \n",
      "_________________________________________________________________\n",
      "dense_4 (Dense)              (None, 114)               29298     \n",
      "=================================================================\n",
      "Total params: 24,476,018\n",
      "Trainable params: 24,476,018\n",
      "Non-trainable params: 0\n",
      "_________________________________________________________________\n"
     ]
    }
   ],
   "source": [
    "keras.backend.clear_session()\n",
    "\n",
    "model = keras.models.Sequential()\n",
    "model.add(Dense(1024, activation='relu', input_shape=(X_train.shape[1],)))\n",
    "model.add(Dense(512, activation='relu'))\n",
    "model.add(Dense(256, activation='relu'))\n",
    "#model.add(Dense(64, activation='relu'))\n",
    "model.add(Dense(y_train.shape[1], activation='softmax'))\n",
    "\n",
    "model.compile(optimizer='adam',\n",
    "              loss='categorical_crossentropy',\n",
    "              metrics=['accuracy'])\n",
    "model.summary()"
   ]
  },
  {
   "cell_type": "code",
   "execution_count": 29,
   "metadata": {
    "scrolled": true
   },
   "outputs": [
    {
     "name": "stdout",
     "output_type": "stream",
     "text": [
      "Train on 6397 samples, validate on 800 samples\n",
      "Epoch 1/10\n",
      "6397/6397 [==============================] - 5s 844us/step - loss: 712762819.7618 - accuracy: 0.0503 - val_loss: 1100517749.7600 - val_accuracy: 0.0025\n",
      "Epoch 2/10\n",
      "6397/6397 [==============================] - 6s 884us/step - loss: 1025129955.5267 - accuracy: 0.0355 - val_loss: 1617900810.2400 - val_accuracy: 0.1250\n",
      "Epoch 3/10\n",
      "6397/6397 [==============================] - 6s 875us/step - loss: 1520558939.8431 - accuracy: 0.0514 - val_loss: 2063561502.7200 - val_accuracy: 0.1250\n",
      "Epoch 4/10\n",
      "6397/6397 [==============================] - 6s 870us/step - loss: 2045767680.6003 - accuracy: 0.0549 - val_loss: 2398080245.7600 - val_accuracy: 0.1250\n",
      "Epoch 5/10\n",
      "6397/6397 [==============================] - 6s 879us/step - loss: 2561438956.8310 - accuracy: 0.0538 - val_loss: 3237202995.2000 - val_accuracy: 0.0000e+00\n",
      "Epoch 6/10\n",
      "6397/6397 [==============================] - 6s 879us/step - loss: 3107473080.6866 - accuracy: 0.0682 - val_loss: 3874841006.0800 - val_accuracy: 0.0100\n",
      "Epoch 7/10\n",
      "6397/6397 [==============================] - 6s 869us/step - loss: 3847740827.0727 - accuracy: 0.0522 - val_loss: 5382914846.7200 - val_accuracy: 0.1250\n",
      "Epoch 8/10\n",
      "6397/6397 [==============================] - 6s 865us/step - loss: 4184832836.1519 - accuracy: 0.0536 - val_loss: 5903151636.4800 - val_accuracy: 0.0000e+00\n",
      "Epoch 9/10\n",
      "6397/6397 [==============================] - 5s 843us/step - loss: 5066236553.1043 - accuracy: 0.0683 - val_loss: 8196474060.8000 - val_accuracy: 0.0000e+00\n",
      "Epoch 10/10\n",
      "6397/6397 [==============================] - 5s 842us/step - loss: 6284885600.2851 - accuracy: 0.0711 - val_loss: 8968684748.8000 - val_accuracy: 0.1250\n",
      "800/800 [==============================] - 0s 427us/step\n"
     ]
    }
   ],
   "source": [
    "history=model.fit(X_train,\n",
    "          y_train,\n",
    "          epochs=10,\n",
    "          batch_size=256,\n",
    "          validation_data=(X_val, y_val))\n",
    "results = model.evaluate(X_test, y_test)"
   ]
  },
  {
   "cell_type": "code",
   "execution_count": 30,
   "metadata": {
    "scrolled": true
   },
   "outputs": [
    {
     "data": {
      "image/png": "[encoded data removed]",
      "text/plain": [
       "<Figure size 1080x504 with 2 Axes>"
      ]
     },
     "metadata": {
      "needs_background": "light"
     },
     "output_type": "display_data"
    }
   ],
   "source": [
    "plt.figure(figsize=(15,7))\n",
    "\n",
    "plt.subplot(1,2,1)\n",
    "plt.plot(history.history['accuracy'], label='train')\n",
    "#plt.plot(history.history['val_accuracy'], label='validation')\n",
    "plt.title('Accuracy')\n",
    "plt.xlabel('Epochs')\n",
    "plt.ylabel('Accuracy')\n",
    "plt.legend()\n",
    "\n",
    "plt.subplot(1,2,2)\n",
    "plt.plot(history.history['loss'], label='train')\n",
    "#plt.plot(history.history['val_loss'], label='validation')\n",
    "plt.title('Loss')\n",
    "plt.xlabel('Epochs')\n",
    "plt.ylabel('Loss')\n",
    "plt.legend()\n",
    "\n",
    "plt.tight_layout()\n",
    "plt.show()"
   ]
  },
  {
   "cell_type": "code",
   "execution_count": 25,
   "metadata": {},
   "outputs": [
    {
     "data": {
      "text/plain": [
       "[5263209994.24, 0.0]"
      ]
     },
     "execution_count": 25,
     "metadata": {},
     "output_type": "execute_result"
    }
   ],
   "source": [
    "results"
   ]
  },
  {
   "cell_type": "code",
   "execution_count": null,
   "metadata": {},
   "outputs": [],
   "source": []
  },
  {
   "cell_type": "markdown",
   "metadata": {},
   "source": [
    "Over the reduced set of:  \n",
    "* 8 classes\n",
    "* 1000 samples each  \n",
    "\n",
    "A baseline model of a fully connected neural net achieves 28% accuracy over the test set. We will extend this model using more current architectures."
   ]
  },
  {
   "cell_type": "code",
   "execution_count": null,
   "metadata": {},
   "outputs": [],
   "source": [
    "Over the same set, the multila"
   ]
  },
  {
   "cell_type": "code",
   "execution_count": null,
   "metadata": {},
   "outputs": [],
   "source": [
    "test_hist=model.evaluate(x=X_test,\n",
    "        y=y_test,\n",
    "        batch_size=BS,\n",
    "        verbose=1,\n",
    "        sample_weight=None,\n",
    "        steps=None,\n",
    "        callbacks=None,\n",
    "        max_queue_size=10,\n",
    "        workers=1,\n",
    "        use_multiprocessing=False\n",
    "        \n",
    "    )"
   ]
  },
  {
   "cell_type": "code",
   "execution_count": null,
   "metadata": {},
   "outputs": [],
   "source": [
    "test_hist"
   ]
  },
  {
   "cell_type": "code",
   "execution_count": null,
   "metadata": {
    "scrolled": true
   },
   "outputs": [],
   "source": [
    "keras.backend.clear_session()\n",
    "\n",
    "model = keras.models.Sequential()\n",
    "model.add(Reshape((-1, 1), input_shape=(X_train.shape[1],)))\n",
    "model.add(Conv1D(128, 512, activation=\"relu\", strides=512))\n",
    "model.add(Conv1D(32, 8, activation='relu'))\n",
    "model.add(MaxPooling1D(4))\n",
    "model.add(Conv1D(32, 8, activation='relu'))\n",
    "model.add(MaxPooling1D(4))\n",
    "#print(model.output_shape)\n",
    "#model.add(Dropout(0.25))\n",
    "#model.add(Flatten(input_shape=(0,0,32)))\n",
    "#print(model.output_shape)\n",
    "model.add(Dense(200, activation='relu'))\n",
    "model.add(Dense(y_train.shape[1], activation='softmax'))\n",
    "\n",
    "\n",
    "#optimizer = keras.optimizers.SGD(lr=0.1, momentum=0.9, nesterov=True)\n",
    "optimizer=keras.optimizers.adam()\n",
    "model.compile(optimizer, loss='categorical_crossentropy', metrics=['accuracy'])\n",
    "model.summary()"
   ]
  },
  {
   "cell_type": "code",
   "execution_count": null,
   "metadata": {},
   "outputs": [],
   "source": [
    "EPOCHS = 10\n",
    "BS = 32\n",
    "history=model.fit(\n",
    "        x=X_train,\n",
    "        y=y_train,\n",
    "        batch_size=BS,\n",
    "        epochs=EPOCHS,\n",
    "        verbose=1,\n",
    "        callbacks=None,\n",
    "        validation_split=0.0,\n",
    "        validation_data=(X_val,y_val),\n",
    "        shuffle=True,        \n",
    "        validation_freq=2,\n",
    "        max_queue_size=10,\n",
    "        workers=1,\n",
    "        use_multiprocessing=True\n",
    "        )"
   ]
  },
  {
   "cell_type": "code",
   "execution_count": null,
   "metadata": {},
   "outputs": [],
   "source": [
    "plt.figure(figsize=(15,7))\n",
    "\n",
    "plt.subplot(1,2,1)\n",
    "plt.plot(history.history['accuracy'], label='train')\n",
    "#plt.plot(history.history['val_accuracy'], label='validation')\n",
    "plt.title('Accuracy')\n",
    "plt.xlabel('Epochs')\n",
    "plt.ylabel('Accuracy')\n",
    "plt.legend()\n",
    "\n",
    "plt.subplot(1,2,2)\n",
    "plt.plot(history.history['loss'], label='train')\n",
    "#plt.plot(history.history['val_loss'], label='validation')\n",
    "plt.title('Loss')\n",
    "plt.xlabel('Epochs')\n",
    "plt.ylabel('Loss')\n",
    "plt.legend()\n",
    "\n",
    "plt.tight_layout()\n",
    "plt.show()"
   ]
  },
  {
   "cell_type": "code",
   "execution_count": null,
   "metadata": {},
   "outputs": [],
   "source": [
    "test_hist=model.evaluate(x=X_test,\n",
    "        y=y_test,\n",
    "        batch_size=BS,\n",
    "        verbose=1,\n",
    "        sample_weight=None,\n",
    "        steps=None,\n",
    "        callbacks=None,\n",
    "        max_queue_size=10,\n",
    "        workers=1,\n",
    "        use_multiprocessing=False\n",
    "        \n",
    "    )"
   ]
  },
  {
   "cell_type": "code",
   "execution_count": null,
   "metadata": {},
   "outputs": [],
   "source": [
    "test_hist"
   ]
  },
  {
   "cell_type": "code",
   "execution_count": null,
   "metadata": {},
   "outputs": [],
   "source": [
    "#from stanford\n",
    "import numpy as np\n",
    "\n",
    "from keras.models import Sequential\n",
    "from my_classes import DataGenerator\n",
    "\n",
    "# Parameters\n",
    "params = {'dim': (32,32,32),\n",
    "          'batch_size': 64,\n",
    "          'n_classes': 6,\n",
    "          'n_channels': 1,\n",
    "          'shuffle': True}\n",
    "\n",
    "# Datasets\n",
    "partition = # IDs\n",
    "labels = # Labels\n",
    "\n",
    "# Generators\n",
    "training_generator = DataGenerator(partition['train'], labels, **params)\n",
    "validation_generator = DataGenerator(partition['validation'], labels, **params)\n",
    "\n",
    "# Design model\n",
    "model = Sequential()\n",
    "[...] # Architecture\n",
    "model.compile()\n",
    "\n",
    "# Train model on dataset\n",
    "model.fit_generator(generator=training_generator,\n",
    "                    validation_data=validation_generator,\n",
    "                    use_multiprocessing=True,\n",
    "                    workers=6)"
   ]
  },
  {
   "cell_type": "code",
   "execution_count": null,
   "metadata": {},
   "outputs": [],
   "source": [
    "plt.figure(figsize=(15,7))\n",
    "\n",
    "plt.subplot(1,2,1)\n",
    "plt.plot(history.history['accuracy'], label='train')\n",
    "#plt.plot(history.history['val_accuracy'], label='validation')\n",
    "plt.title('Accuracy')\n",
    "plt.xlabel('Epochs')\n",
    "plt.ylabel('Accuracy')\n",
    "plt.legend()\n",
    "\n",
    "plt.subplot(1,2,2)\n",
    "plt.plot(history.history['loss'], label='train')\n",
    "#plt.plot(history.history['val_loss'], label='validation')\n",
    "plt.title('Loss')\n",
    "plt.xlabel('Epochs')\n",
    "plt.ylabel('Loss')\n",
    "plt.legend()\n",
    "\n",
    "plt.tight_layout()\n",
    "plt.show()"
   ]
  },
  {
   "cell_type": "code",
   "execution_count": null,
   "metadata": {},
   "outputs": [],
   "source": [
    "#use loaded mfccs\n",
    "\n",
    "# Split in training, validation and testing sets.\n",
    "y_train = labels.loc[train].values\n",
    "y_val = labels.loc[val].values\n",
    "y_test = labels.loc[test].values\n",
    "X_train = features_used.loc[train].values\n",
    "X_val = features_used.loc[val].values\n",
    "X_test = features_used.loc[test].values\n",
    "    \n",
    "X_train, y_train = shuffle(X_train, y_train, random_state=42)"
   ]
  },
  {
   "cell_type": "code",
   "execution_count": null,
   "metadata": {},
   "outputs": [],
   "source": [
    "enc=MultiLabelBinarizer()\n",
    "\n",
    "# Split in training, validation and testing sets.\n",
    "y_train = enc.fit_transform(labels[train])\n",
    "y_val = enc.transform(labels[val])\n",
    "y_test = enc.transform(labels[test])\n",
    "X_train = features_used.loc[train].values\n",
    "X_val = features_used.loc[val].values\n",
    "X_test = features_used.loc[test].values\n",
    "    \n",
    "X_train, y_train = shuffle(X_train, y_train, random_state=42)"
   ]
  },
  {
   "cell_type": "code",
   "execution_count": null,
   "metadata": {},
   "outputs": [],
   "source": [
    "scaler = StandardScaler(copy=False)\n",
    "scaler.fit_transform(X_train)\n",
    "scaler.transform(X_val)\n",
    "scaler.transform(X_test)"
   ]
  },
  {
   "cell_type": "code",
   "execution_count": null,
   "metadata": {},
   "outputs": [],
   "source": [
    "X_train[0].shape"
   ]
  },
  {
   "cell_type": "code",
   "execution_count": null,
   "metadata": {},
   "outputs": [],
   "source": [
    "import audioread\n"
   ]
  },
  {
   "cell_type": "code",
   "execution_count": null,
   "metadata": {},
   "outputs": [],
   "source": [
    "#load all with librosa\n",
    "\n",
    "#@jit(nopython=False)\n",
    "def load_16k(dic):\n",
    "    #SR=16000\n",
    "    \n",
    "    for idx,row in fma_tracks.iterrows():\n",
    "        x,sr=librosa.load(row['filepath'],duration=10,dtype=np.int16)\n",
    "        dic.update({idx:x})\n",
    "    return dic"
   ]
  },
  {
   "cell_type": "code",
   "execution_count": null,
   "metadata": {
    "scrolled": false
   },
   "outputs": [],
   "source": [
    "X_dict={}\n",
    "load_16k(X_dict)\n"
   ]
  },
  {
   "cell_type": "code",
   "execution_count": null,
   "metadata": {},
   "outputs": [],
   "source": [
    "len(X_dict)"
   ]
  },
  {
   "cell_type": "code",
   "execution_count": null,
   "metadata": {},
   "outputs": [],
   "source": [
    "audio_df=pd.DataFrame.from_dict(X_dict,orient='index')"
   ]
  },
  {
   "cell_type": "code",
   "execution_count": null,
   "metadata": {},
   "outputs": [],
   "source": [
    "audio_df.shape"
   ]
  },
  {
   "cell_type": "code",
   "execution_count": null,
   "metadata": {},
   "outputs": [],
   "source": [
    "pickle.dump(audio_df,open(\"saved/audio_df.p\",\"wb\"))"
   ]
  },
  {
   "cell_type": "code",
   "execution_count": null,
   "metadata": {},
   "outputs": [],
   "source": [
    "ar=audioread.ffdec.FFmpegAudioFile('data/fma_large/000/000002.mp3')\n",
    "ar."
   ]
  },
  {
   "cell_type": "code",
   "execution_count": null,
   "metadata": {},
   "outputs": [],
   "source": [
    "import decode\n",
    "x=decode.decode('data/fma_large/000/000002.mp3')"
   ]
  },
  {
   "cell_type": "markdown",
   "metadata": {},
   "source": [
    "For the baseline model, we will use the architecture of a convolutional neural net cited in the FMA repository"
   ]
  },
  {
   "cell_type": "code",
   "execution_count": null,
   "metadata": {},
   "outputs": [],
   "source": [
    "x.shape"
   ]
  },
  {
   "cell_type": "code",
   "execution_count": null,
   "metadata": {},
   "outputs": [],
   "source": [
    "\n",
    "keras.backend.clear_session()\n",
    "\n",
    "model = keras.models.Sequential()\n",
    "model.add(Dense(256, activation='relu',input_shape=(X_train.shape[0],)))\n",
    "model.add(Dense(128, activation='relu'))\n",
    "model.add(Dense(64, activation='relu'))\n",
    "#model.add(Reshape((-1, 1), input_shape=(X_train.shape[1],)))\n",
    "#model.add(Conv1D(128, 512, activation='relu', strides=512))\n",
    "#model.add(Conv1D(32, 8, activation='relu'))\n",
    "#model.add(MaxPooling1D(4))\n",
    "#model.add(Conv1D(32, 8, activation='relu'))\n",
    "#model.add(MaxPooling1D(4))\n",
    "#model.add(Flatten())\n",
    "#model.add(Dense(100, activation='relu'))\n",
    "#model.add(Dense(labels_onehot.shape[1], activation='softmax'))\n",
    "model.add(Dense(y_train.shape[1], activation='softmax'))\n",
    "\n",
    "\n",
    "#optimizer = keras.optimizers.SGD(lr=0.1, momentum=0.9, nesterov=True)\n",
    "optimizer=keras.optimizers.adam()\n",
    "model.compile(optimizer, loss='categorical_crossentropy', metrics=['accuracy'])\n",
    "model.summary()"
   ]
  },
  {
   "cell_type": "code",
   "execution_count": null,
   "metadata": {},
   "outputs": [],
   "source": [
    "EPOCHS = 30\n",
    "BS = 16\n",
    "history=model.fit(X_train,y_train, epochs=EPOCHS, batch_size=BS)"
   ]
  },
  {
   "cell_type": "code",
   "execution_count": null,
   "metadata": {},
   "outputs": [],
   "source": [
    "datagen=ImageDataGenerator.flow_from_dataframe(\n",
    "    dataframe=fma_tracks,\n",
    "    directory=None,\n",
    "    x_col=\"filepath\",\n",
    "    y_col=\"label\",\n",
    "    weight_col=None,\n",
    "    target_size=(256, 256),\n",
    "    color_mode=\"rgb\",\n",
    "    classes=None,\n",
    "    class_mode=\"sparse\",\n",
    "    batch_size=32,\n",
    "    shuffle=True,\n",
    "    seed=42,\n",
    "    save_to_dir=None,\n",
    "    save_prefix=\"\",\n",
    "    save_format=\"png\",\n",
    "    subset=None,\n",
    "    interpolation=\"nearest\",\n",
    "    validate_filenames=False,\n",
    "    #**kwargs\n",
    ")"
   ]
  },
  {
   "cell_type": "code",
   "execution_count": null,
   "metadata": {},
   "outputs": [],
   "source": [
    "br=22050\n",
    "l=30\n",
    "n=8000\n",
    "br*n*l"
   ]
  },
  {
   "cell_type": "code",
   "execution_count": null,
   "metadata": {},
   "outputs": [],
   "source": []
  }
 ],
 "metadata": {
  "kernelspec": {
   "display_name": "Python 3",
   "language": "python",
   "name": "python3"
  },
  "language_info": {
   "codemirror_mode": {
    "name": "ipython",
    "version": 3
   },
   "file_extension": ".py",
   "mimetype": "text/x-python",
   "name": "python",
   "nbconvert_exporter": "python",
   "pygments_lexer": "ipython3",
   "version": "3.7.6"
  }
 },
 "nbformat": 4,
 "nbformat_minor": 4
}
