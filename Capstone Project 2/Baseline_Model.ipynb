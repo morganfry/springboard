{
 "cells": [
  {
   "cell_type": "code",
   "execution_count": 1,
   "metadata": {},
   "outputs": [
    {
     "name": "stderr",
     "output_type": "stream",
     "text": [
      "Using TensorFlow backend.\n"
     ]
    }
   ],
   "source": [
    "import numpy as np\n",
    "import pandas as pd\n",
    "import matplotlib.pyplot as plt  \n",
    "%matplotlib inline\n",
    "import pickle\n",
    "\n",
    "import keras\n",
    "from keras.layers import Activation, Dense, Conv1D, Conv2D, MaxPooling1D, Flatten, Reshape, Dropout\n",
    "from keras.models import Sequential\n",
    "\n",
    "from sklearn.utils import shuffle\n",
    "from sklearn.preprocessing import MultiLabelBinarizer, LabelEncoder, StandardScaler\n",
    "from sklearn.linear_model import LogisticRegression\n",
    "from sklearn.metrics import classification_report"
   ]
  },
  {
   "cell_type": "code",
   "execution_count": 2,
   "metadata": {},
   "outputs": [],
   "source": [
    "features = pd.read_csv('data/features.csv', index_col=0, header=[0, 1, 2])\n",
    "fma_single = pickle.load(open(\"saved/fma_single.p\", \"rb\"))"
   ]
  },
  {
   "cell_type": "code",
   "execution_count": 3,
   "metadata": {},
   "outputs": [],
   "source": [
    "fma_multi=pickle.load(open(\"saved/fma_multi.p\",\"rb\"))"
   ]
  },
  {
   "cell_type": "code",
   "execution_count": 4,
   "metadata": {
    "scrolled": true
   },
   "outputs": [
    {
     "data": {
      "text/html": [
       "<div>\n",
       "<style scoped>\n",
       "    .dataframe tbody tr th:only-of-type {\n",
       "        vertical-align: middle;\n",
       "    }\n",
       "\n",
       "    .dataframe tbody tr th {\n",
       "        vertical-align: top;\n",
       "    }\n",
       "\n",
       "    .dataframe thead th {\n",
       "        text-align: right;\n",
       "    }\n",
       "</style>\n",
       "<table border=\"1\" class=\"dataframe\">\n",
       "  <thead>\n",
       "    <tr style=\"text-align: right;\">\n",
       "      <th></th>\n",
       "      <th>split</th>\n",
       "      <th>subset</th>\n",
       "      <th>filepath</th>\n",
       "      <th>genres_all</th>\n",
       "      <th>genre_top</th>\n",
       "    </tr>\n",
       "    <tr>\n",
       "      <th>track_id</th>\n",
       "      <th></th>\n",
       "      <th></th>\n",
       "      <th></th>\n",
       "      <th></th>\n",
       "      <th></th>\n",
       "    </tr>\n",
       "  </thead>\n",
       "  <tbody>\n",
       "    <tr>\n",
       "      <th>2</th>\n",
       "      <td>training</td>\n",
       "      <td>small</td>\n",
       "      <td>data/fma_large/000/000002.mp3</td>\n",
       "      <td>[21]</td>\n",
       "      <td>Hip-Hop</td>\n",
       "    </tr>\n",
       "    <tr>\n",
       "      <th>3</th>\n",
       "      <td>training</td>\n",
       "      <td>medium</td>\n",
       "      <td>data/fma_large/000/000003.mp3</td>\n",
       "      <td>[21]</td>\n",
       "      <td>Hip-Hop</td>\n",
       "    </tr>\n",
       "    <tr>\n",
       "      <th>5</th>\n",
       "      <td>training</td>\n",
       "      <td>small</td>\n",
       "      <td>data/fma_large/000/000005.mp3</td>\n",
       "      <td>[21]</td>\n",
       "      <td>Hip-Hop</td>\n",
       "    </tr>\n",
       "    <tr>\n",
       "      <th>10</th>\n",
       "      <td>training</td>\n",
       "      <td>small</td>\n",
       "      <td>data/fma_large/000/000010.mp3</td>\n",
       "      <td>[10]</td>\n",
       "      <td>Pop</td>\n",
       "    </tr>\n",
       "    <tr>\n",
       "      <th>20</th>\n",
       "      <td>training</td>\n",
       "      <td>large</td>\n",
       "      <td>data/fma_large/000/000020.mp3</td>\n",
       "      <td>[17, 10, 76, 103]</td>\n",
       "      <td>NaN</td>\n",
       "    </tr>\n",
       "  </tbody>\n",
       "</table>\n",
       "</div>"
      ],
      "text/plain": [
       "             split  subset                       filepath         genres_all  \\\n",
       "track_id                                                                       \n",
       "2         training   small  data/fma_large/000/000002.mp3               [21]   \n",
       "3         training  medium  data/fma_large/000/000003.mp3               [21]   \n",
       "5         training   small  data/fma_large/000/000005.mp3               [21]   \n",
       "10        training   small  data/fma_large/000/000010.mp3               [10]   \n",
       "20        training   large  data/fma_large/000/000020.mp3  [17, 10, 76, 103]   \n",
       "\n",
       "         genre_top  \n",
       "track_id            \n",
       "2          Hip-Hop  \n",
       "3          Hip-Hop  \n",
       "5          Hip-Hop  \n",
       "10             Pop  \n",
       "20             NaN  "
      ]
     },
     "execution_count": 4,
     "metadata": {},
     "output_type": "execute_result"
    }
   ],
   "source": [
    "fma_multi.head()"
   ]
  },
  {
   "cell_type": "markdown",
   "metadata": {},
   "source": [
    "For the baseline model we are going to use the 'small' set of 8000 tracks in 8 classes, and train the model on the mfccs of the tracks which we extracted earlier."
   ]
  },
  {
   "cell_type": "code",
   "execution_count": 5,
   "metadata": {},
   "outputs": [],
   "source": [
    "#load mfccs\n",
    "mfcc_df=pickle.load(open(\"saved/mfcc_small.p\",\"rb\"))"
   ]
  },
  {
   "cell_type": "code",
   "execution_count": 6,
   "metadata": {},
   "outputs": [
    {
     "data": {
      "text/plain": [
       "(7997, 23232)"
      ]
     },
     "execution_count": 6,
     "metadata": {},
     "output_type": "execute_result"
    }
   ],
   "source": [
    "mfcc_df.shape"
   ]
  },
  {
   "cell_type": "code",
   "execution_count": 7,
   "metadata": {},
   "outputs": [
    {
     "data": {
      "text/html": [
       "<div>\n",
       "<style scoped>\n",
       "    .dataframe tbody tr th:only-of-type {\n",
       "        vertical-align: middle;\n",
       "    }\n",
       "\n",
       "    .dataframe tbody tr th {\n",
       "        vertical-align: top;\n",
       "    }\n",
       "\n",
       "    .dataframe thead th {\n",
       "        text-align: right;\n",
       "    }\n",
       "</style>\n",
       "<table border=\"1\" class=\"dataframe\">\n",
       "  <thead>\n",
       "    <tr style=\"text-align: right;\">\n",
       "      <th></th>\n",
       "      <th>0</th>\n",
       "      <th>1</th>\n",
       "      <th>2</th>\n",
       "      <th>3</th>\n",
       "      <th>4</th>\n",
       "      <th>5</th>\n",
       "      <th>6</th>\n",
       "      <th>7</th>\n",
       "      <th>8</th>\n",
       "      <th>9</th>\n",
       "      <th>...</th>\n",
       "      <th>23222</th>\n",
       "      <th>23223</th>\n",
       "      <th>23224</th>\n",
       "      <th>23225</th>\n",
       "      <th>23226</th>\n",
       "      <th>23227</th>\n",
       "      <th>23228</th>\n",
       "      <th>23229</th>\n",
       "      <th>23230</th>\n",
       "      <th>23231</th>\n",
       "    </tr>\n",
       "  </thead>\n",
       "  <tbody>\n",
       "    <tr>\n",
       "      <th>2</th>\n",
       "      <td>-299.542053</td>\n",
       "      <td>-202.513412</td>\n",
       "      <td>-159.976059</td>\n",
       "      <td>-115.456413</td>\n",
       "      <td>-80.415161</td>\n",
       "      <td>-67.523239</td>\n",
       "      <td>-57.689404</td>\n",
       "      <td>-65.464790</td>\n",
       "      <td>-84.703659</td>\n",
       "      <td>-96.179939</td>\n",
       "      <td>...</td>\n",
       "      <td>-5.861199</td>\n",
       "      <td>-4.460218</td>\n",
       "      <td>-6.887738</td>\n",
       "      <td>-7.665272</td>\n",
       "      <td>6.717929</td>\n",
       "      <td>12.769140</td>\n",
       "      <td>11.439809</td>\n",
       "      <td>9.167293</td>\n",
       "      <td>7.916427</td>\n",
       "      <td>5.665779</td>\n",
       "    </tr>\n",
       "    <tr>\n",
       "      <th>5</th>\n",
       "      <td>-324.059723</td>\n",
       "      <td>-227.421249</td>\n",
       "      <td>-186.883606</td>\n",
       "      <td>-158.489868</td>\n",
       "      <td>-94.902466</td>\n",
       "      <td>-95.517578</td>\n",
       "      <td>-106.146324</td>\n",
       "      <td>-70.498611</td>\n",
       "      <td>-45.091522</td>\n",
       "      <td>-41.156029</td>\n",
       "      <td>...</td>\n",
       "      <td>-6.403229</td>\n",
       "      <td>-4.675876</td>\n",
       "      <td>5.932048</td>\n",
       "      <td>19.163589</td>\n",
       "      <td>24.138350</td>\n",
       "      <td>12.146925</td>\n",
       "      <td>1.931949</td>\n",
       "      <td>-0.370714</td>\n",
       "      <td>1.137535</td>\n",
       "      <td>-0.625799</td>\n",
       "    </tr>\n",
       "    <tr>\n",
       "      <th>10</th>\n",
       "      <td>-71.376122</td>\n",
       "      <td>-32.296730</td>\n",
       "      <td>-29.356266</td>\n",
       "      <td>-38.037708</td>\n",
       "      <td>-44.881695</td>\n",
       "      <td>-45.910717</td>\n",
       "      <td>-31.081173</td>\n",
       "      <td>8.275231</td>\n",
       "      <td>28.077381</td>\n",
       "      <td>6.006516</td>\n",
       "      <td>...</td>\n",
       "      <td>9.814901</td>\n",
       "      <td>0.409050</td>\n",
       "      <td>-6.546686</td>\n",
       "      <td>-4.728213</td>\n",
       "      <td>-2.329597</td>\n",
       "      <td>4.121199</td>\n",
       "      <td>8.337200</td>\n",
       "      <td>8.429386</td>\n",
       "      <td>10.133602</td>\n",
       "      <td>11.033691</td>\n",
       "    </tr>\n",
       "    <tr>\n",
       "      <th>140</th>\n",
       "      <td>-561.324280</td>\n",
       "      <td>-523.545837</td>\n",
       "      <td>-449.814423</td>\n",
       "      <td>-342.445557</td>\n",
       "      <td>-306.727356</td>\n",
       "      <td>-308.809631</td>\n",
       "      <td>-307.733276</td>\n",
       "      <td>-317.345245</td>\n",
       "      <td>-362.774811</td>\n",
       "      <td>-419.306946</td>\n",
       "      <td>...</td>\n",
       "      <td>1.818927</td>\n",
       "      <td>3.912658</td>\n",
       "      <td>4.593844</td>\n",
       "      <td>2.139801</td>\n",
       "      <td>-4.394735</td>\n",
       "      <td>-5.267244</td>\n",
       "      <td>-6.697974</td>\n",
       "      <td>-5.783470</td>\n",
       "      <td>-5.886441</td>\n",
       "      <td>-3.706590</td>\n",
       "    </tr>\n",
       "    <tr>\n",
       "      <th>141</th>\n",
       "      <td>-464.980743</td>\n",
       "      <td>-371.434326</td>\n",
       "      <td>-330.917175</td>\n",
       "      <td>-342.813904</td>\n",
       "      <td>-362.013550</td>\n",
       "      <td>-368.364441</td>\n",
       "      <td>-361.755188</td>\n",
       "      <td>-358.438049</td>\n",
       "      <td>-365.668640</td>\n",
       "      <td>-375.685730</td>\n",
       "      <td>...</td>\n",
       "      <td>0.601643</td>\n",
       "      <td>-0.995060</td>\n",
       "      <td>0.146230</td>\n",
       "      <td>3.676285</td>\n",
       "      <td>-1.177926</td>\n",
       "      <td>-2.822582</td>\n",
       "      <td>4.884428</td>\n",
       "      <td>3.736303</td>\n",
       "      <td>2.701882</td>\n",
       "      <td>-2.805002</td>\n",
       "    </tr>\n",
       "  </tbody>\n",
       "</table>\n",
       "<p>5 rows × 23232 columns</p>\n",
       "</div>"
      ],
      "text/plain": [
       "          0           1           2           3           4           5      \\\n",
       "2   -299.542053 -202.513412 -159.976059 -115.456413  -80.415161  -67.523239   \n",
       "5   -324.059723 -227.421249 -186.883606 -158.489868  -94.902466  -95.517578   \n",
       "10   -71.376122  -32.296730  -29.356266  -38.037708  -44.881695  -45.910717   \n",
       "140 -561.324280 -523.545837 -449.814423 -342.445557 -306.727356 -308.809631   \n",
       "141 -464.980743 -371.434326 -330.917175 -342.813904 -362.013550 -368.364441   \n",
       "\n",
       "          6           7           8           9      ...     23222     23223  \\\n",
       "2    -57.689404  -65.464790  -84.703659  -96.179939  ... -5.861199 -4.460218   \n",
       "5   -106.146324  -70.498611  -45.091522  -41.156029  ... -6.403229 -4.675876   \n",
       "10   -31.081173    8.275231   28.077381    6.006516  ...  9.814901  0.409050   \n",
       "140 -307.733276 -317.345245 -362.774811 -419.306946  ...  1.818927  3.912658   \n",
       "141 -361.755188 -358.438049 -365.668640 -375.685730  ...  0.601643 -0.995060   \n",
       "\n",
       "        23224      23225      23226      23227      23228     23229  \\\n",
       "2   -6.887738  -7.665272   6.717929  12.769140  11.439809  9.167293   \n",
       "5    5.932048  19.163589  24.138350  12.146925   1.931949 -0.370714   \n",
       "10  -6.546686  -4.728213  -2.329597   4.121199   8.337200  8.429386   \n",
       "140  4.593844   2.139801  -4.394735  -5.267244  -6.697974 -5.783470   \n",
       "141  0.146230   3.676285  -1.177926  -2.822582   4.884428  3.736303   \n",
       "\n",
       "         23230      23231  \n",
       "2     7.916427   5.665779  \n",
       "5     1.137535  -0.625799  \n",
       "10   10.133602  11.033691  \n",
       "140  -5.886441  -3.706590  \n",
       "141   2.701882  -2.805002  \n",
       "\n",
       "[5 rows x 23232 columns]"
      ]
     },
     "execution_count": 7,
     "metadata": {},
     "output_type": "execute_result"
    }
   ],
   "source": [
    "mfcc_df.head()"
   ]
  },
  {
   "cell_type": "code",
   "execution_count": 8,
   "metadata": {},
   "outputs": [],
   "source": [
    "#use the 8000 track balanced subset for baseline modeling\n",
    "subset = fma_single.index[fma_single['subset'] == 'small']\n",
    "tracks_sub=fma_multi.loc[subset]\n",
    "mfcc_sub=mfcc_df.loc[subset]\n"
   ]
  },
  {
   "cell_type": "code",
   "execution_count": 9,
   "metadata": {},
   "outputs": [],
   "source": [
    "#fill nan\n",
    "mfcc_sub.fillna(value=0,inplace=True)"
   ]
  },
  {
   "cell_type": "code",
   "execution_count": 10,
   "metadata": {},
   "outputs": [
    {
     "name": "stdout",
     "output_type": "stream",
     "text": [
      "7997 7997\n"
     ]
    }
   ],
   "source": [
    "print(len(mfcc_sub),len(tracks_sub))"
   ]
  },
  {
   "cell_type": "code",
   "execution_count": 11,
   "metadata": {},
   "outputs": [],
   "source": [
    "#use the built in train/test/validation split in case we want to compare to other models over this dataset\n",
    "train = tracks_sub.index[tracks_sub['split'] == 'training']\n",
    "val = tracks_sub.index[tracks_sub['split'] == 'validation']\n",
    "test = tracks_sub.index[tracks_sub['split'] == 'test']"
   ]
  },
  {
   "cell_type": "code",
   "execution_count": 12,
   "metadata": {},
   "outputs": [
    {
     "name": "stdout",
     "output_type": "stream",
     "text": [
      "6397 800 800\n"
     ]
    }
   ],
   "source": [
    "print(len(train),len(val),len(test))"
   ]
  },
  {
   "cell_type": "code",
   "execution_count": 13,
   "metadata": {},
   "outputs": [],
   "source": [
    "#preprocessing single label\n",
    "\n",
    "#enc=MultiLabelBinarizer()\n",
    "enc=LabelEncoder()\n",
    "labels=tracks_sub['genre_top']\n",
    "#labels=y_df\n",
    "\n",
    "# Split in training, validation and testing sets.\n",
    "\n",
    "#single label\n",
    "y_train = enc.fit_transform(labels[train])\n",
    "y_val = enc.transform(labels[val])\n",
    "y_test = enc.transform(labels[test])\n",
    "#y_train = track_sub['label']\n",
    "\n",
    "X_train = mfcc_sub.loc[train].values\n",
    "X_val = mfcc_sub.loc[val].values\n",
    "X_test = mfcc_sub.loc[test].values\n",
    "    \n",
    "X_train, y_train = shuffle(X_train, y_train, random_state=42)\n",
    "\n",
    "# Standardize features\n",
    "scaler =StandardScaler(copy=False)\n",
    "X_train=scaler.fit_transform(X_train)\n",
    "X_val=scaler.transform(X_val)\n",
    "X_test=scaler.transform(X_test)"
   ]
  },
  {
   "cell_type": "code",
   "execution_count": 14,
   "metadata": {},
   "outputs": [
    {
     "name": "stdout",
     "output_type": "stream",
     "text": [
      "CPU times: user 167 ms, sys: 806 ms, total: 973 ms\n",
      "Wall time: 2min 36s\n"
     ]
    },
    {
     "data": {
      "text/plain": [
       "LogisticRegression(max_iter=200, multi_class='multinomial', n_jobs=-1)"
      ]
     },
     "execution_count": 14,
     "metadata": {},
     "output_type": "execute_result"
    }
   ],
   "source": [
    "%%time\n",
    "clf=LogisticRegression(max_iter = 200, \n",
    "                       multi_class='multinomial',\n",
    "                       n_jobs = -1)\n",
    "\n",
    "clf.fit(X_train,y_train)"
   ]
  },
  {
   "cell_type": "code",
   "execution_count": 15,
   "metadata": {},
   "outputs": [
    {
     "name": "stdout",
     "output_type": "stream",
     "text": [
      "Classification Report (test set)\n",
      "              precision    recall  f1-score   support\n",
      "\n",
      "           0       0.28      0.34      0.31       100\n",
      "           1       0.18      0.25      0.21       100\n",
      "           2       0.15      0.13      0.14       100\n",
      "           3       0.28      0.19      0.23       100\n",
      "           4       0.22      0.23      0.23       100\n",
      "           5       0.29      0.19      0.23       100\n",
      "           6       0.11      0.10      0.10       100\n",
      "           7       0.30      0.36      0.33       100\n",
      "\n",
      "    accuracy                           0.22       800\n",
      "   macro avg       0.23      0.22      0.22       800\n",
      "weighted avg       0.23      0.22      0.22       800\n",
      "\n"
     ]
    }
   ],
   "source": [
    "print('Classification Report (test set)')\n",
    "print(classification_report(y_test,clf.predict(X_test)))"
   ]
  },
  {
   "cell_type": "code",
   "execution_count": 16,
   "metadata": {},
   "outputs": [
    {
     "name": "stdout",
     "output_type": "stream",
     "text": [
      "Model: \"sequential_1\"\n",
      "_________________________________________________________________\n",
      "Layer (type)                 Output Shape              Param #   \n",
      "=================================================================\n",
      "dense_1 (Dense)              (None, 512)               11895296  \n",
      "_________________________________________________________________\n",
      "dense_2 (Dense)              (None, 256)               131328    \n",
      "_________________________________________________________________\n",
      "dense_3 (Dense)              (None, 128)               32896     \n",
      "_________________________________________________________________\n",
      "dense_4 (Dense)              (None, 64)                8256      \n",
      "_________________________________________________________________\n",
      "dense_5 (Dense)              (None, 8)                 520       \n",
      "=================================================================\n",
      "Total params: 12,068,296\n",
      "Trainable params: 12,068,296\n",
      "Non-trainable params: 0\n",
      "_________________________________________________________________\n"
     ]
    }
   ],
   "source": [
    "keras.backend.clear_session()\n",
    "\n",
    "model = keras.models.Sequential()\n",
    "model.add(Dense(512, activation='relu', input_shape=(X_train.shape[1],)))\n",
    "model.add(Dense(256, activation='relu'))\n",
    "model.add(Dense(128, activation='relu'))\n",
    "model.add(Dense(64, activation='relu'))\n",
    "model.add(Dense(8, activation='softmax'))\n",
    "\n",
    "model.compile(optimizer='adam',\n",
    "              loss='sparse_categorical_crossentropy',\n",
    "              metrics=['accuracy'])\n",
    "model.summary()"
   ]
  },
  {
   "cell_type": "code",
   "execution_count": 17,
   "metadata": {},
   "outputs": [
    {
     "name": "stdout",
     "output_type": "stream",
     "text": [
      "Train on 6397 samples, validate on 800 samples\n",
      "Epoch 1/10\n",
      "6397/6397 [==============================] - 1s 180us/step - loss: 2.5430 - accuracy: 0.2851 - val_loss: 1.9693 - val_accuracy: 0.2950\n",
      "Epoch 2/10\n",
      "6397/6397 [==============================] - 1s 122us/step - loss: 1.5525 - accuracy: 0.4610 - val_loss: 2.1106 - val_accuracy: 0.3350\n",
      "Epoch 3/10\n",
      "6397/6397 [==============================] - 1s 117us/step - loss: 1.1188 - accuracy: 0.6334 - val_loss: 2.0801 - val_accuracy: 0.3375\n",
      "Epoch 4/10\n",
      "6397/6397 [==============================] - 1s 119us/step - loss: 0.7259 - accuracy: 0.7897 - val_loss: 2.2033 - val_accuracy: 0.2975\n",
      "Epoch 5/10\n",
      "6397/6397 [==============================] - 1s 118us/step - loss: 0.4531 - accuracy: 0.8785 - val_loss: 2.3855 - val_accuracy: 0.3212\n",
      "Epoch 6/10\n",
      "6397/6397 [==============================] - 1s 120us/step - loss: 0.2811 - accuracy: 0.9329 - val_loss: 2.5739 - val_accuracy: 0.3137\n",
      "Epoch 7/10\n",
      "6397/6397 [==============================] - 1s 118us/step - loss: 0.1906 - accuracy: 0.9562 - val_loss: 2.9606 - val_accuracy: 0.2962\n",
      "Epoch 8/10\n",
      "6397/6397 [==============================] - 1s 119us/step - loss: 0.1240 - accuracy: 0.9742 - val_loss: 2.9328 - val_accuracy: 0.3038\n",
      "Epoch 9/10\n",
      "6397/6397 [==============================] - 1s 117us/step - loss: 0.0881 - accuracy: 0.9826 - val_loss: 3.2199 - val_accuracy: 0.2875\n",
      "Epoch 10/10\n",
      "6397/6397 [==============================] - 1s 119us/step - loss: 0.0558 - accuracy: 0.9902 - val_loss: 3.2244 - val_accuracy: 0.3413\n",
      "CPU times: user 7.55 s, sys: 743 ms, total: 8.29 s\n",
      "Wall time: 8.34 s\n"
     ]
    }
   ],
   "source": [
    "%%time\n",
    "history=model.fit(X_train,\n",
    "          y_train,\n",
    "          epochs=10,\n",
    "          batch_size=256,\n",
    "          validation_data=(X_val, y_val))"
   ]
  },
  {
   "cell_type": "code",
   "execution_count": 18,
   "metadata": {
    "scrolled": true
   },
   "outputs": [
    {
     "data": {
      "image/png": "[encoded data removed]",
      "text/plain": [
       "<Figure size 1080x504 with 2 Axes>"
      ]
     },
     "metadata": {
      "needs_background": "light"
     },
     "output_type": "display_data"
    }
   ],
   "source": [
    "plt.figure(figsize=(15,7))\n",
    "\n",
    "plt.subplot(1,2,1)\n",
    "plt.plot(history.history['accuracy'], label='train')\n",
    "#plt.plot(history.history['val_accuracy'], label='validation')\n",
    "plt.title('Accuracy')\n",
    "plt.xlabel('Epochs')\n",
    "plt.ylabel('Accuracy')\n",
    "plt.legend()\n",
    "\n",
    "plt.subplot(1,2,2)\n",
    "plt.plot(history.history['loss'], label='train')\n",
    "#plt.plot(history.history['val_loss'], label='validation')\n",
    "plt.title('Loss')\n",
    "plt.xlabel('Epochs')\n",
    "plt.ylabel('Loss')\n",
    "plt.legend()\n",
    "\n",
    "plt.tight_layout()\n",
    "plt.show()"
   ]
  },
  {
   "cell_type": "code",
   "execution_count": 19,
   "metadata": {},
   "outputs": [
    {
     "name": "stdout",
     "output_type": "stream",
     "text": [
      "Classification Report (test set)\n",
      "              precision    recall  f1-score   support\n",
      "\n",
      "           0       0.34      0.35      0.34       100\n",
      "           1       0.12      0.12      0.12       100\n",
      "           2       0.20      0.20      0.20       100\n",
      "           3       0.49      0.49      0.49       100\n",
      "           4       0.35      0.41      0.38       100\n",
      "           5       0.35      0.33      0.34       100\n",
      "           6       0.15      0.14      0.15       100\n",
      "           7       0.40      0.40      0.40       100\n",
      "\n",
      "    accuracy                           0.30       800\n",
      "   macro avg       0.30      0.30      0.30       800\n",
      "weighted avg       0.30      0.30      0.30       800\n",
      "\n"
     ]
    }
   ],
   "source": [
    "#make clear this is test set\n",
    "y_pred=model.predict_classes(X_test)\n",
    "print('Classification Report (test set)')\n",
    "print(classification_report(y_test,y_pred))"
   ]
  },
  {
   "cell_type": "markdown",
   "metadata": {},
   "source": [
    "Over the set of:  \n",
    "* 8 classes\n",
    "* 1000 samples each class\n",
    "\n",
    "A baseline model of a fully connected neural net achieves better accuracy over the test set than a Logistic Regression."
   ]
  },
  {
   "cell_type": "markdown",
   "metadata": {},
   "source": [
    "| Model | Accuracy(all classes) | Train Time |\n",
    "| --- | --- | --- |\n",
    "| Logistic Regression | .22 | 2m 36s |\n",
    "| Neural Net | .30 | 8.34s |\n"
   ]
  },
  {
   "cell_type": "markdown",
   "metadata": {},
   "source": [
    "I will extend this model using more complicated neural net architectures as follows:\n",
    "* Convolutiona Neural Net (CNN)\n",
    "* Long Short Term Memory (LSTM)\n",
    "* Combination architecture with both CNN and LSTM layers"
   ]
  },
  {
   "cell_type": "markdown",
   "metadata": {},
   "source": [
    " "
   ]
  }
 ],
 "metadata": {
  "kernelspec": {
   "display_name": "Python 3",
   "language": "python",
   "name": "python3"
  },
  "language_info": {
   "codemirror_mode": {
    "name": "ipython",
    "version": 3
   },
   "file_extension": ".py",
   "mimetype": "text/x-python",
   "name": "python",
   "nbconvert_exporter": "python",
   "pygments_lexer": "ipython3",
   "version": "3.7.7"
  }
 },
 "nbformat": 4,
 "nbformat_minor": 4
}
