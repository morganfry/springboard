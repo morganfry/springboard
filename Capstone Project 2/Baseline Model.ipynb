{
 "cells": [
  {
   "cell_type": "code",
   "execution_count": 1,
   "metadata": {},
   "outputs": [],
   "source": [
    "## Springboard Data Science Track Capstone Project 2\n",
    "### Music Genre Classification from Audio Samples\n",
    "### by Morgan Fry\n",
    "### Data Exploration and Analysis notebook"
   ]
  },
  {
   "cell_type": "code",
   "execution_count": 1,
   "metadata": {},
   "outputs": [
    {
     "name": "stderr",
     "output_type": "stream",
     "text": [
      "Using TensorFlow backend.\n"
     ]
    }
   ],
   "source": [
    "import numpy as np\n",
    "import pandas as pd\n",
    "import matplotlib.pyplot as plt  \n",
    "%matplotlib inline\n",
    "import librosa\n",
    "\n",
    "import pickle\n",
    "import seaborn as sns\n",
    "\n",
    "import keras\n",
    "from keras.layers import Activation, Dense, Conv1D, Conv2D, MaxPooling1D, Flatten, Reshape\n",
    "\n",
    "from sklearn.utils import shuffle\n",
    "from sklearn.preprocessing import MultiLabelBinarizer, LabelEncoder, StandardScaler"
   ]
  },
  {
   "cell_type": "markdown",
   "metadata": {},
   "source": [
    "For the baseline model, we'll work with the small dataset, and the preprocessed track data."
   ]
  },
  {
   "cell_type": "code",
   "execution_count": 2,
   "metadata": {},
   "outputs": [],
   "source": [
    "features=pd.read_csv('data/features.csv',index_col=0, header=[0,1,2])\n",
    "tracks=pickle.load(open(\"saved/tracks.p\",\"rb\"))\n",
    "\n",
    "np.testing.assert_array_equal(features.index, tracks.index)"
   ]
  },
  {
   "cell_type": "code",
   "execution_count": 3,
   "metadata": {},
   "outputs": [],
   "source": [
    "#using the 8000 track balanced subset for baseline modeling\n",
    "subset = tracks.index[tracks['set', 'subset'] == 'small']\n",
    "tracks = tracks.loc[subset]\n",
    "features_all = features.loc[subset]"
   ]
  },
  {
   "cell_type": "code",
   "execution_count": 4,
   "metadata": {},
   "outputs": [],
   "source": [
    "#use the train/test/validation split provided with the fma dataset \n",
    "#so we can compare accurately to past and future models\n",
    "\n",
    "train = tracks.index[tracks['set', 'split'] == 'training']\n",
    "val = tracks.index[tracks['set', 'split'] == 'validation']\n",
    "test = tracks.index[tracks['set', 'split'] == 'test']\n"
   ]
  },
  {
   "cell_type": "code",
   "execution_count": 26,
   "metadata": {},
   "outputs": [
    {
     "data": {
      "text/plain": [
       "(800, 126)"
      ]
     },
     "execution_count": 26,
     "metadata": {},
     "output_type": "execute_result"
    }
   ],
   "source": [
    "columns=['mmfcc','chroma_stft','tonnetz']\n",
    "features_all.loc[val,columns].shape"
   ]
  },
  {
   "cell_type": "code",
   "execution_count": 124,
   "metadata": {},
   "outputs": [],
   "source": [
    "#preprocessing multilabel\n",
    "\n",
    "enc=MultiLabelBinarizer()\n",
    "labels=tracks['track', 'genres_all']\n",
    "\n",
    "\n",
    "# Split in training, validation and testing sets.\n",
    "y_train = enc.fit_transform(labels[train])\n",
    "y_val = enc.transform(labels[val])\n",
    "y_test = enc.transform(labels[test])\n",
    "X_train = features_all.loc[train].values\n",
    "X_val = features_all.loc[val].values\n",
    "X_test = features_all.loc[test].values\n",
    "    \n",
    "X_train, y_train = shuffle(X_train, y_train, random_state=42)"
   ]
  },
  {
   "cell_type": "code",
   "execution_count": 125,
   "metadata": {},
   "outputs": [
    {
     "data": {
      "text/plain": [
       "800"
      ]
     },
     "execution_count": 125,
     "metadata": {},
     "output_type": "execute_result"
    }
   ],
   "source": [
    "len(y_val)"
   ]
  },
  {
   "cell_type": "code",
   "execution_count": 126,
   "metadata": {},
   "outputs": [
    {
     "data": {
      "text/plain": [
       "array([[ 0.1253238 ,  0.59807614, -0.10177305, ..., -0.10643952,\n",
       "        -0.8105098 , -0.84468934],\n",
       "       [-0.34768999, -0.35213792, -0.0645586 , ..., -0.51699423,\n",
       "        -0.23005883,  1.11347606],\n",
       "       [-0.0231874 , -0.03538058, -0.03524516, ..., -0.51699423,\n",
       "         0.08205794,  0.54353052],\n",
       "       ...,\n",
       "       [-0.47744417, -0.39346363, -0.15097715, ..., -0.31171687,\n",
       "         0.04967999,  2.57694115],\n",
       "       [-0.52918994, -0.47181669, -0.1345473 , ..., -0.10643952,\n",
       "         1.22919953,  1.71213092],\n",
       "       [-0.46718922, -0.3620704 , -0.06173892, ...,  1.33050197,\n",
       "        -0.01398353,  3.47595249]])"
      ]
     },
     "execution_count": 126,
     "metadata": {},
     "output_type": "execute_result"
    }
   ],
   "source": [
    "    \n",
    "# Standardize features by removing the mean and scaling to unit variance.\n",
    "scaler =StandardScaler(copy=False)\n",
    "scaler.fit_transform(X_train)\n",
    "scaler.transform(X_val)\n",
    "scaler.transform(X_test)"
   ]
  },
  {
   "cell_type": "code",
   "execution_count": 127,
   "metadata": {},
   "outputs": [
    {
     "data": {
      "text/plain": [
       "array([[0, 1, 0, ..., 0, 0, 0],\n",
       "       [1, 0, 0, ..., 0, 0, 0],\n",
       "       [0, 0, 0, ..., 0, 0, 0],\n",
       "       ...,\n",
       "       [0, 0, 0, ..., 0, 0, 0],\n",
       "       [0, 0, 0, ..., 0, 0, 0],\n",
       "       [0, 0, 0, ..., 0, 0, 0]])"
      ]
     },
     "execution_count": 127,
     "metadata": {},
     "output_type": "execute_result"
    }
   ],
   "source": [
    "y_train"
   ]
  },
  {
   "cell_type": "code",
   "execution_count": 130,
   "metadata": {},
   "outputs": [
    {
     "name": "stdout",
     "output_type": "stream",
     "text": [
      "Model: \"sequential_1\"\n",
      "_________________________________________________________________\n",
      "Layer (type)                 Output Shape              Param #   \n",
      "=================================================================\n",
      "dense_1 (Dense)              (None, 256)               132864    \n",
      "_________________________________________________________________\n",
      "dense_2 (Dense)              (None, 128)               32896     \n",
      "_________________________________________________________________\n",
      "dense_3 (Dense)              (None, 64)                8256      \n",
      "_________________________________________________________________\n",
      "dense_4 (Dense)              (None, 114)               7410      \n",
      "=================================================================\n",
      "Total params: 181,426\n",
      "Trainable params: 181,426\n",
      "Non-trainable params: 0\n",
      "_________________________________________________________________\n"
     ]
    }
   ],
   "source": [
    "#fully connected neural net for baseline\n",
    "\n",
    "keras.backend.clear_session()\n",
    "\n",
    "model = keras.models.Sequential()\n",
    "model.add(Dense(256, activation='relu',input_shape=(X_train.shape[1],)))\n",
    "model.add(Dense(128, activation='relu'))\n",
    "model.add(Dense(64, activation='relu'))\n",
    "model.add(Dense(y_train.shape[1], activation='softmax'))\n",
    "\n",
    "\n",
    "#optimizer = keras.optimizers.SGD(lr=0.1, momentum=0.9, nesterov=True)\n",
    "optimizer=keras.optimizers.adam()\n",
    "model.compile(optimizer, loss='categorical_crossentropy', metrics=['accuracy'])\n",
    "model.summary()"
   ]
  },
  {
   "cell_type": "code",
   "execution_count": 135,
   "metadata": {},
   "outputs": [
    {
     "name": "stdout",
     "output_type": "stream",
     "text": [
      "Epoch 1/30\n",
      "6400/6400 [==============================] - 0s 63us/step - loss: 1396071201.4400 - accuracy: 0.0659\n",
      "Epoch 2/30\n",
      "6400/6400 [==============================] - 0s 61us/step - loss: 1440625495.0400 - accuracy: 0.0677\n",
      "Epoch 3/30\n",
      "6400/6400 [==============================] - 0s 62us/step - loss: 1528845949.2800 - accuracy: 0.0636\n",
      "Epoch 4/30\n",
      "6400/6400 [==============================] - 0s 62us/step - loss: 1609916877.1200 - accuracy: 0.0709\n",
      "Epoch 5/30\n",
      "6400/6400 [==============================] - 0s 62us/step - loss: 1704953051.5200 - accuracy: 0.0594\n",
      "Epoch 6/30\n",
      "6400/6400 [==============================] - 0s 62us/step - loss: 1909955909.7600 - accuracy: 0.0613\n",
      "Epoch 7/30\n",
      "6400/6400 [==============================] - 0s 61us/step - loss: 2007802589.1200 - accuracy: 0.0656\n",
      "Epoch 8/30\n",
      "6400/6400 [==============================] - 0s 62us/step - loss: 2152597521.6000 - accuracy: 0.0708\n",
      "Epoch 9/30\n",
      "6400/6400 [==============================] - 0s 63us/step - loss: 2332889837.7600 - accuracy: 0.0637\n",
      "Epoch 10/30\n",
      "6400/6400 [==============================] - 0s 62us/step - loss: 2494864064.9600 - accuracy: 0.0716\n",
      "Epoch 11/30\n",
      "6400/6400 [==============================] - 0s 63us/step - loss: 2597884121.6000 - accuracy: 0.0656\n",
      "Epoch 12/30\n",
      "6400/6400 [==============================] - 0s 63us/step - loss: 2858361441.6000 - accuracy: 0.0706\n",
      "Epoch 13/30\n",
      "6400/6400 [==============================] - 0s 66us/step - loss: 3071443856.9600 - accuracy: 0.0630\n",
      "Epoch 14/30\n",
      "6400/6400 [==============================] - 0s 63us/step - loss: 3154029444.8000 - accuracy: 0.0697\n",
      "Epoch 15/30\n",
      "6400/6400 [==============================] - 0s 63us/step - loss: 3132878405.4400 - accuracy: 0.0648\n",
      "Epoch 16/30\n",
      "6400/6400 [==============================] - 0s 63us/step - loss: 3487294217.2800 - accuracy: 0.0647\n",
      "Epoch 17/30\n",
      "6400/6400 [==============================] - 0s 63us/step - loss: 3644277118.4000 - accuracy: 0.0719\n",
      "Epoch 18/30\n",
      "6400/6400 [==============================] - 0s 68us/step - loss: 3871768625.9200 - accuracy: 0.0620\n",
      "Epoch 19/30\n",
      "6400/6400 [==============================] - 0s 67us/step - loss: 4286230197.7600 - accuracy: 0.0669\n",
      "Epoch 20/30\n",
      "6400/6400 [==============================] - 0s 62us/step - loss: 4304528044.8000 - accuracy: 0.0677\n",
      "Epoch 21/30\n",
      "6400/6400 [==============================] - 0s 67us/step - loss: 4653026803.2000 - accuracy: 0.0613\n",
      "Epoch 22/30\n",
      "6400/6400 [==============================] - 0s 68us/step - loss: 4892907979.5200 - accuracy: 0.0708\n",
      "Epoch 23/30\n",
      "6400/6400 [==============================] - 0s 66us/step - loss: 5159766623.3600 - accuracy: 0.0661\n",
      "Epoch 24/30\n",
      "6400/6400 [==============================] - 0s 66us/step - loss: 5334686151.0400 - accuracy: 0.0692\n",
      "Epoch 25/30\n",
      "6400/6400 [==============================] - 0s 68us/step - loss: 5573316475.5200 - accuracy: 0.0670\n",
      "Epoch 26/30\n",
      "6400/6400 [==============================] - 0s 63us/step - loss: 5785253385.6000 - accuracy: 0.0656\n",
      "Epoch 27/30\n",
      "6400/6400 [==============================] - 0s 63us/step - loss: 6114206036.4800 - accuracy: 0.0634\n",
      "Epoch 28/30\n",
      "6400/6400 [==============================] - 0s 63us/step - loss: 6089649534.0800 - accuracy: 0.0673\n",
      "Epoch 29/30\n",
      "6400/6400 [==============================] - 0s 67us/step - loss: 6379238883.2000 - accuracy: 0.0628\n",
      "Epoch 30/30\n",
      "6400/6400 [==============================] - 0s 70us/step - loss: 6729853960.3200 - accuracy: 0.0650\n"
     ]
    }
   ],
   "source": [
    "EPOCHS = 30\n",
    "BS = 32\n",
    "history=model.fit(X_train,y_train, epochs=EPOCHS, batch_size=BS)"
   ]
  },
  {
   "cell_type": "code",
   "execution_count": 140,
   "metadata": {},
   "outputs": [
    {
     "data": {
      "image/png": "[encoded data removed]",
      "text/plain": [
       "<Figure size 1080x504 with 2 Axes>"
      ]
     },
     "metadata": {
      "needs_background": "light"
     },
     "output_type": "display_data"
    }
   ],
   "source": [
    "plt.figure(figsize=(15,7))\n",
    "\n",
    "plt.subplot(1,2,1)\n",
    "plt.plot(history.history['accuracy'], label='train')\n",
    "#plt.plot(history.history['val_accuracy'], label='validation')\n",
    "plt.title('Accuracy')\n",
    "plt.xlabel('Epochs')\n",
    "plt.ylabel('Accuracy')\n",
    "plt.legend()\n",
    "\n",
    "plt.subplot(1,2,2)\n",
    "plt.plot(history.history['loss'], label='train')\n",
    "#plt.plot(history.history['val_loss'], label='validation')\n",
    "plt.title('Loss')\n",
    "plt.xlabel('Epochs')\n",
    "plt.ylabel('Loss')\n",
    "plt.legend()\n",
    "\n",
    "plt.tight_layout()\n",
    "plt.show()"
   ]
  },
  {
   "cell_type": "code",
   "execution_count": null,
   "metadata": {},
   "outputs": [],
   "source": [
    "model.fit_generator(SampleLoader(X_train, batch_size=16), train.size, nb_epoch=20, **params)\n",
    "loss = model.evaluate_generator(SampleLoader(val, batch_size=16), val.size, **params)\n",
    "loss = model.evaluate_generator(SampleLoader(test, batch_size=16), test.size, **params)\n",
    "#Y = model.predict_generator(loader, test.size, pickle_safe=True, nb_worker=NB_WORKER, max_q_size=5)\n",
    "\n",
    "loss"
   ]
  },
  {
   "cell_type": "code",
   "execution_count": null,
   "metadata": {},
   "outputs": [],
   "source": []
  },
  {
   "cell_type": "code",
   "execution_count": null,
   "metadata": {},
   "outputs": [],
   "source": [
    "#baseline model from fma\n",
    "\n",
    "loader = utils.FfmpegLoader(sampling_rate=16000)\n",
    "#loader = utils.LibrosaLoader(sampling_rate=16000)\n",
    "SampleLoader = utils.build_sample_loader(AUDIO_DIR, labels_onehot, loader)\n",
    "\n",
    "keras.backend.clear_session()\n",
    "\n",
    "model = keras.models.Sequential()\n",
    "model.add(Reshape((-1, 1), input_shape=loader.shape))\n",
    "print(model.output_shape)\n",
    "\n",
    "model.add(Conv1D(128, 512, subsample_length=512))\n",
    "print(model.output_shape)\n",
    "model.add(Activation(\"relu\"))\n",
    "\n",
    "model.add(Conv1D(32, 8))\n",
    "print(model.output_shape)\n",
    "model.add(Activation(\"relu\"))\n",
    "model.add(MaxPooling1D(4))\n",
    "\n",
    "model.add(Conv1D(32, 8))\n",
    "print(model.output_shape)\n",
    "model.add(Activation(\"relu\"))\n",
    "model.add(MaxPooling1D(4))\n",
    "\n",
    "print(model.output_shape)\n",
    "#model.add(Dropout(0.25))\n",
    "model.add(Flatten())\n",
    "print(model.output_shape)\n",
    "model.add(Dense(100))\n",
    "model.add(Activation(\"relu\"))\n",
    "print(model.output_shape)\n",
    "model.add(Dense(labels_onehot.shape[1]))\n",
    "model.add(Activation(\"softmax\"))\n",
    "print(model.output_shape)\n",
    "\n",
    "optimizer = keras.optimizers.SGD(lr=0.01, momentum=0.9, nesterov=True)\n",
    "#optimizer = keras.optimizers.Adam()#lr=1e-5)#, momentum=0.9, nesterov=True)\n",
    "model.compile(optimizer, loss='categorical_crossentropy', metrics=['accuracy'])\n",
    "\n",
    "model.fit_generator(SampleLoader(train, batch_size=10), train.size, nb_epoch=20, **params)\n",
    "loss = model.evaluate_generator(SampleLoader(val, batch_size=10), val.size, **params)\n",
    "loss = model.evaluate_generator(SampleLoader(test, batch_size=10), test.size, **params)\n",
    "\n",
    "loss"
   ]
  }
 ],
 "metadata": {
  "kernelspec": {
   "display_name": "Python 3",
   "language": "python",
   "name": "python3"
  },
  "language_info": {
   "codemirror_mode": {
    "name": "ipython",
    "version": 3
   },
   "file_extension": ".py",
   "mimetype": "text/x-python",
   "name": "python",
   "nbconvert_exporter": "python",
   "pygments_lexer": "ipython3",
   "version": "3.7.6"
  }
 },
 "nbformat": 4,
 "nbformat_minor": 4
}
