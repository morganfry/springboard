{
 "cells": [
  {
   "cell_type": "code",
   "execution_count": null,
   "metadata": {},
   "outputs": [],
   "source": [
    "plt.hist(medical.charges)\n",
    "plt.xlabel('amount charged')\n",
    "plt.ylabel('number of cases')\n",
    "plt.show()"
   ]
  },
  {
   "cell_type": "code",
   "execution_count": null,
   "metadata": {},
   "outputs": [],
   "source": [
    "mean=np.mean(medical.charges)\n",
    "st_dev=np.std(medical.charges)\n",
    "print('mean = ',mean)\n",
    "print('standard deviation = ',st_dev)"
   ]
  },
  {
   "cell_type": "code",
   "execution_count": null,
   "metadata": {},
   "outputs": [],
   "source": [
    "Because it is a random sample, it should be representative of the data. Running multiple samples of the data will give us a normal distribution we can analyze"
   ]
  },
  {
   "cell_type": "code",
   "execution_count": null,
   "metadata": {},
   "outputs": [],
   "source": [
    "The appropriate confidence interval depends on the hospital's risk tolerance. If the hospital will fail more quickly upon acting on an incorrect answer here, the higher a confidence interval is prudent. A one-sided interval is what is called for in this case, we are only concerned with risk associated with under charging. As we see below, the lower bound of the 95% confidence interval is 12621, over the 12000 specified."
   ]
  },
  {
   "cell_type": "code",
   "execution_count": null,
   "metadata": {},
   "outputs": [],
   "source": [
    "t_score=t.ppf(0.975,df=len(medical.charges)-1)\n",
    "moe=t_score*st_dev/np.sqrt(len(medical.charges))\n",
    "ci95_l=(mean-moe)\n",
    "print(\"95% Confidence Interval lower bound: \",ci95_l)"
   ]
  },
  {
   "cell_type": "code",
   "execution_count": null,
   "metadata": {},
   "outputs": [],
   "source": [
    "def s_p(n0,n1,s0,s1):\n",
    "    return np.sqrt(((n0-1)*s0**2+(n1-1)*s1**2)/(n0+n1-2))"
   ]
  },
  {
   "cell_type": "code",
   "execution_count": null,
   "metadata": {},
   "outputs": [],
   "source": [
    "def t(x0,x1,n0,n1,sp):\n",
    "    return ((np.mean(x0)-np.mean(x1))/(sp*np.sqrt((1/n0)+(1/n1))))"
   ]
  },
  {
   "cell_type": "code",
   "execution_count": null,
   "metadata": {},
   "outputs": [],
   "source": [
    "insured=medical.charges[medical['insuranceclaim']==1]\n",
    "uninsured=medical.charges[medical['insuranceclaim']==0]\n",
    "\n",
    "s_ins=s_p(len(insured),len(uninsured),np.std(insured),np.std(uninsured))\n",
    "t_ins=t(insured,uninsured,len(insured),len(uninsured),s_ins)\n",
    "\n",
    "print(t_ins)"
   ]
  },
  {
   "cell_type": "code",
   "execution_count": null,
   "metadata": {},
   "outputs": [],
   "source": [
    "stats.ttest_ind(insured,uninsured)"
   ]
  },
  {
   "cell_type": "code",
   "execution_count": null,
   "metadata": {},
   "outputs": [],
   "source": [
    "stats.ttest_ind(insured,uninsured,equal_var=False)"
   ]
  },
  {
   "cell_type": "code",
   "execution_count": null,
   "metadata": {},
   "outputs": [],
   "source": [
    "I don't see an equivalent z-test from a sample. Z-test presumes a normal distribution so calculating from two unrelated samples is superfluous"
   ]
  }
 ],
 "metadata": {
  "kernelspec": {
   "display_name": "Python 3",
   "language": "python",
   "name": "python3"
  },
  "language_info": {
   "codemirror_mode": {
    "name": "ipython",
    "version": 3
   },
   "file_extension": ".py",
   "mimetype": "text/x-python",
   "name": "python",
   "nbconvert_exporter": "python",
   "pygments_lexer": "ipython3",
   "version": "3.7.6"
  }
 },
 "nbformat": 4,
 "nbformat_minor": 4
}
