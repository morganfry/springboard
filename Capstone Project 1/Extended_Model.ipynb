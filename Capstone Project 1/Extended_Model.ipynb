{
 "cells": [
  {
   "cell_type": "code",
   "execution_count": 1,
   "metadata": {},
   "outputs": [
    {
     "name": "stderr",
     "output_type": "stream",
     "text": [
      "FutureWarning: pandas.core.index is deprecated and will be removed in a future version.  The public classes are available in the top-level namespace.\n",
      "Using TensorFlow backend.\n"
     ]
    }
   ],
   "source": [
    "import numpy as np\n",
    "import modin.pandas as pd\n",
    "import matplotlib.pyplot as plt  \n",
    "%matplotlib inline\n",
    "\n",
    "from sklearn.utils import shuffle\n",
    "import sys\n",
    "import cv2\n",
    "\n",
    "\n",
    "import scipy as sp\n",
    "import sklearn.model_selection\n",
    "from sklearn.model_selection import train_test_split\n",
    "from sklearn.model_selection import GridSearchCV\n",
    "from sklearn.linear_model import LogisticRegression\n",
    "from sklearn.ensemble import RandomForestClassifier\n",
    "from sklearn.neural_network import MLPClassifier\n",
    "from sklearn.model_selection import RandomizedSearchCV\n",
    "from imblearn.under_sampling import RandomUnderSampler\n",
    "\n",
    "from sklearn.metrics import accuracy_score \n",
    "from sklearn.metrics import classification_report\n",
    "from sklearn.metrics import confusion_matrix\n",
    "from sklearn.metrics import roc_auc_score\n",
    "from sklearn.metrics import plot_roc_curve\n",
    "from sklearn.preprocessing import StandardScaler\n"
   ]
  },
  {
   "cell_type": "code",
   "execution_count": 2,
   "metadata": {},
   "outputs": [],
   "source": [
    "Xy_crop_df=pd.read_csv('saved/Xy_crop.csv',index_col=0)"
   ]
  },
  {
   "cell_type": "code",
   "execution_count": 4,
   "metadata": {},
   "outputs": [],
   "source": [
    "X_train, X_test, y_train, y_test = train_test_split(Xy_crop_df.iloc[:,:3072].values,\n",
    "                                                Xy_crop_df.label.values,\n",
    "                                                stratify=Xy_crop_df.label.values)"
   ]
  },
  {
   "cell_type": "code",
   "execution_count": 5,
   "metadata": {},
   "outputs": [],
   "source": [
    "scaler = StandardScaler() \n",
    "scaler.fit(X_train)  \n",
    "X_train = scaler.transform(X_train) \n",
    "X_test = scaler.transform(X_test) "
   ]
  },
  {
   "cell_type": "markdown",
   "metadata": {},
   "source": [
    "Now that we are ready, we will use the following to find the best classifier:\n",
    "* Random Forest\n",
    "* Neural Network\n",
    "\n",
    "We will try a few strategies to improve the performance of the models:\n",
    "* Address the imbalance in the dataset\n",
    "* Image augmentation\n",
    "* hyperparameter tuning"
   ]
  },
  {
   "cell_type": "code",
   "execution_count": 6,
   "metadata": {},
   "outputs": [
    {
     "name": "stderr",
     "output_type": "stream",
     "text": [
      "[Parallel(n_jobs=-1)]: Using backend ThreadingBackend with 16 concurrent workers.\n",
      "[Parallel(n_jobs=-1)]: Done  18 tasks      | elapsed:   28.5s\n",
      "[Parallel(n_jobs=-1)]: Done 100 out of 100 | elapsed:  1.6min finished\n"
     ]
    },
    {
     "data": {
      "text/plain": [
       "RandomForestClassifier(bootstrap=True, ccp_alpha=0.0, class_weight=None,\n",
       "                       criterion='gini', max_depth=None, max_features='auto',\n",
       "                       max_leaf_nodes=None, max_samples=None,\n",
       "                       min_impurity_decrease=0.0, min_impurity_split=None,\n",
       "                       min_samples_leaf=1, min_samples_split=2,\n",
       "                       min_weight_fraction_leaf=0.0, n_estimators=100,\n",
       "                       n_jobs=-1, oob_score=False, random_state=None, verbose=1,\n",
       "                       warm_start=False)"
      ]
     },
     "execution_count": 6,
     "metadata": {},
     "output_type": "execute_result"
    }
   ],
   "source": [
    "#Random Forest\n",
    "# Create the model with 100 trees\n",
    "\n",
    "model = RandomForestClassifier(verbose=1,n_jobs=-1)\n",
    "# Fit on training data\n",
    "model.fit(X_train, y_train)"
   ]
  },
  {
   "cell_type": "code",
   "execution_count": 7,
   "metadata": {},
   "outputs": [
    {
     "name": "stdout",
     "output_type": "stream",
     "text": [
      "Classification Report (test):\n"
     ]
    },
    {
     "name": "stderr",
     "output_type": "stream",
     "text": [
      "[Parallel(n_jobs=16)]: Using backend ThreadingBackend with 16 concurrent workers.\n",
      "[Parallel(n_jobs=16)]: Done  18 tasks      | elapsed:    0.1s\n",
      "[Parallel(n_jobs=16)]: Done 100 out of 100 | elapsed:    0.4s finished\n"
     ]
    },
    {
     "name": "stdout",
     "output_type": "stream",
     "text": [
      "              precision    recall  f1-score   support\n",
      "\n",
      "           0       0.76      0.88      0.82     32727\n",
      "           1       0.77      0.59      0.67     22280\n",
      "\n",
      "    accuracy                           0.76     55007\n",
      "   macro avg       0.77      0.74      0.74     55007\n",
      "weighted avg       0.76      0.76      0.76     55007\n",
      "\n",
      "Confusion Matrix:\n"
     ]
    },
    {
     "name": "stderr",
     "output_type": "stream",
     "text": [
      "[Parallel(n_jobs=16)]: Using backend ThreadingBackend with 16 concurrent workers.\n",
      "[Parallel(n_jobs=16)]: Done  18 tasks      | elapsed:    0.1s\n",
      "[Parallel(n_jobs=16)]: Done 100 out of 100 | elapsed:    0.4s finished\n"
     ]
    },
    {
     "name": "stdout",
     "output_type": "stream",
     "text": [
      "[[28818  3909]\n",
      " [ 9094 13186]]\n"
     ]
    },
    {
     "name": "stderr",
     "output_type": "stream",
     "text": [
      "[Parallel(n_jobs=16)]: Using backend ThreadingBackend with 16 concurrent workers.\n",
      "[Parallel(n_jobs=16)]: Done  18 tasks      | elapsed:    0.1s\n",
      "[Parallel(n_jobs=16)]: Done 100 out of 100 | elapsed:    0.4s finished\n"
     ]
    },
    {
     "data": {
      "image/png": "[encoded data removed]",
      "text/plain": [
       "<Figure size 432x288 with 1 Axes>"
      ]
     },
     "metadata": {
      "needs_background": "light"
     },
     "output_type": "display_data"
    }
   ],
   "source": [
    "print('Classification Report (test):')\n",
    "print(classification_report(y_test,model.predict(X_test)))\n",
    "print('Confusion Matrix:')\n",
    "print(confusion_matrix(y_test,model.predict(X_test)))\n",
    "plot_roc_curve(model,X_test,y_test)\n",
    "plt.show()"
   ]
  },
  {
   "cell_type": "code",
   "execution_count": 8,
   "metadata": {},
   "outputs": [
    {
     "name": "stdout",
     "output_type": "stream",
     "text": [
      "2min 1s ± 12.6 s per loop (mean ± std. dev. of 7 runs, 1 loop each)\n"
     ]
    }
   ],
   "source": [
    "\n",
    "model = MLPClassifier(early_stopping=True)\n",
    "model.fit(X_train, y_train)"
   ]
  },
  {
   "cell_type": "code",
   "execution_count": 9,
   "metadata": {},
   "outputs": [
    {
     "name": "stderr",
     "output_type": "stream",
     "text": [
      "[Parallel(n_jobs=16)]: Using backend ThreadingBackend with 16 concurrent workers.\n",
      "[Parallel(n_jobs=16)]: Done  18 tasks      | elapsed:    0.1s\n",
      "[Parallel(n_jobs=16)]: Done 100 out of 100 | elapsed:    0.4s finished\n"
     ]
    },
    {
     "name": "stdout",
     "output_type": "stream",
     "text": [
      "Classification Report (test):\n",
      "              precision    recall  f1-score   support\n",
      "\n",
      "           0       0.76      0.88      0.82     32727\n",
      "           1       0.77      0.59      0.67     22280\n",
      "\n",
      "    accuracy                           0.76     55007\n",
      "   macro avg       0.77      0.74      0.74     55007\n",
      "weighted avg       0.76      0.76      0.76     55007\n",
      "\n",
      "Confusion Matrix:\n",
      "[[28818  3909]\n",
      " [ 9094 13186]]\n"
     ]
    },
    {
     "name": "stderr",
     "output_type": "stream",
     "text": [
      "[Parallel(n_jobs=16)]: Using backend ThreadingBackend with 16 concurrent workers.\n",
      "[Parallel(n_jobs=16)]: Done  18 tasks      | elapsed:    0.1s\n",
      "[Parallel(n_jobs=16)]: Done 100 out of 100 | elapsed:    0.4s finished\n"
     ]
    },
    {
     "data": {
      "image/png": "[encoded data removed]",
      "text/plain": [
       "<Figure size 432x288 with 1 Axes>"
      ]
     },
     "metadata": {
      "needs_background": "light"
     },
     "output_type": "display_data"
    }
   ],
   "source": [
    "pred=model.predict(X_test)\n",
    "print('Classification Report (test):')\n",
    "print(classification_report(y_test,pred))\n",
    "print('Confusion Matrix:')\n",
    "print(confusion_matrix(y_test,pred))\n",
    "plot_roc_curve(model,X_test,y_test)\n",
    "plt.show()"
   ]
  },
  {
   "cell_type": "markdown",
   "metadata": {},
   "source": [
    "We can see that the neural net isn't getting better results. At this point I would like to examine why. Two factors immediately are apparent:\n",
    "* The dataset is imbalanced\n",
    "* Perhaps some image augmentation would help\n"
   ]
  },
  {
   "cell_type": "markdown",
   "metadata": {},
   "source": [
    "Let's tacke the imbaance first. We'll try the simplest strategy, a random undersampling of the majority class. The overall set is 220000 images so there will still be enough to train the classifier even after dropping We'll use a reduced set of 30000 of them. For the sake of time let's test with a reduced set first then scale up to the entire dataset once improvements are established."
   ]
  },
  {
   "cell_type": "code",
   "execution_count": null,
   "metadata": {},
   "outputs": [],
   "source": [
    "\n",
    "rus=RandomUnderSampler()\n",
    "X_res,y_res=rus.fit_resample(Xy_crop_df.iloc[:,:3072].values, Xy_crop_df.label.values)\n"
   ]
  },
  {
   "cell_type": "code",
   "execution_count": null,
   "metadata": {},
   "outputs": [],
   "source": [
    "X_discard, X_small, y_discard, y_small=train_test_split(X_res,y_res,stratify=y_res,test_size=0.15,random_state=42)"
   ]
  },
  {
   "cell_type": "code",
   "execution_count": null,
   "metadata": {},
   "outputs": [],
   "source": [
    "print(len(y_small[y_small==1]))\n",
    "print(len(y_small[y_small==0]))"
   ]
  },
  {
   "cell_type": "code",
   "execution_count": null,
   "metadata": {},
   "outputs": [],
   "source": [
    "X_train,X_test,y_train,y_test=train_test_split(X_small,y_small,stratify=y_small,test_size==0.25,random_state=42)"
   ]
  },
  {
   "cell_type": "markdown",
   "metadata": {},
   "source": [
    "Now that we have a smaller, balanced set, let's see if we gained anything. We'll try the same neural net as before."
   ]
  },
  {
   "cell_type": "code",
   "execution_count": null,
   "metadata": {},
   "outputs": [],
   "source": [
    "scaler = StandardScaler() \n",
    "scaler.fit(X_train)  \n",
    "X_train = scaler.transform(X_train) \n",
    "X_test = scaler.transform(X_test) "
   ]
  },
  {
   "cell_type": "code",
   "execution_count": 9,
   "metadata": {},
   "outputs": [
    {
     "data": {
      "text/plain": [
       "RandomForestClassifier(bootstrap=True, ccp_alpha=0.0, class_weight=None,\n",
       "                       criterion='gini', max_depth=None, max_features='auto',\n",
       "                       max_leaf_nodes=None, max_samples=None,\n",
       "                       min_impurity_decrease=0.0, min_impurity_split=None,\n",
       "                       min_samples_leaf=1, min_samples_split=2,\n",
       "                       min_weight_fraction_leaf=0.0, n_estimators=100,\n",
       "                       n_jobs=-1, oob_score=False, random_state=None, verbose=0,\n",
       "                       warm_start=False)"
      ]
     },
     "execution_count": 9,
     "metadata": {},
     "output_type": "execute_result"
    }
   ],
   "source": [
    "model = RandomForestClassifier(n_jobs=-1)\n",
    "# Fit on training data\n",
    "model.fit(X_train, y_train)"
   ]
  },
  {
   "cell_type": "code",
   "execution_count": 10,
   "metadata": {},
   "outputs": [
    {
     "name": "stdout",
     "output_type": "stream",
     "text": [
      "Classification Report (test):\n",
      "              precision    recall  f1-score   support\n",
      "\n",
      "           0       0.74      0.80      0.77      3342\n",
      "           1       0.78      0.72      0.75      3342\n",
      "\n",
      "    accuracy                           0.76      6684\n",
      "   macro avg       0.76      0.76      0.76      6684\n",
      "weighted avg       0.76      0.76      0.76      6684\n",
      "\n",
      "Confusion Matrix:\n",
      "[[2677  665]\n",
      " [ 942 2400]]\n"
     ]
    },
    {
     "data": {
      "image/png": "[encoded data removed]",
      "text/plain": [
       "<Figure size 432x288 with 1 Axes>"
      ]
     },
     "metadata": {
      "needs_background": "light"
     },
     "output_type": "display_data"
    }
   ],
   "source": [
    "print('Classification Report (test):')\n",
    "print(classification_report(y_test,model.predict(X_test)))\n",
    "print('Confusion Matrix:')\n",
    "print(confusion_matrix(y_test,model.predict(X_test)))\n",
    "plot_roc_curve(model,X_test,y_test)\n",
    "plt.show()"
   ]
  },
  {
   "cell_type": "code",
   "execution_count": 11,
   "metadata": {},
   "outputs": [
    {
     "name": "stdout",
     "output_type": "stream",
     "text": [
      "17.7 s ± 4.9 s per loop (mean ± std. dev. of 7 runs, 1 loop each)\n"
     ]
    }
   ],
   "source": [
    "model = MLPClassifier(early_stopping=True)\n",
    "model.fit(X_train, y_train)"
   ]
  },
  {
   "cell_type": "code",
   "execution_count": 12,
   "metadata": {},
   "outputs": [
    {
     "name": "stdout",
     "output_type": "stream",
     "text": [
      "Classification Report (test):\n",
      "              precision    recall  f1-score   support\n",
      "\n",
      "           0       0.74      0.80      0.77      3342\n",
      "           1       0.78      0.72      0.75      3342\n",
      "\n",
      "    accuracy                           0.76      6684\n",
      "   macro avg       0.76      0.76      0.76      6684\n",
      "weighted avg       0.76      0.76      0.76      6684\n",
      "\n",
      "Confusion Matrix:\n",
      "[[2677  665]\n",
      " [ 942 2400]]\n"
     ]
    },
    {
     "data": {
      "image/png": "[encoded data removed]",
      "text/plain": [
       "<Figure size 432x288 with 1 Axes>"
      ]
     },
     "metadata": {
      "needs_background": "light"
     },
     "output_type": "display_data"
    }
   ],
   "source": [
    "pred=model.predict(X_test)\n",
    "print('Classification Report (test):')\n",
    "print(classification_report(y_test,pred))\n",
    "print('Confusion Matrix:')\n",
    "print(confusion_matrix(y_test,pred))\n",
    "plot_roc_curve(model,X_test,y_test)\n",
    "plt.show()"
   ]
  },
  {
   "cell_type": "markdown",
   "metadata": {},
   "source": [
    "### image augmentation with imgaug\n"
   ]
  },
  {
   "cell_type": "code",
   "execution_count": 14,
   "metadata": {},
   "outputs": [],
   "source": [
    "from imgaug import augmenters as iaa\n",
    "from imgaug import parameters as iap\n",
    "import imgaug as ia\n"
   ]
  },
  {
   "cell_type": "code",
   "execution_count": 15,
   "metadata": {},
   "outputs": [],
   "source": [
    "#make the same train-test split, we need pre-normalized images for augmentation\n",
    "X_train,X_test,y_train,y_test=train_test_split(X_small,y_small,stratify=y_small,random_state=42)"
   ]
  },
  {
   "cell_type": "markdown",
   "metadata": {},
   "source": [
    "Many transformations assume the images are in the normal shape (3-d array) so we're going to reshape the images back to that shape first"
   ]
  },
  {
   "cell_type": "code",
   "execution_count": 16,
   "metadata": {},
   "outputs": [],
   "source": [
    "#reshape the images\n",
    "X_train=X_train.reshape((X_train.shape[0],32,32,3))"
   ]
  },
  {
   "cell_type": "code",
   "execution_count": 17,
   "metadata": {},
   "outputs": [],
   "source": [
    "X_test=X_test.reshape((X_test.shape[0],32,32,3))"
   ]
  },
  {
   "cell_type": "code",
   "execution_count": 18,
   "metadata": {},
   "outputs": [
    {
     "data": {
      "text/plain": [
       "(32, 32, 3)"
      ]
     },
     "execution_count": 18,
     "metadata": {},
     "output_type": "execute_result"
    }
   ],
   "source": [
    "X_train[0].shape"
   ]
  },
  {
   "cell_type": "code",
   "execution_count": 19,
   "metadata": {},
   "outputs": [
    {
     "data": {
      "image/png": "[encoded data removed]",
      "text/plain": [
       "<Figure size 432x288 with 1 Axes>"
      ]
     },
     "metadata": {
      "needs_background": "light"
     },
     "output_type": "display_data"
    }
   ],
   "source": [
    "plt.imshow(X_test[0])\n",
    "plt.show()"
   ]
  },
  {
   "cell_type": "code",
   "execution_count": 20,
   "metadata": {},
   "outputs": [],
   "source": [
    "X_train=X_train.astype(np.uint8)\n",
    "X_test=X_test.astype(np.uint8)"
   ]
  },
  {
   "cell_type": "markdown",
   "metadata": {},
   "source": [
    "since we don't have a good idea which augmentations may improve the classification, we'll use a pipeline of several"
   ]
  },
  {
   "cell_type": "code",
   "execution_count": 21,
   "metadata": {},
   "outputs": [],
   "source": [
    "# Define an augmentation pipeline\n",
    "aug_pipeline = iaa.Sequential([\n",
    "    # apply one of the augmentations: Dropout or CoarseDropout\n",
    "    iaa.OneOf([\n",
    "        iaa.Dropout((0.01, 0.1), per_channel=0.5), # randomly remove up to 10% of the pixels\n",
    "        iaa.CoarseDropout((0.03, 0.15), size_percent=(0.02, 0.05), per_channel=0.2),\n",
    "    ]),\n",
    "    # apply from 0 to 3 of the augmentations from the list\n",
    "    iaa.SomeOf((0, 3),[\n",
    "        iaa.Sharpen(alpha=(0, 1.0), lightness=(0.75, 1.5)), # sharpen images\n",
    "        iaa.Fliplr(1.0), # horizontally flip\n",
    "        iaa.Sometimes(0.5, iaa.Affine(rotate=5)) # rotate 50% of the images\n",
    "    ]),\n",
    "    iaa.OneOf([\n",
    "        iaa.contrast.LogContrast(gain=(1.2,1.4),per_channel=True)\n",
    "    ])\n",
    "],\n",
    "random_order=True # apply the augmentations in random order\n",
    ")"
   ]
  },
  {
   "cell_type": "code",
   "execution_count": 22,
   "metadata": {},
   "outputs": [],
   "source": [
    "# Apply augmentation pipeline to the test and train sets\n",
    "X_train = np.array([aug_pipeline.augment_image(each) for each in X_train])\n",
    "X_test =  np.array([aug_pipeline.augment_image(each) for each in X_test])"
   ]
  },
  {
   "cell_type": "code",
   "execution_count": 23,
   "metadata": {},
   "outputs": [
    {
     "data": {
      "image/png": "[encoded data removed]",
      "text/plain": [
       "<Figure size 432x288 with 1 Axes>"
      ]
     },
     "metadata": {
      "needs_background": "light"
     },
     "output_type": "display_data"
    }
   ],
   "source": [
    "plt.imshow(X_test[0])\n",
    "plt.show()"
   ]
  },
  {
   "cell_type": "code",
   "execution_count": 24,
   "metadata": {},
   "outputs": [],
   "source": [
    "#flatten the images and scale them\n",
    "X_train=np.array([each.flatten() for each in X_train])\n",
    "X_test=np.array([each.flatten() for each in X_test])"
   ]
  },
  {
   "cell_type": "code",
   "execution_count": 25,
   "metadata": {},
   "outputs": [],
   "source": [
    "scaler = StandardScaler() \n",
    "scaler.fit(X_train)  \n",
    "X_train = scaler.transform(X_train) \n",
    "X_test = scaler.transform(X_test) "
   ]
  },
  {
   "cell_type": "code",
   "execution_count": 26,
   "metadata": {},
   "outputs": [
    {
     "name": "stdout",
     "output_type": "stream",
     "text": [
      "18.2 s ± 2.63 s per loop (mean ± std. dev. of 7 runs, 1 loop each)\n"
     ]
    }
   ],
   "source": [
    "%%timeit\n",
    "model = MLPClassifier(early_stopping=True)\n",
    "model.fit(X_train, y_train)"
   ]
  },
  {
   "cell_type": "code",
   "execution_count": 27,
   "metadata": {},
   "outputs": [
    {
     "name": "stdout",
     "output_type": "stream",
     "text": [
      "Classification Report (test):\n",
      "              precision    recall  f1-score   support\n",
      "\n",
      "           0       0.58      0.64      0.61      2228\n",
      "           1       0.60      0.54      0.57      2228\n",
      "\n",
      "    accuracy                           0.59      4456\n",
      "   macro avg       0.59      0.59      0.59      4456\n",
      "weighted avg       0.59      0.59      0.59      4456\n",
      "\n",
      "Confusion Matrix:\n",
      "[[1430  798]\n",
      " [1026 1202]]\n"
     ]
    },
    {
     "data": {
      "image/png": "[encoded data removed]",
      "text/plain": [
       "<Figure size 432x288 with 1 Axes>"
      ]
     },
     "metadata": {
      "needs_background": "light"
     },
     "output_type": "display_data"
    }
   ],
   "source": [
    "pred=model.predict(X_test)\n",
    "print('Classification Report (test):')\n",
    "print(classification_report(y_test,pred))\n",
    "print('Confusion Matrix:')\n",
    "print(confusion_matrix(y_test,pred))\n",
    "plot_roc_curve(model,X_test,y_test)\n",
    "plt.show()"
   ]
  },
  {
   "cell_type": "markdown",
   "metadata": {},
   "source": [
    "Adding a few augmentations at random causes a slight degradation in performance. If we simply increase the contrast we may have better luch:"
   ]
  },
  {
   "cell_type": "code",
   "execution_count": 28,
   "metadata": {},
   "outputs": [],
   "source": [
    "#make the same train-test split, we need pre-normalized images for augmentation\n",
    "X_train,X_test,y_train,y_test=train_test_split(X_small,y_small,stratify=y_small,random_state=42)"
   ]
  },
  {
   "cell_type": "code",
   "execution_count": 29,
   "metadata": {},
   "outputs": [],
   "source": [
    "#reshape the images\n",
    "X_train=X_train.reshape((X_train.shape[0],32,32,3)).astype(np.uint8)\n",
    "X_test=X_test.reshape((X_test.shape[0],32,32,3)).astype(np.uint8)"
   ]
  },
  {
   "cell_type": "code",
   "execution_count": 30,
   "metadata": {},
   "outputs": [],
   "source": [
    "# Define an augmentation pipeline\n",
    "aug_pipeline = iaa.Sequential([\n",
    " \n",
    "    iaa.OneOf([\n",
    "        iaa.contrast.LogContrast(gain=(1.2,1.4),per_channel=True)\n",
    "    ])\n",
    "],\n",
    "random_order=True # apply the augmentations in random order\n",
    ")"
   ]
  },
  {
   "cell_type": "code",
   "execution_count": 31,
   "metadata": {},
   "outputs": [],
   "source": [
    "# Apply augmentation pipeline to the test and train sets\n",
    "X_train = np.array([aug_pipeline.augment_image(each) for each in X_train])\n",
    "X_test =  np.array([aug_pipeline.augment_image(each) for each in X_test])"
   ]
  },
  {
   "cell_type": "code",
   "execution_count": 32,
   "metadata": {},
   "outputs": [],
   "source": [
    "#flatten the images and scale them\n",
    "X_train=np.array([each.flatten() for each in X_train])\n",
    "X_test=np.array([each.flatten() for each in X_test])"
   ]
  },
  {
   "cell_type": "code",
   "execution_count": 33,
   "metadata": {},
   "outputs": [],
   "source": [
    "scaler = StandardScaler() \n",
    "scaler.fit(X_train)  \n",
    "X_train = scaler.transform(X_train) \n",
    "X_test = scaler.transform(X_test) "
   ]
  },
  {
   "cell_type": "code",
   "execution_count": 10,
   "metadata": {},
   "outputs": [
    {
     "name": "stdout",
     "output_type": "stream",
     "text": [
      "The slowest run took 4.82 times longer than the fastest. This could mean that an intermediate result is being cached.\n",
      "23.9 s ± 14.5 s per loop (mean ± std. dev. of 7 runs, 1 loop each)\n"
     ]
    }
   ],
   "source": [
    "model = MLPClassifier(early_stopping=True)\n",
    "model.fit(X_train, y_train)"
   ]
  },
  {
   "cell_type": "code",
   "execution_count": 11,
   "metadata": {},
   "outputs": [
    {
     "ename": "NameError",
     "evalue": "name 'model' is not defined",
     "output_type": "error",
     "traceback": [
      "\u001b[0;31m---------------------------------------------------------------------------\u001b[0m",
      "\u001b[0;31mNameError\u001b[0m                                 Traceback (most recent call last)",
      "\u001b[0;32m<ipython-input-11-f29c5c8ec450>\u001b[0m in \u001b[0;36m<module>\u001b[0;34m\u001b[0m\n\u001b[0;32m----> 1\u001b[0;31m \u001b[0mpred\u001b[0m\u001b[0;34m=\u001b[0m\u001b[0mmodel\u001b[0m\u001b[0;34m.\u001b[0m\u001b[0mpredict\u001b[0m\u001b[0;34m(\u001b[0m\u001b[0mX_test\u001b[0m\u001b[0;34m)\u001b[0m\u001b[0;34m\u001b[0m\u001b[0;34m\u001b[0m\u001b[0m\n\u001b[0m\u001b[1;32m      2\u001b[0m \u001b[0mprint\u001b[0m\u001b[0;34m(\u001b[0m\u001b[0;34m'Classification Report (test):'\u001b[0m\u001b[0;34m)\u001b[0m\u001b[0;34m\u001b[0m\u001b[0;34m\u001b[0m\u001b[0m\n\u001b[1;32m      3\u001b[0m \u001b[0mprint\u001b[0m\u001b[0;34m(\u001b[0m\u001b[0mclassification_report\u001b[0m\u001b[0;34m(\u001b[0m\u001b[0my_test\u001b[0m\u001b[0;34m,\u001b[0m\u001b[0mpred\u001b[0m\u001b[0;34m)\u001b[0m\u001b[0;34m)\u001b[0m\u001b[0;34m\u001b[0m\u001b[0;34m\u001b[0m\u001b[0m\n\u001b[1;32m      4\u001b[0m \u001b[0mprint\u001b[0m\u001b[0;34m(\u001b[0m\u001b[0;34m'Confusion Matrix:'\u001b[0m\u001b[0;34m)\u001b[0m\u001b[0;34m\u001b[0m\u001b[0;34m\u001b[0m\u001b[0m\n\u001b[1;32m      5\u001b[0m \u001b[0mprint\u001b[0m\u001b[0;34m(\u001b[0m\u001b[0mconfusion_matrix\u001b[0m\u001b[0;34m(\u001b[0m\u001b[0my_test\u001b[0m\u001b[0;34m,\u001b[0m\u001b[0mpred\u001b[0m\u001b[0;34m)\u001b[0m\u001b[0;34m)\u001b[0m\u001b[0;34m\u001b[0m\u001b[0;34m\u001b[0m\u001b[0m\n",
      "\u001b[0;31mNameError\u001b[0m: name 'model' is not defined"
     ]
    }
   ],
   "source": [
    "pred=model.predict(X_test)\n",
    "print('Classification Report (test):')\n",
    "print(classification_report(y_test,pred))\n",
    "print('Confusion Matrix:')\n",
    "print(confusion_matrix(y_test,pred))\n",
    "plot_roc_curve(model,X_test,y_test)\n",
    "plt.show()"
   ]
  },
  {
   "cell_type": "markdown",
   "metadata": {},
   "source": [
    "Since improvement is minimal, we will leave image augmentation aside for now and proceed with the unaltered data."
   ]
  },
  {
   "cell_type": "markdown",
   "metadata": {},
   "source": [
    "#### Hyperparameter tuning"
   ]
  },
  {
   "cell_type": "code",
   "execution_count": null,
   "metadata": {},
   "outputs": [],
   "source": [
    "#make the same train-test split, we need pre-normalized images for augmentation\n",
    "X_train,X_test,y_train,y_test=train_test_split(X_small,y_small,stratify=y_small,random_state=42)"
   ]
  },
  {
   "cell_type": "code",
   "execution_count": 7,
   "metadata": {},
   "outputs": [],
   "source": [
    "scaler = StandardScaler() \n",
    "scaler.fit(X_train)  \n",
    "X_train = scaler.transform(X_train) \n",
    "X_test = scaler.transform(X_test) "
   ]
  },
  {
   "cell_type": "markdown",
   "metadata": {},
   "source": [
    "First we'll find the best parameters for the random forest"
   ]
  },
  {
   "cell_type": "code",
   "execution_count": null,
   "metadata": {},
   "outputs": [],
   "source": [
    "\n",
    "\n",
    "#parameters\n",
    "n_estimators = [int(x) for x in np.linspace(start = 100, stop = 3000, num = 6)]\n",
    "max_features = ['sqrt','log2']\n",
    "min_samples_split = [2, 5, 10]\n",
    "min_samples_leaf = [1, 2, 4]\n",
    "bootstrap = [True]\n",
    "criterion = ['entropy']\n",
    "\n",
    "params={'n_estimators': n_estimators,\n",
    "        'max_features': max_features,\n",
    "        'min_samples_split': min_samples_split,\n",
    "        'min_samples_leaf': min_samples_leaf,\n",
    "        'bootstrap': bootstrap,\n",
    "        'criterion': criterion}"
   ]
  },
  {
   "cell_type": "code",
   "execution_count": null,
   "metadata": {},
   "outputs": [],
   "source": [
    "rfc=RandomForestClassifier()\n",
    "\n",
    "rf_rand=RandomizedSearchCV(estimator=rfc, \n",
    "                           param_distributions=params, \n",
    "                           cv=2,\n",
    "                           verbose=1, \n",
    "                           n_jobs=-1,\n",
    "                           return_train_score=True)\n",
    "rf_rand.fit(X_test,y_test)\n",
    "rf_rand.best_params_"
   ]
  },
  {
   "cell_type": "code",
   "execution_count": 40,
   "metadata": {},
   "outputs": [
    {
     "data": {
      "text/plain": [
       "{'n_estimators': 2420,\n",
       " 'min_samples_split': 10,\n",
       " 'min_samples_leaf': 2,\n",
       " 'max_features': 'log2',\n",
       " 'criterion': 'entropy',\n",
       " 'bootstrap': True}"
      ]
     },
     "execution_count": 40,
     "metadata": {},
     "output_type": "execute_result"
    }
   ],
   "source": [
    "rf_rand.best_params_"
   ]
  },
  {
   "cell_type": "code",
   "execution_count": 13,
   "metadata": {},
   "outputs": [
    {
     "name": "stderr",
     "output_type": "stream",
     "text": [
      "[Parallel(n_jobs=-1)]: Using backend ThreadingBackend with 4 concurrent workers.\n",
      "[Parallel(n_jobs=-1)]: Done  42 tasks      | elapsed:    4.3s\n",
      "[Parallel(n_jobs=-1)]: Done 192 tasks      | elapsed:   18.6s\n",
      "[Parallel(n_jobs=-1)]: Done 442 tasks      | elapsed:   43.0s\n",
      "[Parallel(n_jobs=-1)]: Done 792 tasks      | elapsed:  1.3min\n",
      "[Parallel(n_jobs=-1)]: Done 1242 tasks      | elapsed:  2.0min\n",
      "[Parallel(n_jobs=-1)]: Done 1792 tasks      | elapsed:  2.9min\n",
      "[Parallel(n_jobs=-1)]: Done 2420 out of 2420 | elapsed:  3.9min finished\n"
     ]
    },
    {
     "data": {
      "text/plain": [
       "RandomForestClassifier(bootstrap=True, ccp_alpha=0.0, class_weight=None,\n",
       "                       criterion='entropy', max_depth=None, max_features='log2',\n",
       "                       max_leaf_nodes=None, max_samples=None,\n",
       "                       min_impurity_decrease=0.0, min_impurity_split=None,\n",
       "                       min_samples_leaf=2, min_samples_split=10,\n",
       "                       min_weight_fraction_leaf=0.0, n_estimators=2420,\n",
       "                       n_jobs=-1, oob_score=False, random_state=None, verbose=1,\n",
       "                       warm_start=False)"
      ]
     },
     "execution_count": 13,
     "metadata": {},
     "output_type": "execute_result"
    }
   ],
   "source": [
    "#now plug best parameters into the random forest\n",
    "model = RandomForestClassifier(n_estimators=2420,\n",
    "                               min_samples_split=10,\n",
    "                               min_samples_leaf=2,\n",
    "                               max_features='log2',\n",
    "                               criterion='entropy',\n",
    "                               bootstrap=True,\n",
    "                               verbose=1,\n",
    "                               n_jobs=-1)\n",
    "# Fit on training data\n",
    "model.fit(X_train, y_train)\n"
   ]
  },
  {
   "cell_type": "code",
   "execution_count": 14,
   "metadata": {},
   "outputs": [
    {
     "name": "stderr",
     "output_type": "stream",
     "text": [
      "[Parallel(n_jobs=4)]: Using backend ThreadingBackend with 4 concurrent workers.\n",
      "[Parallel(n_jobs=4)]: Done  42 tasks      | elapsed:    0.1s\n",
      "[Parallel(n_jobs=4)]: Done 192 tasks      | elapsed:    0.3s\n",
      "[Parallel(n_jobs=4)]: Done 442 tasks      | elapsed:    0.6s\n",
      "[Parallel(n_jobs=4)]: Done 792 tasks      | elapsed:    1.0s\n",
      "[Parallel(n_jobs=4)]: Done 1242 tasks      | elapsed:    1.6s\n",
      "[Parallel(n_jobs=4)]: Done 1792 tasks      | elapsed:    2.3s\n",
      "[Parallel(n_jobs=4)]: Done 2420 out of 2420 | elapsed:    3.1s finished\n",
      "[Parallel(n_jobs=4)]: Using backend ThreadingBackend with 4 concurrent workers.\n"
     ]
    },
    {
     "name": "stdout",
     "output_type": "stream",
     "text": [
      "Classification Report (test):\n",
      "              precision    recall  f1-score   support\n",
      "\n",
      "           0       0.76      0.75      0.76      3342\n",
      "           1       0.76      0.76      0.76      3342\n",
      "\n",
      "    accuracy                           0.76      6684\n",
      "   macro avg       0.76      0.76      0.76      6684\n",
      "weighted avg       0.76      0.76      0.76      6684\n",
      "\n",
      "Confusion Matrix:\n",
      "[[2516  826]\n",
      " [ 795 2547]]\n"
     ]
    },
    {
     "name": "stderr",
     "output_type": "stream",
     "text": [
      "[Parallel(n_jobs=4)]: Done  42 tasks      | elapsed:    0.1s\n",
      "[Parallel(n_jobs=4)]: Done 192 tasks      | elapsed:    0.3s\n",
      "[Parallel(n_jobs=4)]: Done 442 tasks      | elapsed:    0.6s\n",
      "[Parallel(n_jobs=4)]: Done 792 tasks      | elapsed:    1.0s\n",
      "[Parallel(n_jobs=4)]: Done 1242 tasks      | elapsed:    1.6s\n",
      "[Parallel(n_jobs=4)]: Done 1792 tasks      | elapsed:    2.3s\n",
      "[Parallel(n_jobs=4)]: Done 2420 out of 2420 | elapsed:    3.1s finished\n"
     ]
    },
    {
     "data": {
      "image/png": "[encoded data removed]",
      "text/plain": [
       "<Figure size 432x288 with 1 Axes>"
      ]
     },
     "metadata": {
      "needs_background": "light"
     },
     "output_type": "display_data"
    }
   ],
   "source": [
    "pred=model.predict(X_test)\n",
    "print('Classification Report (test):')\n",
    "print(classification_report(y_test,pred))\n",
    "print('Confusion Matrix:')\n",
    "print(confusion_matrix(y_test,pred))\n",
    "plot_roc_curve(model,X_test,y_test)\n",
    "plt.show()"
   ]
  },
  {
   "cell_type": "markdown",
   "metadata": {},
   "source": [
    "So tuning the parameters yields a small improvement to the random forest. This appears to be the best we'll do with this classifier. Let's use the same strategy to tune the nerual net."
   ]
  },
  {
   "cell_type": "code",
   "execution_count": 25,
   "metadata": {},
   "outputs": [],
   "source": [
    "#parameters for neural net\n",
    "hidden_layer_sizes = [(1536,),\n",
    "                      (1536,768,)]\n",
    "solver = ['sgd']\n",
    "activation = ['logistic']\n",
    "#max_iter = [50,200,500]\n",
    "learning_rate = ['adaptive']\n",
    "learning_rate_init = [.0001,.001,.01,.1]\n",
    "beta_1=(.2,.5,.9)\n",
    "beta_2=(.5,.9,.98,.999)\n",
    "#random_state = [1,2,3,4,5]\n",
    "\n",
    "params={'hidden_layer_sizes' : hidden_layer_sizes,\n",
    "        'solver' : solver,\n",
    "        'activation' : activation,\n",
    "        'learning_rate' : learning_rate,\n",
    "        'learning_rate_init' : learning_rate_init,\n",
    "        'beta_1' : beta_1,\n",
    "        'beta_2' : beta_2               \n",
    "        }\n"
   ]
  },
  {
   "cell_type": "code",
   "execution_count": 27,
   "metadata": {
    "scrolled": true
   },
   "outputs": [
    {
     "name": "stdout",
     "output_type": "stream",
     "text": [
      "Fitting 2 folds for each of 90 candidates, totalling 180 fits\n"
     ]
    },
    {
     "name": "stderr",
     "output_type": "stream",
     "text": [
      "[Parallel(n_jobs=-1)]: Using backend LokyBackend with 16 concurrent workers.\n",
      "[Parallel(n_jobs=-1)]: Done  18 tasks      | elapsed: 18.8min\n",
      "[Parallel(n_jobs=-1)]: Done 180 out of 180 | elapsed: 142.1min finished\n"
     ]
    },
    {
     "name": "stdout",
     "output_type": "stream",
     "text": [
      "{'solver': 'sgd', 'learning_rate_init': 0.1, 'learning_rate': 'adaptive', 'hidden_layer_sizes': (1536, 768), 'beta_2': 0.9, 'beta_1': 0.2, 'activation': 'logistic'}\n"
     ]
    }
   ],
   "source": [
    "mlp=MLPClassifier(early_stopping=True,warm_start=True)\n",
    "mlp_rand=RandomizedSearchCV(estimator=mlp,\n",
    "                            param_distributions=params,\n",
    "                            n_iter=90,\n",
    "                            cv=2,\n",
    "                            verbose=1,\n",
    "                            n_jobs=-1,\n",
    "                            return_train_score=True\n",
    "                            )\n",
    "mlp_rand.fit(X_test,y_test)\n",
    "print(mlp_rand.best_params_)"
   ]
  },
  {
   "cell_type": "code",
   "execution_count": 28,
   "metadata": {},
   "outputs": [
    {
     "data": {
      "text/plain": [
       "{'solver': 'sgd',\n",
       " 'learning_rate_init': 0.1,\n",
       " 'learning_rate': 'adaptive',\n",
       " 'hidden_layer_sizes': (1536, 768),\n",
       " 'beta_2': 0.9,\n",
       " 'beta_1': 0.2,\n",
       " 'activation': 'logistic'}"
      ]
     },
     "execution_count": 28,
     "metadata": {},
     "output_type": "execute_result"
    }
   ],
   "source": [
    "mlp_rand.best_params_"
   ]
  },
  {
   "cell_type": "code",
   "execution_count": null,
   "metadata": {
    "scrolled": true
   },
   "outputs": [],
   "source": [
    "model = MLPClassifier(hidden_layer_sizes=(1536, 768,),\n",
    "                      early_stopping=True,\n",
    "                      solver = 'sgd',\n",
    "                      learning_rate_init = 0.1,\n",
    "                      random_state = 4,\n",
    "                      learning_rate = 'adaptive',\n",
    "                      beta_1 = 0.1,\n",
    "                      beta_2= 0.8,\n",
    "                      activation = 'logistic')\n",
    "model.fit(X_train, y_train)"
   ]
  },
  {
   "cell_type": "code",
   "execution_count": null,
   "metadata": {},
   "outputs": [],
   "source": [
    "pred=model.predict(X_test)\n",
    "print('Classification Report (test):')\n",
    "print(classification_report(y_test,pred))\n",
    "print('Confusion Matrix:')\n",
    "print(confusion_matrix(y_test,pred))\n",
    "plot_roc_curve(model,X_test,y_test)\n",
    "plt.show()"
   ]
  },
  {
   "cell_type": "markdown",
   "metadata": {},
   "source": [
    "Let's see how these perform on the whole dataset, again with balancing by undersampling of the majority class."
   ]
  },
  {
   "cell_type": "code",
   "execution_count": 3,
   "metadata": {},
   "outputs": [],
   "source": [
    "\n",
    "rus=RandomUnderSampler()\n",
    "X_res,y_res=rus.fit_resample(Xy_crop_df.iloc[:,:3072].values, Xy_crop_df.label.values)\n"
   ]
  },
  {
   "cell_type": "code",
   "execution_count": 5,
   "metadata": {},
   "outputs": [
    {
     "name": "stdout",
     "output_type": "stream",
     "text": [
      "89117\n",
      "89117\n"
     ]
    }
   ],
   "source": [
    "#confirm the classes are balanced\n",
    "print(len(y_res[y_res==1]))\n",
    "print(len(y_res[y_res==0]))"
   ]
  },
  {
   "cell_type": "code",
   "execution_count": 4,
   "metadata": {},
   "outputs": [],
   "source": [
    "X_train, X_test, y_train, y_test = train_test_split(X_res,\n",
    "                                                    y_res,\n",
    "                                                    stratify=y_res)"
   ]
  },
  {
   "cell_type": "code",
   "execution_count": null,
   "metadata": {},
   "outputs": [],
   "source": []
  },
  {
   "cell_type": "code",
   "execution_count": 6,
   "metadata": {},
   "outputs": [],
   "source": [
    "scaler = StandardScaler() \n",
    "scaler.fit(X_train)  \n",
    "X_train = scaler.transform(X_train) \n",
    "X_test = scaler.transform(X_test) "
   ]
  },
  {
   "cell_type": "code",
   "execution_count": 7,
   "metadata": {},
   "outputs": [
    {
     "data": {
      "text/plain": [
       "MLPClassifier(activation='relu', alpha=0.0001, batch_size='auto', beta_1=0.9,\n",
       "              beta_2=0.999, early_stopping=True, epsilon=1e-08,\n",
       "              hidden_layer_sizes=(100,), learning_rate='constant',\n",
       "              learning_rate_init=0.001, max_fun=15000, max_iter=200,\n",
       "              momentum=0.9, n_iter_no_change=10, nesterovs_momentum=True,\n",
       "              power_t=0.5, random_state=None, shuffle=True, solver='adam',\n",
       "              tol=0.0001, validation_fraction=0.1, verbose=False,\n",
       "              warm_start=False)"
      ]
     },
     "execution_count": 7,
     "metadata": {},
     "output_type": "execute_result"
    }
   ],
   "source": [
    "\n",
    "model = MLPClassifier(early_stopping=True,hidden_layer_sizes=(100,))\n",
    "model.fit(X_train, y_train)"
   ]
  },
  {
   "cell_type": "code",
   "execution_count": 8,
   "metadata": {},
   "outputs": [
    {
     "name": "stdout",
     "output_type": "stream",
     "text": [
      "Classification Report (test):\n",
      "              precision    recall  f1-score   support\n",
      "\n",
      "           0       0.75      0.71      0.73     22280\n",
      "           1       0.72      0.77      0.74     22279\n",
      "\n",
      "    accuracy                           0.74     44559\n",
      "   macro avg       0.74      0.74      0.74     44559\n",
      "weighted avg       0.74      0.74      0.74     44559\n",
      "\n",
      "Confusion Matrix:\n",
      "[[15738  6542]\n",
      " [ 5209 17070]]\n"
     ]
    },
    {
     "data": {
      "image/png": "[encoded data removed]",
      "text/plain": [
       "<Figure size 432x288 with 1 Axes>"
      ]
     },
     "metadata": {
      "needs_background": "light"
     },
     "output_type": "display_data"
    }
   ],
   "source": [
    "pred=model.predict(X_test)\n",
    "print('Classification Report (test):')\n",
    "print(classification_report(y_test,pred))\n",
    "print('Confusion Matrix:')\n",
    "print(confusion_matrix(y_test,pred))\n",
    "plot_roc_curve(model,X_test,y_test)\n",
    "plt.show()"
   ]
  },
  {
   "cell_type": "code",
   "execution_count": 40,
   "metadata": {},
   "outputs": [
    {
     "name": "stderr",
     "output_type": "stream",
     "text": [
      "[Parallel(n_jobs=-1)]: Using backend ThreadingBackend with 16 concurrent workers.\n",
      "[Parallel(n_jobs=-1)]: Done  18 tasks      | elapsed:    6.0s\n",
      "[Parallel(n_jobs=-1)]: Done 168 tasks      | elapsed:   33.7s\n",
      "[Parallel(n_jobs=-1)]: Done 418 tasks      | elapsed:  1.4min\n",
      "[Parallel(n_jobs=-1)]: Done 768 tasks      | elapsed:  2.5min\n",
      "[Parallel(n_jobs=-1)]: Done 1218 tasks      | elapsed:  3.9min\n",
      "[Parallel(n_jobs=-1)]: Done 1768 tasks      | elapsed:  5.7min\n",
      "[Parallel(n_jobs=-1)]: Done 2420 out of 2420 | elapsed:  7.7min finished\n"
     ]
    },
    {
     "data": {
      "text/plain": [
       "RandomForestClassifier(bootstrap=True, ccp_alpha=0.0, class_weight=None,\n",
       "                       criterion='entropy', max_depth=None, max_features='log2',\n",
       "                       max_leaf_nodes=None, max_samples=None,\n",
       "                       min_impurity_decrease=0.0, min_impurity_split=None,\n",
       "                       min_samples_leaf=2, min_samples_split=10,\n",
       "                       min_weight_fraction_leaf=0.0, n_estimators=2420,\n",
       "                       n_jobs=-1, oob_score=False, random_state=None, verbose=1,\n",
       "                       warm_start=False)"
      ]
     },
     "execution_count": 40,
     "metadata": {},
     "output_type": "execute_result"
    }
   ],
   "source": [
    "#now plug best parameters into the random forest\n",
    "model = RandomForestClassifier(n_estimators=2420,\n",
    "                               min_samples_split=10,\n",
    "                               min_samples_leaf=2,\n",
    "                               max_features='log2',\n",
    "                               criterion='entropy',\n",
    "                               bootstrap=True,\n",
    "                               verbose=1,\n",
    "                               n_jobs=-1)\n",
    "# Fit on training data\n",
    "model.fit(X_train, y_train)\n"
   ]
  },
  {
   "cell_type": "code",
   "execution_count": 41,
   "metadata": {},
   "outputs": [
    {
     "name": "stderr",
     "output_type": "stream",
     "text": [
      "[Parallel(n_jobs=16)]: Using backend ThreadingBackend with 16 concurrent workers.\n",
      "[Parallel(n_jobs=16)]: Done  18 tasks      | elapsed:    0.1s\n",
      "[Parallel(n_jobs=16)]: Done 168 tasks      | elapsed:    0.5s\n",
      "[Parallel(n_jobs=16)]: Done 418 tasks      | elapsed:    1.3s\n",
      "[Parallel(n_jobs=16)]: Done 768 tasks      | elapsed:    2.4s\n",
      "[Parallel(n_jobs=16)]: Done 1218 tasks      | elapsed:    3.8s\n",
      "[Parallel(n_jobs=16)]: Done 1768 tasks      | elapsed:    5.5s\n",
      "[Parallel(n_jobs=16)]: Done 2420 out of 2420 | elapsed:    7.5s finished\n"
     ]
    },
    {
     "name": "stdout",
     "output_type": "stream",
     "text": [
      "Classification Report (test):\n",
      "              precision    recall  f1-score   support\n",
      "\n",
      "           0       0.76      0.77      0.76     22280\n",
      "           1       0.76      0.75      0.76     22279\n",
      "\n",
      "    accuracy                           0.76     44559\n",
      "   macro avg       0.76      0.76      0.76     44559\n",
      "weighted avg       0.76      0.76      0.76     44559\n",
      "\n",
      "Confusion Matrix:\n",
      "[[17084  5196]\n",
      " [ 5473 16806]]\n"
     ]
    },
    {
     "name": "stderr",
     "output_type": "stream",
     "text": [
      "[Parallel(n_jobs=16)]: Using backend ThreadingBackend with 16 concurrent workers.\n",
      "[Parallel(n_jobs=16)]: Done  18 tasks      | elapsed:    0.1s\n",
      "[Parallel(n_jobs=16)]: Done 168 tasks      | elapsed:    0.5s\n",
      "[Parallel(n_jobs=16)]: Done 418 tasks      | elapsed:    1.3s\n",
      "[Parallel(n_jobs=16)]: Done 768 tasks      | elapsed:    2.4s\n",
      "[Parallel(n_jobs=16)]: Done 1218 tasks      | elapsed:    3.8s\n",
      "[Parallel(n_jobs=16)]: Done 1768 tasks      | elapsed:    5.5s\n",
      "[Parallel(n_jobs=16)]: Done 2420 out of 2420 | elapsed:    7.5s finished\n"
     ]
    },
    {
     "data": {
      "image/png": "[encoded data removed]",
      "text/plain": [
       "<Figure size 432x288 with 1 Axes>"
      ]
     },
     "metadata": {
      "needs_background": "light"
     },
     "output_type": "display_data"
    }
   ],
   "source": [
    "pred=model.predict(X_test)\n",
    "print('Classification Report (test):')\n",
    "print(classification_report(y_test,pred))\n",
    "print('Confusion Matrix:')\n",
    "print(confusion_matrix(y_test,pred))\n",
    "plot_roc_curve(model,X_test,y_test)\n",
    "plt.show()"
   ]
  },
  {
   "cell_type": "markdown",
   "metadata": {},
   "source": [
    "It looks like the best results are a slight improvement on the Random Forest classifier. To yield this small improvement, we balanced the dataset by undersampling the majority class, and tuned the hyperparameters using a Randomized Search cross-validation. These yielded a slight improvement in performance, e.g. an improvement on the AUC from 0.80 to 0.84. I think we are nearing the limit of these strategies when applied to this dataset. For better performance we can usse something like a convolutional neural net, but that is beyond the scope of this notebook."
   ]
  },
  {
   "cell_type": "code",
   "execution_count": null,
   "metadata": {},
   "outputs": [],
   "source": []
  }
 ],
 "metadata": {
  "kernelspec": {
   "display_name": "Python 3",
   "language": "python",
   "name": "python3"
  },
  "language_info": {
   "codemirror_mode": {
    "name": "ipython",
    "version": 3
   },
   "file_extension": ".py",
   "mimetype": "text/x-python",
   "name": "python",
   "nbconvert_exporter": "python",
   "pygments_lexer": "ipython3",
   "version": "3.7.6"
  }
 },
 "nbformat": 4,
 "nbformat_minor": 4
}
