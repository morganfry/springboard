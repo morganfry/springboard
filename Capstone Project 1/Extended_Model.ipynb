{
 "cells": [
  {
   "cell_type": "code",
   "execution_count": 1,
   "metadata": {},
   "outputs": [],
   "source": [
    "import numpy as np\n",
    "import pandas as pd\n",
    "import matplotlib.pyplot as plt  \n",
    "%matplotlib inline\n",
    "\n",
    "from sklearn.utils import shuffle\n",
    "import pickle\n",
    "import sys\n",
    "import cv2\n",
    "\n",
    "\n",
    "import scipy as sp\n",
    "import sklearn.model_selection\n",
    "from sklearn.model_selection import train_test_split\n",
    "from sklearn.model_selection import GridSearchCV\n",
    "from sklearn.linear_model import LogisticRegression\n",
    "from sklearn.ensemble import RandomForestClassifier\n",
    "from sklearn.neural_network import MLPClassifier\n",
    "\n",
    "from sklearn.metrics import accuracy_score \n",
    "from sklearn.metrics import classification_report\n",
    "from sklearn.metrics import confusion_matrix\n",
    "from sklearn.metrics import roc_auc_score\n",
    "from sklearn.metrics import plot_roc_curve\n",
    "from sklearn.preprocessing import StandardScaler\n",
    "\n",
    "from time import time\n",
    "import logging\n"
   ]
  },
  {
   "cell_type": "code",
   "execution_count": 2,
   "metadata": {},
   "outputs": [],
   "source": [
    "#load data \n",
    "y_d=pickle.load(open(\"saved/y.p\",\"rb\"))\n",
    "X_d=pickle.load(open(\"saved/X.p\",\"rb\"))"
   ]
  },
  {
   "cell_type": "code",
   "execution_count": 3,
   "metadata": {},
   "outputs": [],
   "source": [
    "#organize data into dataframes\n",
    "#to save computational time at this point, we'll use the cropped images\n",
    "X_v_crop_d={}\n",
    "\n",
    "for each in X_d.items():\n",
    "    X_v_crop_d.update({each[0]:each[1][31:63,31:63].flatten()})"
   ]
  },
  {
   "cell_type": "code",
   "execution_count": 4,
   "metadata": {},
   "outputs": [],
   "source": [
    "X_v_crop_df=pd.DataFrame.from_dict(X_v_crop_d,orient='index')"
   ]
  },
  {
   "cell_type": "code",
   "execution_count": 5,
   "metadata": {},
   "outputs": [],
   "source": [
    "Xy_crop_df=X_v_crop_df.merge(y_d,right_on='id',left_index=True)"
   ]
  },
  {
   "cell_type": "code",
   "execution_count": 6,
   "metadata": {},
   "outputs": [
    {
     "data": {
      "text/html": [
       "<div>\n",
       "<style scoped>\n",
       "    .dataframe tbody tr th:only-of-type {\n",
       "        vertical-align: middle;\n",
       "    }\n",
       "\n",
       "    .dataframe tbody tr th {\n",
       "        vertical-align: top;\n",
       "    }\n",
       "\n",
       "    .dataframe thead th {\n",
       "        text-align: right;\n",
       "    }\n",
       "</style>\n",
       "<table border=\"1\" class=\"dataframe\">\n",
       "  <thead>\n",
       "    <tr style=\"text-align: right;\">\n",
       "      <th></th>\n",
       "      <th>0</th>\n",
       "      <th>1</th>\n",
       "      <th>2</th>\n",
       "      <th>3</th>\n",
       "      <th>4</th>\n",
       "      <th>5</th>\n",
       "      <th>6</th>\n",
       "      <th>7</th>\n",
       "      <th>8</th>\n",
       "      <th>9</th>\n",
       "      <th>...</th>\n",
       "      <th>3064</th>\n",
       "      <th>3065</th>\n",
       "      <th>3066</th>\n",
       "      <th>3067</th>\n",
       "      <th>3068</th>\n",
       "      <th>3069</th>\n",
       "      <th>3070</th>\n",
       "      <th>3071</th>\n",
       "      <th>id</th>\n",
       "      <th>label</th>\n",
       "    </tr>\n",
       "  </thead>\n",
       "  <tbody>\n",
       "    <tr>\n",
       "      <th>0</th>\n",
       "      <td>244</td>\n",
       "      <td>243</td>\n",
       "      <td>245</td>\n",
       "      <td>245</td>\n",
       "      <td>247</td>\n",
       "      <td>248</td>\n",
       "      <td>245</td>\n",
       "      <td>247</td>\n",
       "      <td>248</td>\n",
       "      <td>244</td>\n",
       "      <td>...</td>\n",
       "      <td>249</td>\n",
       "      <td>245</td>\n",
       "      <td>248</td>\n",
       "      <td>247</td>\n",
       "      <td>243</td>\n",
       "      <td>245</td>\n",
       "      <td>244</td>\n",
       "      <td>240</td>\n",
       "      <td>f38a6374c348f90b587e046aac6079959adf3835</td>\n",
       "      <td>0</td>\n",
       "    </tr>\n",
       "    <tr>\n",
       "      <th>1</th>\n",
       "      <td>253</td>\n",
       "      <td>252</td>\n",
       "      <td>254</td>\n",
       "      <td>250</td>\n",
       "      <td>247</td>\n",
       "      <td>249</td>\n",
       "      <td>234</td>\n",
       "      <td>231</td>\n",
       "      <td>233</td>\n",
       "      <td>255</td>\n",
       "      <td>...</td>\n",
       "      <td>249</td>\n",
       "      <td>249</td>\n",
       "      <td>249</td>\n",
       "      <td>249</td>\n",
       "      <td>249</td>\n",
       "      <td>248</td>\n",
       "      <td>250</td>\n",
       "      <td>250</td>\n",
       "      <td>c18f2d887b7ae4f6742ee445113fa1aef383ed77</td>\n",
       "      <td>1</td>\n",
       "    </tr>\n",
       "    <tr>\n",
       "      <th>2</th>\n",
       "      <td>184</td>\n",
       "      <td>174</td>\n",
       "      <td>187</td>\n",
       "      <td>195</td>\n",
       "      <td>162</td>\n",
       "      <td>189</td>\n",
       "      <td>177</td>\n",
       "      <td>148</td>\n",
       "      <td>174</td>\n",
       "      <td>173</td>\n",
       "      <td>...</td>\n",
       "      <td>199</td>\n",
       "      <td>226</td>\n",
       "      <td>168</td>\n",
       "      <td>160</td>\n",
       "      <td>183</td>\n",
       "      <td>199</td>\n",
       "      <td>193</td>\n",
       "      <td>212</td>\n",
       "      <td>755db6279dae599ebb4d39a9123cce439965282d</td>\n",
       "      <td>0</td>\n",
       "    </tr>\n",
       "    <tr>\n",
       "      <th>3</th>\n",
       "      <td>173</td>\n",
       "      <td>106</td>\n",
       "      <td>173</td>\n",
       "      <td>218</td>\n",
       "      <td>139</td>\n",
       "      <td>206</td>\n",
       "      <td>172</td>\n",
       "      <td>98</td>\n",
       "      <td>158</td>\n",
       "      <td>191</td>\n",
       "      <td>...</td>\n",
       "      <td>85</td>\n",
       "      <td>145</td>\n",
       "      <td>177</td>\n",
       "      <td>106</td>\n",
       "      <td>169</td>\n",
       "      <td>191</td>\n",
       "      <td>118</td>\n",
       "      <td>186</td>\n",
       "      <td>bc3f0c64fb968ff4a8bd33af6971ecae77c75e08</td>\n",
       "      <td>0</td>\n",
       "    </tr>\n",
       "    <tr>\n",
       "      <th>4</th>\n",
       "      <td>74</td>\n",
       "      <td>36</td>\n",
       "      <td>66</td>\n",
       "      <td>82</td>\n",
       "      <td>39</td>\n",
       "      <td>96</td>\n",
       "      <td>212</td>\n",
       "      <td>178</td>\n",
       "      <td>242</td>\n",
       "      <td>119</td>\n",
       "      <td>...</td>\n",
       "      <td>20</td>\n",
       "      <td>80</td>\n",
       "      <td>105</td>\n",
       "      <td>64</td>\n",
       "      <td>121</td>\n",
       "      <td>77</td>\n",
       "      <td>27</td>\n",
       "      <td>81</td>\n",
       "      <td>068aba587a4950175d04c680d38943fd488d6a9d</td>\n",
       "      <td>0</td>\n",
       "    </tr>\n",
       "  </tbody>\n",
       "</table>\n",
       "<p>5 rows × 3074 columns</p>\n",
       "</div>"
      ],
      "text/plain": [
       "     0    1    2    3    4    5    6    7    8    9  ...  3064  3065  3066  \\\n",
       "0  244  243  245  245  247  248  245  247  248  244  ...   249   245   248   \n",
       "1  253  252  254  250  247  249  234  231  233  255  ...   249   249   249   \n",
       "2  184  174  187  195  162  189  177  148  174  173  ...   199   226   168   \n",
       "3  173  106  173  218  139  206  172   98  158  191  ...    85   145   177   \n",
       "4   74   36   66   82   39   96  212  178  242  119  ...    20    80   105   \n",
       "\n",
       "   3067  3068  3069  3070  3071                                        id  \\\n",
       "0   247   243   245   244   240  f38a6374c348f90b587e046aac6079959adf3835   \n",
       "1   249   249   248   250   250  c18f2d887b7ae4f6742ee445113fa1aef383ed77   \n",
       "2   160   183   199   193   212  755db6279dae599ebb4d39a9123cce439965282d   \n",
       "3   106   169   191   118   186  bc3f0c64fb968ff4a8bd33af6971ecae77c75e08   \n",
       "4    64   121    77    27    81  068aba587a4950175d04c680d38943fd488d6a9d   \n",
       "\n",
       "   label  \n",
       "0      0  \n",
       "1      1  \n",
       "2      0  \n",
       "3      0  \n",
       "4      0  \n",
       "\n",
       "[5 rows x 3074 columns]"
      ]
     },
     "execution_count": 6,
     "metadata": {},
     "output_type": "execute_result"
    }
   ],
   "source": [
    "Xy_crop_df.head()"
   ]
  },
  {
   "cell_type": "markdown",
   "metadata": {},
   "source": [
    "Recall from the Baseline Model that a simple logistic regression yielded mediocre results. We will try to more robust strategies here, a random forest and nerual net. For these, we are going to scale the data from pixel values of 0-255 to values of 0-1."
   ]
  },
  {
   "cell_type": "code",
   "execution_count": null,
   "metadata": {},
   "outputs": [],
   "source": [
    "#save DataFrame for later use\n",
    "Xy_crop_df.to_csv('saved/Xy_crop.csv')"
   ]
  },
  {
   "cell_type": "code",
   "execution_count": 8,
   "metadata": {},
   "outputs": [],
   "source": [
    "X_train, X_test, y_train, y_test = train_test_split(Xy_crop_df.iloc[:,:3071].values,\n",
    "                                                Xy_crop_df.label.values,\n",
    "                                                stratify=Xy_crop_df.label.values)"
   ]
  },
  {
   "cell_type": "code",
   "execution_count": 12,
   "metadata": {},
   "outputs": [],
   "source": [
    "from sklearn.preprocessing import MinMaxScaler\n",
    "scaler = MinMaxScaler() \n",
    "scaler.fit(X_train)  \n",
    "X_train = scaler.transform(X_train) \n",
    "X_test = scaler.transform(X_test) "
   ]
  },
  {
   "cell_type": "markdown",
   "metadata": {},
   "source": [
    "Now that we are ready, we will use the following to find the best classifier:\n",
    "* Try a Random Forest with default settings\n",
    "* Try a Neural Net with default settings\n",
    "* Try tuning hyperparaeters for both to improve results\n",
    "As noted in the Baseline Model notebook, we will be using the area under the ROC curve to evaluate these classifiers.\n",
    "\n",
    "Hyperparameters for tuning random forest will be:\n",
    "* n_estimators\n",
    "* max_features\n",
    "* criterion\n",
    "\n",
    "Hyperparameters for tuning MLP Classifier will be:\n",
    "* beta_1 & beta_2 for adam solver\n",
    "* learning_rate\n",
    "* learning rate int\n",
    "* max_iter"
   ]
  },
  {
   "cell_type": "code",
   "execution_count": 14,
   "metadata": {},
   "outputs": [
    {
     "name": "stderr",
     "output_type": "stream",
     "text": [
      "[Parallel(n_jobs=-1)]: Using backend ThreadingBackend with 6 concurrent workers.\n",
      "[Parallel(n_jobs=-1)]: Done  38 tasks      | elapsed:  1.2min\n",
      "[Parallel(n_jobs=-1)]: Done 100 out of 100 | elapsed:  3.0min finished\n"
     ]
    },
    {
     "data": {
      "text/plain": [
       "RandomForestClassifier(bootstrap=True, ccp_alpha=0.0, class_weight=None,\n",
       "                       criterion='gini', max_depth=None, max_features='auto',\n",
       "                       max_leaf_nodes=None, max_samples=None,\n",
       "                       min_impurity_decrease=0.0, min_impurity_split=None,\n",
       "                       min_samples_leaf=1, min_samples_split=2,\n",
       "                       min_weight_fraction_leaf=0.0, n_estimators=100,\n",
       "                       n_jobs=-1, oob_score=False, random_state=None, verbose=1,\n",
       "                       warm_start=False)"
      ]
     },
     "execution_count": 14,
     "metadata": {},
     "output_type": "execute_result"
    }
   ],
   "source": [
    "#Random Forest\n",
    "# Create the model with 100 trees\n",
    "\n",
    "model = RandomForestClassifier(verbose=1,n_jobs=-1)\n",
    "# Fit on training data\n",
    "model.fit(X_train, y_train)"
   ]
  },
  {
   "cell_type": "code",
   "execution_count": 15,
   "metadata": {},
   "outputs": [
    {
     "name": "stdout",
     "output_type": "stream",
     "text": [
      "Classification Report (test):\n"
     ]
    },
    {
     "name": "stderr",
     "output_type": "stream",
     "text": [
      "[Parallel(n_jobs=6)]: Using backend ThreadingBackend with 6 concurrent workers.\n",
      "[Parallel(n_jobs=6)]: Done  38 tasks      | elapsed:    0.4s\n",
      "[Parallel(n_jobs=6)]: Done 100 out of 100 | elapsed:    1.0s finished\n"
     ]
    },
    {
     "name": "stdout",
     "output_type": "stream",
     "text": [
      "              precision    recall  f1-score   support\n",
      "\n",
      "           0       0.76      0.88      0.81     32727\n",
      "           1       0.77      0.60      0.67     22280\n",
      "\n",
      "    accuracy                           0.76     55007\n",
      "   macro avg       0.76      0.74      0.74     55007\n",
      "weighted avg       0.76      0.76      0.76     55007\n",
      "\n",
      "Confusion Matrix:\n"
     ]
    },
    {
     "name": "stderr",
     "output_type": "stream",
     "text": [
      "[Parallel(n_jobs=6)]: Using backend ThreadingBackend with 6 concurrent workers.\n",
      "[Parallel(n_jobs=6)]: Done  38 tasks      | elapsed:    0.4s\n",
      "[Parallel(n_jobs=6)]: Done 100 out of 100 | elapsed:    0.9s finished\n"
     ]
    },
    {
     "name": "stdout",
     "output_type": "stream",
     "text": [
      "[[28675  4052]\n",
      " [ 8989 13291]]\n"
     ]
    },
    {
     "name": "stderr",
     "output_type": "stream",
     "text": [
      "[Parallel(n_jobs=6)]: Using backend ThreadingBackend with 6 concurrent workers.\n",
      "[Parallel(n_jobs=6)]: Done  38 tasks      | elapsed:    0.4s\n",
      "[Parallel(n_jobs=6)]: Done 100 out of 100 | elapsed:    0.9s finished\n"
     ]
    },
    {
     "data": {
      "image/png": "[encoded data removed]",
      "text/plain": [
       "<Figure size 432x288 with 1 Axes>"
      ]
     },
     "metadata": {
      "needs_background": "light"
     },
     "output_type": "display_data"
    }
   ],
   "source": [
    "print('Classification Report (test):')\n",
    "print(classification_report(y_test,model.predict(X_test)))\n",
    "print('Confusion Matrix:')\n",
    "print(confusion_matrix(y_test,model.predict(X_test)))\n",
    "plot_roc_curve(model,X_test,y_test)\n",
    "plt.show()"
   ]
  },
  {
   "cell_type": "code",
   "execution_count": 16,
   "metadata": {},
   "outputs": [
    {
     "name": "stdout",
     "output_type": "stream",
     "text": [
      "Iteration 1, loss = 0.64174130\n",
      "Validation score: 0.585990\n",
      "Iteration 2, loss = 0.62756003\n",
      "Validation score: 0.594958\n",
      "Iteration 3, loss = 0.61969717\n",
      "Validation score: 0.611380\n",
      "Iteration 4, loss = 0.61499799\n",
      "Validation score: 0.620591\n",
      "Iteration 5, loss = 0.61156901\n",
      "Validation score: 0.625318\n",
      "Iteration 6, loss = 0.60957544\n",
      "Validation score: 0.637680\n",
      "Iteration 7, loss = 0.60625682\n",
      "Validation score: 0.644225\n",
      "Iteration 8, loss = 0.60413428\n",
      "Validation score: 0.647376\n",
      "Iteration 9, loss = 0.60037225\n",
      "Validation score: 0.652406\n",
      "Iteration 10, loss = 0.59734216\n",
      "Validation score: 0.657132\n",
      "Iteration 11, loss = 0.59737790\n",
      "Validation score: 0.661071\n",
      "Iteration 12, loss = 0.59358662\n",
      "Validation score: 0.643134\n",
      "Iteration 13, loss = 0.59275138\n",
      "Validation score: 0.653981\n",
      "Iteration 14, loss = 0.59036856\n",
      "Validation score: 0.664889\n",
      "Iteration 15, loss = 0.58964041\n",
      "Validation score: 0.665010\n",
      "Iteration 16, loss = 0.58749087\n",
      "Validation score: 0.665919\n",
      "Iteration 17, loss = 0.58696379\n",
      "Validation score: 0.664162\n",
      "Iteration 18, loss = 0.58486539\n",
      "Validation score: 0.669192\n",
      "Iteration 19, loss = 0.58453660\n",
      "Validation score: 0.666162\n",
      "Iteration 20, loss = 0.58360452\n",
      "Validation score: 0.664283\n",
      "Iteration 21, loss = 0.58162017\n",
      "Validation score: 0.673676\n",
      "Iteration 22, loss = 0.58210676\n",
      "Validation score: 0.673555\n",
      "Iteration 23, loss = 0.57951495\n",
      "Validation score: 0.673312\n",
      "Iteration 24, loss = 0.57989690\n",
      "Validation score: 0.678281\n",
      "Iteration 25, loss = 0.57768192\n",
      "Validation score: 0.679615\n",
      "Iteration 26, loss = 0.57751689\n",
      "Validation score: 0.679493\n",
      "Iteration 27, loss = 0.57627212\n",
      "Validation score: 0.680524\n",
      "Iteration 28, loss = 0.57559098\n",
      "Validation score: 0.681130\n",
      "Iteration 29, loss = 0.57309622\n",
      "Validation score: 0.684462\n",
      "Iteration 30, loss = 0.57336898\n",
      "Validation score: 0.681675\n",
      "Iteration 31, loss = 0.57190057\n",
      "Validation score: 0.659253\n"
     ]
    },
    {
     "name": "stderr",
     "output_type": "stream",
     "text": [
      "/home/morganfry42/anaconda3/lib/python3.7/site-packages/sklearn/neural_network/_multilayer_perceptron.py:573: UserWarning: Training interrupted by user.\n",
      "  warnings.warn(\"Training interrupted by user.\")\n"
     ]
    },
    {
     "data": {
      "text/plain": [
       "MLPClassifier(activation='relu', alpha=0.0001, batch_size='auto', beta_1=0.9,\n",
       "              beta_2=0.999, early_stopping=True, epsilon=1e-08,\n",
       "              hidden_layer_sizes=(100,), learning_rate='constant',\n",
       "              learning_rate_init=0.001, max_fun=15000, max_iter=200,\n",
       "              momentum=0.9, n_iter_no_change=10, nesterovs_momentum=True,\n",
       "              power_t=0.5, random_state=None, shuffle=True, solver='adam',\n",
       "              tol=0.0001, validation_fraction=0.1, verbose=True,\n",
       "              warm_start=False)"
      ]
     },
     "execution_count": 16,
     "metadata": {},
     "output_type": "execute_result"
    }
   ],
   "source": [
    "model = MLPClassifier(early_stopping=True,\n",
    "                      verbose=True\n",
    "                      )\n",
    "\n",
    "model.fit(X_train, y_train)"
   ]
  },
  {
   "cell_type": "code",
   "execution_count": 17,
   "metadata": {},
   "outputs": [
    {
     "name": "stdout",
     "output_type": "stream",
     "text": [
      "Classification Report (test):\n",
      "              precision    recall  f1-score   support\n",
      "\n",
      "           0       0.75      0.72      0.73     32727\n",
      "           1       0.61      0.65      0.63     22280\n",
      "\n",
      "    accuracy                           0.69     55007\n",
      "   macro avg       0.68      0.68      0.68     55007\n",
      "weighted avg       0.69      0.69      0.69     55007\n",
      "\n",
      "Confusion Matrix:\n",
      "[[23428  9299]\n",
      " [ 7725 14555]]\n"
     ]
    },
    {
     "data": {
      "image/png": "[encoded data removed]",
      "text/plain": [
       "<Figure size 432x288 with 1 Axes>"
      ]
     },
     "metadata": {
      "needs_background": "light"
     },
     "output_type": "display_data"
    }
   ],
   "source": [
    "pred=model.predict(X_test)\n",
    "print('Classification Report (test):')\n",
    "print(classification_report(y_test,pred))\n",
    "print('Confusion Matrix:')\n",
    "print(confusion_matrix(y_test,pred))\n",
    "plot_roc_curve(model,X_test,y_test)\n",
    "plt.show()"
   ]
  },
  {
   "cell_type": "code",
   "execution_count": 12,
   "metadata": {},
   "outputs": [],
   "source": [
    "from sklearn.model_selection import RandomizedSearchCV\n",
    "\n",
    "#parameters\n",
    "n_estimators = [int(x) for x in np.linspace(start = 100, stop = 3000, num = 6)]\n",
    "max_features = ['sqrt','log2']\n",
    "min_samples_split = [2, 5, 10]\n",
    "min_samples_leaf = [1, 2, 4]\n",
    "bootstrap = [True]\n",
    "criterion = ['entropy']\n",
    "\n",
    "params={'n_estimators': n_estimators,\n",
    "        'max_features': max_features,\n",
    "        'min_samples_split': min_samples_split,\n",
    "        'min_samples_leaf': min_samples_leaf,\n",
    "        'bootstrap': bootstrap,\n",
    "        'criterion': criterion}"
   ]
  },
  {
   "cell_type": "code",
   "execution_count": 20,
   "metadata": {},
   "outputs": [
    {
     "ename": "ValueError",
     "evalue": "k-fold cross-validation requires at least one train/test split by setting n_splits=2 or more, got n_splits=1.",
     "output_type": "error",
     "traceback": [
      "\u001b[0;31m---------------------------------------------------------------------------\u001b[0m",
      "\u001b[0;31mValueError\u001b[0m                                Traceback (most recent call last)",
      "\u001b[0;32m<ipython-input-20-0f08936dd46b>\u001b[0m in \u001b[0;36m<module>\u001b[0;34m\u001b[0m\n\u001b[1;32m      7\u001b[0m                            \u001b[0mn_jobs\u001b[0m\u001b[0;34m=\u001b[0m\u001b[0;34m-\u001b[0m\u001b[0;36m1\u001b[0m\u001b[0;34m,\u001b[0m\u001b[0;34m\u001b[0m\u001b[0;34m\u001b[0m\u001b[0m\n\u001b[1;32m      8\u001b[0m                            return_train_score=True)\n\u001b[0;32m----> 9\u001b[0;31m \u001b[0mrf_rand\u001b[0m\u001b[0;34m.\u001b[0m\u001b[0mfit\u001b[0m\u001b[0;34m(\u001b[0m\u001b[0mX_test\u001b[0m\u001b[0;34m,\u001b[0m\u001b[0my_test\u001b[0m\u001b[0;34m)\u001b[0m\u001b[0;34m\u001b[0m\u001b[0;34m\u001b[0m\u001b[0m\n\u001b[0m\u001b[1;32m     10\u001b[0m \u001b[0mrf_rand\u001b[0m\u001b[0;34m.\u001b[0m\u001b[0mcv_results_\u001b[0m\u001b[0;34m\u001b[0m\u001b[0;34m\u001b[0m\u001b[0m\n",
      "\u001b[0;32m~/anaconda3/lib/python3.7/site-packages/sklearn/model_selection/_search.py\u001b[0m in \u001b[0;36mfit\u001b[0;34m(self, X, y, groups, **fit_params)\u001b[0m\n\u001b[1;32m    624\u001b[0m         \"\"\"\n\u001b[1;32m    625\u001b[0m         \u001b[0mestimator\u001b[0m \u001b[0;34m=\u001b[0m \u001b[0mself\u001b[0m\u001b[0;34m.\u001b[0m\u001b[0mestimator\u001b[0m\u001b[0;34m\u001b[0m\u001b[0;34m\u001b[0m\u001b[0m\n\u001b[0;32m--> 626\u001b[0;31m         \u001b[0mcv\u001b[0m \u001b[0;34m=\u001b[0m \u001b[0mcheck_cv\u001b[0m\u001b[0;34m(\u001b[0m\u001b[0mself\u001b[0m\u001b[0;34m.\u001b[0m\u001b[0mcv\u001b[0m\u001b[0;34m,\u001b[0m \u001b[0my\u001b[0m\u001b[0;34m,\u001b[0m \u001b[0mclassifier\u001b[0m\u001b[0;34m=\u001b[0m\u001b[0mis_classifier\u001b[0m\u001b[0;34m(\u001b[0m\u001b[0mestimator\u001b[0m\u001b[0;34m)\u001b[0m\u001b[0;34m)\u001b[0m\u001b[0;34m\u001b[0m\u001b[0;34m\u001b[0m\u001b[0m\n\u001b[0m\u001b[1;32m    627\u001b[0m \u001b[0;34m\u001b[0m\u001b[0m\n\u001b[1;32m    628\u001b[0m         scorers, self.multimetric_ = _check_multimetric_scoring(\n",
      "\u001b[0;32m~/anaconda3/lib/python3.7/site-packages/sklearn/model_selection/_split.py\u001b[0m in \u001b[0;36mcheck_cv\u001b[0;34m(cv, y, classifier)\u001b[0m\n\u001b[1;32m   2004\u001b[0m         if (classifier and (y is not None) and\n\u001b[1;32m   2005\u001b[0m                 (type_of_target(y) in ('binary', 'multiclass'))):\n\u001b[0;32m-> 2006\u001b[0;31m             \u001b[0;32mreturn\u001b[0m \u001b[0mStratifiedKFold\u001b[0m\u001b[0;34m(\u001b[0m\u001b[0mcv\u001b[0m\u001b[0;34m)\u001b[0m\u001b[0;34m\u001b[0m\u001b[0;34m\u001b[0m\u001b[0m\n\u001b[0m\u001b[1;32m   2007\u001b[0m         \u001b[0;32melse\u001b[0m\u001b[0;34m:\u001b[0m\u001b[0;34m\u001b[0m\u001b[0;34m\u001b[0m\u001b[0m\n\u001b[1;32m   2008\u001b[0m             \u001b[0;32mreturn\u001b[0m \u001b[0mKFold\u001b[0m\u001b[0;34m(\u001b[0m\u001b[0mcv\u001b[0m\u001b[0;34m)\u001b[0m\u001b[0;34m\u001b[0m\u001b[0;34m\u001b[0m\u001b[0m\n",
      "\u001b[0;32m~/anaconda3/lib/python3.7/site-packages/sklearn/model_selection/_split.py\u001b[0m in \u001b[0;36m__init__\u001b[0;34m(self, n_splits, shuffle, random_state)\u001b[0m\n\u001b[1;32m    634\u001b[0m \u001b[0;34m\u001b[0m\u001b[0m\n\u001b[1;32m    635\u001b[0m     \u001b[0;32mdef\u001b[0m \u001b[0m__init__\u001b[0m\u001b[0;34m(\u001b[0m\u001b[0mself\u001b[0m\u001b[0;34m,\u001b[0m \u001b[0mn_splits\u001b[0m\u001b[0;34m=\u001b[0m\u001b[0;36m5\u001b[0m\u001b[0;34m,\u001b[0m \u001b[0mshuffle\u001b[0m\u001b[0;34m=\u001b[0m\u001b[0;32mFalse\u001b[0m\u001b[0;34m,\u001b[0m \u001b[0mrandom_state\u001b[0m\u001b[0;34m=\u001b[0m\u001b[0;32mNone\u001b[0m\u001b[0;34m)\u001b[0m\u001b[0;34m:\u001b[0m\u001b[0;34m\u001b[0m\u001b[0;34m\u001b[0m\u001b[0m\n\u001b[0;32m--> 636\u001b[0;31m         \u001b[0msuper\u001b[0m\u001b[0;34m(\u001b[0m\u001b[0;34m)\u001b[0m\u001b[0;34m.\u001b[0m\u001b[0m__init__\u001b[0m\u001b[0;34m(\u001b[0m\u001b[0mn_splits\u001b[0m\u001b[0;34m,\u001b[0m \u001b[0mshuffle\u001b[0m\u001b[0;34m,\u001b[0m \u001b[0mrandom_state\u001b[0m\u001b[0;34m)\u001b[0m\u001b[0;34m\u001b[0m\u001b[0;34m\u001b[0m\u001b[0m\n\u001b[0m\u001b[1;32m    637\u001b[0m \u001b[0;34m\u001b[0m\u001b[0m\n\u001b[1;32m    638\u001b[0m     \u001b[0;32mdef\u001b[0m \u001b[0m_make_test_folds\u001b[0m\u001b[0;34m(\u001b[0m\u001b[0mself\u001b[0m\u001b[0;34m,\u001b[0m \u001b[0mX\u001b[0m\u001b[0;34m,\u001b[0m \u001b[0my\u001b[0m\u001b[0;34m=\u001b[0m\u001b[0;32mNone\u001b[0m\u001b[0;34m)\u001b[0m\u001b[0;34m:\u001b[0m\u001b[0;34m\u001b[0m\u001b[0;34m\u001b[0m\u001b[0m\n",
      "\u001b[0;32m~/anaconda3/lib/python3.7/site-packages/sklearn/model_selection/_split.py\u001b[0m in \u001b[0;36m__init__\u001b[0;34m(self, n_splits, shuffle, random_state)\u001b[0m\n\u001b[1;32m    282\u001b[0m                 \u001b[0;34m\"k-fold cross-validation requires at least one\"\u001b[0m\u001b[0;34m\u001b[0m\u001b[0;34m\u001b[0m\u001b[0m\n\u001b[1;32m    283\u001b[0m                 \u001b[0;34m\" train/test split by setting n_splits=2 or more,\"\u001b[0m\u001b[0;34m\u001b[0m\u001b[0;34m\u001b[0m\u001b[0m\n\u001b[0;32m--> 284\u001b[0;31m                 \" got n_splits={0}.\".format(n_splits))\n\u001b[0m\u001b[1;32m    285\u001b[0m \u001b[0;34m\u001b[0m\u001b[0m\n\u001b[1;32m    286\u001b[0m         \u001b[0;32mif\u001b[0m \u001b[0;32mnot\u001b[0m \u001b[0misinstance\u001b[0m\u001b[0;34m(\u001b[0m\u001b[0mshuffle\u001b[0m\u001b[0;34m,\u001b[0m \u001b[0mbool\u001b[0m\u001b[0;34m)\u001b[0m\u001b[0;34m:\u001b[0m\u001b[0;34m\u001b[0m\u001b[0;34m\u001b[0m\u001b[0m\n",
      "\u001b[0;31mValueError\u001b[0m: k-fold cross-validation requires at least one train/test split by setting n_splits=2 or more, got n_splits=1."
     ]
    }
   ],
   "source": [
    "rfc=RandomForestClassifier()\n",
    "\n",
    "rf_rand=RandomizedSearchCV(estimator=rfc, \n",
    "                           param_distributions=params, \n",
    "                           cv=2,\n",
    "                           verbose=1, \n",
    "                           n_jobs=-1,\n",
    "                           return_train_score=True)\n",
    "rf_rand.fit(X_test,y_test)\n",
    "rf_rand.cv_results_"
   ]
  },
  {
   "cell_type": "code",
   "execution_count": null,
   "metadata": {},
   "outputs": [],
   "source": [
    "rf_rand.best_params_"
   ]
  },
  {
   "cell_type": "code",
   "execution_count": null,
   "metadata": {},
   "outputs": [
    {
     "name": "stderr",
     "output_type": "stream",
     "text": [
      "[Parallel(n_jobs=-1)]: Using backend ThreadingBackend with 2 concurrent workers.\n",
      "[Parallel(n_jobs=-1)]: Done  46 tasks      | elapsed:  6.3min\n"
     ]
    }
   ],
   "source": [
    "#now plug best parameters into the random forest\n",
    "model = RandomForestClassifier(n_estimators=2000,\n",
    "                               max_features='sqrt',\n",
    "                               criterion='entropy',\n",
    "                               verbose=1,n_jobs=-1)\n",
    "# Fit on training data\n",
    "model.fit(X_train, y_train)\n"
   ]
  },
  {
   "cell_type": "code",
   "execution_count": null,
   "metadata": {},
   "outputs": [],
   "source": [
    "pred=model.predict(X_test)\n",
    "print('Classification Report (test):')\n",
    "print(classification_report(y_test,pred))\n",
    "print('Confusion Matrix:')\n",
    "print(confusion_matrix(y_test,pred))\n",
    "plot_roc_curve(model,X_test,y_test)\n",
    "plt.show()"
   ]
  },
  {
   "cell_type": "markdown",
   "metadata": {},
   "source": [
    "Seems that's as good as we'll get with the random forest, so let's see how a neural net does"
   ]
  },
  {
   "cell_type": "code",
   "execution_count": null,
   "metadata": {},
   "outputs": [],
   "source": []
  }
 ],
 "metadata": {
  "kernelspec": {
   "display_name": "Python 3",
   "language": "python",
   "name": "python3"
  },
  "language_info": {
   "codemirror_mode": {
    "name": "ipython",
    "version": 3
   },
   "file_extension": ".py",
   "mimetype": "text/x-python",
   "name": "python",
   "nbconvert_exporter": "python",
   "pygments_lexer": "ipython3",
   "version": "3.7.6"
  }
 },
 "nbformat": 4,
 "nbformat_minor": 4
}
