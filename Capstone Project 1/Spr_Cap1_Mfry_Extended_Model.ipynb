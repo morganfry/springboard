{
 "cells": [
  {
   "cell_type": "markdown",
   "metadata": {},
   "source": [
    "## Springboard Data Science Track Capstone Project 1\n",
    "### Histopathologic Cancer Detection\n",
    "### by Morgan Fry\n",
    "### Extended Model"
   ]
  },
  {
   "cell_type": "markdown",
   "metadata": {},
   "source": [
    "This notebook is for improvements to the logistic regression model in the 'Baseline Model' notebook. We will extend by trying a Random Forest Classfier and a multilayer Neural Net. To develop improved results, we will examine two strategies for dealing with the imbalance in the data (noted in the 'Data Exploration' notebook)."
   ]
  },
  {
   "cell_type": "code",
   "execution_count": 1,
   "metadata": {
    "scrolled": true
   },
   "outputs": [
    {
     "name": "stderr",
     "output_type": "stream",
     "text": [
      "FutureWarning: pandas.core.index is deprecated and will be removed in a future version.  The public classes are available in the top-level namespace.\n",
      "Using TensorFlow backend.\n"
     ]
    }
   ],
   "source": [
    "import numpy as np\n",
    "import modin.pandas as pd\n",
    "import matplotlib.pyplot as plt  \n",
    "%matplotlib inline\n",
    "\n",
    "import scipy as sp\n",
    "\n",
    "from sklearn.model_selection import train_test_split\n",
    "from sklearn.utils import shuffle\n",
    "\n",
    "from sklearn.ensemble import RandomForestClassifier\n",
    "\n",
    "from imblearn.under_sampling import RandomUnderSampler\n",
    "from imblearn.pipeline import make_pipeline\n",
    "\n",
    "from sklearn.metrics import classification_report\n",
    "from sklearn.metrics import confusion_matrix\n",
    "\n",
    "\n",
    "from sklearn.metrics import plot_roc_curve\n",
    "from sklearn.metrics import precision_score\n",
    "from sklearn.metrics import recall_score\n",
    "from sklearn.preprocessing import StandardScaler"
   ]
  },
  {
   "cell_type": "code",
   "execution_count": 2,
   "metadata": {},
   "outputs": [],
   "source": [
    "#tensorflow logging may be causing memory leak crashing notebook\n",
    "import logging\n",
    "logging.getLogger(\"tensorflow\").setLevel(logging.ERROR)"
   ]
  },
  {
   "cell_type": "code",
   "execution_count": 3,
   "metadata": {},
   "outputs": [],
   "source": [
    "Xy_crop_df=pd.read_csv('saved/Xy_crop_df.csv',index_col=0)"
   ]
  },
  {
   "cell_type": "markdown",
   "metadata": {},
   "source": [
    "The classifiers we are trying here are known to work better with scaled data, so we will fit a standard scaler at this point. Since we will also do image augmentation later on, which needs pre-scaled data, we'll fit now and transform the train sets later."
   ]
  },
  {
   "cell_type": "code",
   "execution_count": 4,
   "metadata": {},
   "outputs": [
    {
     "data": {
      "text/plain": [
       "StandardScaler(copy=True, with_mean=True, with_std=True)"
      ]
     },
     "execution_count": 4,
     "metadata": {},
     "output_type": "execute_result"
    }
   ],
   "source": [
    "scaler = StandardScaler()\n",
    "scaler.fit(Xy_crop_df.iloc[:,:3072].values)"
   ]
  },
  {
   "cell_type": "code",
   "execution_count": 5,
   "metadata": {},
   "outputs": [],
   "source": [
    "X_train, X_test, y_train, y_test = train_test_split(Xy_crop_df.iloc[:,:3072].values,\n",
    "                                                Xy_crop_df.label.values,\n",
    "                                                stratify=Xy_crop_df.label.values,\n",
    "                                                random_state=42)"
   ]
  },
  {
   "cell_type": "code",
   "execution_count": 6,
   "metadata": {},
   "outputs": [],
   "source": [
    "X_train_scaled = scaler.transform(X_train) #scale train set and save as new\n",
    "X_test = scaler.transform(X_test) #scale test set\n"
   ]
  },
  {
   "cell_type": "markdown",
   "metadata": {},
   "source": [
    "Now that we are ready, we will use a Random Forest classifier as a baseline since it showed some improvement over the the Logistic Regression in a previous notebook."
   ]
  },
  {
   "cell_type": "code",
   "execution_count": 7,
   "metadata": {},
   "outputs": [
    {
     "data": {
      "text/plain": [
       "RandomForestClassifier(bootstrap=True, ccp_alpha=0.0, class_weight=None,\n",
       "                       criterion='gini', max_depth=None, max_features='auto',\n",
       "                       max_leaf_nodes=None, max_samples=None,\n",
       "                       min_impurity_decrease=0.0, min_impurity_split=None,\n",
       "                       min_samples_leaf=1, min_samples_split=2,\n",
       "                       min_weight_fraction_leaf=0.0, n_estimators=100,\n",
       "                       n_jobs=-1, oob_score=False, random_state=None, verbose=0,\n",
       "                       warm_start=False)"
      ]
     },
     "execution_count": 7,
     "metadata": {},
     "output_type": "execute_result"
    }
   ],
   "source": [
    "model = RandomForestClassifier(n_jobs=-1)\n",
    "# Fit on training data\n",
    "model.fit(X_train_scaled, y_train)"
   ]
  },
  {
   "cell_type": "code",
   "execution_count": 8,
   "metadata": {},
   "outputs": [
    {
     "name": "stdout",
     "output_type": "stream",
     "text": [
      "Classification Report (test):\n",
      "              precision    recall  f1-score   support\n",
      "\n",
      "           0       0.76      0.88      0.82     32727\n",
      "           1       0.77      0.59      0.67     22280\n",
      "\n",
      "    accuracy                           0.76     55007\n",
      "   macro avg       0.76      0.73      0.74     55007\n",
      "weighted avg       0.76      0.76      0.76     55007\n",
      "\n",
      "Confusion Matrix:\n",
      "[[28805  3922]\n",
      " [ 9145 13135]]\n"
     ]
    },
    {
     "data": {
      "image/png": "[encoded data removed]",
      "text/plain": [
       "<Figure size 432x288 with 1 Axes>"
      ]
     },
     "metadata": {
      "needs_background": "light"
     },
     "output_type": "display_data"
    }
   ],
   "source": [
    "print('Classification Report (test):')\n",
    "print(classification_report(y_test,model.predict(X_test)))\n",
    "print('Confusion Matrix:')\n",
    "print(confusion_matrix(y_test,model.predict(X_test)))\n",
    "plot_roc_curve(model,X_test,y_test)\n",
    "plt.show()"
   ]
  },
  {
   "cell_type": "markdown",
   "metadata": {},
   "source": [
    "We are aiming for much mbetter results than this. One of the easiest issues to see is the imbalance in the data. There are 40.5% positive and 59.5% negative samples. Let's examine how we can address this issue.\n"
   ]
  },
  {
   "cell_type": "code",
   "execution_count": 9,
   "metadata": {},
   "outputs": [
    {
     "name": "stdout",
     "output_type": "stream",
     "text": [
      "n Positive:  66837\n",
      "n Negative:  98181\n",
      "difference:  31344\n",
      "total:  165018\n"
     ]
    }
   ],
   "source": [
    "pos=len(y_train[y_train==1])\n",
    "neg=len(y_train[y_train==0])\n",
    "print('n Positive: ',pos)\n",
    "print('n Negative: ',neg)\n",
    "print('difference: ',neg-pos)\n",
    "print('total: ',pos+neg)"
   ]
  },
  {
   "cell_type": "markdown",
   "metadata": {},
   "source": [
    "There are $$\\binom{31344}{154018}$$ (way too many) different ways to randomly undersample the majority class so that it matches the number of the minority class here, so we have to choose a subset. "
   ]
  },
  {
   "cell_type": "markdown",
   "metadata": {},
   "source": [
    "We will take a few subsets, and put them in a pipeline using the same random forest classifier as before. Then we'll roll them all into an ensemble classifier that uses majority vote to determine the classification of each sample."
   ]
  },
  {
   "cell_type": "code",
   "execution_count": 10,
   "metadata": {},
   "outputs": [],
   "source": [
    "n_iter=6 #number of iteriations\n",
    "\n",
    "rus=RandomUnderSampler()\n",
    "rfc=RandomForestClassifier(n_jobs=-1)\n",
    "pipes=[]\n",
    "samplers=[]\n",
    "pipe_names=[]"
   ]
  },
  {
   "cell_type": "code",
   "execution_count": 11,
   "metadata": {},
   "outputs": [],
   "source": [
    "for seed in range(n_iter):\n",
    "    pipe_names.append('pipe_'+str(seed))\n",
    "    samplers.append(RandomUnderSampler(random_state=seed))    \n",
    "    pipes.append((pipe_names[seed],make_pipeline(samplers[seed],rfc)))"
   ]
  },
  {
   "cell_type": "code",
   "execution_count": 12,
   "metadata": {},
   "outputs": [],
   "source": [
    "from sklearn.ensemble import VotingClassifier\n",
    "\n",
    "clf=VotingClassifier(estimators=pipes,n_jobs=-1)"
   ]
  },
  {
   "cell_type": "code",
   "execution_count": 13,
   "metadata": {},
   "outputs": [
    {
     "data": {
      "text/plain": [
       "VotingClassifier(estimators=[('pipe_0',\n",
       "                              Pipeline(memory=None,\n",
       "                                       steps=[('randomundersampler',\n",
       "                                               RandomUnderSampler(random_state=0,\n",
       "                                                                  replacement=False,\n",
       "                                                                  sampling_strategy='auto')),\n",
       "                                              ('randomforestclassifier',\n",
       "                                               RandomForestClassifier(bootstrap=True,\n",
       "                                                                      ccp_alpha=0.0,\n",
       "                                                                      class_weight=None,\n",
       "                                                                      criterion='gini',\n",
       "                                                                      max_depth=None,\n",
       "                                                                      max_features='auto',\n",
       "                                                                      max_leaf_nodes=None,\n",
       "                                                                      max_samples=No...\n",
       "                                                                      max_depth=None,\n",
       "                                                                      max_features='auto',\n",
       "                                                                      max_leaf_nodes=None,\n",
       "                                                                      max_samples=None,\n",
       "                                                                      min_impurity_decrease=0.0,\n",
       "                                                                      min_impurity_split=None,\n",
       "                                                                      min_samples_leaf=1,\n",
       "                                                                      min_samples_split=2,\n",
       "                                                                      min_weight_fraction_leaf=0.0,\n",
       "                                                                      n_estimators=100,\n",
       "                                                                      n_jobs=-1,\n",
       "                                                                      oob_score=False,\n",
       "                                                                      random_state=None,\n",
       "                                                                      verbose=0,\n",
       "                                                                      warm_start=False))],\n",
       "                                       verbose=False))],\n",
       "                 flatten_transform=True, n_jobs=-1, voting='hard',\n",
       "                 weights=None)"
      ]
     },
     "execution_count": 13,
     "metadata": {},
     "output_type": "execute_result"
    }
   ],
   "source": [
    "clf.fit(X_train_scaled,y_train)"
   ]
  },
  {
   "cell_type": "code",
   "execution_count": 14,
   "metadata": {},
   "outputs": [
    {
     "name": "stdout",
     "output_type": "stream",
     "text": [
      "Classification Report:\n",
      "              precision    recall  f1-score   support\n",
      "\n",
      "           0       0.80      0.81      0.81     32727\n",
      "           1       0.72      0.71      0.71     22280\n",
      "\n",
      "    accuracy                           0.77     55007\n",
      "   macro avg       0.76      0.76      0.76     55007\n",
      "weighted avg       0.77      0.77      0.77     55007\n",
      "\n",
      "Confusion Matrix:\n",
      "[[26575  6152]\n",
      " [ 6522 15758]]\n"
     ]
    }
   ],
   "source": [
    "pred=clf.predict(X_test)\n",
    "print('Classification Report:')\n",
    "print(classification_report(y_test,pred))\n",
    "print('Confusion Matrix:')\n",
    "print(confusion_matrix(y_test,pred))"
   ]
  },
  {
   "cell_type": "markdown",
   "metadata": {},
   "source": [
    "As predicted, a random undersampling gave us an improvement in recall for the minority (positive) set. \n",
    "  \n",
    "The other way we can handle the imbalance is by oversampling the minority set rather than undersampling the majority set. \n",
    "  \n",
    "A common way to do this with data like this is image augemntation. We will perturb some images in the minority set to create new ones."
   ]
  },
  {
   "cell_type": "markdown",
   "metadata": {},
   "source": [
    "### image augmentation with imgaug\n"
   ]
  },
  {
   "cell_type": "code",
   "execution_count": 15,
   "metadata": {},
   "outputs": [],
   "source": [
    "from imgaug import augmenters as iaa\n",
    "from imgaug import parameters as iap\n",
    "import imgaug as ia\n"
   ]
  },
  {
   "cell_type": "markdown",
   "metadata": {},
   "source": [
    "The image transformations we will be using expect to see images in the typical shape (3-d arrays of int values 0-255), so we need to start from the loaded data and reshape the it before scaling."
   ]
  },
  {
   "cell_type": "markdown",
   "metadata": {},
   "source": [
    "Many transformations assume the images are in the normal shape (3-d array) so we're going to reshape the images back to that shape first"
   ]
  },
  {
   "cell_type": "code",
   "execution_count": 16,
   "metadata": {},
   "outputs": [],
   "source": [
    "#reshape the images and recast as uint8\n",
    "X_train=X_train.reshape((X_train.shape[0],32,32,3)).astype(np.uint8)"
   ]
  },
  {
   "cell_type": "code",
   "execution_count": 17,
   "metadata": {},
   "outputs": [],
   "source": [
    "#pull out the positive images.\n",
    "#Recall from earlier this is the minority class we need to augment\n",
    "Xy_z=zip(X_train,y_train)\n",
    "\n",
    "X_p=[]\n",
    "for X,y in Xy_z:\n",
    "    if y==1:\n",
    "        X_p.append(X)\n",
    "       "
   ]
  },
  {
   "cell_type": "markdown",
   "metadata": {},
   "source": [
    "We need to be somewhat careful shoosing which transformations to apply to the images. We know that the a positive slide is defined as having 1 pixel of cancer cell in it. But without specific domain knowledge about exactly how to identify those cells we need to be careful that any transformations don't degrade that information, either by changing pixel values too much or by removing important pixels."
   ]
  },
  {
   "cell_type": "markdown",
   "metadata": {},
   "source": [
    "Given that, we will apply transformations that shift pixel location but not pixel values. Some examples of these are:\n",
    "* Flipping\n",
    "* Rotation\n",
    "* Skew"
   ]
  },
  {
   "cell_type": "code",
   "execution_count": 18,
   "metadata": {},
   "outputs": [],
   "source": [
    "# Define an augmentation pipeline\n",
    "aug_pipeline = iaa.Sequential([\n",
    "       \n",
    "    # apply from 0 to 3 of the augmentations from the list\n",
    "    iaa.SomeOf((0, 3),[\n",
    "        iaa.Fliplr(1.0), # horizontally flip\n",
    "        iaa.Flipud(1.0), # vertically flip\n",
    "        iaa.Rot90(1,3),  # rotate 90, 180, or 270 degrees        \n",
    "    ])    \n",
    "],\n",
    "random_order=True \n",
    ")"
   ]
  },
  {
   "cell_type": "code",
   "execution_count": 19,
   "metadata": {},
   "outputs": [],
   "source": [
    "#make a random selection of positive samples\n",
    "n_aug=len(X_train)-2*len(X_p) #number of samples to augment the class by\n",
    "\n",
    "X_p=shuffle(X_p)\n"
   ]
  },
  {
   "cell_type": "code",
   "execution_count": 20,
   "metadata": {},
   "outputs": [],
   "source": [
    "# Apply augmentation pipeline\n",
    "X_aug = np.array([aug_pipeline.augment_image(each) for each in X_p[:n_aug]])"
   ]
  },
  {
   "cell_type": "code",
   "execution_count": 21,
   "metadata": {},
   "outputs": [],
   "source": [
    "X_augl = list(X_aug[:4])"
   ]
  },
  {
   "cell_type": "code",
   "execution_count": 22,
   "metadata": {},
   "outputs": [
    {
     "data": {
      "image/png": "[encoded data removed]",
      "text/plain": [
       "<Figure size 1440x864 with 8 Axes>"
      ]
     },
     "metadata": {
      "needs_background": "light"
     },
     "output_type": "display_data"
    }
   ],
   "source": [
    "fig,ax = plt.subplots(2,4, figsize=(20,12))\n",
    "#4 original\n",
    "for i in range(4):\n",
    "    ax[0,i].imshow(X_p[i])\n",
    "    ax[0,i].set_title('Original')\n",
    "\n",
    "#4 augmented\n",
    "for i in range(4):\n",
    "    ax[1,i].imshow(X_aug[i])\n",
    "    ax[1,i].set_title('Augmented')\n",
    "plt.show()"
   ]
  },
  {
   "cell_type": "code",
   "execution_count": 23,
   "metadata": {},
   "outputs": [],
   "source": [
    "#flatten the images\n",
    "X_train=np.array([each.flatten() for each in X_train])\n",
    "X_aug=np.array([each.flatten() for each in X_aug])"
   ]
  },
  {
   "cell_type": "code",
   "execution_count": 24,
   "metadata": {},
   "outputs": [],
   "source": [
    "#add augmented images to the training set\n",
    "X_train=np.concatenate((X_train,X_aug))"
   ]
  },
  {
   "cell_type": "code",
   "execution_count": 25,
   "metadata": {},
   "outputs": [],
   "source": [
    "#add labels to y_test\n",
    "y_aug=np.full((len(X_aug),),1)\n",
    "\n",
    "y_train=np.concatenate((y_train,y_aug))"
   ]
  },
  {
   "cell_type": "code",
   "execution_count": 26,
   "metadata": {
    "scrolled": true
   },
   "outputs": [],
   "source": [
    "#scale the training set\n",
    "X_train = scaler.transform(X_train) "
   ]
  },
  {
   "cell_type": "code",
   "execution_count": 27,
   "metadata": {},
   "outputs": [
    {
     "data": {
      "text/plain": [
       "RandomForestClassifier(bootstrap=True, ccp_alpha=0.0, class_weight=None,\n",
       "                       criterion='gini', max_depth=None, max_features='auto',\n",
       "                       max_leaf_nodes=None, max_samples=None,\n",
       "                       min_impurity_decrease=0.0, min_impurity_split=None,\n",
       "                       min_samples_leaf=1, min_samples_split=2,\n",
       "                       min_weight_fraction_leaf=0.0, n_estimators=100,\n",
       "                       n_jobs=-1, oob_score=False, random_state=None, verbose=0,\n",
       "                       warm_start=False)"
      ]
     },
     "execution_count": 27,
     "metadata": {},
     "output_type": "execute_result"
    }
   ],
   "source": [
    "mod_aug = RandomForestClassifier(n_jobs=-1)\n",
    "mod_aug.fit(X_train, y_train)"
   ]
  },
  {
   "cell_type": "code",
   "execution_count": 28,
   "metadata": {},
   "outputs": [
    {
     "name": "stdout",
     "output_type": "stream",
     "text": [
      "Classification Report (test):\n",
      "              precision    recall  f1-score   support\n",
      "\n",
      "           0       0.80      0.80      0.80     32727\n",
      "           1       0.71      0.70      0.71     22280\n",
      "\n",
      "    accuracy                           0.76     55007\n",
      "   macro avg       0.75      0.75      0.75     55007\n",
      "weighted avg       0.76      0.76      0.76     55007\n",
      "\n",
      "Confusion Matrix:\n",
      "[[26306  6421]\n",
      " [ 6597 15683]]\n"
     ]
    },
    {
     "data": {
      "image/png": "[encoded data removed]",
      "text/plain": [
       "<Figure size 432x288 with 1 Axes>"
      ]
     },
     "metadata": {
      "needs_background": "light"
     },
     "output_type": "display_data"
    }
   ],
   "source": [
    "pred=mod_aug.predict(X_test)\n",
    "print('Classification Report (test):')\n",
    "print(classification_report(y_test,pred))\n",
    "print('Confusion Matrix:')\n",
    "print(confusion_matrix(y_test,pred))\n",
    "plot_roc_curve(mod_aug,X_test,y_test)\n",
    "plt.show()"
   ]
  },
  {
   "cell_type": "markdown",
   "metadata": {},
   "source": [
    "### Summary"
   ]
  },
  {
   "cell_type": "markdown",
   "metadata": {},
   "source": [
    "By undersampling, we were able to improve performance of the classifiers somewhat, and by oversampling with image augmentation we were able to achieve slightly better imporvements as you see in the table below:"
   ]
  },
  {
   "cell_type": "markdown",
   "metadata": {},
   "source": [
    "\n",
    "| Model | Class | Precision | Recall | \n",
    "| --- | --- | --- | --- |\n",
    "| Baseline Logistic Regression | 0 | 0.72 | 0.83 |\n",
    "| | 1 | 0.67 | 0.52 |\n",
    "| Baseline Random Forest | 0 | 0.76 | 0.88 |\n",
    "|  | 1 | 0.77 | 0.59 | \n",
    "| Undersampling Ensemble | 0 | 0.80 | 0.81 |\n",
    "| | 1 | 0.72 | 0.71 |\n",
    "| Image Augmentation | 0 | 0.80 | 0.81 |\n",
    "| | 1 | 0.72 | 0.70 |"
   ]
  },
  {
   "cell_type": "markdown",
   "metadata": {},
   "source": [
    "We can see from this table that both of the tested methods of balancing the dataset -- random undersampling and random image augmentation -- yield similar improvement.  "
   ]
  },
  {
   "cell_type": "markdown",
   "metadata": {},
   "source": [
    "It should be possible to get a little more performance with hyperparameter tuning. We could use a randomized search cross-validation to find better parameters for the random forest, but with this size of dataset it is rather too resource intensive for this notebook. Also note that in earlier testing on a smaller set, hyperparameter tuning yielded only a small improvement to performance metrics. "
   ]
  },
  {
   "cell_type": "markdown",
   "metadata": {},
   "source": [
    "### Conclusions"
   ]
  },
  {
   "cell_type": "markdown",
   "metadata": {},
   "source": [
    "We had some small success using a random forest classifier coupled with dataset balancing techniques of random undersampling and image augemntation to gain small improvements to the classifier's performance metrics. These results still fall short of our goal.  \n",
    "The goal was to develop a classifier that may be useful for helping a clinician identify lymph note slides containing cancer. 0.70 to 0.72 precision and recall are not enough to be very useeful.  \n",
    "  \n",
    "So how do we improve this? one of the challenges experienced here may point the way. We attempted to try a neural net (Scikit-Leaern's multi-level perceptron classifier), but on this size of dataset, and with the algorithm not lending itself at all to parallelization, the time it took to get any results makes the problem essentially intractable within this notebook.  \n",
    "  \n",
    "Further work to improve results should be a modeling strategy that is known to work well for this class of problem, (e.g. a convolute neural net), using a software package that can more effectively exploit CPU and GPU power than Scikit-Learn's nerual nets do.\n",
    " \n"
   ]
  },
  {
   "cell_type": "code",
   "execution_count": null,
   "metadata": {},
   "outputs": [],
   "source": []
  }
 ],
 "metadata": {
  "kernelspec": {
   "display_name": "Python 3",
   "language": "python",
   "name": "python3"
  },
  "language_info": {
   "codemirror_mode": {
    "name": "ipython",
    "version": 3
   },
   "file_extension": ".py",
   "mimetype": "text/x-python",
   "name": "python",
   "nbconvert_exporter": "python",
   "pygments_lexer": "ipython3",
   "version": "3.7.6"
  }
 },
 "nbformat": 4,
 "nbformat_minor": 4
}
