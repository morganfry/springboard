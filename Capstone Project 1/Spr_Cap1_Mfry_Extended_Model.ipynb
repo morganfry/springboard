{
 "cells": [
  {
   "cell_type": "markdown",
   "metadata": {},
   "source": [
    "## Springboard Data Science Track Capstone Project 1\n",
    "### Histopathologic Cancer Detection\n",
    "### by Morgan Fry\n",
    "### Extended Model"
   ]
  },
  {
   "cell_type": "markdown",
   "metadata": {},
   "source": [
    "This notebook is for improvements to the logistic regression model in the 'Baseline Model' notebook. We will extend by trying a Random Forest Classfier and a multilayer Neural Net. To develop improved results, we will examine two strategies for dealing with the imbalance in the data (noted in the 'Data Exploration' notebook)."
   ]
  },
  {
   "cell_type": "code",
   "execution_count": 1,
   "metadata": {
    "scrolled": true
   },
   "outputs": [
    {
     "name": "stderr",
     "output_type": "stream",
     "text": [
      "FutureWarning: pandas.core.index is deprecated and will be removed in a future version.  The public classes are available in the top-level namespace.\n",
      "Using TensorFlow backend.\n"
     ]
    }
   ],
   "source": [
    "import numpy as np\n",
    "import modin.pandas as pd\n",
    "import matplotlib.pyplot as plt  \n",
    "%matplotlib inline\n",
    "\n",
    "import scipy as sp\n",
    "\n",
    "from sklearn.model_selection import train_test_split\n",
    "from sklearn.utils import shuffle\n",
    "\n",
    "from sklearn.ensemble import RandomForestClassifier\n",
    "from sklearn.neural_network import MLPClassifier\n",
    "from sklearn.model_selection import RandomizedSearchCV\n",
    "from imblearn.under_sampling import RandomUnderSampler\n",
    "from imblearn.pipeline import make_pipeline\n",
    "\n",
    "from sklearn.metrics import classification_report\n",
    "from sklearn.metrics import confusion_matrix\n",
    "\n",
    "from sklearn.metrics import plot_roc_curve\n",
    "from sklearn.metrics import precision_score\n",
    "from sklearn.metrics import recall_score\n",
    "from sklearn.preprocessing import StandardScaler"
   ]
  },
  {
   "cell_type": "code",
   "execution_count": 2,
   "metadata": {},
   "outputs": [],
   "source": [
    "#tensorflow logging may be causing memory leak crashing notebook\n",
    "import logging\n",
    "logging.getLogger(\"tensorflow\").setLevel(logging.ERROR)"
   ]
  },
  {
   "cell_type": "code",
   "execution_count": 3,
   "metadata": {},
   "outputs": [],
   "source": [
    "Xy_crop_df=pd.read_csv('saved/Xy_crop.csv',index_col=0)"
   ]
  },
  {
   "cell_type": "code",
   "execution_count": null,
   "metadata": {},
   "outputs": [],
   "source": []
  },
  {
   "cell_type": "code",
   "execution_count": null,
   "metadata": {},
   "outputs": [],
   "source": [
    "X_train, X_test, y_train, y_test = train_test_split(Xy_crop_df.iloc[:,:3072].values,\n",
    "                                                Xy_crop_df.label.values,\n",
    "                                                stratify=Xy_crop_df.label.values,\n",
    "                                                random_state=42)"
   ]
  },
  {
   "cell_type": "code",
   "execution_count": 4,
   "metadata": {},
   "outputs": [],
   "source": [
    "scaler = StandardScaler() \n",
    "scaler.fit(X_train)  \n",
    "X_train = scaler.transform(X_train) \n",
    "X_test = scaler.transform(X_test) "
   ]
  },
  {
   "cell_type": "markdown",
   "metadata": {},
   "source": [
    "Now that we are ready, we will use the following to find the best classifier:\n",
    "* Random Forest\n",
    "* Neural Network\n"
   ]
  },
  {
   "cell_type": "code",
   "execution_count": 5,
   "metadata": {},
   "outputs": [
    {
     "name": "stderr",
     "output_type": "stream",
     "text": [
      "[Parallel(n_jobs=-1)]: Using backend ThreadingBackend with 8 concurrent workers.\n",
      "[Parallel(n_jobs=-1)]: Done  34 tasks      | elapsed:  1.3min\n",
      "[Parallel(n_jobs=-1)]: Done 100 out of 100 | elapsed:  3.4min finished\n"
     ]
    },
    {
     "data": {
      "text/plain": [
       "RandomForestClassifier(bootstrap=True, ccp_alpha=0.0, class_weight=None,\n",
       "                       criterion='gini', max_depth=None, max_features='auto',\n",
       "                       max_leaf_nodes=None, max_samples=None,\n",
       "                       min_impurity_decrease=0.0, min_impurity_split=None,\n",
       "                       min_samples_leaf=1, min_samples_split=2,\n",
       "                       min_weight_fraction_leaf=0.0, n_estimators=100,\n",
       "                       n_jobs=-1, oob_score=False, random_state=None, verbose=1,\n",
       "                       warm_start=False)"
      ]
     },
     "execution_count": 5,
     "metadata": {},
     "output_type": "execute_result"
    }
   ],
   "source": [
    "#Random Forest\n",
    "model = RandomForestClassifier(verbose=1,n_jobs=-1)\n",
    "# Fit on training data\n",
    "model.fit(X_train, y_train)"
   ]
  },
  {
   "cell_type": "code",
   "execution_count": 6,
   "metadata": {},
   "outputs": [
    {
     "name": "stdout",
     "output_type": "stream",
     "text": [
      "Classification Report (test):\n"
     ]
    },
    {
     "name": "stderr",
     "output_type": "stream",
     "text": [
      "[Parallel(n_jobs=8)]: Using backend ThreadingBackend with 8 concurrent workers.\n",
      "[Parallel(n_jobs=8)]: Done  34 tasks      | elapsed:    0.4s\n",
      "[Parallel(n_jobs=8)]: Done 100 out of 100 | elapsed:    1.2s finished\n"
     ]
    },
    {
     "name": "stdout",
     "output_type": "stream",
     "text": [
      "              precision    recall  f1-score   support\n",
      "\n",
      "           0       0.76      0.88      0.82     32727\n",
      "           1       0.77      0.59      0.67     22280\n",
      "\n",
      "    accuracy                           0.76     55007\n",
      "   macro avg       0.77      0.74      0.74     55007\n",
      "weighted avg       0.76      0.76      0.76     55007\n",
      "\n",
      "Confusion Matrix:\n"
     ]
    },
    {
     "name": "stderr",
     "output_type": "stream",
     "text": [
      "[Parallel(n_jobs=8)]: Using backend ThreadingBackend with 8 concurrent workers.\n",
      "[Parallel(n_jobs=8)]: Done  34 tasks      | elapsed:    0.4s\n",
      "[Parallel(n_jobs=8)]: Done 100 out of 100 | elapsed:    1.1s finished\n"
     ]
    },
    {
     "name": "stdout",
     "output_type": "stream",
     "text": [
      "[[28837  3890]\n",
      " [ 9126 13154]]\n"
     ]
    },
    {
     "name": "stderr",
     "output_type": "stream",
     "text": [
      "[Parallel(n_jobs=8)]: Using backend ThreadingBackend with 8 concurrent workers.\n",
      "[Parallel(n_jobs=8)]: Done  34 tasks      | elapsed:    0.4s\n",
      "[Parallel(n_jobs=8)]: Done 100 out of 100 | elapsed:    1.1s finished\n"
     ]
    },
    {
     "data": {
      "image/png": "[encoded data removed]",
      "text/plain": [
       "<Figure size 432x288 with 1 Axes>"
      ]
     },
     "metadata": {
      "needs_background": "light"
     },
     "output_type": "display_data"
    }
   ],
   "source": [
    "print('Classification Report (test):')\n",
    "print(classification_report(y_test,model.predict(X_test)))\n",
    "print('Confusion Matrix:')\n",
    "print(confusion_matrix(y_test,model.predict(X_test)))\n",
    "plot_roc_curve(model,X_test,y_test)\n",
    "plt.show()"
   ]
  },
  {
   "cell_type": "code",
   "execution_count": 7,
   "metadata": {},
   "outputs": [
    {
     "data": {
      "text/plain": [
       "MLPClassifier(activation='relu', alpha=0.0001, batch_size='auto', beta_1=0.9,\n",
       "              beta_2=0.999, early_stopping=True, epsilon=1e-08,\n",
       "              hidden_layer_sizes=(100,), learning_rate='constant',\n",
       "              learning_rate_init=0.001, max_fun=15000, max_iter=200,\n",
       "              momentum=0.9, n_iter_no_change=10, nesterovs_momentum=True,\n",
       "              power_t=0.5, random_state=None, shuffle=True, solver='adam',\n",
       "              tol=0.0001, validation_fraction=0.1, verbose=False,\n",
       "              warm_start=False)"
      ]
     },
     "execution_count": 7,
     "metadata": {},
     "output_type": "execute_result"
    }
   ],
   "source": [
    "mlp = MLPClassifier(early_stopping=True)\n",
    "mlp.fit(X_train, y_train)"
   ]
  },
  {
   "cell_type": "code",
   "execution_count": 8,
   "metadata": {},
   "outputs": [
    {
     "name": "stdout",
     "output_type": "stream",
     "text": [
      "Classification Report:\n",
      "              precision    recall  f1-score   support\n",
      "\n",
      "           0       0.78      0.81      0.80     32727\n",
      "           1       0.71      0.67      0.69     22280\n",
      "\n",
      "    accuracy                           0.76     55007\n",
      "   macro avg       0.75      0.74      0.74     55007\n",
      "weighted avg       0.75      0.76      0.75     55007\n",
      "\n",
      "Confusion Matrix:\n",
      "[[26638  6089]\n",
      " [ 7363 14917]]\n"
     ]
    },
    {
     "data": {
      "image/png": "[encoded data removed]",
      "text/plain": [
       "<Figure size 432x288 with 1 Axes>"
      ]
     },
     "metadata": {
      "needs_background": "light"
     },
     "output_type": "display_data"
    }
   ],
   "source": [
    "pred=mlp.predict(X_test)\n",
    "print('Classification Report:')\n",
    "print(classification_report(y_test,pred))\n",
    "print('Confusion Matrix:')\n",
    "print(confusion_matrix(y_test,pred))\n",
    "plot_roc_curve(mlp,X_test,y_test)\n",
    "plt.show()"
   ]
  },
  {
   "cell_type": "markdown",
   "metadata": {},
   "source": [
    "We can see that the neural net isn't getting better results. At this point I would like to examine why. The first thing that comes to mind is the imbalance in the dataset. There are 40.5% positive and 59.5% negative samples.\n"
   ]
  },
  {
   "cell_type": "markdown",
   "metadata": {},
   "source": [
    "First thing we'll try is the simplest strategy, a random undersampling of the majority class. The overall set is 220000 images so there will still be enough to train the classifier using only 85% of them."
   ]
  },
  {
   "cell_type": "markdown",
   "metadata": {},
   "source": [
    "Since we can't know whether any particular random sample will be better than another, we will do several. We are going to hold out a test set so that we can evaluate each trial against the same set. 20% should be enough."
   ]
  },
  {
   "cell_type": "markdown",
   "metadata": {},
   "source": [
    "#since we'll be iterating through the differently undersampled training sets, we need to scale the data now rather than later"
   ]
  },
  {
   "cell_type": "code",
   "execution_count": 3,
   "metadata": {},
   "outputs": [],
   "source": [
    "scaler=StandardScaler()\n",
    "X_scaled=scaler.fit_transform(Xy_crop_df.iloc[:,:3072])"
   ]
  },
  {
   "cell_type": "code",
   "execution_count": 4,
   "metadata": {},
   "outputs": [],
   "source": [
    "X_sub, X_test, y_sub, y_test = train_test_split(X_scaled,\n",
    "                                                Xy_crop_df.label.values,\n",
    "                                                stratify=Xy_crop_df.label.values,\n",
    "                                                test_size=0.2,\n",
    "                                                random_state=42)"
   ]
  },
  {
   "cell_type": "code",
   "execution_count": 5,
   "metadata": {},
   "outputs": [
    {
     "name": "stdout",
     "output_type": "stream",
     "text": [
      "n Positive:  71294\n",
      "n Negative:  104726\n",
      "difference:  33432\n"
     ]
    }
   ],
   "source": [
    "pos=len(y_sub[y_sub==1])\n",
    "neg=len(y_sub[y_sub==0])\n",
    "print('n Positive: ',pos)\n",
    "print('n Negative: ',neg)\n",
    "print('difference: ',neg-pos)"
   ]
  },
  {
   "cell_type": "markdown",
   "metadata": {},
   "source": [
    "There are $$\\binom{33432}{104726}$$ (30 billion, give or take) different ways to randomly undersample the majority class so that it matches the minority class here, so we have to choose a subset. We'll take 60 at random and see how representative they are."
   ]
  },
  {
   "cell_type": "markdown",
   "metadata": {},
   "source": [
    "#### Random Undersampling Pipeline"
   ]
  },
  {
   "cell_type": "markdown",
   "metadata": {},
   "source": [
    "* random undersampler\n",
    "* model (MLP Classifier)\n",
    "* record precision & recall"
   ]
  },
  {
   "cell_type": "code",
   "execution_count": 5,
   "metadata": {},
   "outputs": [],
   "source": [
    "n_iter=12 #number of iteriations\n",
    "rands=[int(x) for x in np.linspace(start = 0, stop = 255, num = n_iter)]\n",
    "rus=RandomUnderSampler()\n",
    "clf=MLPClassifier()\n",
    "precision=[]\n",
    "recall=[]"
   ]
  },
  {
   "cell_type": "code",
   "execution_count": 7,
   "metadata": {},
   "outputs": [],
   "source": [
    "#define pipeline\n",
    "pipe = make_pipeline(rus,clf)"
   ]
  },
  {
   "cell_type": "code",
   "execution_count": 7,
   "metadata": {},
   "outputs": [],
   "source": [
    "for seed in range(n_iter):\n",
    "    rus=RandomUnderSampler(random_state=seed)\n",
    "    pipe = make_pipeline(rus,clf)\n",
    "    y_pred=pipe.fit(X_sub,y_sub).predict(X_test)\n",
    "    precision.append(precision_score(y_test,y_pred))\n",
    "    recall.append(recall_score(y_test,y_pred))"
   ]
  },
  {
   "cell_type": "code",
   "execution_count": 12,
   "metadata": {},
   "outputs": [],
   "source": [
    "#save the results\n",
    "import pickle\n",
    "pickle.dump(precision, open(\"precision.p\",\"wb\"))\n",
    "pickle.dump(recall, open(\"recall.p\",\"wb\"))"
   ]
  },
  {
   "cell_type": "code",
   "execution_count": 13,
   "metadata": {},
   "outputs": [],
   "source": [
    "import pickle\n",
    "precision=pickle.load(open(\"precision.p\",\"rb\"))\n",
    "recall=pickle.load(open(\"recall.p\",\"rb\"))"
   ]
  },
  {
   "cell_type": "code",
   "execution_count": 28,
   "metadata": {},
   "outputs": [
    {
     "data": {
      "image/png": "[encoded data removed]",
      "text/plain": [
       "<Figure size 432x288 with 1 Axes>"
      ]
     },
     "metadata": {
      "needs_background": "light"
     },
     "output_type": "display_data"
    }
   ],
   "source": [
    "fig,ax=plt.subplots()\n",
    "ax.plot(precision,label='precision')\n",
    "ax.plot(recall,label='recall')\n",
    "ax.set_xlabel('iteration')\n",
    "ax.set_ylabel('value')\n",
    "ax.set_xticks(range(0,12))\n",
    "ax.set_xticklabels(rands)\n",
    "\n",
    "plt.legend()\n",
    "plt.show()"
   ]
  },
  {
   "cell_type": "markdown",
   "metadata": {},
   "source": [
    "Looks like slightly better recall from seed value 255:"
   ]
  },
  {
   "cell_type": "code",
   "execution_count": 33,
   "metadata": {},
   "outputs": [
    {
     "name": "stdout",
     "output_type": "stream",
     "text": [
      "precision mean: 0.61\n",
      "recall mean: 0.70\n",
      "precision(255): 0.60\n",
      "recall(255): 0.72\n"
     ]
    }
   ],
   "source": [
    "print('precision mean: {:0.2f}'.format(np.mean(precision)))\n",
    "print('recall mean: {:0.2f}'.format(np.mean(recall)))\n",
    "print('precision(255): {:0.2f}'.format(precision[11]))\n",
    "print('recall(255): {:0.2f}'.format(recall[11]))"
   ]
  },
  {
   "cell_type": "markdown",
   "metadata": {},
   "source": [
    "The iteration with random seed value of 1800 has the best recall, and only slightly lower precision than the mean. Let's look at the classification report and ROC curve"
   ]
  },
  {
   "cell_type": "code",
   "execution_count": 10,
   "metadata": {},
   "outputs": [],
   "source": [
    "sampler=RandomUnderSampler(random_state=255)\n",
    "X_res,y_res=sampler.fit_resample(X_sub,y_sub)\n"
   ]
  },
  {
   "cell_type": "code",
   "execution_count": 11,
   "metadata": {},
   "outputs": [],
   "source": [
    "clf=MLPClassifier()\n",
    "clf.fit(X_res,y_res)\n",
    "y_pred=clf.predict(X_test)"
   ]
  },
  {
   "cell_type": "code",
   "execution_count": 12,
   "metadata": {},
   "outputs": [
    {
     "name": "stdout",
     "output_type": "stream",
     "text": [
      "Classification Report:\n",
      "              precision    recall  f1-score   support\n",
      "\n",
      "           0       0.77      0.70      0.73     26182\n",
      "           1       0.61      0.70      0.65     17823\n",
      "\n",
      "    accuracy                           0.70     44005\n",
      "   macro avg       0.69      0.70      0.69     44005\n",
      "weighted avg       0.71      0.70      0.70     44005\n",
      "\n",
      "Confusion Matrix:\n",
      "[[18216  7966]\n",
      " [ 5396 12427]]\n"
     ]
    },
    {
     "data": {
      "image/png": "[encoded data removed]",
      "text/plain": [
       "<Figure size 432x288 with 1 Axes>"
      ]
     },
     "metadata": {
      "needs_background": "light"
     },
     "output_type": "display_data"
    }
   ],
   "source": [
    "print('Classification Report:')\n",
    "print(classification_report(y_test,y_pred))\n",
    "print('Confusion Matrix:')\n",
    "print(confusion_matrix(y_test,y_pred))\n",
    "plot_roc_curve(clf,X_test,y_test)\n",
    "plt.show()"
   ]
  },
  {
   "cell_type": "markdown",
   "metadata": {},
   "source": [
    "So let's look at the difference in performance, specifically recall and precision:\n",
    "\n",
    "Random undersampling gave us a slight degradation in performance metrics. Notice the difference is greater for the undersampled class. So perhaps this classifier is sensitive to the size of the dataset. If that's the ccase, we may be able to od better by oversampling the minority set rather than undersampling the majority set. \n"
   ]
  },
  {
   "cell_type": "markdown",
   "metadata": {},
   "source": [
    "A common way to do this with data like this is image augemntation. We will perturb some images in the minority set to create new ones."
   ]
  },
  {
   "cell_type": "markdown",
   "metadata": {},
   "source": [
    "### image augmentation with imgaug\n"
   ]
  },
  {
   "cell_type": "code",
   "execution_count": 4,
   "metadata": {},
   "outputs": [],
   "source": [
    "from imgaug import augmenters as iaa\n",
    "from imgaug import parameters as iap\n",
    "import imgaug as ia\n"
   ]
  },
  {
   "cell_type": "markdown",
   "metadata": {},
   "source": [
    "The image transformations expect to see images in the typical shape (3-d arrays of int values 0-255) we need to start from the loaded data and reshape the it before scaling."
   ]
  },
  {
   "cell_type": "code",
   "execution_count": 5,
   "metadata": {},
   "outputs": [],
   "source": [
    "#use the same stratification and random seed as before so we have the same test set\n",
    "X_train, X_test, y_train, y_test = train_test_split(Xy_crop_df.iloc[:,:3072].values,\n",
    "                                                Xy_crop_df.label.values,\n",
    "                                                stratify=Xy_crop_df.label.values,\n",
    "                                                test_size=0.2,\n",
    "                                                random_state=42)"
   ]
  },
  {
   "cell_type": "markdown",
   "metadata": {},
   "source": [
    "Many transformations assume the images are in the normal shape (3-d array) so we're going to reshape the images back to that shape first"
   ]
  },
  {
   "cell_type": "code",
   "execution_count": 6,
   "metadata": {},
   "outputs": [],
   "source": [
    "#reshape the images\n",
    "X_train=X_train.reshape((X_train.shape[0],32,32,3))"
   ]
  },
  {
   "cell_type": "code",
   "execution_count": 7,
   "metadata": {},
   "outputs": [
    {
     "data": {
      "text/plain": [
       "(32, 32, 3)"
      ]
     },
     "execution_count": 7,
     "metadata": {},
     "output_type": "execute_result"
    }
   ],
   "source": [
    "X_train[0].shape"
   ]
  },
  {
   "cell_type": "code",
   "execution_count": 8,
   "metadata": {},
   "outputs": [],
   "source": [
    "#pandas loaded the data as int64 type, we'll recast to uint8 as was loaded originally\n",
    "#imgaug doesn't work with int64 and uing8 has a smaller memory footprint\n",
    "X_train=X_train.astype(np.uint8)"
   ]
  },
  {
   "cell_type": "code",
   "execution_count": 9,
   "metadata": {},
   "outputs": [],
   "source": [
    "#pull out the positive images, this is the class we need to augment\n",
    "Xy_z=zip(X_train,y_train)\n",
    "\n",
    "X_p=[]\n",
    "for X,y in Xy_z:\n",
    "    if y==1:\n",
    "        X_p.append(X)\n",
    "       "
   ]
  },
  {
   "cell_type": "markdown",
   "metadata": {},
   "source": [
    "We need to be somewhat careful which transformations to apply to the images. We know that the a positive slide is defined as having 1 pixel of cancer cell in it. But without specific domain knowledge about exactly how to identify those cells we need to be careful that any transformations don't degrade that information, either by changing pixel values too much or by removing important pixels."
   ]
  },
  {
   "cell_type": "markdown",
   "metadata": {},
   "source": [
    "Given that, we will apply transformations that shift pixel location but not pixel values. Some examples of these are:\n",
    "* Flipping\n",
    "* Rotation\n",
    "* Skew\n",
    "* Jitter"
   ]
  },
  {
   "cell_type": "code",
   "execution_count": 10,
   "metadata": {},
   "outputs": [],
   "source": [
    "# Define an augmentation pipeline\n",
    "aug_pipeline = iaa.Sequential([\n",
    "       \n",
    "    # apply from 0 to 3 of the augmentations from the list\n",
    "    iaa.SomeOf((0, 3),[\n",
    "        #iaa.Sharpen(alpha=(0, 1.0), lightness=(0.75, 1.5)), # sharpen images\n",
    "        iaa.Fliplr(1.0), # horizontally flip\n",
    "        iaa.Flipud(1.0), # vertically flip\n",
    "        iaa.Rot90(1,3),  # rotate 90, 180, or 270 degrees        \n",
    "    ])    \n",
    "],\n",
    "random_order=True # apply the augmentations in random order\n",
    ")"
   ]
  },
  {
   "cell_type": "code",
   "execution_count": 11,
   "metadata": {},
   "outputs": [],
   "source": [
    "#make a random selection of positive samples\n",
    "n_aug=len(X_train)-2*len(X_p) #number of samples to augment the class by\n",
    "\n",
    "X_p=shuffle(X_p)\n"
   ]
  },
  {
   "cell_type": "code",
   "execution_count": 12,
   "metadata": {},
   "outputs": [],
   "source": [
    "# Apply augmentation pipeline\n",
    "X_aug = np.array([aug_pipeline.augment_image(each) for each in X_p[:n_aug]])"
   ]
  },
  {
   "cell_type": "code",
   "execution_count": 13,
   "metadata": {},
   "outputs": [],
   "source": [
    "X_augl = list(X_aug[:4])"
   ]
  },
  {
   "cell_type": "code",
   "execution_count": 14,
   "metadata": {},
   "outputs": [
    {
     "data": {
      "image/png": "[encoded data removed]",
      "text/plain": [
       "<Figure size 1440x864 with 8 Axes>"
      ]
     },
     "metadata": {
      "needs_background": "light"
     },
     "output_type": "display_data"
    }
   ],
   "source": [
    "fig,ax = plt.subplots(2,4, figsize=(20,12))\n",
    "#4 original\n",
    "for i in range(4):\n",
    "    ax[0,i].imshow(X_p[i])\n",
    "    ax[0,i].set_title('Original')\n",
    "\n",
    "#4 augmented\n",
    "for i in range(4):\n",
    "    ax[1,i].imshow(X_aug[i])\n",
    "    ax[1,i].set_title('Augmented')\n",
    "plt.show()"
   ]
  },
  {
   "cell_type": "code",
   "execution_count": 15,
   "metadata": {},
   "outputs": [],
   "source": [
    "#flatten the images\n",
    "X_train=np.array([each.flatten() for each in X_train])\n",
    "X_aug=np.array([each.flatten() for each in X_aug])"
   ]
  },
  {
   "cell_type": "code",
   "execution_count": 16,
   "metadata": {},
   "outputs": [],
   "source": [
    "#add augmented images to the training set\n",
    "X_train=np.concatenate((X_train,X_aug))"
   ]
  },
  {
   "cell_type": "code",
   "execution_count": 17,
   "metadata": {},
   "outputs": [],
   "source": [
    "#add labels to y_test\n",
    "y_aug=np.full((len(X_aug),),1)\n",
    "\n",
    "y_train=np.concatenate((y_train,y_aug))"
   ]
  },
  {
   "cell_type": "code",
   "execution_count": 18,
   "metadata": {},
   "outputs": [],
   "source": [
    "X_test=X_test.astype(np.uint8)"
   ]
  },
  {
   "cell_type": "code",
   "execution_count": 19,
   "metadata": {
    "scrolled": true
   },
   "outputs": [],
   "source": [
    "#scale the data\n",
    "scaler = StandardScaler() \n",
    "scaler.fit(np.concatenate((X_train,X_test)))  #fit scaler over entire dataset as before \n",
    "X_train = scaler.transform(X_train) \n",
    "X_test = scaler.transform(X_test) "
   ]
  },
  {
   "cell_type": "code",
   "execution_count": 20,
   "metadata": {},
   "outputs": [
    {
     "data": {
      "text/plain": [
       "MLPClassifier(activation='relu', alpha=0.0001, batch_size='auto', beta_1=0.9,\n",
       "              beta_2=0.999, early_stopping=True, epsilon=1e-08,\n",
       "              hidden_layer_sizes=(100,), learning_rate='constant',\n",
       "              learning_rate_init=0.001, max_fun=15000, max_iter=200,\n",
       "              momentum=0.9, n_iter_no_change=10, nesterovs_momentum=True,\n",
       "              power_t=0.5, random_state=None, shuffle=True, solver='adam',\n",
       "              tol=0.0001, validation_fraction=0.1, verbose=False,\n",
       "              warm_start=False)"
      ]
     },
     "execution_count": 20,
     "metadata": {},
     "output_type": "execute_result"
    }
   ],
   "source": [
    "maug = MLPClassifier(early_stopping=True)\n",
    "maug.fit(X_train, y_train)"
   ]
  },
  {
   "cell_type": "code",
   "execution_count": 21,
   "metadata": {},
   "outputs": [
    {
     "name": "stdout",
     "output_type": "stream",
     "text": [
      "Classification Report (test):\n",
      "              precision    recall  f1-score   support\n",
      "\n",
      "           0       0.82      0.74      0.78     26182\n",
      "           1       0.67      0.77      0.71     17823\n",
      "\n",
      "    accuracy                           0.75     44005\n",
      "   macro avg       0.74      0.75      0.74     44005\n",
      "weighted avg       0.76      0.75      0.75     44005\n",
      "\n",
      "Confusion Matrix:\n",
      "[[19321  6861]\n",
      " [ 4183 13640]]\n"
     ]
    },
    {
     "data": {
      "image/png": "[encoded data removed]",
      "text/plain": [
       "<Figure size 432x288 with 1 Axes>"
      ]
     },
     "metadata": {
      "needs_background": "light"
     },
     "output_type": "display_data"
    }
   ],
   "source": [
    "pred=maug.predict(X_test)\n",
    "print('Classification Report (test):')\n",
    "print(classification_report(y_test,pred))\n",
    "print('Confusion Matrix:')\n",
    "print(confusion_matrix(y_test,pred))\n",
    "plot_roc_curve(maug,X_test,y_test)\n",
    "plt.show()"
   ]
  },
  {
   "cell_type": "markdown",
   "metadata": {},
   "source": [
    "Image augmentation yielded a small improvement over random undersampling of the dataset."
   ]
  },
  {
   "cell_type": "code",
   "execution_count": null,
   "metadata": {},
   "outputs": [],
   "source": []
  }
 ],
 "metadata": {
  "kernelspec": {
   "display_name": "Python 3",
   "language": "python",
   "name": "python3"
  }
 },
 "nbformat": 4,
 "nbformat_minor": 4
}
