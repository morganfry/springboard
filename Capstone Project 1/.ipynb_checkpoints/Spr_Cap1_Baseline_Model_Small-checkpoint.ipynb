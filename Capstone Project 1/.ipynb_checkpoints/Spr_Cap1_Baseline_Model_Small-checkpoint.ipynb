{
 "cells": [
  {
   "cell_type": "markdown",
   "metadata": {},
   "source": [
    "## Springboard Data Science Track Capstone Project 1\n",
    "### Histopathologic Cancer Detection\n",
    "### by Morgan Fry\n",
    "### Baseline Model"
   ]
  },
  {
   "cell_type": "markdown",
   "metadata": {},
   "source": [
    "Now that we have done the data wrangling and some exploratory data analysis we are going to  try to build a baseline image classification model based. We will try a logistic regression to begin with."
   ]
  },
  {
   "cell_type": "code",
   "execution_count": 2,
   "metadata": {},
   "outputs": [],
   "source": [
    "import numpy as np\n",
    "import pandas as pd\n",
    "import matplotlib.pyplot as plt  \n",
    "%matplotlib inline\n",
    "\n",
    "import pickle\n",
    "\n",
    "from sklearn.model_selection import train_test_split\n",
    "from sklearn.linear_model import LogisticRegression\n",
    "from sklearn.metrics import accuracy_score \n",
    "\n",
    "from sklearn.metrics import classification_report\n",
    "from sklearn.preprocessing import StandardScaler\n",
    "from sklearn.metrics import confusion_matrix\n",
    "from sklearn.metrics import plot_roc_curve\n",
    "\n",
    "from sklearn.ensemble import RandomForestClassifier\n"
   ]
  },
  {
   "cell_type": "code",
   "execution_count": 3,
   "metadata": {},
   "outputs": [],
   "source": [
    "#load data \n",
    "y_d=pickle.load(open(\"y.p\",\"rb\"))\n",
    "X_d=pickle.load(open(\"X.p\",\"rb\"))\n",
    "X_v_d=pickle.load(open(\"X_vect.p\",\"rb\"))"
   ]
  },
  {
   "cell_type": "code",
   "execution_count": 4,
   "metadata": {},
   "outputs": [],
   "source": [
    "X_v_l=list(X_v_d.values())"
   ]
  },
  {
   "cell_type": "markdown",
   "metadata": {},
   "source": [
    "We should note at this point that the positive group is defined as having one pixel of cancer cell within the center 32x32 pixel square of the image. By running the baseline model on a sampling of both the cropped and the full images, we can see whether cropping will be an effective way to reduce the search space."
   ]
  },
  {
   "cell_type": "code",
   "execution_count": 5,
   "metadata": {},
   "outputs": [],
   "source": [
    "#test train split the subset\n",
    "X_train,X_test,y_train,y_test=train_test_split(X_v_l,\n",
    "                                               y_d.label.values,\n",
    "                                               stratify=y_d.label.values)"
   ]
  },
  {
   "cell_type": "code",
   "execution_count": 6,
   "metadata": {},
   "outputs": [],
   "source": [
    "X_train_cl=[]\n",
    "X_test_cl=[]\n",
    "\n",
    "#reshape the images\n",
    "for each in X_test:\n",
    "    X_test_cl.append(each.reshape([96,96,3]))\n",
    "for each in X_train:\n",
    "    X_train_cl.append(each.reshape([96,96,3]))\n"
   ]
  },
  {
   "cell_type": "code",
   "execution_count": 7,
   "metadata": {},
   "outputs": [],
   "source": [
    "#crop the images\n",
    "X_test_c=[]\n",
    "X_train_c=[]\n",
    "for each in X_test_cl:\n",
    "    X_test_c.append(each[31:63,31:63,:].flatten())\n",
    "for each in X_train_cl:\n",
    "    X_train_c.append(each[31:63,31:63,:].flatten())"
   ]
  },
  {
   "cell_type": "code",
   "execution_count": 8,
   "metadata": {},
   "outputs": [],
   "source": [
    "#scale the data\n",
    "scaler=StandardScaler()\n",
    "scaler.fit(X_train)\n",
    "X_train=scaler.transform(X_train)\n",
    "X_test=scaler.transform(X_test)\n",
    "scaler.fit(X_train_c)\n",
    "X_train_c=scaler.transform(X_train_c)\n",
    "X_test_c=scaler.transform(X_test_c)"
   ]
  },
  {
   "cell_type": "code",
   "execution_count": 9,
   "metadata": {},
   "outputs": [
    {
     "data": {
      "text/plain": [
       "LogisticRegression(C=1.0, class_weight=None, dual=False, fit_intercept=True,\n",
       "                   intercept_scaling=1, l1_ratio=None, max_iter=100,\n",
       "                   multi_class='auto', n_jobs=-1, penalty='l2',\n",
       "                   random_state=None, solver='lbfgs', tol=0.0001, verbose=0,\n",
       "                   warm_start=False)"
      ]
     },
     "execution_count": 9,
     "metadata": {},
     "output_type": "execute_result"
    }
   ],
   "source": [
    "clf = LogisticRegression(n_jobs=-1)\n",
    "clf.fit(X_train, y_train)"
   ]
  },
  {
   "cell_type": "code",
   "execution_count": 10,
   "metadata": {},
   "outputs": [
    {
     "name": "stdout",
     "output_type": "stream",
     "text": [
      "Classification Report (train)\n",
      "              precision    recall  f1-score   support\n",
      "\n",
      "           0       0.76      0.83      0.79     98181\n",
      "           1       0.71      0.61      0.66     66837\n",
      "\n",
      "    accuracy                           0.74    165018\n",
      "   macro avg       0.73      0.72      0.73    165018\n",
      "weighted avg       0.74      0.74      0.74    165018\n",
      "\n",
      "Classification Report (test)\n",
      "              precision    recall  f1-score   support\n",
      "\n",
      "           0       0.72      0.79      0.76     32727\n",
      "           1       0.64      0.56      0.60     22280\n",
      "\n",
      "    accuracy                           0.70     55007\n",
      "   macro avg       0.68      0.67      0.68     55007\n",
      "weighted avg       0.69      0.70      0.69     55007\n",
      "\n",
      "Confusion Matrix:\n",
      "[[25888  6839]\n",
      " [ 9895 12385]]\n"
     ]
    },
    {
     "data": {
      "image/png": "[encoded data removed]",
      "text/plain": [
       "<Figure size 432x288 with 1 Axes>"
      ]
     },
     "metadata": {
      "needs_background": "light"
     },
     "output_type": "display_data"
    }
   ],
   "source": [
    "print('Classification Report (train)')\n",
    "print(classification_report(y_train,clf.predict(X_train)))\n",
    "print('Classification Report (test)')\n",
    "pred=clf.predict(X_test)\n",
    "print(classification_report(y_test,pred))\n",
    "print('Confusion Matrix:')\n",
    "print(confusion_matrix(y_test,pred))\n",
    "plot_roc_curve(clf,X_test,y_test)\n",
    "plt.show()"
   ]
  },
  {
   "cell_type": "code",
   "execution_count": 11,
   "metadata": {},
   "outputs": [
    {
     "data": {
      "text/plain": [
       "LogisticRegression(C=1.0, class_weight=None, dual=False, fit_intercept=True,\n",
       "                   intercept_scaling=1, l1_ratio=None, max_iter=100,\n",
       "                   multi_class='auto', n_jobs=-1, penalty='l2',\n",
       "                   random_state=None, solver='lbfgs', tol=0.0001, verbose=0,\n",
       "                   warm_start=False)"
      ]
     },
     "execution_count": 11,
     "metadata": {},
     "output_type": "execute_result"
    }
   ],
   "source": [
    "clf = LogisticRegression(n_jobs=-1)\n",
    "clf.fit(X_train_c, y_train)"
   ]
  },
  {
   "cell_type": "code",
   "execution_count": 12,
   "metadata": {},
   "outputs": [
    {
     "name": "stdout",
     "output_type": "stream",
     "text": [
      "Classification Report (train)\n",
      "              precision    recall  f1-score   support\n",
      "\n",
      "           0       0.72      0.83      0.77     98181\n",
      "           1       0.68      0.53      0.60     66837\n",
      "\n",
      "    accuracy                           0.71    165018\n",
      "   macro avg       0.70      0.68      0.68    165018\n",
      "weighted avg       0.71      0.71      0.70    165018\n",
      "\n",
      "Classification Report (test)\n",
      "              precision    recall  f1-score   support\n",
      "\n",
      "           0       0.72      0.82      0.77     32727\n",
      "           1       0.67      0.52      0.59     22280\n",
      "\n",
      "    accuracy                           0.70     55007\n",
      "   macro avg       0.69      0.67      0.68     55007\n",
      "weighted avg       0.70      0.70      0.70     55007\n",
      "\n",
      "Confusion Matrix:\n",
      "[[26993  5734]\n",
      " [10598 11682]]\n"
     ]
    },
    {
     "data": {
      "image/png": "[encoded data removed]",
      "text/plain": [
       "<Figure size 432x288 with 1 Axes>"
      ]
     },
     "metadata": {
      "needs_background": "light"
     },
     "output_type": "display_data"
    }
   ],
   "source": [
    "print('Classification Report (train)')\n",
    "print(classification_report(y_train,clf.predict(X_train_c)))\n",
    "print('Classification Report (test)')\n",
    "pred=clf.predict(X_test_c)\n",
    "print(classification_report(y_test,pred))\n",
    "print('Confusion Matrix:')\n",
    "print(confusion_matrix(y_test,pred))\n",
    "plot_roc_curve(clf,X_test_c,y_test)\n",
    "plt.show()"
   ]
  },
  {
   "cell_type": "markdown",
   "metadata": {},
   "source": [
    "The reslults from using the cropped images are similar to those using the full images:"
   ]
  },
  {
   "cell_type": "markdown",
   "metadata": {},
   "source": [
    "| images | class | precision | recall | f1 score | AUC |\n",
    "| --- | --- | --- | --- | --- | --- |\n",
    "| full | 0 | .72 | .79 | .76 | .75 |\n",
    "| | 1 | .64 | .56 | .60 | |\n",
    "| cropped | 0 | .72 | .82 | .77 | .76 |\n",
    "| | 1 | .67 | .52 | .59 | |"
   ]
  },
  {
   "cell_type": "markdown",
   "metadata": {},
   "source": [
    "Since the relative performance metrics are similar, we will continue further modeling against the cropped set for the sake of saving computational resources."
   ]
  },
  {
   "cell_type": "markdown",
   "metadata": {},
   "source": [
    "#### Conclusions"
   ]
  },
  {
   "cell_type": "markdown",
   "metadata": {},
   "source": [
    "We are trying to identify samples with cancerous cells in images. What measure should we be aiming for? There are a few factors to consider:\n",
    "* Both false negatives and false positives matter. \n",
    "More false positives among a population in which the positive condition is rare means that even with a high accuracy a positive result can still mean a low chance of the condition tested for. More false negatives are even more important as that can mean sick people do not get treatment they need.\n",
    "* There are about 50% more negative than positive samples in this dataset, so as you see above there is better recall for negative samples than positive. \n",
    "\n",
    "Given these factors using the F1 score for the Positive case is an effective metric to judge the classifier by at this point, as is the AUC (area under the ROC curve)."
   ]
  },
  {
   "cell_type": "markdown",
   "metadata": {},
   "source": [
    "Looking at the results, we can tell a few things:\n",
    "* The F1 score for Positive cases over the test set is .59, for Negatives .77. \n",
    "* Accordingly, the confusion matrix shows about twice as many false negatives (10577) as false positives (5720)\n",
    "* The numbers are all similar for the train and test set, indicating the model isn't overfit."
   ]
  },
  {
   "cell_type": "markdown",
   "metadata": {},
   "source": [
    "In summary, we need a rather better model than this. For instance, in the Kaggle competition that this dataset was taken from, a succesful model is defined as one having at least 0.95 AUC. We might be able to eek out a little better results with tuning some of the parameters of the logistic regression, but ultimately we need to find a more robust strategy. Maybe a SVM or random forest or ultimately a neural net."
   ]
  },
  {
   "cell_type": "code",
   "execution_count": null,
   "metadata": {},
   "outputs": [],
   "source": []
  }
 ],
 "metadata": {
  "environment": {
   "name": "common-cpu.m47",
   "type": "gcloud",
   "uri": "gcr.io/deeplearning-platform-release/base-cpu:m47"
  },
  "kernelspec": {
   "display_name": "Python 3",
   "language": "python",
   "name": "python3"
  },
  "language_info": {
   "codemirror_mode": {
    "name": "ipython",
    "version": 3
   },
   "file_extension": ".py",
   "mimetype": "text/x-python",
   "name": "python",
   "nbconvert_exporter": "python",
   "pygments_lexer": "ipython3",
   "version": "3.7.6"
  }
 },
 "nbformat": 4,
 "nbformat_minor": 4
}
