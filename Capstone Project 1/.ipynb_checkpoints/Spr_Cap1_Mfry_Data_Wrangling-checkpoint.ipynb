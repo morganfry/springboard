{
 "cells": [
  {
   "cell_type": "markdown",
   "metadata": {},
   "source": [
    "## Springboard Data Science Track Capstone Project 1\n",
    "### Histopathologic Cancer Detection\n",
    "### by Morgan Fry\n",
    "### Data Wrangling notebook\n"
   ]
  },
  {
   "cell_type": "code",
   "execution_count": 1,
   "metadata": {},
   "outputs": [],
   "source": [
    "#first include packages for image processing etc.\n",
    "import numpy as np\n",
    "import pandas as pd\n",
    "import matplotlib.pyplot as plt  \n",
    "%matplotlib inline\n",
    "\n",
    "from sklearn.utils import shuffle\n",
    "import pickle\n",
    "import sys\n",
    "import cv2"
   ]
  },
  {
   "cell_type": "code",
   "execution_count": 2,
   "metadata": {},
   "outputs": [
    {
     "name": "stdout",
     "output_type": "stream",
     "text": [
      "                                         id  label\n",
      "0  f38a6374c348f90b587e046aac6079959adf3835      0\n",
      "1  c18f2d887b7ae4f6742ee445113fa1aef383ed77      1\n",
      "2  755db6279dae599ebb4d39a9123cce439965282d      0\n",
      "3  bc3f0c64fb968ff4a8bd33af6971ecae77c75e08      0\n",
      "4  068aba587a4950175d04c680d38943fd488d6a9d      0\n",
      "5  acfe80838488fae3c89bd21ade75be5c34e66be7      0\n",
      "6  a24ce148f6ffa7ef8eefb4efb12ebffe8dd700da      1\n",
      "7  7f6ccae485af121e0b6ee733022e226ee6b0c65f      1\n"
     ]
    }
   ],
   "source": [
    "#load a sample of the data\n",
    "#load training labels\n",
    "tr_data=pd.read_csv('train_labels.csv')\n",
    "print(tr_data.head(8))"
   ]
  },
  {
   "cell_type": "markdown",
   "metadata": {},
   "source": [
    "#### Let's plot a few images with and without cancer and do a cursory comparison"
   ]
  },
  {
   "cell_type": "code",
   "execution_count": 3,
   "metadata": {
    "scrolled": true
   },
   "outputs": [
    {
     "ename": "NameError",
     "evalue": "name 'tr_data' is not defined",
     "output_type": "error",
     "traceback": [
      "\u001b[0;31m---------------------------------------------------------------------------\u001b[0m",
      "\u001b[0;31mNameError\u001b[0m                                 Traceback (most recent call last)",
      "\u001b[0;32m<ipython-input-3-de458a0e7de8>\u001b[0m in \u001b[0;36m<module>\u001b[0;34m\u001b[0m\n\u001b[1;32m      1\u001b[0m \u001b[0;31m#select 8 at random\u001b[0m\u001b[0;34m\u001b[0m\u001b[0;34m\u001b[0m\u001b[0;34m\u001b[0m\u001b[0m\n\u001b[0;32m----> 2\u001b[0;31m \u001b[0mshuffled_tr_data\u001b[0m\u001b[0;34m=\u001b[0m\u001b[0mshuffle\u001b[0m\u001b[0;34m(\u001b[0m\u001b[0mtr_data\u001b[0m\u001b[0;34m)\u001b[0m\u001b[0;34m\u001b[0m\u001b[0;34m\u001b[0m\u001b[0m\n\u001b[0m\u001b[1;32m      3\u001b[0m \u001b[0;34m\u001b[0m\u001b[0m\n\u001b[1;32m      4\u001b[0m \u001b[0mfig\u001b[0m\u001b[0;34m,\u001b[0m\u001b[0max\u001b[0m \u001b[0;34m=\u001b[0m \u001b[0mplt\u001b[0m\u001b[0;34m.\u001b[0m\u001b[0msubplots\u001b[0m\u001b[0;34m(\u001b[0m\u001b[0;36m2\u001b[0m\u001b[0;34m,\u001b[0m\u001b[0;36m4\u001b[0m\u001b[0;34m,\u001b[0m \u001b[0mfigsize\u001b[0m\u001b[0;34m=\u001b[0m\u001b[0;34m(\u001b[0m\u001b[0;36m20\u001b[0m\u001b[0;34m,\u001b[0m\u001b[0;36m12\u001b[0m\u001b[0;34m)\u001b[0m\u001b[0;34m)\u001b[0m\u001b[0;34m\u001b[0m\u001b[0;34m\u001b[0m\u001b[0m\n\u001b[1;32m      5\u001b[0m \u001b[0;31m#4 negatives\u001b[0m\u001b[0;34m\u001b[0m\u001b[0;34m\u001b[0m\u001b[0;34m\u001b[0m\u001b[0m\n",
      "\u001b[0;31mNameError\u001b[0m: name 'tr_data' is not defined"
     ]
    }
   ],
   "source": [
    "#select 8 at random\n",
    "shuffled_tr_data=shuffle(tr_data)\n",
    "\n",
    "fig,ax = plt.subplots(2,4, figsize=(20,12))\n",
    "#4 negatives\n",
    "for i, idx in enumerate(shuffled_tr_data[shuffled_tr_data['label'] == 0]['id'][:4]):\n",
    "    path = 'train/'+idx+'.tif'\n",
    "    ax[0,i].imshow(cv2.imread(path))\n",
    "    ax[0,i].set_title('Negative')\n",
    "\n",
    "#4 positives\n",
    "for i, idx in enumerate(shuffled_tr_data[shuffled_tr_data['label'] == 1]['id'][:4]):\n",
    "    path = 'train/'+idx+'.tif'\n",
    "    ax[1,i].imshow(cv2.imread(path))\n",
    "    ax[1,i].set_title('Positive for Cancer')\n"
   ]
  },
  {
   "cell_type": "markdown",
   "metadata": {},
   "source": [
    "A little further examination and we can see that the images are all 96 pixels square and RGB. This will load simply into numpy arrays."
   ]
  },
  {
   "cell_type": "code",
   "execution_count": 3,
   "metadata": {},
   "outputs": [],
   "source": [
    "#load n images into Dictionary\n",
    "def load_images(n,df):\n",
    "    \"\"\"\n",
    "    Parameters:\n",
    "        n number ofimages\n",
    "        df dataframe of id, label columns.\n",
    "    Returns:\n",
    "        X,y data and labels:\n",
    "            X is dictionary of numpy arrays representing images, indexed by id\n",
    "            y is dataframe of id, label columns; 'id' matches indexes in X\n",
    "    \"\"\"\n",
    "    X={}\n",
    "    shuffled=shuffle(df)\n",
    "   # y=pd.DataFrame()\n",
    "    for idx,row in shuffled.head(n).iterrows():\n",
    "        path = 'train/'+str(row['id'])+'.tif'\n",
    "        img=cv2.imread(path)\n",
    "        X.update({row['id']:img})\n",
    "    return(X,shuffled[:n])\n",
    "    "
   ]
  },
  {
   "cell_type": "code",
   "execution_count": 7,
   "metadata": {},
   "outputs": [],
   "source": [
    "#load entire train set into dictionary. \n",
    "def load_all_images(df):\n",
    "    \"\"\"\n",
    "    loads all the images with id's in the dataframe df\n",
    "    Parameters:\n",
    "        df dataframe of id, label columns.\n",
    "    Returns:\n",
    "        X data:\n",
    "            X is dictionary of numpy arrays representing images, indexed by id           \n",
    "    \"\"\" \n",
    "    X={}\n",
    "    for idx,row in df.iterrows():\n",
    "        path = 'train/'+str(row['id'])+'.tif'\n",
    "        img=cv2.imread(path)\n",
    "        X.update({row['id']:img})\n",
    "    return(X)\n"
   ]
  },
  {
   "cell_type": "code",
   "execution_count": 6,
   "metadata": {},
   "outputs": [],
   "source": [
    "#vectorize images: make them 1-dimensional arrays\n",
    "def vectorize_dict(d):\n",
    "    \"\"\"\n",
    "    Parameters:\n",
    "        d dictionary of numpy arrays to flatten\n",
    "    Returns:\n",
    "        d_vect dictionary of same keys as d and 1-dimensional arrays as values\n",
    "    \"\"\"\n",
    "    d_vect={}\n",
    "    for k,v in d.items():        \n",
    "        d_vect[k]=v.ravel()\n",
    "    return(d_vect)"
   ]
  },
  {
   "cell_type": "code",
   "execution_count": 7,
   "metadata": {},
   "outputs": [],
   "source": [
    "#make images grayscale\n",
    "\n",
    "def grayscale_dict(d):\n",
    "    \"\"\"\n",
    "    Parameters:\n",
    "        d dictionary of numpy arrays representing images\n",
    "    Returns:\n",
    "        d_vect dictionary of same keys as d and 1-dimensional arrays representing grayscale images\n",
    "               \n",
    "    \"\"\"\n",
    "\n",
    "    d_gray={}\n",
    "    for k,v in d.items():\n",
    "        gray=cv2.cvtColor(v,code=cv2.COLOR_BGR2GRAY)#image to grayscale\n",
    "        d_gray[k]=gray\n",
    "    return(d_gray)\n",
    "\n"
   ]
  },
  {
   "cell_type": "code",
   "execution_count": 8,
   "metadata": {},
   "outputs": [],
   "source": [
    "#process the data. \n",
    "X=load_all_images(tr_data)"
   ]
  },
  {
   "cell_type": "code",
   "execution_count": 9,
   "metadata": {},
   "outputs": [
    {
     "name": "stdout",
     "output_type": "stream",
     "text": [
      "Number of images loaded is:  220025\n",
      "Number of labels loaded is:  220025\n"
     ]
    }
   ],
   "source": [
    "#confirm size of dataset loaded\n",
    "print('Number of images loaded is: ', len(X))\n",
    "print('Number of labels loaded is: ', len(tr_data))"
   ]
  },
  {
   "cell_type": "code",
   "execution_count": 10,
   "metadata": {},
   "outputs": [],
   "source": [
    "X_vect=vectorize_dict(X)"
   ]
  },
  {
   "cell_type": "code",
   "execution_count": 11,
   "metadata": {},
   "outputs": [],
   "source": [
    "X_gray=grayscale_dict(X)\n",
    "X_gray_vect=vectorize_dict(X_gray)"
   ]
  },
  {
   "cell_type": "code",
   "execution_count": 13,
   "metadata": {},
   "outputs": [
    {
     "name": "stdout",
     "output_type": "stream",
     "text": [
      "220025  labels\n",
      "220025  images\n",
      "220025  vectorized images\n",
      "220025  grayscale images\n",
      "220025  grayscale vectors\n",
      "(96, 96, 3)  shape of gbr images\n",
      "(27648,)  shape of gbr vectors\n",
      "(96, 96)  shape of grayscale images\n",
      "(9216,)  shape of grayscale vectors\n"
     ]
    }
   ],
   "source": [
    "#verify size and shape of data\n",
    "print(len(tr_data),\" labels\")\n",
    "print(len(X), \" images\")\n",
    "print(len(X_vect), \" vectorized images\")\n",
    "print(len(X_gray), \" grayscale images\")\n",
    "print(len(X_gray_vect), \" grayscale vectors\")\n",
    "print(list(X.values())[0].shape, \" shape of gbr images\")\n",
    "print(list(X_vect.values())[0].shape, \" shape of gbr vectors\")\n",
    "print(list(X_gray.values())[0].shape, \" shape of grayscale images\")\n",
    "print(list(X_gray_vect.values())[0].shape, \" shape of grayscale vectors\")"
   ]
  },
  {
   "cell_type": "markdown",
   "metadata": {},
   "source": [
    "##### Now that the data are in a format conducive to analysis, we'll save it and continue with exploratory data analysis in another notebook."
   ]
  },
  {
   "cell_type": "code",
   "execution_count": 14,
   "metadata": {},
   "outputs": [],
   "source": [
    "#pickle the data\n",
    "pickle.dump(tr_data, open(\"y.p\",\"wb\"))\n",
    "pickle.dump(X, open(\"X.p\",\"wb\"))\n",
    "pickle.dump(X_vect, open(\"X_vect.p\",\"wb\"))\n",
    "pickle.dump(X_gray, open(\"X_gray.p\",\"wb\"))\n",
    "pickle.dump(X_gray_vect, open(\"X_gra_vect.p\",\"wb\"))"
   ]
  },
  {
   "cell_type": "code",
   "execution_count": null,
   "metadata": {},
   "outputs": [],
   "source": []
  }
 ],
 "metadata": {
  "kernelspec": {
   "display_name": "Python 3",
   "language": "python",
   "name": "python3"
  },
  "language_info": {
   "codemirror_mode": {
    "name": "ipython",
    "version": 3
   },
   "file_extension": ".py",
   "mimetype": "text/x-python",
   "name": "python",
   "nbconvert_exporter": "python",
   "pygments_lexer": "ipython3",
   "version": "3.7.6"
  }
 },
 "nbformat": 4,
 "nbformat_minor": 2
}
